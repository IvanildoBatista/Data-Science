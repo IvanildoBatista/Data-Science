{
 "cells": [
  {
   "cell_type": "markdown",
   "metadata": {},
   "source": [
    "# CLASSIFICANDO RENDA DE INDIVÍDUOS ADULTOS DE UM CENSO AMERICANO\n",
    "\n",
    "Nesse projeto irei usar dados de um censo americano determinar se o indvíduo ganha acima de US$ 50.000 (cinquenta mil dólares) anualmente. Para o processo de classificação usarei os atributos descritos abaixo:\n",
    "\n",
    "\n",
    "**1)** age(idade);\n",
    "\n",
    "**2)** workclass(classe de trabalho): Private, Self-emp-not-inc, Self-emp-inc, Federal-gov, Local-gov, State-gov, Without-pay, Never-worked;\n",
    "\n",
    "**3)** fnlwgt (peso final);\n",
    "\n",
    "**4)** education (educação): Bachelors, Some-college, 11th, HS-grad, Prof-school, Assoc-acdm, Assoc-voc, 9th, 7th-8th, 12th, Masters, 1st-4th, 10th, Doctorate, 5th-6th, Preschool;\n",
    "\n",
    "**5)** education-num (educação em anos);\n",
    "\n",
    "**6)** marital-status (situação conjugal): Married-civ-spouse, Divorced, Never-married, Separated, Widowed, Married-spouse-absent, Married-AF-spouse;\n",
    "\n",
    "**7)** occupation (ocupação) : Tech-support, Craft-repair, Other-service, Sales, Exec-managerial, Prof-specialty, Handlers-cleaners, Machine-op-inspct, Adm-clerical, Farming-fishing, Transport-moving, Priv-house-serv, Protective-serv, Armed-Forces;\n",
    "\n",
    "**8)** relationship (relação): Wife, Own-child, Husband, Not-in-family, Other-relative, Unmarried;\n",
    "\n",
    "**9)** race (raça): White, Asian-Pac-Islander, Amer-Indian-Eskimo, Other, Black;\n",
    "\n",
    "**10)** sex (sexo): Female, Male;\n",
    "\n",
    "**11)** capital-gain (capital ganho);\n",
    "\n",
    "**12)** capital-loss (capital perdido);\n",
    "\n",
    "**13)** hours-per-week (horas de trabalho por semana);\n",
    "\n",
    "**14)** native-country (país nativo): United-States, Cambodia, England, Puerto-Rico, Canada, Germany, Outlying-US(Guam-USVI-etc), India, Japan, Greece, South, China, Cuba, Iran, Honduras, Philippines, Italy, Poland, Jamaica, Vietnam, Mexico, Portugal, Ireland, France, Dominican-Republic, Laos, Ecuador, Taiwan, Haiti, Columbia, Hungary, Guatemala, Nicaragua, Scotland, Thailand, Yugoslavia, El-Salvador, Trinadad&Tobago, Peru, Hong, Holand-Netherlands;\n",
    "\n",
    "**15)** Income (Renda) :>50K (acima de USS 50.000), <=50K (igual ou abaixo de USS 50.000).\n",
    "\n",
    "\n",
    "Os dados, em questão, podem ser obtidos [aqui](https://archive.ics.uci.edu/ml/datasets/Adult)."
   ]
  },
  {
   "cell_type": "markdown",
   "metadata": {},
   "source": [
    " "
   ]
  },
  {
   "cell_type": "markdown",
   "metadata": {},
   "source": [
    "**Para o processo de classificação usaremos modelos de Machine Learning abaixo:**\n",
    "\n",
    "1) Regressão Logística;\n",
    "\n",
    "2) SVM\n",
    "\n",
    "3) X Gradiente Boost\n",
    "\n",
    "4) Random Forest\n",
    "\n",
    "5) Decision Tree\n",
    "\n",
    "6) Stochastic Gradient Descent\n",
    "\n",
    "7) K-nearest neighbor\n",
    "\n",
    "8) GaussianNB\n",
    "\n",
    "9) Extra-trees\n",
    "\n",
    "10) Multilayer Perceptron"
   ]
  },
  {
   "cell_type": "markdown",
   "metadata": {},
   "source": [
    " "
   ]
  },
  {
   "cell_type": "markdown",
   "metadata": {},
   "source": [
    "**ETAPAS**\n",
    "\n",
    "1) Importação das Bibliotecas\n",
    "\n",
    "2) Análise Exploratória\n",
    "\n",
    "3) Tratamento dos dados\n",
    "\n",
    "4) Definição da Baseline\n",
    "\n",
    "5) Separação dos dados de treino e teste\n",
    "\n",
    "6) Modelagem e avaliação dos modelos\n",
    "\n",
    "7) Conclusão"
   ]
  },
  {
   "cell_type": "markdown",
   "metadata": {},
   "source": [
    "# IMPORTAÇÃO DAS BIBLIOTECAS"
   ]
  },
  {
   "cell_type": "code",
   "execution_count": 91,
   "metadata": {},
   "outputs": [],
   "source": [
    "#Bibliotecas que serão usadas para análise e tratamento dos dados\n",
    "\n",
    "import pandas as pd\n",
    "import numpy as np\n",
    "import matplotlib.pyplot as plt\n",
    "import seaborn as sns"
   ]
  },
  {
   "cell_type": "markdown",
   "metadata": {},
   "source": [
    "# ANÁLISE EXPLORATÓRIA DE DADOS"
   ]
  },
  {
   "cell_type": "code",
   "execution_count": 92,
   "metadata": {},
   "outputs": [],
   "source": [
    "#Importando o dataset\n",
    "\n",
    "adult=pd.read_csv('adult.csv')\n",
    "\n",
    "#Para visualizar todas as colunas do dataset, se preciso\n",
    "pd.set_option(\"display.max_columns\",200)"
   ]
  },
  {
   "cell_type": "code",
   "execution_count": 93,
   "metadata": {},
   "outputs": [
    {
     "data": {
      "text/html": [
       "<div>\n",
       "<style scoped>\n",
       "    .dataframe tbody tr th:only-of-type {\n",
       "        vertical-align: middle;\n",
       "    }\n",
       "\n",
       "    .dataframe tbody tr th {\n",
       "        vertical-align: top;\n",
       "    }\n",
       "\n",
       "    .dataframe thead th {\n",
       "        text-align: right;\n",
       "    }\n",
       "</style>\n",
       "<table border=\"1\" class=\"dataframe\">\n",
       "  <thead>\n",
       "    <tr style=\"text-align: right;\">\n",
       "      <th></th>\n",
       "      <th>age</th>\n",
       "      <th>workclass</th>\n",
       "      <th>fnlwgt</th>\n",
       "      <th>education</th>\n",
       "      <th>education.num</th>\n",
       "      <th>marital.status</th>\n",
       "      <th>occupation</th>\n",
       "      <th>relationship</th>\n",
       "      <th>race</th>\n",
       "      <th>sex</th>\n",
       "      <th>capital.gain</th>\n",
       "      <th>capital.loss</th>\n",
       "      <th>hours.per.week</th>\n",
       "      <th>native.country</th>\n",
       "      <th>income</th>\n",
       "    </tr>\n",
       "  </thead>\n",
       "  <tbody>\n",
       "    <tr>\n",
       "      <th>0</th>\n",
       "      <td>90</td>\n",
       "      <td>?</td>\n",
       "      <td>77053</td>\n",
       "      <td>HS-grad</td>\n",
       "      <td>9</td>\n",
       "      <td>Widowed</td>\n",
       "      <td>?</td>\n",
       "      <td>Not-in-family</td>\n",
       "      <td>White</td>\n",
       "      <td>Female</td>\n",
       "      <td>0</td>\n",
       "      <td>4356</td>\n",
       "      <td>40</td>\n",
       "      <td>United-States</td>\n",
       "      <td>&lt;=50K</td>\n",
       "    </tr>\n",
       "    <tr>\n",
       "      <th>1</th>\n",
       "      <td>82</td>\n",
       "      <td>Private</td>\n",
       "      <td>132870</td>\n",
       "      <td>HS-grad</td>\n",
       "      <td>9</td>\n",
       "      <td>Widowed</td>\n",
       "      <td>Exec-managerial</td>\n",
       "      <td>Not-in-family</td>\n",
       "      <td>White</td>\n",
       "      <td>Female</td>\n",
       "      <td>0</td>\n",
       "      <td>4356</td>\n",
       "      <td>18</td>\n",
       "      <td>United-States</td>\n",
       "      <td>&lt;=50K</td>\n",
       "    </tr>\n",
       "    <tr>\n",
       "      <th>2</th>\n",
       "      <td>66</td>\n",
       "      <td>?</td>\n",
       "      <td>186061</td>\n",
       "      <td>Some-college</td>\n",
       "      <td>10</td>\n",
       "      <td>Widowed</td>\n",
       "      <td>?</td>\n",
       "      <td>Unmarried</td>\n",
       "      <td>Black</td>\n",
       "      <td>Female</td>\n",
       "      <td>0</td>\n",
       "      <td>4356</td>\n",
       "      <td>40</td>\n",
       "      <td>United-States</td>\n",
       "      <td>&lt;=50K</td>\n",
       "    </tr>\n",
       "    <tr>\n",
       "      <th>3</th>\n",
       "      <td>54</td>\n",
       "      <td>Private</td>\n",
       "      <td>140359</td>\n",
       "      <td>7th-8th</td>\n",
       "      <td>4</td>\n",
       "      <td>Divorced</td>\n",
       "      <td>Machine-op-inspct</td>\n",
       "      <td>Unmarried</td>\n",
       "      <td>White</td>\n",
       "      <td>Female</td>\n",
       "      <td>0</td>\n",
       "      <td>3900</td>\n",
       "      <td>40</td>\n",
       "      <td>United-States</td>\n",
       "      <td>&lt;=50K</td>\n",
       "    </tr>\n",
       "    <tr>\n",
       "      <th>4</th>\n",
       "      <td>41</td>\n",
       "      <td>Private</td>\n",
       "      <td>264663</td>\n",
       "      <td>Some-college</td>\n",
       "      <td>10</td>\n",
       "      <td>Separated</td>\n",
       "      <td>Prof-specialty</td>\n",
       "      <td>Own-child</td>\n",
       "      <td>White</td>\n",
       "      <td>Female</td>\n",
       "      <td>0</td>\n",
       "      <td>3900</td>\n",
       "      <td>40</td>\n",
       "      <td>United-States</td>\n",
       "      <td>&lt;=50K</td>\n",
       "    </tr>\n",
       "  </tbody>\n",
       "</table>\n",
       "</div>"
      ],
      "text/plain": [
       "   age workclass  fnlwgt     education  education.num marital.status  \\\n",
       "0   90         ?   77053       HS-grad              9        Widowed   \n",
       "1   82   Private  132870       HS-grad              9        Widowed   \n",
       "2   66         ?  186061  Some-college             10        Widowed   \n",
       "3   54   Private  140359       7th-8th              4       Divorced   \n",
       "4   41   Private  264663  Some-college             10      Separated   \n",
       "\n",
       "          occupation   relationship   race     sex  capital.gain  \\\n",
       "0                  ?  Not-in-family  White  Female             0   \n",
       "1    Exec-managerial  Not-in-family  White  Female             0   \n",
       "2                  ?      Unmarried  Black  Female             0   \n",
       "3  Machine-op-inspct      Unmarried  White  Female             0   \n",
       "4     Prof-specialty      Own-child  White  Female             0   \n",
       "\n",
       "   capital.loss  hours.per.week native.country income  \n",
       "0          4356              40  United-States  <=50K  \n",
       "1          4356              18  United-States  <=50K  \n",
       "2          4356              40  United-States  <=50K  \n",
       "3          3900              40  United-States  <=50K  \n",
       "4          3900              40  United-States  <=50K  "
      ]
     },
     "execution_count": 93,
     "metadata": {},
     "output_type": "execute_result"
    }
   ],
   "source": [
    "#Visualizando as colunas do dataset\n",
    "\n",
    "adult.head(5)"
   ]
  },
  {
   "cell_type": "code",
   "execution_count": 94,
   "metadata": {},
   "outputs": [
    {
     "name": "stdout",
     "output_type": "stream",
     "text": [
      "<class 'pandas.core.frame.DataFrame'>\n",
      "RangeIndex: 32561 entries, 0 to 32560\n",
      "Data columns (total 15 columns):\n",
      "age               32561 non-null int64\n",
      "workclass         32561 non-null object\n",
      "fnlwgt            32561 non-null int64\n",
      "education         32561 non-null object\n",
      "education.num     32561 non-null int64\n",
      "marital.status    32561 non-null object\n",
      "occupation        32561 non-null object\n",
      "relationship      32561 non-null object\n",
      "race              32561 non-null object\n",
      "sex               32561 non-null object\n",
      "capital.gain      32561 non-null int64\n",
      "capital.loss      32561 non-null int64\n",
      "hours.per.week    32561 non-null int64\n",
      "native.country    32561 non-null object\n",
      "income            32561 non-null object\n",
      "dtypes: int64(6), object(9)\n",
      "memory usage: 3.7+ MB\n"
     ]
    }
   ],
   "source": [
    "adult.info()\n",
    "\n",
    "#6 colunas são de números inteiros\n",
    "\n",
    "#9 colunas são objetos"
   ]
  },
  {
   "cell_type": "code",
   "execution_count": 95,
   "metadata": {},
   "outputs": [
    {
     "data": {
      "text/plain": [
       "age               0\n",
       "workclass         0\n",
       "fnlwgt            0\n",
       "education         0\n",
       "education.num     0\n",
       "marital.status    0\n",
       "occupation        0\n",
       "relationship      0\n",
       "race              0\n",
       "sex               0\n",
       "capital.gain      0\n",
       "capital.loss      0\n",
       "hours.per.week    0\n",
       "native.country    0\n",
       "income            0\n",
       "dtype: int64"
      ]
     },
     "execution_count": 95,
     "metadata": {},
     "output_type": "execute_result"
    }
   ],
   "source": [
    "adult.isna().sum()\n",
    "\n",
    "#nenhuma coluna possui valores faltantes"
   ]
  },
  {
   "cell_type": "code",
   "execution_count": 96,
   "metadata": {},
   "outputs": [
    {
     "data": {
      "text/html": [
       "<div>\n",
       "<style scoped>\n",
       "    .dataframe tbody tr th:only-of-type {\n",
       "        vertical-align: middle;\n",
       "    }\n",
       "\n",
       "    .dataframe tbody tr th {\n",
       "        vertical-align: top;\n",
       "    }\n",
       "\n",
       "    .dataframe thead th {\n",
       "        text-align: right;\n",
       "    }\n",
       "</style>\n",
       "<table border=\"1\" class=\"dataframe\">\n",
       "  <thead>\n",
       "    <tr style=\"text-align: right;\">\n",
       "      <th></th>\n",
       "      <th>workclass</th>\n",
       "      <th>education</th>\n",
       "      <th>marital.status</th>\n",
       "      <th>occupation</th>\n",
       "      <th>relationship</th>\n",
       "      <th>race</th>\n",
       "      <th>sex</th>\n",
       "      <th>native.country</th>\n",
       "      <th>income</th>\n",
       "    </tr>\n",
       "  </thead>\n",
       "  <tbody>\n",
       "    <tr>\n",
       "      <th>count</th>\n",
       "      <td>32561</td>\n",
       "      <td>32561</td>\n",
       "      <td>32561</td>\n",
       "      <td>32561</td>\n",
       "      <td>32561</td>\n",
       "      <td>32561</td>\n",
       "      <td>32561</td>\n",
       "      <td>32561</td>\n",
       "      <td>32561</td>\n",
       "    </tr>\n",
       "    <tr>\n",
       "      <th>unique</th>\n",
       "      <td>9</td>\n",
       "      <td>16</td>\n",
       "      <td>7</td>\n",
       "      <td>15</td>\n",
       "      <td>6</td>\n",
       "      <td>5</td>\n",
       "      <td>2</td>\n",
       "      <td>42</td>\n",
       "      <td>2</td>\n",
       "    </tr>\n",
       "    <tr>\n",
       "      <th>top</th>\n",
       "      <td>Private</td>\n",
       "      <td>HS-grad</td>\n",
       "      <td>Married-civ-spouse</td>\n",
       "      <td>Prof-specialty</td>\n",
       "      <td>Husband</td>\n",
       "      <td>White</td>\n",
       "      <td>Male</td>\n",
       "      <td>United-States</td>\n",
       "      <td>&lt;=50K</td>\n",
       "    </tr>\n",
       "    <tr>\n",
       "      <th>freq</th>\n",
       "      <td>22696</td>\n",
       "      <td>10501</td>\n",
       "      <td>14976</td>\n",
       "      <td>4140</td>\n",
       "      <td>13193</td>\n",
       "      <td>27816</td>\n",
       "      <td>21790</td>\n",
       "      <td>29170</td>\n",
       "      <td>24720</td>\n",
       "    </tr>\n",
       "  </tbody>\n",
       "</table>\n",
       "</div>"
      ],
      "text/plain": [
       "       workclass education      marital.status      occupation relationship  \\\n",
       "count      32561     32561               32561           32561        32561   \n",
       "unique         9        16                   7              15            6   \n",
       "top      Private   HS-grad  Married-civ-spouse  Prof-specialty      Husband   \n",
       "freq       22696     10501               14976            4140        13193   \n",
       "\n",
       "         race    sex native.country income  \n",
       "count   32561  32561          32561  32561  \n",
       "unique      5      2             42      2  \n",
       "top     White   Male  United-States  <=50K  \n",
       "freq    27816  21790          29170  24720  "
      ]
     },
     "metadata": {},
     "output_type": "display_data"
    },
    {
     "data": {
      "text/html": [
       "<div>\n",
       "<style scoped>\n",
       "    .dataframe tbody tr th:only-of-type {\n",
       "        vertical-align: middle;\n",
       "    }\n",
       "\n",
       "    .dataframe tbody tr th {\n",
       "        vertical-align: top;\n",
       "    }\n",
       "\n",
       "    .dataframe thead th {\n",
       "        text-align: right;\n",
       "    }\n",
       "</style>\n",
       "<table border=\"1\" class=\"dataframe\">\n",
       "  <thead>\n",
       "    <tr style=\"text-align: right;\">\n",
       "      <th></th>\n",
       "      <th>age</th>\n",
       "      <th>fnlwgt</th>\n",
       "      <th>education.num</th>\n",
       "      <th>capital.gain</th>\n",
       "      <th>capital.loss</th>\n",
       "      <th>hours.per.week</th>\n",
       "    </tr>\n",
       "  </thead>\n",
       "  <tbody>\n",
       "    <tr>\n",
       "      <th>count</th>\n",
       "      <td>32561.000000</td>\n",
       "      <td>3.256100e+04</td>\n",
       "      <td>32561.000000</td>\n",
       "      <td>32561.000000</td>\n",
       "      <td>32561.000000</td>\n",
       "      <td>32561.000000</td>\n",
       "    </tr>\n",
       "    <tr>\n",
       "      <th>mean</th>\n",
       "      <td>38.581647</td>\n",
       "      <td>1.897784e+05</td>\n",
       "      <td>10.080679</td>\n",
       "      <td>1077.648844</td>\n",
       "      <td>87.303830</td>\n",
       "      <td>40.437456</td>\n",
       "    </tr>\n",
       "    <tr>\n",
       "      <th>std</th>\n",
       "      <td>13.640433</td>\n",
       "      <td>1.055500e+05</td>\n",
       "      <td>2.572720</td>\n",
       "      <td>7385.292085</td>\n",
       "      <td>402.960219</td>\n",
       "      <td>12.347429</td>\n",
       "    </tr>\n",
       "    <tr>\n",
       "      <th>min</th>\n",
       "      <td>17.000000</td>\n",
       "      <td>1.228500e+04</td>\n",
       "      <td>1.000000</td>\n",
       "      <td>0.000000</td>\n",
       "      <td>0.000000</td>\n",
       "      <td>1.000000</td>\n",
       "    </tr>\n",
       "    <tr>\n",
       "      <th>25%</th>\n",
       "      <td>28.000000</td>\n",
       "      <td>1.178270e+05</td>\n",
       "      <td>9.000000</td>\n",
       "      <td>0.000000</td>\n",
       "      <td>0.000000</td>\n",
       "      <td>40.000000</td>\n",
       "    </tr>\n",
       "    <tr>\n",
       "      <th>50%</th>\n",
       "      <td>37.000000</td>\n",
       "      <td>1.783560e+05</td>\n",
       "      <td>10.000000</td>\n",
       "      <td>0.000000</td>\n",
       "      <td>0.000000</td>\n",
       "      <td>40.000000</td>\n",
       "    </tr>\n",
       "    <tr>\n",
       "      <th>75%</th>\n",
       "      <td>48.000000</td>\n",
       "      <td>2.370510e+05</td>\n",
       "      <td>12.000000</td>\n",
       "      <td>0.000000</td>\n",
       "      <td>0.000000</td>\n",
       "      <td>45.000000</td>\n",
       "    </tr>\n",
       "    <tr>\n",
       "      <th>max</th>\n",
       "      <td>90.000000</td>\n",
       "      <td>1.484705e+06</td>\n",
       "      <td>16.000000</td>\n",
       "      <td>99999.000000</td>\n",
       "      <td>4356.000000</td>\n",
       "      <td>99.000000</td>\n",
       "    </tr>\n",
       "  </tbody>\n",
       "</table>\n",
       "</div>"
      ],
      "text/plain": [
       "                age        fnlwgt  education.num  capital.gain  capital.loss  \\\n",
       "count  32561.000000  3.256100e+04   32561.000000  32561.000000  32561.000000   \n",
       "mean      38.581647  1.897784e+05      10.080679   1077.648844     87.303830   \n",
       "std       13.640433  1.055500e+05       2.572720   7385.292085    402.960219   \n",
       "min       17.000000  1.228500e+04       1.000000      0.000000      0.000000   \n",
       "25%       28.000000  1.178270e+05       9.000000      0.000000      0.000000   \n",
       "50%       37.000000  1.783560e+05      10.000000      0.000000      0.000000   \n",
       "75%       48.000000  2.370510e+05      12.000000      0.000000      0.000000   \n",
       "max       90.000000  1.484705e+06      16.000000  99999.000000   4356.000000   \n",
       "\n",
       "       hours.per.week  \n",
       "count    32561.000000  \n",
       "mean        40.437456  \n",
       "std         12.347429  \n",
       "min          1.000000  \n",
       "25%         40.000000  \n",
       "50%         40.000000  \n",
       "75%         45.000000  \n",
       "max         99.000000  "
      ]
     },
     "metadata": {},
     "output_type": "display_data"
    }
   ],
   "source": [
    "display(adult.describe(include=['O']))\n",
    "display(adult.describe())\n",
    "\n",
    "#Estatísticas descritivas de cada coluna\n",
    "\n",
    "#A primeira tabela refere-se as colunas que são objetos\n",
    "\n",
    "#A segunda tabela, de colunas com valores inteiros"
   ]
  },
  {
   "cell_type": "code",
   "execution_count": 97,
   "metadata": {},
   "outputs": [],
   "source": [
    "from sklearn.preprocessing import LabelEncoder"
   ]
  },
  {
   "cell_type": "code",
   "execution_count": 98,
   "metadata": {},
   "outputs": [],
   "source": [
    "#Transformando income em categóricas numéricas\n",
    "\n",
    "inteiros=LabelEncoder().fit_transform(adult['income'])\n",
    "adult['income']=inteiros"
   ]
  },
  {
   "cell_type": "code",
   "execution_count": 99,
   "metadata": {},
   "outputs": [
    {
     "data": {
      "image/png": "[encoded data removed]",
      "text/plain": [
       "<Figure size 1440x432 with 1 Axes>"
      ]
     },
     "metadata": {
      "needs_background": "light"
     },
     "output_type": "display_data"
    }
   ],
   "source": [
    "plt.figure(figsize=(20,6))\n",
    "sns.countplot(x='age',data=adult)\n",
    "plt.xlabel('Idade',size=15)\n",
    "plt.ylabel('Quantidade')\n",
    "plt.title('Pessoas por idade')\n",
    "plt.show()\n",
    "#A frequência maior está com pessoas com idade menor que 60 anos"
   ]
  },
  {
   "cell_type": "code",
   "execution_count": 100,
   "metadata": {},
   "outputs": [
    {
     "data": {
      "image/png": "[encoded data removed]",
      "text/plain": [
       "<Figure size 1440x432 with 1 Axes>"
      ]
     },
     "metadata": {
      "needs_background": "light"
     },
     "output_type": "display_data"
    }
   ],
   "source": [
    "plt.figure(figsize=(20,6))\n",
    "sns.countplot(x='age',data=adult,hue='income',order=adult['age'].value_counts(ascending=False).index)\n",
    "plt.xlabel('Idade',size=15)\n",
    "plt.ylabel('Quantidade',size=15)\n",
    "plt.title('Pessoas por idade e por renda',size=15)\n",
    "plt.show()\n",
    "\n",
    "#Segregando idade por renda"
   ]
  },
  {
   "cell_type": "code",
   "execution_count": 101,
   "metadata": {},
   "outputs": [
    {
     "data": {
      "image/png": "[encoded data removed]",
      "text/plain": [
       "<Figure size 1080x432 with 1 Axes>"
      ]
     },
     "metadata": {
      "needs_background": "light"
     },
     "output_type": "display_data"
    }
   ],
   "source": [
    "plt.figure(figsize=(15,6))\n",
    "ax_hist=sns.distplot(adult['age'],bins=70)\n",
    "plt.xlabel('Idade')\n",
    "plt.title('Distribuição da coluna Age (Idade)')\n",
    "plt.show()\n",
    "\n",
    "#Os dados referente a idade estão concentrado entre "
   ]
  },
  {
   "cell_type": "code",
   "execution_count": 102,
   "metadata": {},
   "outputs": [
    {
     "data": {
      "image/png": "[encoded data removed]",
      "text/plain": [
       "<Figure size 1440x432 with 1 Axes>"
      ]
     },
     "metadata": {
      "needs_background": "light"
     },
     "output_type": "display_data"
    }
   ],
   "source": [
    "plt.figure(figsize=(20,6))\n",
    "sns.distplot(adult['age'].loc[adult['income']==1] , color=\"red\", label=\"Abaixo de US$ 50K\")\n",
    "sns.distplot(adult['age'].loc[adult['income']==0] , color=\"yellow\", label=\"Acima de US$ 50K\")\n",
    "plt.xlabel('Idade',size=15)\n",
    "plt.title('Distribuição das idade por classe de renda',size=15)\n",
    "plt.show()\n",
    "\n",
    "#O histograma das dados das idade daqueles que ganham abaixo de US$ 50.000 se parece mais com uma distribuição normal\n",
    "#A idades estão concentradas entre 30 a 50 anos\n",
    "\n",
    "#Já os dados de idades daqueles que ganham acima de US$ 50.000 parece se concentrar mais até os 40 anos de idade"
   ]
  },
  {
   "cell_type": "code",
   "execution_count": 103,
   "metadata": {},
   "outputs": [
    {
     "data": {
      "image/png": "[encoded data removed]",
      "text/plain": [
       "<Figure size 720x432 with 1 Axes>"
      ]
     },
     "metadata": {
      "needs_background": "light"
     },
     "output_type": "display_data"
    }
   ],
   "source": [
    "plt.figure(figsize=(10,6))\n",
    "sns.countplot(x='income',data=adult)\n",
    "plt.xlabel('Renda',size=15)\n",
    "plt.ylabel('Quantidade',size=15)\n",
    "plt.title('Quantidade',size=15)\n",
    "plt.show()\n",
    "\n",
    "#O gráfico de barra a baixo mostra que é mais frequente que pessoas desse conjunto de dados tenham salários abaixo de 50 mil\n",
    "#dólares. Podemos perceber também que as classes estão desbalanceadas, o que pode ser um problema na hora de colocar o modelo\n",
    "#para treinar e classificar os dados.\n",
    "\n",
    "#Trataremos esse problemas mais a frente"
   ]
  },
  {
   "cell_type": "code",
   "execution_count": 104,
   "metadata": {},
   "outputs": [
    {
     "data": {
      "image/png": "[encoded data removed]",
      "text/plain": [
       "<Figure size 720x360 with 1 Axes>"
      ]
     },
     "metadata": {
      "needs_background": "light"
     },
     "output_type": "display_data"
    }
   ],
   "source": [
    "plt.figure(figsize=(10,5))\n",
    "sns.countplot(x='sex',data=adult,hue='income',orient=\"h\")\n",
    "plt.xlabel('Sexo')\n",
    "plt.ylabel('Quantidade')\n",
    "plt.title('Sexo por Renda')\n",
    "plt.show()\n",
    "\n",
    "#Há mais homens do que mulheres\n",
    "\n",
    "# Há mais homens que ganham acima de US$ 50.000 do que mulheres"
   ]
  },
  {
   "cell_type": "code",
   "execution_count": 105,
   "metadata": {},
   "outputs": [
    {
     "data": {
      "image/png": "[encoded data removed]",
      "text/plain": [
       "<Figure size 1080x432 with 1 Axes>"
      ]
     },
     "metadata": {
      "needs_background": "light"
     },
     "output_type": "display_data"
    }
   ],
   "source": [
    "plt.figure(figsize=(15,6))\n",
    "sns.countplot(x='workclass',data=adult,hue='income',palette='colorblind',order=\n",
    "              adult['workclass'].value_counts(ascending=False).index)\n",
    "plt.xlabel('Classes de trabalho',size=15)\n",
    "plt.ylabel('Quantidade',size=15)\n",
    "plt.title('Quantidade de pessoas por classe de trabalho',size=15)\n",
    "plt.show()\n",
    "\n",
    "#A maior parte das pessoas desse censo estão trabahando no setor privado\n",
    "#Daqueles que trabalham no setor privado, a maioria ganha menos de US$ 50.000\n",
    "\n",
    "\n",
    "#Dos autônomos que trabalham em entidades corporativas, a maioria recebe acima de US$ 50.000"
   ]
  },
  {
   "cell_type": "code",
   "execution_count": 106,
   "metadata": {},
   "outputs": [
    {
     "data": {
      "image/png": "[encoded data removed]",
      "text/plain": [
       "<Figure size 1296x432 with 1 Axes>"
      ]
     },
     "metadata": {
      "needs_background": "light"
     },
     "output_type": "display_data"
    }
   ],
   "source": [
    "plt.figure(figsize=(18,6))\n",
    "sns.countplot(x='education',hue='income',data=adult,order =\n",
    "              adult['education'].value_counts(ascending=False).index)\n",
    "plt.xlabel('Escolaridade')\n",
    "plt.ylabel('')\n",
    "plt.show()\n",
    "\n",
    "#A grande maioria dos trabalhadores é composta por quem possui ensino médio, some-college (está cursando alguma faculdade) e \n",
    "#possui bacharelado.\n",
    "\n",
    "#Daqueles que recebem acima de US$ 50.000 são maioria entre doutores, professores de escola e mestres.\n",
    "\n",
    "#Porém a maior parte de quem recebe acima de US$ 50.000 tem ensino médio, cursam/cursaram alguma faculdade, bacharel e mestrado"
   ]
  },
  {
   "cell_type": "code",
   "execution_count": 107,
   "metadata": {},
   "outputs": [
    {
     "data": {
      "image/png": "[encoded data removed]",
      "text/plain": [
       "<Figure size 1080x432 with 1 Axes>"
      ]
     },
     "metadata": {
      "needs_background": "light"
     },
     "output_type": "display_data"
    }
   ],
   "source": [
    "plt.figure(figsize=(15,6))\n",
    "sns.countplot(x='education.num',hue='income',data=adult,order =\n",
    "              adult['education.num'].value_counts(ascending=False).index)\n",
    "plt.xlabel('Anos de educação',size=17)\n",
    "plt.ylabel('')\n",
    "plt.show()\n",
    "\n",
    "#A maior concentração de pessoas que ganham menos de US$ 50.000 são pessoas que tem tempo de educação de 9, 10 e 13 anos\n",
    "\n",
    "#Dos 14 anos de educação em diante a maior parte dos trabalahdores ganham acima de US$ 50.000, porém a quantidade desses é pouco\n",
    "#expressiva"
   ]
  },
  {
   "cell_type": "code",
   "execution_count": 108,
   "metadata": {},
   "outputs": [
    {
     "data": {
      "image/png": "[encoded data removed]",
      "text/plain": [
       "<Figure size 1080x432 with 1 Axes>"
      ]
     },
     "metadata": {
      "needs_background": "light"
     },
     "output_type": "display_data"
    }
   ],
   "source": [
    "plt.figure(figsize=(15,6))\n",
    "sns.countplot(x='marital.status',data=adult,hue='income',order =\n",
    "              adult['marital.status'].value_counts(ascending=False).index)\n",
    "plt.xlabel('Estado Civil',size=15)\n",
    "plt.ylabel('')\n",
    "plt.show()\n",
    "\n",
    "#A maior parte das pessoas do censo são casados (conjugê civil), solteiros ou divorciados"
   ]
  },
  {
   "cell_type": "code",
   "execution_count": 109,
   "metadata": {},
   "outputs": [
    {
     "data": {
      "image/png": "[encoded data removed]",
      "text/plain": [
       "<Figure size 1080x432 with 1 Axes>"
      ]
     },
     "metadata": {
      "needs_background": "light"
     },
     "output_type": "display_data"
    }
   ],
   "source": [
    "plt.figure(figsize=(15,6))\n",
    "sns.countplot(x='race',data=adult,hue='income',orient=\"h\")\n",
    "plt.show()\n",
    "\n",
    "#A maior parte das pessoas que participaram do censo são em sua maioria de brancos\n",
    "#E são os brancos que, marjoritariamente, ganham acima de US$ 50.000."
   ]
  },
  {
   "cell_type": "code",
   "execution_count": 110,
   "metadata": {},
   "outputs": [
    {
     "data": {
      "image/png": "[encoded data removed]",
      "text/plain": [
       "<Figure size 1080x432 with 1 Axes>"
      ]
     },
     "metadata": {
      "needs_background": "light"
     },
     "output_type": "display_data"
    }
   ],
   "source": [
    "plt.figure(figsize=(15,6))\n",
    "sns.countplot(x='relationship',hue='income',data=adult,palette='Set2',order =\n",
    "              adult['relationship'].value_counts(ascending=False).index)\n",
    "plt.show()\n",
    "\n",
    "#Quem mais ganha acima de US$ 50.000 são maridos"
   ]
  },
  {
   "cell_type": "code",
   "execution_count": 111,
   "metadata": {},
   "outputs": [
    {
     "data": {
      "image/png": "[encoded data removed]",
      "text/plain": [
       "<Figure size 1728x864 with 1 Axes>"
      ]
     },
     "metadata": {
      "needs_background": "light"
     },
     "output_type": "display_data"
    }
   ],
   "source": [
    "plt.figure(figsize=(24,12))\n",
    "sns.countplot(y='occupation',data=adult,hue='income',order = adult['occupation'].value_counts(ascending=False).index)\n",
    "plt.xlabel('Ocupação',size=15)\n",
    "plt.ylabel('Ocupação',size=15)\n",
    "plt.title('Pessoas por ocupação',size=15)\n",
    "plt.yticks(rotation='45',size=17)\n",
    "plt.show()\n",
    "\n",
    "# As ocupações que mais recebem acima de US$ 50.000 são : Prof-specialty, Craft-repair, Exec-managerial, Adm-Clerical e Sales"
   ]
  },
  {
   "cell_type": "code",
   "execution_count": 112,
   "metadata": {},
   "outputs": [
    {
     "data": {
      "image/png": "[encoded data removed]",
      "text/plain": [
       "<Figure size 720x432 with 1 Axes>"
      ]
     },
     "metadata": {
      "needs_background": "light"
     },
     "output_type": "display_data"
    }
   ],
   "source": [
    "plt.figure(figsize=(10,6))\n",
    "sns.distplot(adult['hours.per.week'])\n",
    "plt.xlabel('Horas de semanais de trabalho')\n",
    "plt.title('Distrubição da coluna hours.per.week')\n",
    "plt.show()\n",
    "\n",
    "#A maioria dos indivíduos do censo trabalha 40 horas por semana"
   ]
  },
  {
   "cell_type": "code",
   "execution_count": 113,
   "metadata": {},
   "outputs": [
    {
     "data": {
      "image/png": "[encoded data removed]",
      "text/plain": [
       "<Figure size 2160x720 with 1 Axes>"
      ]
     },
     "metadata": {
      "needs_background": "light"
     },
     "output_type": "display_data"
    }
   ],
   "source": [
    "plt.figure(figsize=(30,10))\n",
    "sns.countplot(x='native.country',hue='income',data=adult)\n",
    "plt.xlabel('País Nativo',size=17)\n",
    "plt.ylabel('')\n",
    "plt.title('Pessoas por país de origem',size=17)\n",
    "plt.xticks(rotation='90',size=17)\n",
    "plt.show()\n",
    "\n",
    "#Marjoritariamente, as pessoas da pesquisa são dos Estados Unidos\n",
    "\n",
    "#Vemos que não é possível visualizar bem os dados"
   ]
  },
  {
   "cell_type": "code",
   "execution_count": 114,
   "metadata": {},
   "outputs": [
    {
     "data": {
      "text/plain": [
       "array(['United-States', '?', 'Mexico', 'Greece', 'Vietnam', 'China',\n",
       "       'Taiwan', 'India', 'Philippines', 'Trinadad&Tobago', 'Canada',\n",
       "       'South', 'Holand-Netherlands', 'Puerto-Rico', 'Poland', 'Iran',\n",
       "       'England', 'Germany', 'Italy', 'Japan', 'Hong', 'Honduras', 'Cuba',\n",
       "       'Ireland', 'Cambodia', 'Peru', 'Nicaragua', 'Dominican-Republic',\n",
       "       'Haiti', 'El-Salvador', 'Hungary', 'Columbia', 'Guatemala',\n",
       "       'Jamaica', 'Ecuador', 'France', 'Yugoslavia', 'Scotland',\n",
       "       'Portugal', 'Laos', 'Thailand', 'Outlying-US(Guam-USVI-etc)'],\n",
       "      dtype=object)"
      ]
     },
     "metadata": {},
     "output_type": "display_data"
    },
    {
     "data": {
      "text/plain": [
       "42"
      ]
     },
     "metadata": {},
     "output_type": "display_data"
    }
   ],
   "source": [
    "display(adult['native.country'].unique())\n",
    "display(len(adult['native.country'].unique()))\n",
    "\n",
    "#Abaixo podemos ver a listagem de países\n",
    "\n",
    "#E ao todo, sem os EUA, são 41 países"
   ]
  },
  {
   "cell_type": "code",
   "execution_count": 115,
   "metadata": {},
   "outputs": [],
   "source": [
    "#vamos substituir, o que não for United States simplesmente por 'Others'\n",
    "\n",
    "adult['native.country']=adult['native.country'].replace(['?', 'Mexico', 'Greece', 'Vietnam', 'China',\n",
    "       'Taiwan', 'India', 'Philippines', 'Trinadad&Tobago', 'Canada',\n",
    "       'South', 'Holand-Netherlands', 'Puerto-Rico', 'Poland', 'Iran',\n",
    "       'England', 'Germany', 'Italy', 'Japan', 'Hong', 'Honduras', 'Cuba',\n",
    "       'Ireland', 'Cambodia', 'Peru', 'Nicaragua', 'Dominican-Republic',\n",
    "       'Haiti', 'El-Salvador', 'Hungary', 'Columbia', 'Guatemala',\n",
    "       'Jamaica', 'Ecuador', 'France', 'Yugoslavia', 'Scotland',\n",
    "       'Portugal', 'Laos', 'Thailand', 'Outlying-US(Guam-USVI-etc)'],'Others')"
   ]
  },
  {
   "cell_type": "code",
   "execution_count": 116,
   "metadata": {},
   "outputs": [
    {
     "data": {
      "image/png": "[encoded data removed]",
      "text/plain": [
       "<Figure size 720x432 with 1 Axes>"
      ]
     },
     "metadata": {
      "needs_background": "light"
     },
     "output_type": "display_data"
    }
   ],
   "source": [
    "plt.figure(figsize=(10,6))\n",
    "dx=sns.countplot(x='native.country',hue='income',data=adult)\n",
    "plt.xlabel('País Nativo',size=17)\n",
    "plt.ylabel('')\n",
    "plt.title('Pessoas por país de origem',size=17)\n",
    "plt.xticks(rotation='22.5',size=17)\n",
    "\n",
    "for p in dx.patches:\n",
    "    dx.annotate((p.get_height()), (p.get_x()+0.15, p.get_height()+50))\n",
    "plt.show()\n",
    "\n",
    "#Aqui, mais visível, podemos ver que "
   ]
  },
  {
   "cell_type": "code",
   "execution_count": 117,
   "metadata": {},
   "outputs": [
    {
     "data": {
      "text/plain": [
       "Index(['age', 'workclass', 'fnlwgt', 'education', 'education.num',\n",
       "       'marital.status', 'occupation', 'relationship', 'race', 'sex',\n",
       "       'capital.gain', 'capital.loss', 'hours.per.week', 'native.country',\n",
       "       'income'],\n",
       "      dtype='object')"
      ]
     },
     "execution_count": 117,
     "metadata": {},
     "output_type": "execute_result"
    }
   ],
   "source": [
    "adult.columns"
   ]
  },
  {
   "cell_type": "code",
   "execution_count": 118,
   "metadata": {},
   "outputs": [
    {
     "data": {
      "image/png": "[encoded data removed]",
      "text/plain": [
       "<Figure size 720x432 with 1 Axes>"
      ]
     },
     "metadata": {
      "needs_background": "light"
     },
     "output_type": "display_data"
    }
   ],
   "source": [
    "plt.figure(figsize=(10,6))\n",
    "sns.distplot(adult['capital.gain'])\n",
    "plt.xlabel('Capital ganho',size=17)\n",
    "plt.title('Distribuição da coluna capital.gain',size=17)\n",
    "plt.show()\n",
    "\n",
    "#Os dados estão concentrados em 0"
   ]
  },
  {
   "cell_type": "code",
   "execution_count": 119,
   "metadata": {},
   "outputs": [
    {
     "data": {
      "image/png": "[encoded data removed]",
      "text/plain": [
       "<Figure size 720x432 with 1 Axes>"
      ]
     },
     "metadata": {
      "needs_background": "light"
     },
     "output_type": "display_data"
    }
   ],
   "source": [
    "plt.figure(figsize=(10,6))\n",
    "sns.distplot(adult['capital.loss'],color='orange')\n",
    "plt.xlabel('Capital perdido',size=17)\n",
    "plt.title('Distribuição da coluna capital.loss',size=17)\n",
    "plt.show()\n",
    "\n",
    "#Assim como anteriormente, os dados estão concentrados em 0"
   ]
  },
  {
   "cell_type": "code",
   "execution_count": 120,
   "metadata": {},
   "outputs": [
    {
     "data": {
      "image/png": "[encoded data removed]",
      "text/plain": [
       "<Figure size 720x432 with 1 Axes>"
      ]
     },
     "metadata": {
      "needs_background": "light"
     },
     "output_type": "display_data"
    }
   ],
   "source": [
    "adult['saldo']=adult['capital.gain']-adult['capital.loss']\n",
    "plt.figure(figsize=(10,6))\n",
    "sns.distplot(adult['saldo'])\n",
    "plt.title('Distribuição da coluna Saldo',size=17)\n",
    "plt.xlabel('Saldo',size=17)\n",
    "plt.show()\n",
    "\n",
    "#Dados concentrados em zero, ou seja, o ganho de capital se anulou com a perda de capital"
   ]
  },
  {
   "cell_type": "code",
   "execution_count": 121,
   "metadata": {},
   "outputs": [
    {
     "data": {
      "image/png": "[encoded data removed]",
      "text/plain": [
       "<Figure size 720x432 with 1 Axes>"
      ]
     },
     "metadata": {
      "needs_background": "light"
     },
     "output_type": "display_data"
    }
   ],
   "source": [
    "plt.figure(figsize=(10,6))\n",
    "sns.distplot(adult['fnlwgt'],color='green')\n",
    "plt.title('Distribuição do peso final')\n",
    "plt.xlabel('Peso final')\n",
    "plt.show()"
   ]
  },
  {
   "cell_type": "code",
   "execution_count": 122,
   "metadata": {},
   "outputs": [
    {
     "data": {
      "image/png": "[encoded data removed]",
      "text/plain": [
       "<Figure size 1440x432 with 1 Axes>"
      ]
     },
     "metadata": {
      "needs_background": "light"
     },
     "output_type": "display_data"
    }
   ],
   "source": [
    "plt.figure(figsize=(20,6))\n",
    "sns.distplot(adult['fnlwgt'].loc[adult['income']==1] , color=\"red\", label=\"Abaixo de US$ 50K\")\n",
    "sns.distplot(adult['fnlwgt'].loc[adult['income']==0] , color=\"yellow\", label=\"Acima de US$ 50K\")\n",
    "plt.xlabel('Peso final',size=15)\n",
    "plt.title('Distribuição do peso final por classe de renda',size=15)\n",
    "plt.show()\n",
    "\n",
    "#As distribuições por classe de renda são bastante semenlhantes"
   ]
  },
  {
   "cell_type": "markdown",
   "metadata": {},
   "source": [
    "# Tratamento dos dados"
   ]
  },
  {
   "cell_type": "code",
   "execution_count": 123,
   "metadata": {},
   "outputs": [
    {
     "name": "stdout",
     "output_type": "stream",
     "text": [
      "<class 'pandas.core.frame.DataFrame'>\n",
      "RangeIndex: 32561 entries, 0 to 32560\n",
      "Data columns (total 16 columns):\n",
      "age               32561 non-null int64\n",
      "workclass         32561 non-null object\n",
      "fnlwgt            32561 non-null int64\n",
      "education         32561 non-null object\n",
      "education.num     32561 non-null int64\n",
      "marital.status    32561 non-null object\n",
      "occupation        32561 non-null object\n",
      "relationship      32561 non-null object\n",
      "race              32561 non-null object\n",
      "sex               32561 non-null object\n",
      "capital.gain      32561 non-null int64\n",
      "capital.loss      32561 non-null int64\n",
      "hours.per.week    32561 non-null int64\n",
      "native.country    32561 non-null object\n",
      "income            32561 non-null int32\n",
      "saldo             32561 non-null int64\n",
      "dtypes: int32(1), int64(7), object(8)\n",
      "memory usage: 3.9+ MB\n"
     ]
    }
   ],
   "source": [
    "adult.info()\n",
    "\n",
    "#8 colunas são objetos e 8 são valores inteiros "
   ]
  },
  {
   "cell_type": "markdown",
   "metadata": {},
   "source": [
    "**Tratando as colunas que são objetos**"
   ]
  },
  {
   "cell_type": "code",
   "execution_count": 124,
   "metadata": {},
   "outputs": [
    {
     "data": {
      "text/plain": [
       "Index(['age', 'workclass', 'fnlwgt', 'education', 'education.num',\n",
       "       'marital.status', 'occupation', 'relationship', 'race', 'sex',\n",
       "       'capital.gain', 'capital.loss', 'hours.per.week', 'native.country',\n",
       "       'income', 'saldo'],\n",
       "      dtype='object')"
      ]
     },
     "execution_count": 124,
     "metadata": {},
     "output_type": "execute_result"
    }
   ],
   "source": [
    "adult.columns\n",
    "\n",
    "#Observando as colunas"
   ]
  },
  {
   "cell_type": "code",
   "execution_count": 125,
   "metadata": {},
   "outputs": [
    {
     "data": {
      "text/plain": [
       "workclass          9\n",
       "education         16\n",
       "marital.status     7\n",
       "occupation        15\n",
       "relationship       6\n",
       "race               5\n",
       "sex                2\n",
       "native.country     2\n",
       "dtype: int64"
      ]
     },
     "metadata": {},
     "output_type": "display_data"
    }
   ],
   "source": [
    "#Selecionando colunas que são objetos e observando seus valores únicos\n",
    "display(adult.select_dtypes(include='object').nunique())\n",
    "\n",
    "#Vemos que há algumas colunas que possuem muitos valores categóricos\n",
    "\n",
    "#workclass possui 9 categorias\n",
    "#education, 16 categorias\n",
    "#ocupation, 15 categorias\n",
    "\n",
    "#Podemos fazer a mesma estratégia que fizemos em native.country que antes tinha 42 categorias, mas agora possui apenas 2"
   ]
  },
  {
   "cell_type": "markdown",
   "metadata": {},
   "source": [
    "**Tratando a coluna worclass**"
   ]
  },
  {
   "cell_type": "code",
   "execution_count": 126,
   "metadata": {},
   "outputs": [
    {
     "data": {
      "text/plain": [
       "Private             22696\n",
       "Self-emp-not-inc     2541\n",
       "Local-gov            2093\n",
       "?                    1836\n",
       "State-gov            1298\n",
       "Self-emp-inc         1116\n",
       "Federal-gov           960\n",
       "Without-pay            14\n",
       "Never-worked            7\n",
       "Name: workclass, dtype: int64"
      ]
     },
     "execution_count": 126,
     "metadata": {},
     "output_type": "execute_result"
    }
   ],
   "source": [
    "adult['workclass'].value_counts()\n",
    "\n",
    "#Aqui podemos que, novamente, que a categoria Private tem um total de 22696 (69,7%) e os demais somados 9.865 (30.3%)\n",
    "\n",
    "#Seria interessante então definirmos quem está no setor privado e quem não está\n",
    "\n",
    "#sendo assim susbtituiremos as demais categorias por NoPrivate"
   ]
  },
  {
   "cell_type": "code",
   "execution_count": 127,
   "metadata": {},
   "outputs": [],
   "source": [
    "#Substuindo as categorias\n",
    "adult['workclass']=adult['workclass'].replace(['?','Self-emp-not-inc','Local-gov','State-gov','Self-emp-inc','Federal-gov',\n",
    "                                             'Without-pay','Never-worked'],'NoPrivate')"
   ]
  },
  {
   "cell_type": "code",
   "execution_count": 128,
   "metadata": {},
   "outputs": [
    {
     "data": {
      "text/plain": [
       "0        NoPrivate\n",
       "1          Private\n",
       "2        NoPrivate\n",
       "3          Private\n",
       "4          Private\n",
       "           ...    \n",
       "32556      Private\n",
       "32557      Private\n",
       "32558      Private\n",
       "32559      Private\n",
       "32560      Private\n",
       "Name: workclass, Length: 32561, dtype: object"
      ]
     },
     "execution_count": 128,
     "metadata": {},
     "output_type": "execute_result"
    }
   ],
   "source": [
    "#Vemos que a alteração foi bem sucedida, agora temos apenas duas categorias\n",
    "adult['workclass']"
   ]
  },
  {
   "cell_type": "code",
   "execution_count": 129,
   "metadata": {},
   "outputs": [],
   "source": [
    "adult['workclass']=adult['workclass'].replace(['Private'],1)\n",
    "adult['workclass']=adult['workclass'].replace(['NoPrivate'],0)"
   ]
  },
  {
   "cell_type": "code",
   "execution_count": 130,
   "metadata": {},
   "outputs": [
    {
     "data": {
      "text/plain": [
       "1    22696\n",
       "0     9865\n",
       "Name: workclass, dtype: int64"
      ]
     },
     "execution_count": 130,
     "metadata": {},
     "output_type": "execute_result"
    }
   ],
   "source": [
    "adult['workclass'].value_counts()"
   ]
  },
  {
   "cell_type": "markdown",
   "metadata": {},
   "source": [
    "**Tratando a coluna education**"
   ]
  },
  {
   "cell_type": "code",
   "execution_count": 131,
   "metadata": {},
   "outputs": [
    {
     "data": {
      "text/plain": [
       "HS-grad         10501\n",
       "Some-college     7291\n",
       "Bachelors        5355\n",
       "Masters          1723\n",
       "Assoc-voc        1382\n",
       "11th             1175\n",
       "Assoc-acdm       1067\n",
       "10th              933\n",
       "7th-8th           646\n",
       "Prof-school       576\n",
       "9th               514\n",
       "12th              433\n",
       "Doctorate         413\n",
       "5th-6th           333\n",
       "1st-4th           168\n",
       "Preschool          51\n",
       "Name: education, dtype: int64"
      ]
     },
     "execution_count": 131,
     "metadata": {},
     "output_type": "execute_result"
    }
   ],
   "source": [
    "adult['education'].value_counts()"
   ]
  },
  {
   "cell_type": "code",
   "execution_count": 132,
   "metadata": {},
   "outputs": [],
   "source": [
    "# A ordem academica segue a seguinte ordem :\n",
    "\n",
    "#Preschool < 1st-4th < 5th-6th < 7th-8th < 9th < 10th < 11th < 12th < HS-grad < Prof-school < Assoc-acdm < Assoc-voc < \n",
    "#Some-college < Bachelors < Masters < Doctorate\n",
    "\n",
    "#dividiremos assim:\n",
    "\n",
    "#Quem ainda não terminou o ensino médio: Preschool, 1st-4th, 5th-6th, 7th-8th, 9th, 10th, 11th e 12th\n",
    "\n",
    "#Quem terminou o ensino médio: HS-grad e Prof-school\n",
    "\n",
    "#Quem é associado: Assoc-acdm e Assoc-voc\n",
    "\n",
    "#Quem fez ou já terminou alguma falcudade: Some-college e Bachelors\n",
    "\n",
    "#E quem tem pós-graduação: Masters e Doctorate\n",
    "\n",
    "#Assim teremos 5 categorias e não mais 16\n",
    "\n",
    "adult['education']=adult['education'].replace(['Preschool','1st-4th','5th-6th','7th-8th','9th','10th','11th','12th'],0)\n",
    "adult['education']=adult['education'].replace(['HS-grad','Prof-school'],1)\n",
    "adult['education']=adult['education'].replace(['Assoc-acdm','Assoc-voc'],2)\n",
    "adult['education']=adult['education'].replace(['Some-college','Bachelors'],3)\n",
    "adult['education']=adult['education'].replace(['Masters','Doctorate'],4)"
   ]
  },
  {
   "cell_type": "code",
   "execution_count": 133,
   "metadata": {},
   "outputs": [
    {
     "data": {
      "text/plain": [
       "3    12646\n",
       "1    11077\n",
       "0     4253\n",
       "2     2449\n",
       "4     2136\n",
       "Name: education, dtype: int64"
      ]
     },
     "execution_count": 133,
     "metadata": {},
     "output_type": "execute_result"
    }
   ],
   "source": [
    "adult['education'].value_counts()\n",
    "#Como podemos ver, temos apenas 5 classes"
   ]
  },
  {
   "cell_type": "markdown",
   "metadata": {},
   "source": [
    "**Tratando a coluna marital.status**"
   ]
  },
  {
   "cell_type": "code",
   "execution_count": 134,
   "metadata": {},
   "outputs": [
    {
     "data": {
      "text/plain": [
       "Married-civ-spouse       14976\n",
       "Never-married            10683\n",
       "Divorced                  4443\n",
       "Separated                 1025\n",
       "Widowed                    993\n",
       "Married-spouse-absent      418\n",
       "Married-AF-spouse           23\n",
       "Name: marital.status, dtype: int64"
      ]
     },
     "execution_count": 134,
     "metadata": {},
     "output_type": "execute_result"
    }
   ],
   "source": [
    "adult['marital.status'].value_counts()\n",
    "#Aqui temos uma categorias com valores muito pequenos\n",
    "\n",
    "#Podemos juntar:\n",
    "\n",
    "#Married-civ-spouse ,Married-AF-spouse e Married-spouse-absent\n",
    "# Divorced, Separated e Widowed \n",
    "\n",
    "#teremos então apenas 3 classes"
   ]
  },
  {
   "cell_type": "code",
   "execution_count": 135,
   "metadata": {},
   "outputs": [],
   "source": [
    "adult['marital.status']=adult['marital.status'].replace(['Married-civ-spouse','Married-AF-spouse','Married-spouse-absent'],0)\n",
    "adult['marital.status']=adult['marital.status'].replace(['Divorced','Separated','Widowed'],1)"
   ]
  },
  {
   "cell_type": "code",
   "execution_count": 136,
   "metadata": {},
   "outputs": [],
   "source": [
    "adult['marital.status']=adult['marital.status'].replace(['Never-married'],2)"
   ]
  },
  {
   "cell_type": "code",
   "execution_count": 137,
   "metadata": {},
   "outputs": [
    {
     "data": {
      "text/plain": [
       "0    15417\n",
       "2    10683\n",
       "1     6461\n",
       "Name: marital.status, dtype: int64"
      ]
     },
     "execution_count": 137,
     "metadata": {},
     "output_type": "execute_result"
    }
   ],
   "source": [
    "adult['marital.status'].value_counts()\n",
    "\n",
    "#temos agora 3 categorias, apenas"
   ]
  },
  {
   "cell_type": "markdown",
   "metadata": {},
   "source": [
    "**Tratando a coluna occupation**"
   ]
  },
  {
   "cell_type": "code",
   "execution_count": 138,
   "metadata": {},
   "outputs": [
    {
     "data": {
      "text/plain": [
       "Prof-specialty       4140\n",
       "Craft-repair         4099\n",
       "Exec-managerial      4066\n",
       "Adm-clerical         3770\n",
       "Sales                3650\n",
       "Other-service        3295\n",
       "Machine-op-inspct    2002\n",
       "?                    1843\n",
       "Transport-moving     1597\n",
       "Handlers-cleaners    1370\n",
       "Farming-fishing       994\n",
       "Tech-support          928\n",
       "Protective-serv       649\n",
       "Priv-house-serv       149\n",
       "Armed-Forces            9\n",
       "Name: occupation, dtype: int64"
      ]
     },
     "execution_count": 138,
     "metadata": {},
     "output_type": "execute_result"
    }
   ],
   "source": [
    "adult['occupation'].value_counts()\n",
    "\n",
    "#Aqui temos 15 categorias\n",
    "\n",
    "#Vamos agrupar algumas colunas:\n",
    "\n",
    "#Other-service, ?,Protective-serv,Priv-house-serv e Armed-Forces vamos chamar de Others\n",
    "\n",
    "#E ficaremos com 10 categorias"
   ]
  },
  {
   "cell_type": "code",
   "execution_count": 139,
   "metadata": {},
   "outputs": [],
   "source": [
    "adult['occupation']=adult['occupation'].replace(['Other-service','?',\n",
    "                                                 'Protective-serv','Priv-house-serv','Armed-Forces'],'Others')"
   ]
  },
  {
   "cell_type": "code",
   "execution_count": 140,
   "metadata": {},
   "outputs": [
    {
     "data": {
      "text/plain": [
       "Others               5945\n",
       "Prof-specialty       4140\n",
       "Craft-repair         4099\n",
       "Exec-managerial      4066\n",
       "Adm-clerical         3770\n",
       "Sales                3650\n",
       "Machine-op-inspct    2002\n",
       "Transport-moving     1597\n",
       "Handlers-cleaners    1370\n",
       "Farming-fishing       994\n",
       "Tech-support          928\n",
       "Name: occupation, dtype: int64"
      ]
     },
     "execution_count": 140,
     "metadata": {},
     "output_type": "execute_result"
    }
   ],
   "source": [
    "adult['occupation'].value_counts()"
   ]
  },
  {
   "cell_type": "code",
   "execution_count": 141,
   "metadata": {},
   "outputs": [
    {
     "data": {
      "text/plain": [
       "6     5945\n",
       "7     4140\n",
       "1     4099\n",
       "2     4066\n",
       "0     3770\n",
       "8     3650\n",
       "5     2002\n",
       "10    1597\n",
       "4     1370\n",
       "3      994\n",
       "9      928\n",
       "Name: occupation, dtype: int64"
      ]
     },
     "execution_count": 141,
     "metadata": {},
     "output_type": "execute_result"
    }
   ],
   "source": [
    "#Vamos usar o Label Encoder agora:\n",
    "from sklearn.preprocessing import LabelEncoder\n",
    "\n",
    "#Instanciando o Label Encoder\n",
    "le=LabelEncoder()\n",
    "\n",
    "adult['occupation']=le.fit_transform(adult['occupation'])\n",
    "adult['occupation'].value_counts()"
   ]
  },
  {
   "cell_type": "markdown",
   "metadata": {},
   "source": [
    "**Tratando a coluna relationship**"
   ]
  },
  {
   "cell_type": "code",
   "execution_count": 142,
   "metadata": {},
   "outputs": [
    {
     "data": {
      "text/plain": [
       "Husband           13193\n",
       "Not-in-family      8305\n",
       "Own-child          5068\n",
       "Unmarried          3446\n",
       "Wife               1568\n",
       "Other-relative      981\n",
       "Name: relationship, dtype: int64"
      ]
     },
     "execution_count": 142,
     "metadata": {},
     "output_type": "execute_result"
    }
   ],
   "source": [
    "adult['relationship'].value_counts()"
   ]
  },
  {
   "cell_type": "code",
   "execution_count": 143,
   "metadata": {},
   "outputs": [
    {
     "data": {
      "text/plain": [
       "0    13193\n",
       "1     8305\n",
       "3     5068\n",
       "4     3446\n",
       "5     1568\n",
       "2      981\n",
       "Name: relationship, dtype: int64"
      ]
     },
     "execution_count": 143,
     "metadata": {},
     "output_type": "execute_result"
    }
   ],
   "source": [
    "#Como em relationship temos 6 classe, vamos deixar do jeito que está\n",
    "\n",
    "adult['relationship']=le.fit_transform(adult['relationship'])\n",
    "adult['relationship'].value_counts()"
   ]
  },
  {
   "cell_type": "markdown",
   "metadata": {},
   "source": [
    "**Tratando a coluna race**"
   ]
  },
  {
   "cell_type": "code",
   "execution_count": 144,
   "metadata": {},
   "outputs": [
    {
     "data": {
      "text/plain": [
       "White                 27816\n",
       "Black                  3124\n",
       "Asian-Pac-Islander     1039\n",
       "Amer-Indian-Eskimo      311\n",
       "Other                   271\n",
       "Name: race, dtype: int64"
      ]
     },
     "execution_count": 144,
     "metadata": {},
     "output_type": "execute_result"
    }
   ],
   "source": [
    "adult['race'].value_counts()\n",
    "\n",
    "#Marjoritariamente há mais brancos\n",
    "\n",
    "#Vamos agrupar Black, Asian, Amer e Other em uma única categoaria"
   ]
  },
  {
   "cell_type": "code",
   "execution_count": 145,
   "metadata": {},
   "outputs": [],
   "source": [
    "adult['race']=adult['race'].replace(['Black','Asian-Pac-Islander',\n",
    "                                                 'Amer-Indian-Eskimo','Other'],0)\n",
    "\n",
    "adult['race']=adult['race'].replace('White',1)"
   ]
  },
  {
   "cell_type": "code",
   "execution_count": 146,
   "metadata": {},
   "outputs": [
    {
     "data": {
      "text/plain": [
       "1    27816\n",
       "0     4745\n",
       "Name: race, dtype: int64"
      ]
     },
     "execution_count": 146,
     "metadata": {},
     "output_type": "execute_result"
    }
   ],
   "source": [
    "adult['race'].value_counts()"
   ]
  },
  {
   "cell_type": "markdown",
   "metadata": {},
   "source": [
    "**Tratando a coluna sex**"
   ]
  },
  {
   "cell_type": "code",
   "execution_count": 147,
   "metadata": {},
   "outputs": [
    {
     "data": {
      "text/plain": [
       "Male      21790\n",
       "Female    10771\n",
       "Name: sex, dtype: int64"
      ]
     },
     "execution_count": 147,
     "metadata": {},
     "output_type": "execute_result"
    }
   ],
   "source": [
    "adult['sex'].value_counts()"
   ]
  },
  {
   "cell_type": "code",
   "execution_count": 148,
   "metadata": {},
   "outputs": [
    {
     "data": {
      "text/plain": [
       "1    21790\n",
       "0    10771\n",
       "Name: sex, dtype: int64"
      ]
     },
     "execution_count": 148,
     "metadata": {},
     "output_type": "execute_result"
    }
   ],
   "source": [
    "adult['sex']=le.fit_transform(adult['sex'])\n",
    "adult['sex'].value_counts()"
   ]
  },
  {
   "cell_type": "markdown",
   "metadata": {},
   "source": [
    "**Tratando a coluna native.country**"
   ]
  },
  {
   "cell_type": "code",
   "execution_count": 149,
   "metadata": {},
   "outputs": [
    {
     "data": {
      "text/plain": [
       "United-States    29170\n",
       "Others            3391\n",
       "Name: native.country, dtype: int64"
      ]
     },
     "execution_count": 149,
     "metadata": {},
     "output_type": "execute_result"
    }
   ],
   "source": [
    "adult['native.country'].value_counts()"
   ]
  },
  {
   "cell_type": "code",
   "execution_count": 150,
   "metadata": {},
   "outputs": [
    {
     "data": {
      "text/plain": [
       "1    29170\n",
       "0     3391\n",
       "Name: native.country, dtype: int64"
      ]
     },
     "execution_count": 150,
     "metadata": {},
     "output_type": "execute_result"
    }
   ],
   "source": [
    "adult['native.country']=le.fit_transform(adult['native.country'])\n",
    "adult['native.country'].value_counts()"
   ]
  },
  {
   "cell_type": "code",
   "execution_count": 151,
   "metadata": {},
   "outputs": [
    {
     "data": {
      "text/plain": [
       "1    29170\n",
       "0     3391\n",
       "Name: native.country, dtype: int64"
      ]
     },
     "execution_count": 151,
     "metadata": {},
     "output_type": "execute_result"
    }
   ],
   "source": [
    "adult['native.country'].value_counts()"
   ]
  },
  {
   "cell_type": "markdown",
   "metadata": {},
   "source": [
    "**Tratando as colunas capital.gain, capital.loss e saldo**"
   ]
  },
  {
   "cell_type": "code",
   "execution_count": 152,
   "metadata": {},
   "outputs": [
    {
     "data": {
      "text/html": [
       "<div>\n",
       "<style scoped>\n",
       "    .dataframe tbody tr th:only-of-type {\n",
       "        vertical-align: middle;\n",
       "    }\n",
       "\n",
       "    .dataframe tbody tr th {\n",
       "        vertical-align: top;\n",
       "    }\n",
       "\n",
       "    .dataframe thead th {\n",
       "        text-align: right;\n",
       "    }\n",
       "</style>\n",
       "<table border=\"1\" class=\"dataframe\">\n",
       "  <thead>\n",
       "    <tr style=\"text-align: right;\">\n",
       "      <th></th>\n",
       "      <th>capital.gain</th>\n",
       "      <th>capital.loss</th>\n",
       "      <th>saldo</th>\n",
       "    </tr>\n",
       "  </thead>\n",
       "  <tbody>\n",
       "    <tr>\n",
       "      <th>0</th>\n",
       "      <td>0</td>\n",
       "      <td>4356</td>\n",
       "      <td>-4356</td>\n",
       "    </tr>\n",
       "    <tr>\n",
       "      <th>1</th>\n",
       "      <td>0</td>\n",
       "      <td>4356</td>\n",
       "      <td>-4356</td>\n",
       "    </tr>\n",
       "    <tr>\n",
       "      <th>2</th>\n",
       "      <td>0</td>\n",
       "      <td>4356</td>\n",
       "      <td>-4356</td>\n",
       "    </tr>\n",
       "    <tr>\n",
       "      <th>3</th>\n",
       "      <td>0</td>\n",
       "      <td>3900</td>\n",
       "      <td>-3900</td>\n",
       "    </tr>\n",
       "    <tr>\n",
       "      <th>4</th>\n",
       "      <td>0</td>\n",
       "      <td>3900</td>\n",
       "      <td>-3900</td>\n",
       "    </tr>\n",
       "  </tbody>\n",
       "</table>\n",
       "</div>"
      ],
      "text/plain": [
       "   capital.gain  capital.loss  saldo\n",
       "0             0          4356  -4356\n",
       "1             0          4356  -4356\n",
       "2             0          4356  -4356\n",
       "3             0          3900  -3900\n",
       "4             0          3900  -3900"
      ]
     },
     "execution_count": 152,
     "metadata": {},
     "output_type": "execute_result"
    }
   ],
   "source": [
    "adult[['capital.gain','capital.loss','saldo']].head()\n",
    "#Visualizando as colunas capital.gain, capital.loss e saldo\n",
    "\n",
    "#Saldo é a diferença entre gain e loss"
   ]
  },
  {
   "cell_type": "code",
   "execution_count": 153,
   "metadata": {},
   "outputs": [],
   "source": [
    "adult.loc[ adult['saldo'] <= 0, 'saldo'] = 0\n",
    "adult.loc[ adult['saldo'] > 0, 'saldo'] = 1\n",
    "\n",
    "#Aqui substituiremos, onde saldo for menor igual a zero, é porque houve perda ou não ganho de capital"
   ]
  },
  {
   "cell_type": "code",
   "execution_count": 154,
   "metadata": {},
   "outputs": [
    {
     "data": {
      "text/html": [
       "<div>\n",
       "<style scoped>\n",
       "    .dataframe tbody tr th:only-of-type {\n",
       "        vertical-align: middle;\n",
       "    }\n",
       "\n",
       "    .dataframe tbody tr th {\n",
       "        vertical-align: top;\n",
       "    }\n",
       "\n",
       "    .dataframe thead th {\n",
       "        text-align: right;\n",
       "    }\n",
       "</style>\n",
       "<table border=\"1\" class=\"dataframe\">\n",
       "  <thead>\n",
       "    <tr style=\"text-align: right;\">\n",
       "      <th></th>\n",
       "      <th>capital.gain</th>\n",
       "      <th>capital.loss</th>\n",
       "      <th>saldo</th>\n",
       "    </tr>\n",
       "  </thead>\n",
       "  <tbody>\n",
       "    <tr>\n",
       "      <th>0</th>\n",
       "      <td>0</td>\n",
       "      <td>4356</td>\n",
       "      <td>0</td>\n",
       "    </tr>\n",
       "    <tr>\n",
       "      <th>1</th>\n",
       "      <td>0</td>\n",
       "      <td>4356</td>\n",
       "      <td>0</td>\n",
       "    </tr>\n",
       "    <tr>\n",
       "      <th>2</th>\n",
       "      <td>0</td>\n",
       "      <td>4356</td>\n",
       "      <td>0</td>\n",
       "    </tr>\n",
       "    <tr>\n",
       "      <th>3</th>\n",
       "      <td>0</td>\n",
       "      <td>3900</td>\n",
       "      <td>0</td>\n",
       "    </tr>\n",
       "    <tr>\n",
       "      <th>4</th>\n",
       "      <td>0</td>\n",
       "      <td>3900</td>\n",
       "      <td>0</td>\n",
       "    </tr>\n",
       "  </tbody>\n",
       "</table>\n",
       "</div>"
      ],
      "text/plain": [
       "   capital.gain  capital.loss  saldo\n",
       "0             0          4356      0\n",
       "1             0          4356      0\n",
       "2             0          4356      0\n",
       "3             0          3900      0\n",
       "4             0          3900      0"
      ]
     },
     "execution_count": 154,
     "metadata": {},
     "output_type": "execute_result"
    }
   ],
   "source": [
    "adult[['capital.gain','capital.loss','saldo']].head()\n",
    "\n",
    "#Visualizando novamente"
   ]
  },
  {
   "cell_type": "code",
   "execution_count": 155,
   "metadata": {},
   "outputs": [
    {
     "data": {
      "text/plain": [
       "0    29849\n",
       "1     2712\n",
       "Name: saldo, dtype: int64"
      ]
     },
     "execution_count": 155,
     "metadata": {},
     "output_type": "execute_result"
    }
   ],
   "source": [
    "adult['saldo'].value_counts()\n",
    "\n",
    "#Aqui vemos que temos apenas 2 categorias onde, a maioria das pessoas, não ganharam ou perderam capital"
   ]
  },
  {
   "cell_type": "code",
   "execution_count": 156,
   "metadata": {},
   "outputs": [],
   "source": [
    "adult['saldo']=adult['saldo'].astype(int)\n",
    "#Transformando em int"
   ]
  },
  {
   "cell_type": "code",
   "execution_count": 157,
   "metadata": {},
   "outputs": [],
   "source": [
    "adult=adult.drop(['capital.gain','capital.loss'],axis=1)\n",
    "\n",
    "#Excluindo as colunas capital.gain e capital.loss"
   ]
  },
  {
   "cell_type": "markdown",
   "metadata": {},
   "source": [
    "**Tratando a coluna hours.per.week**"
   ]
  },
  {
   "cell_type": "code",
   "execution_count": 158,
   "metadata": {},
   "outputs": [],
   "source": [
    "#Na coluna hours.per.week vimos que temos horas por trabalho que em sua maioria estão concentrados em 40h\n",
    "#Mas há aqueles que trabalham menos que 40h e aqueles que trabalham mais de 40h\n",
    "\n",
    "#Por isso vamos criar 3 classes: abaixo de 40h, igual a 40h e acima de 40h\n",
    "\n",
    "adult.loc[ adult['hours.per.week'] < 40, 'hours.per.week'] = 0\n",
    "adult.loc[ adult['hours.per.week'] == 40, 'hours.per.week'] = 1\n",
    "adult.loc[ adult['hours.per.week'] > 40, 'hours.per.week'] = 2"
   ]
  },
  {
   "cell_type": "code",
   "execution_count": 159,
   "metadata": {},
   "outputs": [
    {
     "data": {
      "text/plain": [
       "1    15217\n",
       "2     9581\n",
       "0     7763\n",
       "Name: hours.per.week, dtype: int64"
      ]
     },
     "execution_count": 159,
     "metadata": {},
     "output_type": "execute_result"
    }
   ],
   "source": [
    "adult['hours.per.week'].value_counts()\n",
    "\n",
    "#Abaixo, como já visto anteriormente, que a classe 1 que é igual a 40h é a que mais tem observações"
   ]
  },
  {
   "cell_type": "code",
   "execution_count": 160,
   "metadata": {},
   "outputs": [
    {
     "data": {
      "text/html": [
       "<div>\n",
       "<style scoped>\n",
       "    .dataframe tbody tr th:only-of-type {\n",
       "        vertical-align: middle;\n",
       "    }\n",
       "\n",
       "    .dataframe tbody tr th {\n",
       "        vertical-align: top;\n",
       "    }\n",
       "\n",
       "    .dataframe thead th {\n",
       "        text-align: right;\n",
       "    }\n",
       "</style>\n",
       "<table border=\"1\" class=\"dataframe\">\n",
       "  <thead>\n",
       "    <tr style=\"text-align: right;\">\n",
       "      <th></th>\n",
       "      <th>age</th>\n",
       "      <th>workclass</th>\n",
       "      <th>fnlwgt</th>\n",
       "      <th>education</th>\n",
       "      <th>education.num</th>\n",
       "      <th>marital.status</th>\n",
       "      <th>occupation</th>\n",
       "      <th>relationship</th>\n",
       "      <th>race</th>\n",
       "      <th>sex</th>\n",
       "      <th>hours.per.week</th>\n",
       "      <th>native.country</th>\n",
       "      <th>income</th>\n",
       "      <th>saldo</th>\n",
       "    </tr>\n",
       "  </thead>\n",
       "  <tbody>\n",
       "    <tr>\n",
       "      <th>0</th>\n",
       "      <td>90</td>\n",
       "      <td>0</td>\n",
       "      <td>77053</td>\n",
       "      <td>1</td>\n",
       "      <td>9</td>\n",
       "      <td>1</td>\n",
       "      <td>6</td>\n",
       "      <td>1</td>\n",
       "      <td>1</td>\n",
       "      <td>0</td>\n",
       "      <td>1</td>\n",
       "      <td>1</td>\n",
       "      <td>0</td>\n",
       "      <td>0</td>\n",
       "    </tr>\n",
       "    <tr>\n",
       "      <th>1</th>\n",
       "      <td>82</td>\n",
       "      <td>1</td>\n",
       "      <td>132870</td>\n",
       "      <td>1</td>\n",
       "      <td>9</td>\n",
       "      <td>1</td>\n",
       "      <td>2</td>\n",
       "      <td>1</td>\n",
       "      <td>1</td>\n",
       "      <td>0</td>\n",
       "      <td>0</td>\n",
       "      <td>1</td>\n",
       "      <td>0</td>\n",
       "      <td>0</td>\n",
       "    </tr>\n",
       "    <tr>\n",
       "      <th>2</th>\n",
       "      <td>66</td>\n",
       "      <td>0</td>\n",
       "      <td>186061</td>\n",
       "      <td>3</td>\n",
       "      <td>10</td>\n",
       "      <td>1</td>\n",
       "      <td>6</td>\n",
       "      <td>4</td>\n",
       "      <td>0</td>\n",
       "      <td>0</td>\n",
       "      <td>1</td>\n",
       "      <td>1</td>\n",
       "      <td>0</td>\n",
       "      <td>0</td>\n",
       "    </tr>\n",
       "    <tr>\n",
       "      <th>3</th>\n",
       "      <td>54</td>\n",
       "      <td>1</td>\n",
       "      <td>140359</td>\n",
       "      <td>0</td>\n",
       "      <td>4</td>\n",
       "      <td>1</td>\n",
       "      <td>5</td>\n",
       "      <td>4</td>\n",
       "      <td>1</td>\n",
       "      <td>0</td>\n",
       "      <td>1</td>\n",
       "      <td>1</td>\n",
       "      <td>0</td>\n",
       "      <td>0</td>\n",
       "    </tr>\n",
       "    <tr>\n",
       "      <th>4</th>\n",
       "      <td>41</td>\n",
       "      <td>1</td>\n",
       "      <td>264663</td>\n",
       "      <td>3</td>\n",
       "      <td>10</td>\n",
       "      <td>1</td>\n",
       "      <td>7</td>\n",
       "      <td>3</td>\n",
       "      <td>1</td>\n",
       "      <td>0</td>\n",
       "      <td>1</td>\n",
       "      <td>1</td>\n",
       "      <td>0</td>\n",
       "      <td>0</td>\n",
       "    </tr>\n",
       "  </tbody>\n",
       "</table>\n",
       "</div>"
      ],
      "text/plain": [
       "   age  workclass  fnlwgt  education  education.num  marital.status  \\\n",
       "0   90          0   77053          1              9               1   \n",
       "1   82          1  132870          1              9               1   \n",
       "2   66          0  186061          3             10               1   \n",
       "3   54          1  140359          0              4               1   \n",
       "4   41          1  264663          3             10               1   \n",
       "\n",
       "   occupation  relationship  race  sex  hours.per.week  native.country  \\\n",
       "0           6             1     1    0               1               1   \n",
       "1           2             1     1    0               0               1   \n",
       "2           6             4     0    0               1               1   \n",
       "3           5             4     1    0               1               1   \n",
       "4           7             3     1    0               1               1   \n",
       "\n",
       "   income  saldo  \n",
       "0       0      0  \n",
       "1       0      0  \n",
       "2       0      0  \n",
       "3       0      0  \n",
       "4       0      0  "
      ]
     },
     "execution_count": 160,
     "metadata": {},
     "output_type": "execute_result"
    }
   ],
   "source": [
    "adult.head()\n",
    "#dataset modificado"
   ]
  },
  {
   "cell_type": "code",
   "execution_count": 161,
   "metadata": {},
   "outputs": [],
   "source": [
    "#Padronização dos dados de idade\n",
    "\n",
    "adult['age']=(adult['age']-adult['age'].mean())/adult['age'].std()"
   ]
  },
  {
   "cell_type": "code",
   "execution_count": 162,
   "metadata": {},
   "outputs": [],
   "source": [
    "#Padronização dos dados de pesos finais\n",
    "\n",
    "adult['fnlwgt']=(adult['fnlwgt']-adult['fnlwgt'].mean())/adult['fnlwgt']"
   ]
  },
  {
   "cell_type": "code",
   "execution_count": 163,
   "metadata": {},
   "outputs": [
    {
     "data": {
      "text/html": [
       "<div>\n",
       "<style scoped>\n",
       "    .dataframe tbody tr th:only-of-type {\n",
       "        vertical-align: middle;\n",
       "    }\n",
       "\n",
       "    .dataframe tbody tr th {\n",
       "        vertical-align: top;\n",
       "    }\n",
       "\n",
       "    .dataframe thead th {\n",
       "        text-align: right;\n",
       "    }\n",
       "</style>\n",
       "<table border=\"1\" class=\"dataframe\">\n",
       "  <thead>\n",
       "    <tr style=\"text-align: right;\">\n",
       "      <th></th>\n",
       "      <th>age</th>\n",
       "      <th>workclass</th>\n",
       "      <th>fnlwgt</th>\n",
       "      <th>education</th>\n",
       "      <th>education.num</th>\n",
       "      <th>marital.status</th>\n",
       "      <th>occupation</th>\n",
       "      <th>relationship</th>\n",
       "      <th>race</th>\n",
       "      <th>sex</th>\n",
       "      <th>hours.per.week</th>\n",
       "      <th>native.country</th>\n",
       "      <th>income</th>\n",
       "      <th>saldo</th>\n",
       "    </tr>\n",
       "  </thead>\n",
       "  <tbody>\n",
       "    <tr>\n",
       "      <th>0</th>\n",
       "      <td>3.769554</td>\n",
       "      <td>0</td>\n",
       "      <td>-1.462959</td>\n",
       "      <td>1</td>\n",
       "      <td>9</td>\n",
       "      <td>1</td>\n",
       "      <td>6</td>\n",
       "      <td>1</td>\n",
       "      <td>1</td>\n",
       "      <td>0</td>\n",
       "      <td>1</td>\n",
       "      <td>1</td>\n",
       "      <td>0</td>\n",
       "      <td>0</td>\n",
       "    </tr>\n",
       "    <tr>\n",
       "      <th>1</th>\n",
       "      <td>3.183063</td>\n",
       "      <td>1</td>\n",
       "      <td>-0.428301</td>\n",
       "      <td>1</td>\n",
       "      <td>9</td>\n",
       "      <td>1</td>\n",
       "      <td>2</td>\n",
       "      <td>1</td>\n",
       "      <td>1</td>\n",
       "      <td>0</td>\n",
       "      <td>0</td>\n",
       "      <td>1</td>\n",
       "      <td>0</td>\n",
       "      <td>0</td>\n",
       "    </tr>\n",
       "    <tr>\n",
       "      <th>2</th>\n",
       "      <td>2.010079</td>\n",
       "      <td>0</td>\n",
       "      <td>-0.019979</td>\n",
       "      <td>3</td>\n",
       "      <td>10</td>\n",
       "      <td>1</td>\n",
       "      <td>6</td>\n",
       "      <td>4</td>\n",
       "      <td>0</td>\n",
       "      <td>0</td>\n",
       "      <td>1</td>\n",
       "      <td>1</td>\n",
       "      <td>0</td>\n",
       "      <td>0</td>\n",
       "    </tr>\n",
       "    <tr>\n",
       "      <th>3</th>\n",
       "      <td>1.130342</td>\n",
       "      <td>1</td>\n",
       "      <td>-0.352093</td>\n",
       "      <td>0</td>\n",
       "      <td>4</td>\n",
       "      <td>1</td>\n",
       "      <td>5</td>\n",
       "      <td>4</td>\n",
       "      <td>1</td>\n",
       "      <td>0</td>\n",
       "      <td>1</td>\n",
       "      <td>1</td>\n",
       "      <td>0</td>\n",
       "      <td>0</td>\n",
       "    </tr>\n",
       "    <tr>\n",
       "      <th>4</th>\n",
       "      <td>0.177293</td>\n",
       "      <td>1</td>\n",
       "      <td>0.282943</td>\n",
       "      <td>3</td>\n",
       "      <td>10</td>\n",
       "      <td>1</td>\n",
       "      <td>7</td>\n",
       "      <td>3</td>\n",
       "      <td>1</td>\n",
       "      <td>0</td>\n",
       "      <td>1</td>\n",
       "      <td>1</td>\n",
       "      <td>0</td>\n",
       "      <td>0</td>\n",
       "    </tr>\n",
       "  </tbody>\n",
       "</table>\n",
       "</div>"
      ],
      "text/plain": [
       "        age  workclass    fnlwgt  education  education.num  marital.status  \\\n",
       "0  3.769554          0 -1.462959          1              9               1   \n",
       "1  3.183063          1 -0.428301          1              9               1   \n",
       "2  2.010079          0 -0.019979          3             10               1   \n",
       "3  1.130342          1 -0.352093          0              4               1   \n",
       "4  0.177293          1  0.282943          3             10               1   \n",
       "\n",
       "   occupation  relationship  race  sex  hours.per.week  native.country  \\\n",
       "0           6             1     1    0               1               1   \n",
       "1           2             1     1    0               0               1   \n",
       "2           6             4     0    0               1               1   \n",
       "3           5             4     1    0               1               1   \n",
       "4           7             3     1    0               1               1   \n",
       "\n",
       "   income  saldo  \n",
       "0       0      0  \n",
       "1       0      0  \n",
       "2       0      0  \n",
       "3       0      0  \n",
       "4       0      0  "
      ]
     },
     "execution_count": 163,
     "metadata": {},
     "output_type": "execute_result"
    }
   ],
   "source": [
    "adult.head()\n",
    "\n",
    "#dataset com a última modificação"
   ]
  },
  {
   "cell_type": "markdown",
   "metadata": {},
   "source": [
    "# Separando dados de treino e teste"
   ]
  },
  {
   "cell_type": "code",
   "execution_count": 164,
   "metadata": {},
   "outputs": [],
   "source": [
    "#Váriável de classe\n",
    "y=adult['income']\n",
    "\n",
    "#Features\n",
    "X=adult.drop('income',axis=1)"
   ]
  },
  {
   "cell_type": "code",
   "execution_count": 166,
   "metadata": {},
   "outputs": [
    {
     "data": {
      "text/plain": [
       "array([24720,  7841], dtype=int64)"
      ]
     },
     "execution_count": 166,
     "metadata": {},
     "output_type": "execute_result"
    }
   ],
   "source": [
    "#contagem das classes em income\n",
    "np.bincount(y)"
   ]
  },
  {
   "cell_type": "code",
   "execution_count": 167,
   "metadata": {},
   "outputs": [
    {
     "data": {
      "image/png": "[encoded data removed]",
      "text/plain": [
       "<Figure size 432x288 with 1 Axes>"
      ]
     },
     "metadata": {
      "needs_background": "light"
     },
     "output_type": "display_data"
    }
   ],
   "source": [
    "ax=sns.countplot(x=y)\n",
    "#Como observado anteriormente as classes estão desbalanceadas. Há mais sobre aqueles que ganham abaixo de US$ 50.000 do que os\n",
    "#que ganham acima desse valor, o que pode trazer problemas para a precisão e acurácia do modelo, pois, provavelmente, ele irá\n",
    "#aprender mais de uma classe do que de outra, e , consequentemente, conseguirá prevar mais de uma do que de outras"
   ]
  },
  {
   "cell_type": "code",
   "execution_count": 165,
   "metadata": {},
   "outputs": [],
   "source": [
    "#Para isso usaremos o SMOTE, que é uma técnica que irá gerar amostras artificiais e essas amostras serão usadas para treinar \n",
    "#o modelos\n",
    "\n",
    "#Importando o SMOTE\n",
    "from imblearn.over_sampling import SMOTE"
   ]
  },
  {
   "cell_type": "code",
   "execution_count": 168,
   "metadata": {},
   "outputs": [],
   "source": [
    "#Instanciando o SMOTE\n",
    "smt=SMOTE()\n",
    "\n",
    "#Treinando o Algoritmo\n",
    "X,y=smt.fit_sample(X,y)"
   ]
  },
  {
   "cell_type": "code",
   "execution_count": 169,
   "metadata": {},
   "outputs": [
    {
     "data": {
      "image/png": "[encoded data removed]",
      "text/plain": [
       "<Figure size 432x288 with 1 Axes>"
      ]
     },
     "metadata": {
      "needs_background": "light"
     },
     "output_type": "display_data"
    }
   ],
   "source": [
    "#Abaixo podemos ver que a classe 1 teve uma aumento, o número de observações entre as classes foi igualado\n",
    "\n",
    "#Uma desvantagem dessa técnica é que pode gerar overfitting ou sobreajuste do modelo e isso será analisado adiante\n",
    "\n",
    "np.bincount(y)\n",
    "ax=sns.countplot(x=y)"
   ]
  },
  {
   "cell_type": "code",
   "execution_count": 170,
   "metadata": {},
   "outputs": [
    {
     "data": {
      "text/plain": [
       "(49440,)"
      ]
     },
     "metadata": {},
     "output_type": "display_data"
    },
    {
     "data": {
      "text/plain": [
       "(49440, 13)"
      ]
     },
     "metadata": {},
     "output_type": "display_data"
    }
   ],
   "source": [
    "#Verificando o shape (ou dimensões)\n",
    "display(y.shape,X.shape)"
   ]
  },
  {
   "cell_type": "code",
   "execution_count": 171,
   "metadata": {},
   "outputs": [],
   "source": [
    "#Importando módulo para separar dados de treino e teste\n",
    "from sklearn.model_selection import train_test_split\n",
    "\n",
    "#Separando os dados de treino e teste\n",
    "X_treino,X_teste,y_treino,y_teste=train_test_split(X,y,random_state=42,test_size=0.2)"
   ]
  },
  {
   "cell_type": "code",
   "execution_count": 172,
   "metadata": {},
   "outputs": [
    {
     "data": {
      "text/plain": [
       "(39552, 13)"
      ]
     },
     "metadata": {},
     "output_type": "display_data"
    },
    {
     "data": {
      "text/plain": [
       "(9888, 13)"
      ]
     },
     "metadata": {},
     "output_type": "display_data"
    },
    {
     "data": {
      "text/plain": [
       "(39552,)"
      ]
     },
     "metadata": {},
     "output_type": "display_data"
    },
    {
     "data": {
      "text/plain": [
       "(9888,)"
      ]
     },
     "metadata": {},
     "output_type": "display_data"
    }
   ],
   "source": [
    "#Dimensão dos conjuntos de treino e teste\n",
    "display(X_treino.shape,X_teste.shape,y_treino.shape,y_teste.shape)"
   ]
  },
  {
   "cell_type": "markdown",
   "metadata": {},
   "source": [
    "# Baseline do modelo"
   ]
  },
  {
   "cell_type": "code",
   "execution_count": 173,
   "metadata": {},
   "outputs": [
    {
     "data": {
      "text/plain": [
       "0.4958535598705502"
      ]
     },
     "execution_count": 173,
     "metadata": {},
     "output_type": "execute_result"
    }
   ],
   "source": [
    "#Antes de irmos para os modelos iremos gerar a baseline desse projeto.\n",
    "\n",
    "#Usaremos o modelo de classificação mais simples que existe e determinaremos o mínimo de acurácia para os modelos treinados e \n",
    "#testados\n",
    "\n",
    "#importando módulo Dummy Classifier\n",
    "from sklearn.dummy import DummyClassifier\n",
    "\n",
    "#Instanciando o modelo\n",
    "dummy = DummyClassifier(strategy='uniform', random_state=42)\n",
    "\n",
    "#treinando o modelo\n",
    "dummy.fit(X_treino, y_treino)\n",
    "\n",
    "#verificando o desempeho do modelo\n",
    "dummy.score(X_teste, y_teste)\n",
    "\n",
    "#A baseline do modelo é 49.58%\n",
    "\n",
    "#A acurácia do nosso modelo deve ser tão boa quanto esse valor"
   ]
  },
  {
   "cell_type": "markdown",
   "metadata": {},
   "source": [
    "# Modelos de Classificação\n",
    "\n",
    "Vamos usar 10 modelos de classificação, que serão:\n",
    "\n",
    "1) Regressão Logística;\n",
    "\n",
    "2) SVM\n",
    "\n",
    "3) X Gradiente Boost\n",
    "\n",
    "4) Random Forest\n",
    "\n",
    "5) Decision Tree\n",
    "\n",
    "6) Stochastic Gradient Descent\n",
    "\n",
    "7) K-nearest neighbor\n",
    "\n",
    "8) GaussianNB\n",
    "\n",
    "9) Extra-trees\n",
    "\n",
    "10) Multilayer Perceptron"
   ]
  },
  {
   "cell_type": "code",
   "execution_count": 174,
   "metadata": {},
   "outputs": [],
   "source": [
    "#Importando dos módulos dos modelos\n",
    "\n",
    "#regessão logística\n",
    "from sklearn.linear_model import LogisticRegression\n",
    "#support vector machine\n",
    "from sklearn import svm\n",
    "#xgboost\n",
    "import xgboost as xgb \n",
    "#Floresta randômica\n",
    "from sklearn.ensemble import RandomForestClassifier\n",
    "#Árvore de decisão\n",
    "from sklearn.tree import DecisionTreeClassifier\n",
    "#stochastic gradient descent\n",
    "from sklearn.linear_model import SGDClassifier\n",
    "#KNN\n",
    "from sklearn.neighbors import KNeighborsClassifier\n",
    "#naive bayes\n",
    "from sklearn.naive_bayes import GaussianNB\n",
    "#Extra Trees\n",
    "from sklearn.ensemble import ExtraTreesClassifier\n",
    "#multilayer perceptron\n",
    "from sklearn.neural_network import MLPClassifier\n",
    "\n",
    "\n",
    "#Importação dos módulos de avaliação\n",
    "\n",
    "#Plotar as matrizes de confusão\n",
    "from sklearn.metrics import plot_confusion_matrix\n",
    "\n",
    "#Para gerar as acurácias dos modelos\n",
    "from sklearn.metrics import accuracy_score\n",
    "\n",
    "#Fazer o cross validation dos modelos\n",
    "from sklearn.model_selection import cross_val_predict\n",
    "\n",
    "#Gerar as métricas de avaliaçãos dos modelos\n",
    "from sklearn.metrics import classification_report\n",
    "\n",
    "#Plotar as curvas ROC dos modelos\n",
    "from sklearn.metrics import plot_roc_curve\n",
    "\n",
    "#evitar mensagens de erro\n",
    "import warnings\n",
    "warnings.filterwarnings(\"ignore\")"
   ]
  },
  {
   "cell_type": "markdown",
   "metadata": {},
   "source": [
    "# Modelo de regressão logística"
   ]
  },
  {
   "cell_type": "code",
   "execution_count": 175,
   "metadata": {},
   "outputs": [
    {
     "name": "stdout",
     "output_type": "stream",
     "text": [
      "[0 0 0 ... 0 1 1]\n"
     ]
    }
   ],
   "source": [
    "#Aplicando o modelo Logistic Regression\n",
    "\n",
    "#intanciando e treinando o modelo de regressão logística\n",
    "AdultLR=LogisticRegression().fit(X_treino, y_treino)\n",
    "\n",
    "#gerando as previsões\n",
    "y_pred_lr=AdultLR.predict(X_teste)\n",
    "\n",
    "#visualizando as previsões\n",
    "print(y_pred_lr)"
   ]
  },
  {
   "cell_type": "markdown",
   "metadata": {},
   "source": [
    "**Avaliando o modelo de Regressão Logística**"
   ]
  },
  {
   "cell_type": "code",
   "execution_count": 176,
   "metadata": {},
   "outputs": [
    {
     "name": "stdout",
     "output_type": "stream",
     "text": [
      "Acurácia do modelo é de: 80.067\n"
     ]
    },
    {
     "data": {
      "text/plain": [
       "None"
      ]
     },
     "metadata": {},
     "output_type": "display_data"
    },
    {
     "name": "stdout",
     "output_type": "stream",
     "text": [
      "Acurácia do modelo com Validação cruzada: 79.511\n"
     ]
    },
    {
     "data": {
      "text/plain": [
       "None"
      ]
     },
     "metadata": {},
     "output_type": "display_data"
    }
   ],
   "source": [
    "#Acuárica do modelo sem e com cross validation\n",
    "display(print(\"Acurácia do modelo é de:\",round(accuracy_score(y_teste,y_pred_lr)*100,3)))\n",
    "display(print(\"Acurácia do modelo com Validação cruzada:\", round(accuracy_score(y,cross_val_predict(AdultLR,X,y,cv=10))*100,3)))"
   ]
  },
  {
   "cell_type": "markdown",
   "metadata": {},
   "source": [
    "**Matriz de confusão para o modelo de Regressão Logística**"
   ]
  },
  {
   "cell_type": "code",
   "execution_count": 177,
   "metadata": {},
   "outputs": [
    {
     "data": {
      "image/png": "[encoded data removed]",
      "text/plain": [
       "<Figure size 432x288 with 2 Axes>"
      ]
     },
     "metadata": {
      "needs_background": "light"
     },
     "output_type": "display_data"
    }
   ],
   "source": [
    "disp=plot_confusion_matrix(AdultLR,X_teste,y_teste,cmap='Blues',values_format='.5g')\n",
    "\n",
    "#Para a classe 0, a regressão logística acertou 3809 e errou 1146\n",
    "#Para a classe 1, a regressão logística acertou 4108 e errou 825"
   ]
  },
  {
   "cell_type": "markdown",
   "metadata": {},
   "source": [
    "**Traing score e Test score**"
   ]
  },
  {
   "cell_type": "code",
   "execution_count": 178,
   "metadata": {},
   "outputs": [
    {
     "data": {
      "text/plain": [
       "0.8016282362459547"
      ]
     },
     "metadata": {},
     "output_type": "display_data"
    },
    {
     "data": {
      "text/plain": [
       "0.8006674757281553"
      ]
     },
     "metadata": {},
     "output_type": "display_data"
    }
   ],
   "source": [
    "#Testing e Training Score\n",
    "display(AdultLR.score(X_treino,y_treino))\n",
    "display(AdultLR.score(X_teste,y_teste))"
   ]
  },
  {
   "cell_type": "markdown",
   "metadata": {},
   "source": [
    "**Métricas de avaliação**"
   ]
  },
  {
   "cell_type": "code",
   "execution_count": 179,
   "metadata": {},
   "outputs": [
    {
     "name": "stdout",
     "output_type": "stream",
     "text": [
      "              precision    recall  f1-score   support\n",
      "\n",
      "           0       0.82      0.75      0.79     24720\n",
      "           1       0.77      0.84      0.80     24720\n",
      "\n",
      "    accuracy                           0.80     49440\n",
      "   macro avg       0.80      0.80      0.79     49440\n",
      "weighted avg       0.80      0.80      0.79     49440\n",
      "\n"
     ]
    }
   ],
   "source": [
    "#Métricas de avaliação\n",
    "\n",
    "valor_classe=[0,1]\n",
    "print(classification_report(y,cross_val_predict(AdultLR,X,y,cv=10),valor_classe))"
   ]
  },
  {
   "cell_type": "markdown",
   "metadata": {},
   "source": [
    "# Support Vector Machine"
   ]
  },
  {
   "cell_type": "code",
   "execution_count": 180,
   "metadata": {},
   "outputs": [
    {
     "name": "stdout",
     "output_type": "stream",
     "text": [
      "[0 0 0 ... 0 1 1]\n"
     ]
    }
   ],
   "source": [
    "#Instanciando, treinando e gerando previsões com o modelo\n",
    "\n",
    "Adultsvm=svm.SVC().fit(X_treino,y_treino)\n",
    "y_pred_svm=Adultsvm.predict(X_teste)\n",
    "print(y_pred_svm)"
   ]
  },
  {
   "cell_type": "markdown",
   "metadata": {},
   "source": [
    "**Avaliando o modelo SVM**"
   ]
  },
  {
   "cell_type": "code",
   "execution_count": 182,
   "metadata": {},
   "outputs": [
    {
     "name": "stdout",
     "output_type": "stream",
     "text": [
      "Acurácia do modelo é de: 81.311\n"
     ]
    },
    {
     "data": {
      "text/plain": [
       "None"
      ]
     },
     "metadata": {},
     "output_type": "display_data"
    },
    {
     "name": "stdout",
     "output_type": "stream",
     "text": [
      "Acurácia do modelo com Validação cruzada: 80.839\n"
     ]
    },
    {
     "data": {
      "text/plain": [
       "None"
      ]
     },
     "metadata": {},
     "output_type": "display_data"
    }
   ],
   "source": [
    "#Acurácia do modelo SVM sem e com cross validation\n",
    "\n",
    "display(print(\"Acurácia do modelo é de:\",round(accuracy_score(y_teste,y_pred_svm)*100,3)))\n",
    "display(print(\"Acurácia do modelo com Validação cruzada:\", round(accuracy_score\n",
    "                                                                 (y,cross_val_predict(Adultsvm,X,y,cv=10))*100,3)))"
   ]
  },
  {
   "cell_type": "markdown",
   "metadata": {},
   "source": [
    "**Matriz de confusão do modelo SVM**"
   ]
  },
  {
   "cell_type": "code",
   "execution_count": 183,
   "metadata": {},
   "outputs": [
    {
     "data": {
      "image/png": "[encoded data removed]",
      "text/plain": [
       "<Figure size 432x288 with 2 Axes>"
      ]
     },
     "metadata": {
      "needs_background": "light"
     },
     "output_type": "display_data"
    }
   ],
   "source": [
    "disp=plot_confusion_matrix(Adultsvm,X_teste,y_teste,cmap='Blues',values_format='.5g')\n",
    "\n",
    "#Para a classe 0, o modelo SVM acertou 3686 e errou 1269\n",
    "#Para a classe 1, o modelo SVM acertou 4354 e errou 579"
   ]
  },
  {
   "cell_type": "markdown",
   "metadata": {},
   "source": [
    "**Training score e test score**"
   ]
  },
  {
   "cell_type": "code",
   "execution_count": 184,
   "metadata": {},
   "outputs": [
    {
     "data": {
      "text/plain": [
       "0.8157362459546925"
      ]
     },
     "metadata": {},
     "output_type": "display_data"
    },
    {
     "data": {
      "text/plain": [
       "0.8131067961165048"
      ]
     },
     "metadata": {},
     "output_type": "display_data"
    }
   ],
   "source": [
    "#Testing e Training Score\n",
    "display(Adultsvm.score(X_treino,y_treino))\n",
    "display(Adultsvm.score(X_teste,y_teste))"
   ]
  },
  {
   "cell_type": "markdown",
   "metadata": {},
   "source": [
    "**Métricas de Avaliação**"
   ]
  },
  {
   "cell_type": "code",
   "execution_count": 185,
   "metadata": {},
   "outputs": [
    {
     "name": "stdout",
     "output_type": "stream",
     "text": [
      "              precision    recall  f1-score   support\n",
      "\n",
      "           0       0.87      0.73      0.79     24720\n",
      "           1       0.76      0.89      0.82     24720\n",
      "\n",
      "    accuracy                           0.81     49440\n",
      "   macro avg       0.82      0.81      0.81     49440\n",
      "weighted avg       0.82      0.81      0.81     49440\n",
      "\n"
     ]
    }
   ],
   "source": [
    "#Métricas de avaliação\n",
    "\n",
    "valor_classe=[0,1]\n",
    "print(classification_report(y,cross_val_predict(Adultsvm,X,y,cv=10),valor_classe))"
   ]
  },
  {
   "cell_type": "markdown",
   "metadata": {},
   "source": [
    "# XGBOOST"
   ]
  },
  {
   "cell_type": "code",
   "execution_count": 186,
   "metadata": {},
   "outputs": [
    {
     "name": "stdout",
     "output_type": "stream",
     "text": [
      "Acurácia do modelo é de: 88.774\n"
     ]
    },
    {
     "data": {
      "text/plain": [
       "None"
      ]
     },
     "metadata": {},
     "output_type": "display_data"
    },
    {
     "name": "stdout",
     "output_type": "stream",
     "text": [
      "Acurácia do modelo com Validação cruzada: 87.227\n"
     ]
    },
    {
     "data": {
      "text/plain": [
       "None"
      ]
     },
     "metadata": {},
     "output_type": "display_data"
    }
   ],
   "source": [
    "#Instanciando e treinando o modelo\n",
    "AdultXGB = xgb.XGBClassifier().fit(X_treino,y_treino)\n",
    "y_pred_xgb = AdultXGB.predict(X_teste)\n",
    "\n",
    "#Acurácia do modelo, sem e com cross validation\n",
    "\n",
    "display(print(\"Acurácia do modelo é de:\",round(accuracy_score(y_teste,y_pred_xgb)*100,3)))\n",
    "display(print(\"Acurácia do modelo com Validação cruzada:\", round(accuracy_score\n",
    "                                                                 (y,cross_val_predict(AdultXGB,X,y,cv=10))*100,3)))"
   ]
  },
  {
   "cell_type": "markdown",
   "metadata": {},
   "source": [
    "**Matriz de confusão do modelo XGBoost**"
   ]
  },
  {
   "cell_type": "code",
   "execution_count": 187,
   "metadata": {},
   "outputs": [
    {
     "data": {
      "image/png": "[encoded data removed]",
      "text/plain": [
       "<Figure size 432x288 with 2 Axes>"
      ]
     },
     "metadata": {
      "needs_background": "light"
     },
     "output_type": "display_data"
    }
   ],
   "source": [
    "disp=plot_confusion_matrix(AdultXGB,X_teste,y_teste,cmap='Blues',values_format='.5g')\n",
    "\n",
    "#Para a classe 0, o modelo XGBoost acertou 4381 e errou 574\n",
    "#Para a classe 1, o modelo acertou 4397 e errou 536"
   ]
  },
  {
   "cell_type": "markdown",
   "metadata": {},
   "source": [
    "**Training score e testing score**"
   ]
  },
  {
   "cell_type": "code",
   "execution_count": 188,
   "metadata": {},
   "outputs": [
    {
     "data": {
      "text/plain": [
       "0.9180572411003236"
      ]
     },
     "metadata": {},
     "output_type": "display_data"
    },
    {
     "data": {
      "text/plain": [
       "0.8877427184466019"
      ]
     },
     "metadata": {},
     "output_type": "display_data"
    }
   ],
   "source": [
    "#Testing e Training Score\n",
    "display(AdultXGB.score(X_treino,y_treino))\n",
    "display(AdultXGB.score(X_teste,y_teste))"
   ]
  },
  {
   "cell_type": "markdown",
   "metadata": {},
   "source": [
    "**Métricas de avaliação**"
   ]
  },
  {
   "cell_type": "code",
   "execution_count": 189,
   "metadata": {},
   "outputs": [
    {
     "name": "stdout",
     "output_type": "stream",
     "text": [
      "              precision    recall  f1-score   support\n",
      "\n",
      "           0       0.88      0.86      0.87     24720\n",
      "           1       0.86      0.89      0.87     24720\n",
      "\n",
      "    accuracy                           0.87     49440\n",
      "   macro avg       0.87      0.87      0.87     49440\n",
      "weighted avg       0.87      0.87      0.87     49440\n",
      "\n"
     ]
    }
   ],
   "source": [
    "#Métricas de avaliação\n",
    "\n",
    "valor_classe=[0,1]\n",
    "print(classification_report(y,cross_val_predict(AdultXGB,X,y,cv=10),valor_classe))"
   ]
  },
  {
   "cell_type": "markdown",
   "metadata": {},
   "source": [
    "# Random Forest"
   ]
  },
  {
   "cell_type": "code",
   "execution_count": 190,
   "metadata": {},
   "outputs": [
    {
     "name": "stdout",
     "output_type": "stream",
     "text": [
      "Acurácia do modelo é de: 88.269\n"
     ]
    },
    {
     "data": {
      "text/plain": [
       "None"
      ]
     },
     "metadata": {},
     "output_type": "display_data"
    },
    {
     "name": "stdout",
     "output_type": "stream",
     "text": [
      "Acurácia do modelo com Validação cruzada: 87.72\n"
     ]
    },
    {
     "data": {
      "text/plain": [
       "None"
      ]
     },
     "metadata": {},
     "output_type": "display_data"
    }
   ],
   "source": [
    "#Intanciando, treinando e gerando previsões com o modelo\n",
    "AdultRF= RandomForestClassifier().fit(X_treino,y_treino)\n",
    "y_pred_rf = AdultRF.predict(X_teste)\n",
    "\n",
    "#Acurácia sem e com cross validation\n",
    "display(print(\"Acurácia do modelo é de:\",round(accuracy_score(y_teste,y_pred_rf)*100,3)))\n",
    "display(print(\"Acurácia do modelo com Validação cruzada:\", round(accuracy_score\n",
    "                                                                 (y,cross_val_predict(AdultRF,X,y,cv=10))*100,3)))"
   ]
  },
  {
   "cell_type": "markdown",
   "metadata": {},
   "source": [
    "**Matriz de confusão do Random Forest**"
   ]
  },
  {
   "cell_type": "code",
   "execution_count": 191,
   "metadata": {},
   "outputs": [
    {
     "data": {
      "image/png": "[encoded data removed]",
      "text/plain": [
       "<Figure size 432x288 with 2 Axes>"
      ]
     },
     "metadata": {
      "needs_background": "light"
     },
     "output_type": "display_data"
    }
   ],
   "source": [
    "disp=plot_confusion_matrix(AdultRF,X_teste,y_teste,cmap='Blues',values_format='.5g')\n",
    "\n",
    "#Para a classe 0, o modelo Random Forest acertou 4284 e errou 671\n",
    "#Para a classe 1, acertou 4444 e errou 489"
   ]
  },
  {
   "cell_type": "markdown",
   "metadata": {},
   "source": [
    "**Training score e testing score**"
   ]
  },
  {
   "cell_type": "code",
   "execution_count": 192,
   "metadata": {},
   "outputs": [
    {
     "data": {
      "text/plain": [
       "0.9999241504854369"
      ]
     },
     "metadata": {},
     "output_type": "display_data"
    },
    {
     "data": {
      "text/plain": [
       "0.8826860841423948"
      ]
     },
     "metadata": {},
     "output_type": "display_data"
    }
   ],
   "source": [
    "#Testing e Training Score\n",
    "display(AdultRF.score(X_treino,y_treino))\n",
    "display(AdultRF.score(X_teste,y_teste))"
   ]
  },
  {
   "cell_type": "markdown",
   "metadata": {},
   "source": [
    "**Métricas de avaliação do Random Forest**"
   ]
  },
  {
   "cell_type": "code",
   "execution_count": 193,
   "metadata": {},
   "outputs": [
    {
     "name": "stdout",
     "output_type": "stream",
     "text": [
      "              precision    recall  f1-score   support\n",
      "\n",
      "           0       0.90      0.84      0.87     24720\n",
      "           1       0.85      0.91      0.88     24720\n",
      "\n",
      "    accuracy                           0.88     49440\n",
      "   macro avg       0.88      0.88      0.88     49440\n",
      "weighted avg       0.88      0.88      0.88     49440\n",
      "\n"
     ]
    }
   ],
   "source": [
    "#Métricas de avaliação\n",
    "\n",
    "valor_classe=[0,1]\n",
    "print(classification_report(y,cross_val_predict(AdultRF,X,y,cv=10),valor_classe))"
   ]
  },
  {
   "cell_type": "markdown",
   "metadata": {},
   "source": [
    "# Árvore de Decisão"
   ]
  },
  {
   "cell_type": "code",
   "execution_count": 194,
   "metadata": {},
   "outputs": [
    {
     "name": "stdout",
     "output_type": "stream",
     "text": [
      "Acurácia do modelo é de: 83.91\n"
     ]
    },
    {
     "data": {
      "text/plain": [
       "None"
      ]
     },
     "metadata": {},
     "output_type": "display_data"
    },
    {
     "name": "stdout",
     "output_type": "stream",
     "text": [
      "Acurácia do modelo com Validação cruzada: 83.064\n"
     ]
    },
    {
     "data": {
      "text/plain": [
       "None"
      ]
     },
     "metadata": {},
     "output_type": "display_data"
    }
   ],
   "source": [
    "#Instanciando e treinando o modelo\n",
    "AdultDT= DecisionTreeClassifier().fit(X_treino,y_treino)\n",
    "\n",
    "#gerando as previsões do modelo\n",
    "y_pred_dt = AdultDT.predict(X_teste)\n",
    "\n",
    "#Acurácia do modelo sem e com cross validation\n",
    "display(print(\"Acurácia do modelo é de:\",round(accuracy_score(y_teste,y_pred_dt)*100,3)))\n",
    "display(print(\"Acurácia do modelo com Validação cruzada:\", round(accuracy_score\n",
    "                                                                 (y,cross_val_predict(AdultDT,X,y,cv=10))*100,3)))"
   ]
  },
  {
   "cell_type": "markdown",
   "metadata": {},
   "source": [
    "**Matriz de confusão da Decision Tree**"
   ]
  },
  {
   "cell_type": "code",
   "execution_count": 195,
   "metadata": {},
   "outputs": [
    {
     "data": {
      "image/png": "[encoded data removed]",
      "text/plain": [
       "<Figure size 432x288 with 2 Axes>"
      ]
     },
     "metadata": {
      "needs_background": "light"
     },
     "output_type": "display_data"
    }
   ],
   "source": [
    "disp=plot_confusion_matrix(AdultDT,X_teste,y_teste,cmap='Blues',values_format='.5g')\n",
    "\n",
    "#Para a classe 0, o modelo Decision Tree acertou 4138 e errou 817\n",
    "#para a classe 1, o modelo acertou 4159 e errou 774"
   ]
  },
  {
   "cell_type": "markdown",
   "metadata": {},
   "source": [
    "**Training score e testing score**"
   ]
  },
  {
   "cell_type": "code",
   "execution_count": 196,
   "metadata": {},
   "outputs": [
    {
     "data": {
      "text/plain": [
       "0.9999494336569579"
      ]
     },
     "metadata": {},
     "output_type": "display_data"
    },
    {
     "data": {
      "text/plain": [
       "0.8390978964401294"
      ]
     },
     "metadata": {},
     "output_type": "display_data"
    }
   ],
   "source": [
    "#Testing e Training Score\n",
    "display(AdultDT.score(X_treino,y_treino))\n",
    "display(AdultDT.score(X_teste,y_teste))"
   ]
  },
  {
   "cell_type": "markdown",
   "metadata": {},
   "source": [
    "**Métricas de Avaliação da Decision Tree**"
   ]
  },
  {
   "cell_type": "code",
   "execution_count": 197,
   "metadata": {},
   "outputs": [
    {
     "name": "stdout",
     "output_type": "stream",
     "text": [
      "              precision    recall  f1-score   support\n",
      "\n",
      "           0       0.85      0.81      0.83     24720\n",
      "           1       0.82      0.85      0.83     24720\n",
      "\n",
      "    accuracy                           0.83     49440\n",
      "   macro avg       0.83      0.83      0.83     49440\n",
      "weighted avg       0.83      0.83      0.83     49440\n",
      "\n"
     ]
    }
   ],
   "source": [
    "#Métricas de avaliação\n",
    "\n",
    "valor_classe=[0,1]\n",
    "print(classification_report(y,cross_val_predict(AdultDT,X,y,cv=10),valor_classe))"
   ]
  },
  {
   "cell_type": "markdown",
   "metadata": {},
   "source": [
    "# SGD (Stochastic Gradient Descent)"
   ]
  },
  {
   "cell_type": "code",
   "execution_count": 198,
   "metadata": {},
   "outputs": [
    {
     "name": "stdout",
     "output_type": "stream",
     "text": [
      "Acurácia do modelo é de: 75.354\n"
     ]
    },
    {
     "data": {
      "text/plain": [
       "None"
      ]
     },
     "metadata": {},
     "output_type": "display_data"
    },
    {
     "name": "stdout",
     "output_type": "stream",
     "text": [
      "Acurácia do modelo com Validação cruzada: 78.685\n"
     ]
    },
    {
     "data": {
      "text/plain": [
       "None"
      ]
     },
     "metadata": {},
     "output_type": "display_data"
    }
   ],
   "source": [
    "#Instanciando e treinando o modelo de SGD\n",
    "AdultSGD= SGDClassifier().fit(X_treino,y_treino)\n",
    "\n",
    "#gerando as previsões\n",
    "y_pred_sgd = AdultSGD.predict(X_teste)\n",
    "\n",
    "#Acurácia do modelo SGD sem e com cross validation\n",
    "display(print(\"Acurácia do modelo é de:\",round(accuracy_score(y_teste,y_pred_sgd)*100,3)))\n",
    "display(print(\"Acurácia do modelo com Validação cruzada:\", round(accuracy_score\n",
    "                                                                 (y,cross_val_predict(AdultSGD,X,y,cv=10))*100,3)))"
   ]
  },
  {
   "cell_type": "markdown",
   "metadata": {},
   "source": [
    "**Matriz de confusão do modelo SGD**"
   ]
  },
  {
   "cell_type": "code",
   "execution_count": 199,
   "metadata": {},
   "outputs": [
    {
     "data": {
      "image/png": "[encoded data removed]",
      "text/plain": [
       "<Figure size 432x288 with 2 Axes>"
      ]
     },
     "metadata": {
      "needs_background": "light"
     },
     "output_type": "display_data"
    }
   ],
   "source": [
    "disp=plot_confusion_matrix(AdultSGD,X_teste,y_teste,cmap='Blues',values_format='.5g')\n",
    "\n",
    "#Para a classe 0, o modelo SGD acertou 4379 e errou 576\n",
    "#Para a classe 1, acertou 3072 e errou 1861"
   ]
  },
  {
   "cell_type": "markdown",
   "metadata": {},
   "source": [
    "**Training score e testing score**"
   ]
  },
  {
   "cell_type": "code",
   "execution_count": 200,
   "metadata": {},
   "outputs": [
    {
     "data": {
      "text/plain": [
       "0.7600374190938511"
      ]
     },
     "metadata": {},
     "output_type": "display_data"
    },
    {
     "data": {
      "text/plain": [
       "0.7535396440129449"
      ]
     },
     "metadata": {},
     "output_type": "display_data"
    }
   ],
   "source": [
    "#Testing e Training Score\n",
    "display(AdultSGD.score(X_treino,y_treino))\n",
    "display(AdultSGD.score(X_teste,y_teste))"
   ]
  },
  {
   "cell_type": "markdown",
   "metadata": {},
   "source": [
    "**Métricas de avaliação do modelo SGD**"
   ]
  },
  {
   "cell_type": "code",
   "execution_count": 201,
   "metadata": {},
   "outputs": [
    {
     "name": "stdout",
     "output_type": "stream",
     "text": [
      "              precision    recall  f1-score   support\n",
      "\n",
      "           0       0.80      0.75      0.78     24720\n",
      "           1       0.77      0.82      0.79     24720\n",
      "\n",
      "    accuracy                           0.78     49440\n",
      "   macro avg       0.79      0.78      0.78     49440\n",
      "weighted avg       0.79      0.78      0.78     49440\n",
      "\n"
     ]
    }
   ],
   "source": [
    "#Métricas de avaliação\n",
    "\n",
    "valor_classe=[0,1]\n",
    "print(classification_report(y,cross_val_predict(AdultSGD,X,y,cv=10),valor_classe))"
   ]
  },
  {
   "cell_type": "markdown",
   "metadata": {},
   "source": [
    "# KNN"
   ]
  },
  {
   "cell_type": "code",
   "execution_count": 202,
   "metadata": {},
   "outputs": [
    {
     "name": "stdout",
     "output_type": "stream",
     "text": [
      "Acurácia do modelo é de: 83.91\n"
     ]
    },
    {
     "data": {
      "text/plain": [
       "None"
      ]
     },
     "metadata": {},
     "output_type": "display_data"
    },
    {
     "name": "stdout",
     "output_type": "stream",
     "text": [
      "Acurácia do modelo com Validação cruzada: 85.494\n"
     ]
    },
    {
     "data": {
      "text/plain": [
       "None"
      ]
     },
     "metadata": {},
     "output_type": "display_data"
    }
   ],
   "source": [
    "#Instanciando e treinando o modelo\n",
    "AdultKNN= KNeighborsClassifier().fit(X_treino,y_treino)\n",
    "\n",
    "#gerando as preisões do modelo KNN\n",
    "y_pred_knn = AdultDT.predict(X_teste)\n",
    "\n",
    "\n",
    "#Acurácia do modelo sem e com cross validation\n",
    "display(print(\"Acurácia do modelo é de:\",round(accuracy_score(y_teste,y_pred_knn)*100,3)))\n",
    "display(print(\"Acurácia do modelo com Validação cruzada:\", round(accuracy_score\n",
    "                                                                 (y,cross_val_predict(AdultKNN,X,y,cv=10))*100,3)))"
   ]
  },
  {
   "cell_type": "markdown",
   "metadata": {},
   "source": [
    "**Matriz de confusão do modelo KNN**"
   ]
  },
  {
   "cell_type": "code",
   "execution_count": 203,
   "metadata": {},
   "outputs": [
    {
     "data": {
      "image/png": "[encoded data removed]",
      "text/plain": [
       "<Figure size 432x288 with 2 Axes>"
      ]
     },
     "metadata": {
      "needs_background": "light"
     },
     "output_type": "display_data"
    }
   ],
   "source": [
    "disp=plot_confusion_matrix(AdultKNN,X_teste,y_teste,cmap='Blues',values_format='.5g')\n",
    "\n",
    "#Para a classe 0, o modelo KNN acertou 3840 e errou 1115\n",
    "#para a classe 1, acertou 4250 e errou 413"
   ]
  },
  {
   "cell_type": "markdown",
   "metadata": {},
   "source": [
    "**Training score e testing score**"
   ]
  },
  {
   "cell_type": "code",
   "execution_count": 204,
   "metadata": {},
   "outputs": [
    {
     "data": {
      "text/plain": [
       "0.8942152103559871"
      ]
     },
     "metadata": {},
     "output_type": "display_data"
    },
    {
     "data": {
      "text/plain": [
       "0.8454692556634305"
      ]
     },
     "metadata": {},
     "output_type": "display_data"
    }
   ],
   "source": [
    "#Testing e Training Score\n",
    "display(AdultKNN.score(X_treino,y_treino))\n",
    "display(AdultKNN.score(X_teste,y_teste))"
   ]
  },
  {
   "cell_type": "markdown",
   "metadata": {},
   "source": [
    "**Métricas de avaliação do modelo KNN**"
   ]
  },
  {
   "cell_type": "code",
   "execution_count": 205,
   "metadata": {},
   "outputs": [
    {
     "name": "stdout",
     "output_type": "stream",
     "text": [
      "              precision    recall  f1-score   support\n",
      "\n",
      "           0       0.92      0.78      0.84     24720\n",
      "           1       0.81      0.93      0.87     24720\n",
      "\n",
      "    accuracy                           0.85     49440\n",
      "   macro avg       0.86      0.85      0.85     49440\n",
      "weighted avg       0.86      0.85      0.85     49440\n",
      "\n"
     ]
    }
   ],
   "source": [
    "#Métricas de avaliação\n",
    "\n",
    "valor_classe=[0,1]\n",
    "print(classification_report(y,cross_val_predict(AdultKNN,X,y,cv=10),valor_classe))"
   ]
  },
  {
   "cell_type": "markdown",
   "metadata": {},
   "source": [
    "# Naive Bayes Gaussiano"
   ]
  },
  {
   "cell_type": "code",
   "execution_count": 206,
   "metadata": {},
   "outputs": [
    {
     "name": "stdout",
     "output_type": "stream",
     "text": [
      "Acurácia do modelo é de: 77.468\n"
     ]
    },
    {
     "data": {
      "text/plain": [
       "None"
      ]
     },
     "metadata": {},
     "output_type": "display_data"
    },
    {
     "name": "stdout",
     "output_type": "stream",
     "text": [
      "Acurácia do modelo com Validação cruzada: 76.559\n"
     ]
    },
    {
     "data": {
      "text/plain": [
       "None"
      ]
     },
     "metadata": {},
     "output_type": "display_data"
    }
   ],
   "source": [
    "#Instanciando e treinando o modelo\n",
    "AdultNB= GaussianNB().fit(X_treino,y_treino)\n",
    "\n",
    "#gerando as previsões\n",
    "y_pred_nb = AdultNB.predict(X_teste)\n",
    "\n",
    "#Acurácia do modelo sem e com cross validation\n",
    "display(print(\"Acurácia do modelo é de:\",round(accuracy_score(y_teste,y_pred_nb)*100,3)))\n",
    "display(print(\"Acurácia do modelo com Validação cruzada:\", round(accuracy_score\n",
    "                                                                 (y,cross_val_predict(AdultNB,X,y,cv=10))*100,3)))"
   ]
  },
  {
   "cell_type": "markdown",
   "metadata": {},
   "source": [
    "**Matriz de confusão do modelo Naive Bayes**"
   ]
  },
  {
   "cell_type": "code",
   "execution_count": 207,
   "metadata": {},
   "outputs": [
    {
     "data": {
      "image/png": "[encoded data removed]",
      "text/plain": [
       "<Figure size 432x288 with 2 Axes>"
      ]
     },
     "metadata": {
      "needs_background": "light"
     },
     "output_type": "display_data"
    }
   ],
   "source": [
    "disp=plot_confusion_matrix(AdultNB,X_teste,y_teste,cmap='Blues',values_format='.5g')\n",
    "\n",
    "#Para a classe 0, o modelo Naive Bayes acertou 3739 e errou 1216\n",
    "#Para a classe 1, o modelo acertou 3921 e errou 1012"
   ]
  },
  {
   "cell_type": "markdown",
   "metadata": {},
   "source": [
    "**Training score e testing score**"
   ]
  },
  {
   "cell_type": "code",
   "execution_count": 208,
   "metadata": {},
   "outputs": [
    {
     "data": {
      "text/plain": [
       "0.7739684466019418"
      ]
     },
     "metadata": {},
     "output_type": "display_data"
    },
    {
     "data": {
      "text/plain": [
       "0.7746763754045307"
      ]
     },
     "metadata": {},
     "output_type": "display_data"
    }
   ],
   "source": [
    "#Testing e Training Score\n",
    "display(AdultNB.score(X_treino,y_treino))\n",
    "display(AdultNB.score(X_teste,y_teste))"
   ]
  },
  {
   "cell_type": "markdown",
   "metadata": {},
   "source": [
    "**Métricas de Avaliação do modelo Naive Bayes**"
   ]
  },
  {
   "cell_type": "code",
   "execution_count": 209,
   "metadata": {},
   "outputs": [
    {
     "name": "stdout",
     "output_type": "stream",
     "text": [
      "              precision    recall  f1-score   support\n",
      "\n",
      "           0       0.77      0.76      0.76     24720\n",
      "           1       0.76      0.77      0.77     24720\n",
      "\n",
      "    accuracy                           0.77     49440\n",
      "   macro avg       0.77      0.77      0.77     49440\n",
      "weighted avg       0.77      0.77      0.77     49440\n",
      "\n"
     ]
    }
   ],
   "source": [
    "#Métricas de avaliação\n",
    "\n",
    "valor_classe=[0,1]\n",
    "print(classification_report(y,cross_val_predict(AdultNB,X,y,cv=10),valor_classe))"
   ]
  },
  {
   "cell_type": "markdown",
   "metadata": {},
   "source": [
    "# EXTRA TREE"
   ]
  },
  {
   "cell_type": "code",
   "execution_count": 210,
   "metadata": {},
   "outputs": [
    {
     "name": "stdout",
     "output_type": "stream",
     "text": [
      "Acurácia do modelo é de: 88.248\n"
     ]
    },
    {
     "data": {
      "text/plain": [
       "None"
      ]
     },
     "metadata": {},
     "output_type": "display_data"
    },
    {
     "name": "stdout",
     "output_type": "stream",
     "text": [
      "Acurácia do modelo com Validação cruzada: 87.987\n"
     ]
    },
    {
     "data": {
      "text/plain": [
       "None"
      ]
     },
     "metadata": {},
     "output_type": "display_data"
    }
   ],
   "source": [
    "#Instanciando e treinando o modelo Extra Tree\n",
    "AdultET=ExtraTreesClassifier().fit(X_treino,y_treino)\n",
    "\n",
    "#gerando as previsões\n",
    "y_pred_et =AdultET.predict(X_teste)\n",
    "\n",
    "#Acurácia de modelo sem e com cross validation\n",
    "display(print(\"Acurácia do modelo é de:\",round(accuracy_score(y_teste,y_pred_et)*100,3)))\n",
    "display(print(\"Acurácia do modelo com Validação cruzada:\", round(accuracy_score\n",
    "                                                                 (y,cross_val_predict(AdultET,X,y,cv=10))*100,3)))"
   ]
  },
  {
   "cell_type": "markdown",
   "metadata": {},
   "source": [
    "**Matriz de confusão da Extra Tree**"
   ]
  },
  {
   "cell_type": "code",
   "execution_count": 211,
   "metadata": {},
   "outputs": [
    {
     "data": {
      "image/png": "[encoded data removed]",
      "text/plain": [
       "<Figure size 432x288 with 2 Axes>"
      ]
     },
     "metadata": {
      "needs_background": "light"
     },
     "output_type": "display_data"
    }
   ],
   "source": [
    "disp=plot_confusion_matrix(AdultET,X_teste,y_teste,cmap='Blues',values_format='.5g')\n",
    "\n",
    "#Para a classe 0, o modelo Extra Tree acertou 4272 e errou 683\n",
    "#Para a classe 1, acertou 4454 e errou 479"
   ]
  },
  {
   "cell_type": "markdown",
   "metadata": {},
   "source": [
    "**Training score e testing score**"
   ]
  },
  {
   "cell_type": "code",
   "execution_count": 212,
   "metadata": {},
   "outputs": [
    {
     "data": {
      "text/plain": [
       "0.9999494336569579"
      ]
     },
     "metadata": {},
     "output_type": "display_data"
    },
    {
     "data": {
      "text/plain": [
       "0.8824838187702265"
      ]
     },
     "metadata": {},
     "output_type": "display_data"
    }
   ],
   "source": [
    "#Testing e Training Score\n",
    "display(AdultET.score(X_treino,y_treino))\n",
    "display(AdultET.score(X_teste,y_teste))"
   ]
  },
  {
   "cell_type": "markdown",
   "metadata": {},
   "source": [
    "**Métricas de avaliação do modelo Extra Tree**"
   ]
  },
  {
   "cell_type": "code",
   "execution_count": 213,
   "metadata": {},
   "outputs": [
    {
     "name": "stdout",
     "output_type": "stream",
     "text": [
      "              precision    recall  f1-score   support\n",
      "\n",
      "           0       0.91      0.84      0.88     24720\n",
      "           1       0.85      0.92      0.88     24720\n",
      "\n",
      "    accuracy                           0.88     49440\n",
      "   macro avg       0.88      0.88      0.88     49440\n",
      "weighted avg       0.88      0.88      0.88     49440\n",
      "\n"
     ]
    }
   ],
   "source": [
    "#Métricas de avaliação\n",
    "\n",
    "valor_classe=[0,1]\n",
    "print(classification_report(y,cross_val_predict(AdultET,X,y,cv=10),valor_classe))"
   ]
  },
  {
   "cell_type": "markdown",
   "metadata": {},
   "source": [
    "# MLP (Multilayer Perceptron)"
   ]
  },
  {
   "cell_type": "code",
   "execution_count": 214,
   "metadata": {},
   "outputs": [
    {
     "name": "stdout",
     "output_type": "stream",
     "text": [
      "Acurácia do modelo é de: 83.465\n"
     ]
    },
    {
     "data": {
      "text/plain": [
       "None"
      ]
     },
     "metadata": {},
     "output_type": "display_data"
    },
    {
     "name": "stdout",
     "output_type": "stream",
     "text": [
      "Acurácia do modelo com Validação cruzada: 82.854\n"
     ]
    },
    {
     "data": {
      "text/plain": [
       "None"
      ]
     },
     "metadata": {},
     "output_type": "display_data"
    }
   ],
   "source": [
    "#instanciando e treinando o MLP\n",
    "AdultMLP= MLPClassifier().fit(X_treino,y_treino)\n",
    "\n",
    "#gerando as previsões\n",
    "y_pred_mlp= AdultMLP.predict(X_teste)\n",
    "\n",
    "#Acurácia do modelo sem e com cross validation\n",
    "display(print(\"Acurácia do modelo é de:\",round(accuracy_score(y_teste,y_pred_mlp)*100,3)))\n",
    "display(print(\"Acurácia do modelo com Validação cruzada:\", round(accuracy_score\n",
    "                                                                 (y,cross_val_predict(AdultMLP,X,y,cv=10))*100,3)))"
   ]
  },
  {
   "cell_type": "markdown",
   "metadata": {},
   "source": [
    "**Matriz de confusão do MLP**"
   ]
  },
  {
   "cell_type": "code",
   "execution_count": 215,
   "metadata": {},
   "outputs": [
    {
     "data": {
      "image/png": "[encoded data removed]",
      "text/plain": [
       "<Figure size 432x288 with 2 Axes>"
      ]
     },
     "metadata": {
      "needs_background": "light"
     },
     "output_type": "display_data"
    }
   ],
   "source": [
    "disp=plot_confusion_matrix(AdultMLP,X_teste,y_teste,cmap='Blues',values_format='.5g')\n",
    "\n",
    "#Para a classe 0, o modelo MLP acertou 3871 e errou 1084\n",
    "#Para a classe 1, acertou 4382 e errou 551"
   ]
  },
  {
   "cell_type": "markdown",
   "metadata": {},
   "source": [
    "**Training score e testing score**"
   ]
  },
  {
   "cell_type": "code",
   "execution_count": 216,
   "metadata": {},
   "outputs": [
    {
     "data": {
      "text/plain": [
       "0.8490847491909385"
      ]
     },
     "metadata": {},
     "output_type": "display_data"
    },
    {
     "data": {
      "text/plain": [
       "0.8346480582524272"
      ]
     },
     "metadata": {},
     "output_type": "display_data"
    }
   ],
   "source": [
    "#Testing e Training Score\n",
    "display(AdultMLP.score(X_treino,y_treino))\n",
    "display(AdultMLP.score(X_teste,y_teste))"
   ]
  },
  {
   "cell_type": "markdown",
   "metadata": {},
   "source": [
    "**Métricas de avaliação do MLP**"
   ]
  },
  {
   "cell_type": "code",
   "execution_count": 219,
   "metadata": {},
   "outputs": [
    {
     "name": "stdout",
     "output_type": "stream",
     "text": [
      "              precision    recall  f1-score   support\n",
      "\n",
      "           0       0.86      0.78      0.82     24720\n",
      "           1       0.80      0.88      0.84     24720\n",
      "\n",
      "    accuracy                           0.83     49440\n",
      "   macro avg       0.83      0.83      0.83     49440\n",
      "weighted avg       0.83      0.83      0.83     49440\n",
      "\n"
     ]
    }
   ],
   "source": [
    "#Métricas de avaliação\n",
    "\n",
    "valor_classe=[0,1]\n",
    "print(classification_report(y,cross_val_predict(AdultMLP,X,y,cv=10),valor_classe))"
   ]
  },
  {
   "cell_type": "markdown",
   "metadata": {},
   "source": [
    "# Curva ROC\n",
    "\n",
    "A curva ROC mostra o quão bom modelo consegue distinguir entre as classes, que nosso caso é 0 (de abaixo de USS 50.000) e 1 (acima de USS 50.000). \n",
    "\n",
    "Observando a curva ROC, vemos que os melhores modelos (que passam de 0.9) são os modelos **XGBClassifier**, RandomForestClassifier, KNeighborsClassifier, ExtraTresClassifier e MLPClassifier"
   ]
  },
  {
   "cell_type": "code",
   "execution_count": 220,
   "metadata": {},
   "outputs": [
    {
     "data": {
      "image/png": "[encoded data removed]",
      "text/plain": [
       "<Figure size 432x288 with 1 Axes>"
      ]
     },
     "metadata": {
      "needs_background": "light"
     },
     "output_type": "display_data"
    }
   ],
   "source": [
    "disp=plot_roc_curve(AdultLR,X_teste,y_teste)\n",
    "plot_roc_curve(Adultsvm,X_teste,y_teste, ax=disp.ax_);\n",
    "plot_roc_curve(AdultXGB,X_teste,y_teste, ax=disp.ax_);\n",
    "plot_roc_curve(AdultRF,X_teste,y_teste, ax=disp.ax_);\n",
    "plot_roc_curve(AdultDT,X_teste,y_teste, ax=disp.ax_);\n",
    "plot_roc_curve(AdultSGD,X_teste,y_teste, ax=disp.ax_);\n",
    "plot_roc_curve(AdultKNN,X_teste,y_teste, ax=disp.ax_);\n",
    "plot_roc_curve(AdultNB,X_teste,y_teste, ax=disp.ax_);\n",
    "plot_roc_curve(AdultET,X_teste,y_teste, ax=disp.ax_);\n",
    "plot_roc_curve(AdultMLP,X_teste,y_teste, ax=disp.ax_);"
   ]
  },
  {
   "cell_type": "markdown",
   "metadata": {},
   "source": [
    "# CONCLUSÃO\n",
    "\n",
    "**TABELA COMPARATIVA**"
   ]
  },
  {
   "cell_type": "markdown",
   "metadata": {},
   "source": [
    "Na tabela abaixo podemos observar o desempenho de cada modelo.\n",
    "\n",
    "\n",
    "|  || Acurácia || Acurácia CV  || train score || test score || Over ou Under    ||  Precision 0 ||Precision 1|| AUC ||\n",
    "|:--------:||:-----------:||:------------:||:-----------:||:-----------:||:------------:||:------------:||:---------:||:---:||\n",
    "|Reg. Log   || 80.067     ||  79.511      ||   80.162    ||  80.066     ||   Não        ||  82          ||  77       ||  88 ||\n",
    "|SVM        || 81.311     ||  80.839      ||  81.573     ||  81.31      ||   Não        ||  87          ||  76       ||  89 ||\n",
    "|XGBoost    || 88.774     || 87.227       ||  91.18      ||    88.774   ||   Não        || 88           || 86        ||  96 ||\n",
    "|Ran. Forest|| 88.269     || 87.72        ||   99.99     ||  88.26      || Overfitting  ||   90         ||  85       || 95  ||\n",
    "|Dec. Tree  || 83.91      ||  83.064      ||   99.99     ||  83.9       || Overfitting  ||    85        ||   82      ||  84 ||\n",
    "|SGD        || 75.354     ||  78.685      ||    76       ||    75.35    || Underfitting ||   80         ||   77      || 88  ||\n",
    "|KNN        ||  83.91     ||  85.494      ||    89.42    ||    84.54    ||  Não         ||    92        ||   81      ||  91 ||\n",
    "|Naive Bayes||  77.468    ||  76.559      ||   77.39     ||   77.47     || Underfitting ||   77         ||   79      ||  86 ||\n",
    "|Extra Tree || 88.248     ||  87.987      ||  99.99      ||   88.24     || Overfitting  ||   91         ||  85       || 95  ||\n",
    "|MLP        ||  83.465    ||  82.854      ||   84.9      ||   83.46     ||  Não         ||   86         ||   80      || 92  ||\n",
    "\n",
    "Acima podemos ver que há modelo, que quando foi aplicado o SMOTE acabaram tendo overfitting, ou seja, um sobreajuste do modelo. Vemos isso pela diferença entre o train score e o test score que (por arbitrariedade) tiveram uma diferença superior a 10 pontos, que foram os modelos Random Forest, Decision Tree e Extra Tree. Por esse motivo estamos descartando esses modelos, mesmo obtendo bons desempenhos. O sobreajuste (overfitting) atrapalha que o modelo se torne generalizável.\n",
    "\n",
    "Outros dois modelos possuem suspeita de underfitting (quando o modelo não aprende bem com os dados) o que também impede sua generalização. Podemos perceber isso, pois esses modelos possuem os menores test scores e train scores.\n",
    "\n",
    "Restam-nos então 5 modelos, que não apresentaram nenhum dos problemas acima.\n",
    "\n",
    "|  || Acurácia || Acurácia CV  || train score || test score || Over ou Under    ||  Precision 0 ||Precision 1|| AUC ||\n",
    "|:--------:||:-----------:||:------------:||:-----------:||:-----------:||:------------:||:------------:||:---------:||:---:||\n",
    "|**XGBoost**||**88.774**  ||**87.227**    ||**91.18**    || **88.774**  || **Não**      || **88**       || **86**  || **96**||\n",
    "|KNN        ||  83.91     ||  85.494      ||    89.42    ||    84.54    ||  Não         ||    92        ||   81      ||  91 ||\n",
    "|MLP        ||  83.465    ||  82.854      ||   84.9      ||   83.46     ||  Não         ||   86         ||   80      || 92  ||\n",
    "|SVM        || 81.311     ||  80.839      ||  81.573     ||  81.31      ||   Não        ||  87          ||  76       ||  89 ||\n",
    "|Reg. Log   || 80.067     ||  79.511      ||   80.162    ||  80.066     ||   Não        ||  82          ||  77       ||  88 ||\n",
    "\n",
    "\n",
    "Desses modelos o melhor foi o XGBoost, pois obteve a melhor acurácia, não apresentou nem sobreajuste nem subajuste, teve precisões para as classes próximas do 90% e com valores aproximados, e teve o maior AUC; os recalls e f1-score também possuem valores próximo. E, por fim, esse modelo está bem acima da acurácia mínima de 49.58%."
   ]
  }
 ],
 "metadata": {
  "kernelspec": {
   "display_name": "Python 3",
   "language": "python",
   "name": "python3"
  },
  "language_info": {
   "codemirror_mode": {
    "name": "ipython",
    "version": 3
   },
   "file_extension": ".py",
   "mimetype": "text/x-python",
   "name": "python",
   "nbconvert_exporter": "python",
   "pygments_lexer": "ipython3",
   "version": "3.6.8"
  }
 },
 "nbformat": 4,
 "nbformat_minor": 2
}
