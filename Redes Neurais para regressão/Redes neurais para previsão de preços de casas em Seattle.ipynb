{
 "cells": [
  {
   "cell_type": "markdown",
   "metadata": {
    "id": "U0aLUcQL0cwC"
   },
   "source": [
    "# Redes Neurais para modelagem de preços de casas\n",
    "\n",
    "*Seattle* é a cidade mais populosa do estado de Washington, nos Estados Unidos, com cerca de 4 milhões de habitantes. É uma cidade localizada na costa da oceano Pacífico e está muito próxima de *Vancouver* (Canadá). A cidade possui clima úmido, com frequência de neblinas e chuvas é alta. O setor imobiliário da cidade é um dos maiores do país e conforme essa [notícia](https://www.seattlepi.com/news/article/Seattle-direct-commercial-real-estate-investments-15014247.php) a cidade está classificada entre as 20 principais cidades em investimento imobiliário comercial direto no ano de 2019, na 17° colocação. O grande desafio de cada mercado, seja lá qual for, é a modelagem dos preços nos mercados.\n",
    "\n",
    "Modelar o preço de um produto é um desafio, pois o preço, além de ser uma unidade para referenciar trocas, também é serve para trazer informação do mercado em que o produto está inserido. Uma das formas mais comuns de modelar preços é utilizando as características do produto ou serviço e observar se possuem algum tipo de relacionamento que possa explicar o comportamento do preço. Existem vários métodos fazer essa modelagem, como modelos de *machine learning* e modelos de *deep learning*, mas o objetivo é um só: encontrar um modelo que, uma vez aplicada as *features*, minimize os erros; ou seja, a diferença entre o real e o predito seja a menor possível.\n",
    "\n",
    "Para esse projeto irei utilizar uma rede neural artificial, que é um método de *deep learning*, para modelar esses dados.\n",
    "\n",
    "## Dados\n",
    "\n",
    "Os dados foram obtidos na plataforma *Kaggle* e estão anexadas na pasta desse projeto no meu *Github*. Abaixo podemos ver a nossa lista de *features* do *dataset*.\n",
    "\n",
    "1) *id* : uma notação para uma casa;\n",
    "\n",
    "2) *date* : a data em que a casa foi vendida;\n",
    "\n",
    "3) *price* : o preço da casa e nossa variável alvo;\n",
    "\n",
    "4) *bedrooms* : Número de quartos na casa;\n",
    "\n",
    "5) *bathrooms* : Número de banheiros nos quartos;\n",
    "\n",
    "6) *sqft_living* : metragem quadrada da casa;\n",
    "\n",
    "7) *sqft_lot* : metragem quadrada do lote;\n",
    "\n",
    "8) *Pisos* : Total de pisos (níveis) na casa;\n",
    "\n",
    "9) *waterfront* : casa com vista para a beira-mar;\n",
    "\n",
    "10) *view* : foi vista ?;\n",
    "\n",
    "11) *condition* : quão boa é a condição geral;\n",
    "\n",
    "12) *grade* : nota geral dada à unidade habitacional;\n",
    "\n",
    "13) *sqft_above* : metragem quadrada da casa além do porão;\n",
    "\n",
    "14) *sqft_basement* : metragem quadrada do porão;\n",
    "\n",
    "15) *yr_built* : Ano de construção;\n",
    "\n",
    "16) *yr_renovated* : ano em que a casa foi renovada;\n",
    "\n",
    "17) *zipcode* : código postal;\n",
    "\n",
    "18) *lat* : coordenada de latitude;\n",
    "\n",
    "19) *long* : coordenada de longitude;\n",
    "\n",
    "20) *sqft_living15* : Área da sala de estar em 2015 (implica algumas reformas) Isso pode ou não ter afetado o tamanho do lote;\n",
    "\n",
    "21) *sqft_lot15* : área lotSize em 2015 (implica algumas renovações);\n",
    "\n",
    "## Importando as bibliotecas"
   ]
  },
  {
   "cell_type": "code",
   "execution_count": null,
   "metadata": {
    "id": "wu-bf97RNEzZ"
   },
   "outputs": [],
   "source": [
    "import pandas as pd\n",
    "import numpy as np\n",
    "import seaborn as sns\n",
    "import matplotlib.pyplot as plt\n",
    "\n",
    "from keras.models import Sequential\n",
    "from keras.layers import Dense\n",
    "from sklearn.model_selection import cross_val_score, train_test_split\n",
    "from keras.wrappers.scikit_learn import KerasRegressor\n",
    "\n",
    "from statsmodels.tools.eval_measures import rmse\n",
    "from sklearn.metrics import mean_absolute_error\n",
    "from sklearn.metrics import mean_squared_error\n",
    "from sklearn.metrics import mean_squared_log_error\n",
    "from sklearn.metrics import median_absolute_error\n",
    "from sklearn.metrics import r2_score"
   ]
  },
  {
   "cell_type": "markdown",
   "metadata": {
    "id": "QjSCY3_l0nGB"
   },
   "source": [
    "## Importando os dados"
   ]
  },
  {
   "cell_type": "code",
   "execution_count": null,
   "metadata": {
    "colab": {
     "base_uri": "https://localhost:8080/",
     "height": 72,
     "resources": {
      "http://localhost:8080/nbextensions/google.colab/files.js": {
       "data": "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",
       "headers": [
        [
         "content-type",
         "application/javascript"
        ]
       ],
       "ok": true,
       "status": 200,
       "status_text": ""
      }
     }
    },
    "id": "zCBir6SoNE05",
    "outputId": "03706d4d-b77f-4eba-e458-3bb66daff3ba"
   },
   "outputs": [
    {
     "data": {
      "text/html": [
       "\n",
       "     <input type=\"file\" id=\"files-a571a20f-1ab9-4d32-8792-a845a4d5bd30\" name=\"files[]\" multiple disabled\n",
       "        style=\"border:none\" />\n",
       "     <output id=\"result-a571a20f-1ab9-4d32-8792-a845a4d5bd30\">\n",
       "      Upload widget is only available when the cell has been executed in the\n",
       "      current browser session. Please rerun this cell to enable.\n",
       "      </output>\n",
       "      <script src=\"/nbextensions/google.colab/files.js\"></script> "
      ],
      "text/plain": [
       "<IPython.core.display.HTML object>"
      ]
     },
     "metadata": {
      "tags": []
     },
     "output_type": "display_data"
    },
    {
     "name": "stdout",
     "output_type": "stream",
     "text": [
      "Saving seattle.csv to seattle.csv\n"
     ]
    }
   ],
   "source": [
    "from google.colab import files\n",
    "uploaded = files.upload()"
   ]
  },
  {
   "cell_type": "markdown",
   "metadata": {
    "id": "BTDPMson0qTw"
   },
   "source": [
    "## Análise dos dados\n",
    "\n",
    "Atribuindo a base de dados a uma variável e observando suas 5 primeiras linhas."
   ]
  },
  {
   "cell_type": "code",
   "execution_count": null,
   "metadata": {
    "colab": {
     "base_uri": "https://localhost:8080/",
     "height": 222
    },
    "id": "4Fkhv1yaNE2q",
    "outputId": "1b8fcde5-e9c7-4a7b-cca9-e02597858a09"
   },
   "outputs": [
    {
     "data": {
      "text/html": [
       "<div>\n",
       "<style scoped>\n",
       "    .dataframe tbody tr th:only-of-type {\n",
       "        vertical-align: middle;\n",
       "    }\n",
       "\n",
       "    .dataframe tbody tr th {\n",
       "        vertical-align: top;\n",
       "    }\n",
       "\n",
       "    .dataframe thead th {\n",
       "        text-align: right;\n",
       "    }\n",
       "</style>\n",
       "<table border=\"1\" class=\"dataframe\">\n",
       "  <thead>\n",
       "    <tr style=\"text-align: right;\">\n",
       "      <th></th>\n",
       "      <th>id</th>\n",
       "      <th>date</th>\n",
       "      <th>price</th>\n",
       "      <th>bedrooms</th>\n",
       "      <th>bathrooms</th>\n",
       "      <th>sqft_living</th>\n",
       "      <th>sqft_lot</th>\n",
       "      <th>floors</th>\n",
       "      <th>waterfront</th>\n",
       "      <th>view</th>\n",
       "      <th>condition</th>\n",
       "      <th>grade</th>\n",
       "      <th>sqft_above</th>\n",
       "      <th>sqft_basement</th>\n",
       "      <th>yr_built</th>\n",
       "      <th>yr_renovated</th>\n",
       "      <th>zipcode</th>\n",
       "      <th>lat</th>\n",
       "      <th>long</th>\n",
       "      <th>sqft_living15</th>\n",
       "      <th>sqft_lot15</th>\n",
       "    </tr>\n",
       "  </thead>\n",
       "  <tbody>\n",
       "    <tr>\n",
       "      <th>0</th>\n",
       "      <td>7129300520</td>\n",
       "      <td>20141013T000000</td>\n",
       "      <td>221900</td>\n",
       "      <td>3</td>\n",
       "      <td>1.00</td>\n",
       "      <td>1180</td>\n",
       "      <td>5650</td>\n",
       "      <td>1.0</td>\n",
       "      <td>0</td>\n",
       "      <td>0</td>\n",
       "      <td>3</td>\n",
       "      <td>7</td>\n",
       "      <td>1180</td>\n",
       "      <td>0</td>\n",
       "      <td>1955</td>\n",
       "      <td>0</td>\n",
       "      <td>98178</td>\n",
       "      <td>47.5112</td>\n",
       "      <td>-122.257</td>\n",
       "      <td>1340</td>\n",
       "      <td>5650</td>\n",
       "    </tr>\n",
       "    <tr>\n",
       "      <th>1</th>\n",
       "      <td>6414100192</td>\n",
       "      <td>20141209T000000</td>\n",
       "      <td>538000</td>\n",
       "      <td>3</td>\n",
       "      <td>2.25</td>\n",
       "      <td>2570</td>\n",
       "      <td>7242</td>\n",
       "      <td>2.0</td>\n",
       "      <td>0</td>\n",
       "      <td>0</td>\n",
       "      <td>3</td>\n",
       "      <td>7</td>\n",
       "      <td>2170</td>\n",
       "      <td>400</td>\n",
       "      <td>1951</td>\n",
       "      <td>1991</td>\n",
       "      <td>98125</td>\n",
       "      <td>47.7210</td>\n",
       "      <td>-122.319</td>\n",
       "      <td>1690</td>\n",
       "      <td>7639</td>\n",
       "    </tr>\n",
       "    <tr>\n",
       "      <th>2</th>\n",
       "      <td>5631500400</td>\n",
       "      <td>20150225T000000</td>\n",
       "      <td>180000</td>\n",
       "      <td>2</td>\n",
       "      <td>1.00</td>\n",
       "      <td>770</td>\n",
       "      <td>10000</td>\n",
       "      <td>1.0</td>\n",
       "      <td>0</td>\n",
       "      <td>0</td>\n",
       "      <td>3</td>\n",
       "      <td>6</td>\n",
       "      <td>770</td>\n",
       "      <td>0</td>\n",
       "      <td>1933</td>\n",
       "      <td>0</td>\n",
       "      <td>98028</td>\n",
       "      <td>47.7379</td>\n",
       "      <td>-122.233</td>\n",
       "      <td>2720</td>\n",
       "      <td>8062</td>\n",
       "    </tr>\n",
       "    <tr>\n",
       "      <th>3</th>\n",
       "      <td>2487200875</td>\n",
       "      <td>20141209T000000</td>\n",
       "      <td>604000</td>\n",
       "      <td>4</td>\n",
       "      <td>3.00</td>\n",
       "      <td>1960</td>\n",
       "      <td>5000</td>\n",
       "      <td>1.0</td>\n",
       "      <td>0</td>\n",
       "      <td>0</td>\n",
       "      <td>5</td>\n",
       "      <td>7</td>\n",
       "      <td>1050</td>\n",
       "      <td>910</td>\n",
       "      <td>1965</td>\n",
       "      <td>0</td>\n",
       "      <td>98136</td>\n",
       "      <td>47.5208</td>\n",
       "      <td>-122.393</td>\n",
       "      <td>1360</td>\n",
       "      <td>5000</td>\n",
       "    </tr>\n",
       "    <tr>\n",
       "      <th>4</th>\n",
       "      <td>1954400510</td>\n",
       "      <td>20150218T000000</td>\n",
       "      <td>510000</td>\n",
       "      <td>3</td>\n",
       "      <td>2.00</td>\n",
       "      <td>1680</td>\n",
       "      <td>8080</td>\n",
       "      <td>1.0</td>\n",
       "      <td>0</td>\n",
       "      <td>0</td>\n",
       "      <td>3</td>\n",
       "      <td>8</td>\n",
       "      <td>1680</td>\n",
       "      <td>0</td>\n",
       "      <td>1987</td>\n",
       "      <td>0</td>\n",
       "      <td>98074</td>\n",
       "      <td>47.6168</td>\n",
       "      <td>-122.045</td>\n",
       "      <td>1800</td>\n",
       "      <td>7503</td>\n",
       "    </tr>\n",
       "  </tbody>\n",
       "</table>\n",
       "</div>"
      ],
      "text/plain": [
       "           id             date   price  ...     long  sqft_living15  sqft_lot15\n",
       "0  7129300520  20141013T000000  221900  ... -122.257           1340        5650\n",
       "1  6414100192  20141209T000000  538000  ... -122.319           1690        7639\n",
       "2  5631500400  20150225T000000  180000  ... -122.233           2720        8062\n",
       "3  2487200875  20141209T000000  604000  ... -122.393           1360        5000\n",
       "4  1954400510  20150218T000000  510000  ... -122.045           1800        7503\n",
       "\n",
       "[5 rows x 21 columns]"
      ]
     },
     "execution_count": 5,
     "metadata": {
      "tags": []
     },
     "output_type": "execute_result"
    }
   ],
   "source": [
    "casa = pd.read_csv('seattle.csv')\n",
    "casa.head()"
   ]
  },
  {
   "cell_type": "markdown",
   "metadata": {
    "id": "wKalRmeRDi4l"
   },
   "source": [
    "últimas 5 linhas."
   ]
  },
  {
   "cell_type": "code",
   "execution_count": null,
   "metadata": {
    "colab": {
     "base_uri": "https://localhost:8080/",
     "height": 222
    },
    "id": "6AYPTZApDjD-",
    "outputId": "d94acb09-fbde-4f13-8163-e04bcd3075b9"
   },
   "outputs": [
    {
     "data": {
      "text/html": [
       "<div>\n",
       "<style scoped>\n",
       "    .dataframe tbody tr th:only-of-type {\n",
       "        vertical-align: middle;\n",
       "    }\n",
       "\n",
       "    .dataframe tbody tr th {\n",
       "        vertical-align: top;\n",
       "    }\n",
       "\n",
       "    .dataframe thead th {\n",
       "        text-align: right;\n",
       "    }\n",
       "</style>\n",
       "<table border=\"1\" class=\"dataframe\">\n",
       "  <thead>\n",
       "    <tr style=\"text-align: right;\">\n",
       "      <th></th>\n",
       "      <th>id</th>\n",
       "      <th>date</th>\n",
       "      <th>price</th>\n",
       "      <th>bedrooms</th>\n",
       "      <th>bathrooms</th>\n",
       "      <th>sqft_living</th>\n",
       "      <th>sqft_lot</th>\n",
       "      <th>floors</th>\n",
       "      <th>waterfront</th>\n",
       "      <th>view</th>\n",
       "      <th>condition</th>\n",
       "      <th>grade</th>\n",
       "      <th>sqft_above</th>\n",
       "      <th>sqft_basement</th>\n",
       "      <th>yr_built</th>\n",
       "      <th>yr_renovated</th>\n",
       "      <th>zipcode</th>\n",
       "      <th>lat</th>\n",
       "      <th>long</th>\n",
       "      <th>sqft_living15</th>\n",
       "      <th>sqft_lot15</th>\n",
       "    </tr>\n",
       "  </thead>\n",
       "  <tbody>\n",
       "    <tr>\n",
       "      <th>21608</th>\n",
       "      <td>263000018</td>\n",
       "      <td>20140521T000000</td>\n",
       "      <td>360000</td>\n",
       "      <td>3</td>\n",
       "      <td>2.50</td>\n",
       "      <td>1530</td>\n",
       "      <td>1131</td>\n",
       "      <td>3.0</td>\n",
       "      <td>0</td>\n",
       "      <td>0</td>\n",
       "      <td>3</td>\n",
       "      <td>8</td>\n",
       "      <td>1530</td>\n",
       "      <td>0</td>\n",
       "      <td>2009</td>\n",
       "      <td>0</td>\n",
       "      <td>98103</td>\n",
       "      <td>47.6993</td>\n",
       "      <td>-122.346</td>\n",
       "      <td>1530</td>\n",
       "      <td>1509</td>\n",
       "    </tr>\n",
       "    <tr>\n",
       "      <th>21609</th>\n",
       "      <td>6600060120</td>\n",
       "      <td>20150223T000000</td>\n",
       "      <td>400000</td>\n",
       "      <td>4</td>\n",
       "      <td>2.50</td>\n",
       "      <td>2310</td>\n",
       "      <td>5813</td>\n",
       "      <td>2.0</td>\n",
       "      <td>0</td>\n",
       "      <td>0</td>\n",
       "      <td>3</td>\n",
       "      <td>8</td>\n",
       "      <td>2310</td>\n",
       "      <td>0</td>\n",
       "      <td>2014</td>\n",
       "      <td>0</td>\n",
       "      <td>98146</td>\n",
       "      <td>47.5107</td>\n",
       "      <td>-122.362</td>\n",
       "      <td>1830</td>\n",
       "      <td>7200</td>\n",
       "    </tr>\n",
       "    <tr>\n",
       "      <th>21610</th>\n",
       "      <td>1523300141</td>\n",
       "      <td>20140623T000000</td>\n",
       "      <td>402101</td>\n",
       "      <td>2</td>\n",
       "      <td>0.75</td>\n",
       "      <td>1020</td>\n",
       "      <td>1350</td>\n",
       "      <td>2.0</td>\n",
       "      <td>0</td>\n",
       "      <td>0</td>\n",
       "      <td>3</td>\n",
       "      <td>7</td>\n",
       "      <td>1020</td>\n",
       "      <td>0</td>\n",
       "      <td>2009</td>\n",
       "      <td>0</td>\n",
       "      <td>98144</td>\n",
       "      <td>47.5944</td>\n",
       "      <td>-122.299</td>\n",
       "      <td>1020</td>\n",
       "      <td>2007</td>\n",
       "    </tr>\n",
       "    <tr>\n",
       "      <th>21611</th>\n",
       "      <td>291310100</td>\n",
       "      <td>20150116T000000</td>\n",
       "      <td>400000</td>\n",
       "      <td>3</td>\n",
       "      <td>2.50</td>\n",
       "      <td>1600</td>\n",
       "      <td>2388</td>\n",
       "      <td>2.0</td>\n",
       "      <td>0</td>\n",
       "      <td>0</td>\n",
       "      <td>3</td>\n",
       "      <td>8</td>\n",
       "      <td>1600</td>\n",
       "      <td>0</td>\n",
       "      <td>2004</td>\n",
       "      <td>0</td>\n",
       "      <td>98027</td>\n",
       "      <td>47.5345</td>\n",
       "      <td>-122.069</td>\n",
       "      <td>1410</td>\n",
       "      <td>1287</td>\n",
       "    </tr>\n",
       "    <tr>\n",
       "      <th>21612</th>\n",
       "      <td>1523300157</td>\n",
       "      <td>20141015T000000</td>\n",
       "      <td>325000</td>\n",
       "      <td>2</td>\n",
       "      <td>0.75</td>\n",
       "      <td>1020</td>\n",
       "      <td>1076</td>\n",
       "      <td>2.0</td>\n",
       "      <td>0</td>\n",
       "      <td>0</td>\n",
       "      <td>3</td>\n",
       "      <td>7</td>\n",
       "      <td>1020</td>\n",
       "      <td>0</td>\n",
       "      <td>2008</td>\n",
       "      <td>0</td>\n",
       "      <td>98144</td>\n",
       "      <td>47.5941</td>\n",
       "      <td>-122.299</td>\n",
       "      <td>1020</td>\n",
       "      <td>1357</td>\n",
       "    </tr>\n",
       "  </tbody>\n",
       "</table>\n",
       "</div>"
      ],
      "text/plain": [
       "               id             date   price  ...     long  sqft_living15  sqft_lot15\n",
       "21608   263000018  20140521T000000  360000  ... -122.346           1530        1509\n",
       "21609  6600060120  20150223T000000  400000  ... -122.362           1830        7200\n",
       "21610  1523300141  20140623T000000  402101  ... -122.299           1020        2007\n",
       "21611   291310100  20150116T000000  400000  ... -122.069           1410        1287\n",
       "21612  1523300157  20141015T000000  325000  ... -122.299           1020        1357\n",
       "\n",
       "[5 rows x 21 columns]"
      ]
     },
     "execution_count": 6,
     "metadata": {
      "tags": []
     },
     "output_type": "execute_result"
    }
   ],
   "source": [
    "casa.tail()"
   ]
  },
  {
   "cell_type": "markdown",
   "metadata": {
    "id": "1AvFiiNXsoE3"
   },
   "source": [
    "Dimensão da nossa base de dados: 21613 linhas e 21 colunas"
   ]
  },
  {
   "cell_type": "code",
   "execution_count": null,
   "metadata": {
    "colab": {
     "base_uri": "https://localhost:8080/"
    },
    "id": "vWBQvsKOsoQW",
    "outputId": "e1f7d67a-7fab-4a01-8b7c-d61e131e93fd"
   },
   "outputs": [
    {
     "data": {
      "text/plain": [
       "(21613, 21)"
      ]
     },
     "execution_count": 7,
     "metadata": {
      "tags": []
     },
     "output_type": "execute_result"
    }
   ],
   "source": [
    "casa.shape"
   ]
  },
  {
   "cell_type": "markdown",
   "metadata": {
    "id": "cZeNNxNaCRIH"
   },
   "source": [
    "Vemos que nossa base não possui valores faltantes."
   ]
  },
  {
   "cell_type": "code",
   "execution_count": null,
   "metadata": {
    "colab": {
     "base_uri": "https://localhost:8080/"
    },
    "id": "sBIpHd33NE4c",
    "outputId": "da30abaf-8386-4e63-d7a0-6c8f4554140e"
   },
   "outputs": [
    {
     "data": {
      "text/plain": [
       "id               0\n",
       "date             0\n",
       "price            0\n",
       "bedrooms         0\n",
       "bathrooms        0\n",
       "sqft_living      0\n",
       "sqft_lot         0\n",
       "floors           0\n",
       "waterfront       0\n",
       "view             0\n",
       "condition        0\n",
       "grade            0\n",
       "sqft_above       0\n",
       "sqft_basement    0\n",
       "yr_built         0\n",
       "yr_renovated     0\n",
       "zipcode          0\n",
       "lat              0\n",
       "long             0\n",
       "sqft_living15    0\n",
       "sqft_lot15       0\n",
       "dtype: int64"
      ]
     },
     "execution_count": 8,
     "metadata": {
      "tags": []
     },
     "output_type": "execute_result"
    }
   ],
   "source": [
    "casa.isna().sum()"
   ]
  },
  {
   "cell_type": "markdown",
   "metadata": {
    "id": "aFPjFS3HCbWU"
   },
   "source": [
    "Informações sobre a base de dados."
   ]
  },
  {
   "cell_type": "code",
   "execution_count": null,
   "metadata": {
    "colab": {
     "base_uri": "https://localhost:8080/"
    },
    "id": "9mJdsCXeY9KE",
    "outputId": "78dcf994-bea8-40ad-b8c2-d3d78b412d40"
   },
   "outputs": [
    {
     "name": "stdout",
     "output_type": "stream",
     "text": [
      "<class 'pandas.core.frame.DataFrame'>\n",
      "RangeIndex: 21613 entries, 0 to 21612\n",
      "Data columns (total 21 columns):\n",
      " #   Column         Non-Null Count  Dtype  \n",
      "---  ------         --------------  -----  \n",
      " 0   id             21613 non-null  int64  \n",
      " 1   date           21613 non-null  object \n",
      " 2   price          21613 non-null  int64  \n",
      " 3   bedrooms       21613 non-null  int64  \n",
      " 4   bathrooms      21613 non-null  float64\n",
      " 5   sqft_living    21613 non-null  int64  \n",
      " 6   sqft_lot       21613 non-null  int64  \n",
      " 7   floors         21613 non-null  float64\n",
      " 8   waterfront     21613 non-null  int64  \n",
      " 9   view           21613 non-null  int64  \n",
      " 10  condition      21613 non-null  int64  \n",
      " 11  grade          21613 non-null  int64  \n",
      " 12  sqft_above     21613 non-null  int64  \n",
      " 13  sqft_basement  21613 non-null  int64  \n",
      " 14  yr_built       21613 non-null  int64  \n",
      " 15  yr_renovated   21613 non-null  int64  \n",
      " 16  zipcode        21613 non-null  int64  \n",
      " 17  lat            21613 non-null  float64\n",
      " 18  long           21613 non-null  float64\n",
      " 19  sqft_living15  21613 non-null  int64  \n",
      " 20  sqft_lot15     21613 non-null  int64  \n",
      "dtypes: float64(4), int64(16), object(1)\n",
      "memory usage: 3.5+ MB\n"
     ]
    }
   ],
   "source": [
    "casa.info()"
   ]
  },
  {
   "cell_type": "markdown",
   "metadata": {
    "id": "6iOWQekECg3D"
   },
   "source": [
    "Correlação das *features* com a variável *target*.\n",
    "\n",
    "A correlação é uma métrica que varia de 0 a 1 e nos mostra quais variáveis podem estar mais relacionadas conjuntamente. Vemos que temos algumas *features* que possuem uma correlação alta com os preços das casa, como : *sqft_living* (correlação de 0.702035, uma correlação alta), *grade* (correlação de 0.667434, também é uma correlação alta), *sqft_above* (correlação de 0.605567) e *sqft_living15* (correlação de 0.585379). "
   ]
  },
  {
   "cell_type": "code",
   "execution_count": null,
   "metadata": {
    "colab": {
     "base_uri": "https://localhost:8080/"
    },
    "id": "wakgJRwbNFAF",
    "outputId": "9569df54-e313-4cef-ddba-f575581e666f"
   },
   "outputs": [
    {
     "data": {
      "text/plain": [
       "id              -0.016762\n",
       "price            1.000000\n",
       "bedrooms         0.308350\n",
       "bathrooms        0.525138\n",
       "sqft_living      0.702035\n",
       "sqft_lot         0.089661\n",
       "floors           0.256794\n",
       "waterfront       0.266369\n",
       "view             0.397293\n",
       "condition        0.036362\n",
       "grade            0.667434\n",
       "sqft_above       0.605567\n",
       "sqft_basement    0.323816\n",
       "yr_built         0.054012\n",
       "yr_renovated     0.126434\n",
       "zipcode         -0.053203\n",
       "lat              0.307003\n",
       "long             0.021626\n",
       "sqft_living15    0.585379\n",
       "sqft_lot15       0.082447\n",
       "Name: price, dtype: float64"
      ]
     },
     "execution_count": 10,
     "metadata": {
      "tags": []
     },
     "output_type": "execute_result"
    }
   ],
   "source": [
    "casa.corr()['price']"
   ]
  },
  {
   "cell_type": "markdown",
   "metadata": {
    "id": "_8GKTDAAITNv"
   },
   "source": [
    "A métrica anterior leva em consideração variáveis apenas a relação linear entre as variáveis, então podemos usar a correlação de *spearman* e analisar se há uma relação não linear.\n",
    "\n",
    "Aqui vemos que as variáveis anteriores tiveram os valores um pouco menores, porém ainda são as mais correlacionadas com os preços das casas."
   ]
  },
  {
   "cell_type": "code",
   "execution_count": null,
   "metadata": {
    "colab": {
     "base_uri": "https://localhost:8080/"
    },
    "id": "VontnlY4ITYZ",
    "outputId": "de7857e5-bf96-4027-cda0-72c1d5947cf5"
   },
   "outputs": [
    {
     "data": {
      "text/plain": [
       "id               0.004178\n",
       "price            1.000000\n",
       "bedrooms         0.344652\n",
       "bathrooms        0.497160\n",
       "sqft_living      0.644191\n",
       "sqft_lot         0.074939\n",
       "floors           0.322346\n",
       "waterfront       0.115089\n",
       "view             0.293931\n",
       "condition        0.018490\n",
       "grade            0.658215\n",
       "sqft_above       0.541752\n",
       "sqft_basement    0.251704\n",
       "yr_built         0.102037\n",
       "yr_renovated     0.101875\n",
       "zipcode         -0.008735\n",
       "lat              0.456409\n",
       "long             0.063537\n",
       "sqft_living15    0.572290\n",
       "sqft_lot15       0.062766\n",
       "Name: price, dtype: float64"
      ]
     },
     "execution_count": 11,
     "metadata": {
      "tags": []
     },
     "output_type": "execute_result"
    }
   ],
   "source": [
    "casa.corr('spearman')['price']"
   ]
  },
  {
   "cell_type": "markdown",
   "metadata": {
    "id": "Uy2mxOf6EGej"
   },
   "source": [
    "Tabela estatística da base de dados."
   ]
  },
  {
   "cell_type": "code",
   "execution_count": null,
   "metadata": {
    "colab": {
     "base_uri": "https://localhost:8080/",
     "height": 314
    },
    "id": "1OWUBJ1fLkfg",
    "outputId": "e6435c54-6286-40ef-b96e-eca4ad3269c2"
   },
   "outputs": [
    {
     "data": {
      "text/html": [
       "<div>\n",
       "<style scoped>\n",
       "    .dataframe tbody tr th:only-of-type {\n",
       "        vertical-align: middle;\n",
       "    }\n",
       "\n",
       "    .dataframe tbody tr th {\n",
       "        vertical-align: top;\n",
       "    }\n",
       "\n",
       "    .dataframe thead th {\n",
       "        text-align: right;\n",
       "    }\n",
       "</style>\n",
       "<table border=\"1\" class=\"dataframe\">\n",
       "  <thead>\n",
       "    <tr style=\"text-align: right;\">\n",
       "      <th></th>\n",
       "      <th>id</th>\n",
       "      <th>price</th>\n",
       "      <th>bedrooms</th>\n",
       "      <th>bathrooms</th>\n",
       "      <th>sqft_living</th>\n",
       "      <th>sqft_lot</th>\n",
       "      <th>floors</th>\n",
       "      <th>waterfront</th>\n",
       "      <th>view</th>\n",
       "      <th>condition</th>\n",
       "      <th>grade</th>\n",
       "      <th>sqft_above</th>\n",
       "      <th>sqft_basement</th>\n",
       "      <th>yr_built</th>\n",
       "      <th>yr_renovated</th>\n",
       "      <th>zipcode</th>\n",
       "      <th>lat</th>\n",
       "      <th>long</th>\n",
       "      <th>sqft_living15</th>\n",
       "      <th>sqft_lot15</th>\n",
       "    </tr>\n",
       "  </thead>\n",
       "  <tbody>\n",
       "    <tr>\n",
       "      <th>count</th>\n",
       "      <td>2.161300e+04</td>\n",
       "      <td>2.161300e+04</td>\n",
       "      <td>21613.000000</td>\n",
       "      <td>21613.000000</td>\n",
       "      <td>21613.000000</td>\n",
       "      <td>2.161300e+04</td>\n",
       "      <td>21613.000000</td>\n",
       "      <td>21613.000000</td>\n",
       "      <td>21613.000000</td>\n",
       "      <td>21613.000000</td>\n",
       "      <td>21613.000000</td>\n",
       "      <td>21613.000000</td>\n",
       "      <td>21613.000000</td>\n",
       "      <td>21613.000000</td>\n",
       "      <td>21613.000000</td>\n",
       "      <td>21613.000000</td>\n",
       "      <td>21613.000000</td>\n",
       "      <td>21613.000000</td>\n",
       "      <td>21613.000000</td>\n",
       "      <td>21613.000000</td>\n",
       "    </tr>\n",
       "    <tr>\n",
       "      <th>mean</th>\n",
       "      <td>4.580302e+09</td>\n",
       "      <td>5.400881e+05</td>\n",
       "      <td>3.370842</td>\n",
       "      <td>2.114757</td>\n",
       "      <td>2079.899736</td>\n",
       "      <td>1.510697e+04</td>\n",
       "      <td>1.494309</td>\n",
       "      <td>0.007542</td>\n",
       "      <td>0.234303</td>\n",
       "      <td>3.409430</td>\n",
       "      <td>7.656873</td>\n",
       "      <td>1788.390691</td>\n",
       "      <td>291.509045</td>\n",
       "      <td>1971.005136</td>\n",
       "      <td>84.402258</td>\n",
       "      <td>98077.939805</td>\n",
       "      <td>47.560053</td>\n",
       "      <td>-122.213896</td>\n",
       "      <td>1986.552492</td>\n",
       "      <td>12768.455652</td>\n",
       "    </tr>\n",
       "    <tr>\n",
       "      <th>std</th>\n",
       "      <td>2.876566e+09</td>\n",
       "      <td>3.671272e+05</td>\n",
       "      <td>0.930062</td>\n",
       "      <td>0.770163</td>\n",
       "      <td>918.440897</td>\n",
       "      <td>4.142051e+04</td>\n",
       "      <td>0.539989</td>\n",
       "      <td>0.086517</td>\n",
       "      <td>0.766318</td>\n",
       "      <td>0.650743</td>\n",
       "      <td>1.175459</td>\n",
       "      <td>828.090978</td>\n",
       "      <td>442.575043</td>\n",
       "      <td>29.373411</td>\n",
       "      <td>401.679240</td>\n",
       "      <td>53.505026</td>\n",
       "      <td>0.138564</td>\n",
       "      <td>0.140828</td>\n",
       "      <td>685.391304</td>\n",
       "      <td>27304.179631</td>\n",
       "    </tr>\n",
       "    <tr>\n",
       "      <th>min</th>\n",
       "      <td>1.000102e+06</td>\n",
       "      <td>7.500000e+04</td>\n",
       "      <td>0.000000</td>\n",
       "      <td>0.000000</td>\n",
       "      <td>290.000000</td>\n",
       "      <td>5.200000e+02</td>\n",
       "      <td>1.000000</td>\n",
       "      <td>0.000000</td>\n",
       "      <td>0.000000</td>\n",
       "      <td>1.000000</td>\n",
       "      <td>1.000000</td>\n",
       "      <td>290.000000</td>\n",
       "      <td>0.000000</td>\n",
       "      <td>1900.000000</td>\n",
       "      <td>0.000000</td>\n",
       "      <td>98001.000000</td>\n",
       "      <td>47.155900</td>\n",
       "      <td>-122.519000</td>\n",
       "      <td>399.000000</td>\n",
       "      <td>651.000000</td>\n",
       "    </tr>\n",
       "    <tr>\n",
       "      <th>25%</th>\n",
       "      <td>2.123049e+09</td>\n",
       "      <td>3.219500e+05</td>\n",
       "      <td>3.000000</td>\n",
       "      <td>1.750000</td>\n",
       "      <td>1427.000000</td>\n",
       "      <td>5.040000e+03</td>\n",
       "      <td>1.000000</td>\n",
       "      <td>0.000000</td>\n",
       "      <td>0.000000</td>\n",
       "      <td>3.000000</td>\n",
       "      <td>7.000000</td>\n",
       "      <td>1190.000000</td>\n",
       "      <td>0.000000</td>\n",
       "      <td>1951.000000</td>\n",
       "      <td>0.000000</td>\n",
       "      <td>98033.000000</td>\n",
       "      <td>47.471000</td>\n",
       "      <td>-122.328000</td>\n",
       "      <td>1490.000000</td>\n",
       "      <td>5100.000000</td>\n",
       "    </tr>\n",
       "    <tr>\n",
       "      <th>50%</th>\n",
       "      <td>3.904930e+09</td>\n",
       "      <td>4.500000e+05</td>\n",
       "      <td>3.000000</td>\n",
       "      <td>2.250000</td>\n",
       "      <td>1910.000000</td>\n",
       "      <td>7.618000e+03</td>\n",
       "      <td>1.500000</td>\n",
       "      <td>0.000000</td>\n",
       "      <td>0.000000</td>\n",
       "      <td>3.000000</td>\n",
       "      <td>7.000000</td>\n",
       "      <td>1560.000000</td>\n",
       "      <td>0.000000</td>\n",
       "      <td>1975.000000</td>\n",
       "      <td>0.000000</td>\n",
       "      <td>98065.000000</td>\n",
       "      <td>47.571800</td>\n",
       "      <td>-122.230000</td>\n",
       "      <td>1840.000000</td>\n",
       "      <td>7620.000000</td>\n",
       "    </tr>\n",
       "    <tr>\n",
       "      <th>75%</th>\n",
       "      <td>7.308900e+09</td>\n",
       "      <td>6.450000e+05</td>\n",
       "      <td>4.000000</td>\n",
       "      <td>2.500000</td>\n",
       "      <td>2550.000000</td>\n",
       "      <td>1.068800e+04</td>\n",
       "      <td>2.000000</td>\n",
       "      <td>0.000000</td>\n",
       "      <td>0.000000</td>\n",
       "      <td>4.000000</td>\n",
       "      <td>8.000000</td>\n",
       "      <td>2210.000000</td>\n",
       "      <td>560.000000</td>\n",
       "      <td>1997.000000</td>\n",
       "      <td>0.000000</td>\n",
       "      <td>98118.000000</td>\n",
       "      <td>47.678000</td>\n",
       "      <td>-122.125000</td>\n",
       "      <td>2360.000000</td>\n",
       "      <td>10083.000000</td>\n",
       "    </tr>\n",
       "    <tr>\n",
       "      <th>max</th>\n",
       "      <td>9.900000e+09</td>\n",
       "      <td>7.700000e+06</td>\n",
       "      <td>33.000000</td>\n",
       "      <td>8.000000</td>\n",
       "      <td>13540.000000</td>\n",
       "      <td>1.651359e+06</td>\n",
       "      <td>3.500000</td>\n",
       "      <td>1.000000</td>\n",
       "      <td>4.000000</td>\n",
       "      <td>5.000000</td>\n",
       "      <td>13.000000</td>\n",
       "      <td>9410.000000</td>\n",
       "      <td>4820.000000</td>\n",
       "      <td>2015.000000</td>\n",
       "      <td>2015.000000</td>\n",
       "      <td>98199.000000</td>\n",
       "      <td>47.777600</td>\n",
       "      <td>-121.315000</td>\n",
       "      <td>6210.000000</td>\n",
       "      <td>871200.000000</td>\n",
       "    </tr>\n",
       "  </tbody>\n",
       "</table>\n",
       "</div>"
      ],
      "text/plain": [
       "                 id         price  ...  sqft_living15     sqft_lot15\n",
       "count  2.161300e+04  2.161300e+04  ...   21613.000000   21613.000000\n",
       "mean   4.580302e+09  5.400881e+05  ...    1986.552492   12768.455652\n",
       "std    2.876566e+09  3.671272e+05  ...     685.391304   27304.179631\n",
       "min    1.000102e+06  7.500000e+04  ...     399.000000     651.000000\n",
       "25%    2.123049e+09  3.219500e+05  ...    1490.000000    5100.000000\n",
       "50%    3.904930e+09  4.500000e+05  ...    1840.000000    7620.000000\n",
       "75%    7.308900e+09  6.450000e+05  ...    2360.000000   10083.000000\n",
       "max    9.900000e+09  7.700000e+06  ...    6210.000000  871200.000000\n",
       "\n",
       "[8 rows x 20 columns]"
      ]
     },
     "execution_count": 12,
     "metadata": {
      "tags": []
     },
     "output_type": "execute_result"
    }
   ],
   "source": [
    "casa.describe()"
   ]
  },
  {
   "cell_type": "markdown",
   "metadata": {
    "id": "Z8Z0ILpfLr4X"
   },
   "source": [
    "Alguns valores mínimos estão com os valores zerados, como *bedrooms*, *bathrooms*, *waterfront*, *view*, *sqft_basement* e *yr_renovated*. Esses valores zerados podem indicar a ausência de um desses componentes da casa.\n",
    "\n",
    "Alguns desses fazem sentido, como *waterfront*, *view*, *sqft_basement* e *yr_renovated*, mas *bedrooms* e *bathrooms* não faz. Ocorre que é difícil de pensar em uma casa que não tenha quartos nem banheiros."
   ]
  },
  {
   "cell_type": "code",
   "execution_count": null,
   "metadata": {
    "colab": {
     "base_uri": "https://localhost:8080/"
    },
    "id": "p_fK1Rh9EGsJ",
    "outputId": "6dc487d5-aeb1-45f2-e227-e2c9b10cb8a6"
   },
   "outputs": [
    {
     "data": {
      "text/plain": [
       "id               1.000102e+06\n",
       "price            7.500000e+04\n",
       "bedrooms         0.000000e+00\n",
       "bathrooms        0.000000e+00\n",
       "sqft_living      2.900000e+02\n",
       "sqft_lot         5.200000e+02\n",
       "floors           1.000000e+00\n",
       "waterfront       0.000000e+00\n",
       "view             0.000000e+00\n",
       "condition        1.000000e+00\n",
       "grade            1.000000e+00\n",
       "sqft_above       2.900000e+02\n",
       "sqft_basement    0.000000e+00\n",
       "yr_built         1.900000e+03\n",
       "yr_renovated     0.000000e+00\n",
       "zipcode          9.800100e+04\n",
       "lat              4.715590e+01\n",
       "long            -1.225190e+02\n",
       "sqft_living15    3.990000e+02\n",
       "sqft_lot15       6.510000e+02\n",
       "Name: min, dtype: float64"
      ]
     },
     "execution_count": 13,
     "metadata": {
      "tags": []
     },
     "output_type": "execute_result"
    }
   ],
   "source": [
    "casa.describe().T['min']"
   ]
  },
  {
   "cell_type": "markdown",
   "metadata": {
    "id": "Kc0AxonsQJhQ"
   },
   "source": [
    "Por esse motivo irei substituir valores zerados pela mediana, que é uma medida de posição bastante usada para imputar valores por ser imune a valores discrepantes (*outliers*)."
   ]
  },
  {
   "cell_type": "code",
   "execution_count": null,
   "metadata": {
    "id": "pa-YDWesOPyw"
   },
   "outputs": [],
   "source": [
    "lista=['bedrooms','bathrooms']\n",
    "for i in lista:\n",
    "    casa[i].replace(0,casa[i].median(),inplace=True)"
   ]
  },
  {
   "cell_type": "markdown",
   "metadata": {
    "id": "4fpCuhvmQkjZ"
   },
   "source": [
    "Observando novamente os valores mínimos podemos ver que os valores zerados foram imputados com sucesso."
   ]
  },
  {
   "cell_type": "code",
   "execution_count": null,
   "metadata": {
    "colab": {
     "base_uri": "https://localhost:8080/"
    },
    "id": "qGpj2zymOP1S",
    "outputId": "a907c1fa-cee0-4128-811c-3a2b2ace6e5b"
   },
   "outputs": [
    {
     "data": {
      "text/plain": [
       "id               1.000102e+06\n",
       "price            7.500000e+04\n",
       "bedrooms         1.000000e+00\n",
       "bathrooms        5.000000e-01\n",
       "sqft_living      2.900000e+02\n",
       "sqft_lot         5.200000e+02\n",
       "floors           1.000000e+00\n",
       "waterfront       0.000000e+00\n",
       "view             0.000000e+00\n",
       "condition        1.000000e+00\n",
       "grade            1.000000e+00\n",
       "sqft_above       2.900000e+02\n",
       "sqft_basement    0.000000e+00\n",
       "yr_built         1.900000e+03\n",
       "yr_renovated     0.000000e+00\n",
       "zipcode          9.800100e+04\n",
       "lat              4.715590e+01\n",
       "long            -1.225190e+02\n",
       "sqft_living15    3.990000e+02\n",
       "sqft_lot15       6.510000e+02\n",
       "Name: min, dtype: float64"
      ]
     },
     "execution_count": 15,
     "metadata": {
      "tags": []
     },
     "output_type": "execute_result"
    }
   ],
   "source": [
    "casa.describe().T['min']"
   ]
  },
  {
   "cell_type": "markdown",
   "metadata": {
    "id": "jfIWgtw_Qt-C"
   },
   "source": [
    "## Análise exploratória dos dados\n",
    "\n",
    "Vamos analisar os dados e ver que informações podemos extrar da nossa base de dados. Vamos fazer algumas perguntas (hipóteses) e tentar respondê-las com os nossos dados:\n",
    "\n",
    "1) Casas com maiores áreas são mais caras ?\n",
    "\n",
    "2) Casas com mais banheiros e mais quartos são mais caras ?\n",
    "\n",
    "3) Qual a relação entre o preço das casas e o seu ano de construção ?\n",
    "\n",
    "4) Os níveis das casas, suas condições e as notas tem relação com o preço ?\n",
    "\n",
    "5) Há diferença entre o preço de casas com e sem vista para o mar ?\n",
    "\n",
    "Podem ver que sempre as nossas hipóteses estão relacionadas com o preço, que é a nossa variável alvo e que queremos conhecer seu comportamento.\n",
    "\n",
    "#### Hipótese 1\n",
    "\n",
    "A primeira pergunta usaremos gráficos *scatterplot* para visualizar a relação. Temos 6 *features* que tratam da área de componentes da casa: *sqft_living*, *sqft_lot*, *sqft_above*, *sqft_basement*, *sqft_living15* e *sqft_lot15*.\n",
    "\n",
    "Abaixo estão os gráficos dessas *features* comparadas aos preços das casas e dessas, as que mostraram parecer ter uma relação linear com a variável *target* *price* foram *sqft_living*, *sqft_above* e *sqft_living15*. Ou seja a medida que há um crescimento no valor dessas características, há um aumento no valor das casas. Então essas *features* podem ser úteis para a modelagem dos preços das casas."
   ]
  },
  {
   "cell_type": "code",
   "execution_count": null,
   "metadata": {
    "colab": {
     "base_uri": "https://localhost:8080/",
     "height": 617
    },
    "id": "6r1rcvXfOP8p",
    "outputId": "4b0385e3-bb94-4d36-bca9-bf44623b2918"
   },
   "outputs": [
    {
     "data": {
      "image/png": "[encoded data removed]",
      "text/plain": [
       "<Figure size 1440x720 with 6 Axes>"
      ]
     },
     "metadata": {
      "needs_background": "light",
      "tags": []
     },
     "output_type": "display_data"
    }
   ],
   "source": [
    "fig,ax = plt.subplots(3,2, figsize=(20,10))\n",
    "sns.scatterplot(x=casa['sqft_living'],y=casa['price'],ax=ax[0][0]);\n",
    "sns.scatterplot(x=casa['sqft_lot'],y=casa['price'],ax=ax[0][1]);\n",
    "sns.scatterplot(x=casa['sqft_above'],y=casa['price'],ax=ax[1][0]);\n",
    "sns.scatterplot(x=casa['sqft_basement'],y=casa['price'],ax=ax[1][1]);\n",
    "sns.scatterplot(x=casa['sqft_living15'],y=casa['price'],ax=ax[2][0]);\n",
    "sns.scatterplot(x=casa['sqft_lot15'],y=casa['price'],ax=ax[2][1]);"
   ]
  },
  {
   "cell_type": "markdown",
   "metadata": {
    "id": "PasRGpcIcphG"
   },
   "source": [
    "#### Hipótese 2\n",
    "\n",
    "Para respondermos essa iremos usar gráficos do tipo barra. Vemos que para banheiros há uma tendência de crescimento dos preços a medida que o número de banheiros nos quartos aumentam . Já para a *feature bedrooms* até 8 quartos os preços são crescentes e depois a média declina.\n",
    "\n",
    "Podemos perceber que há um *outlier*: uma casa com 33 quartos."
   ]
  },
  {
   "cell_type": "code",
   "execution_count": null,
   "metadata": {
    "colab": {
     "base_uri": "https://localhost:8080/",
     "height": 345
    },
    "id": "A7_OZ7SiOP-p",
    "outputId": "d6d75bf5-b10c-4ba5-9838-7a1887bedbea"
   },
   "outputs": [
    {
     "data": {
      "image/png": "[encoded data removed]",
      "text/plain": [
       "<Figure size 1440x360 with 2 Axes>"
      ]
     },
     "metadata": {
      "needs_background": "light",
      "tags": []
     },
     "output_type": "display_data"
    }
   ],
   "source": [
    "fig,ax = plt.subplots(1,2, figsize=(20,5))\n",
    "sns.barplot(x='bathrooms', y='price', data=casa, ax=ax[0], palette='PuBu')\n",
    "sns.barplot(x='bedrooms', y='price', data=casa, ax=ax[1],palette='PuBu');"
   ]
  },
  {
   "cell_type": "markdown",
   "metadata": {
    "id": "5MduDdBTfLNG"
   },
   "source": [
    "#### Hipótese 3\n",
    "\n",
    "Casas construídas de 1900 até 1943 aparentam ter uma tendência do preço médio. Porém podemos ver no gráfico que casas construídas mais recentemente possuem preços médios maiores."
   ]
  },
  {
   "cell_type": "code",
   "execution_count": null,
   "metadata": {
    "colab": {
     "base_uri": "https://localhost:8080/",
     "height": 426
    },
    "id": "5lKLwF0YOQGm",
    "outputId": "64334de0-ad0c-4641-f408-3e320635f508"
   },
   "outputs": [
    {
     "data": {
      "image/png": "[encoded data removed]",
      "text/plain": [
       "<Figure size 1440x432 with 1 Axes>"
      ]
     },
     "metadata": {
      "needs_background": "light",
      "tags": []
     },
     "output_type": "display_data"
    }
   ],
   "source": [
    "plt.figure(figsize=(20,6))\n",
    "plt.title('Preços de casas vs Ano de construção da casa',size=15)\n",
    "sns.pointplot(x='yr_built', y='price',data=casa,color='black')\n",
    "plt.xlabel('Ano de reforma da casa',size=15)\n",
    "plt.ylabel('Preço da casa',size=15)\n",
    "plt.xticks(rotation=90);"
   ]
  },
  {
   "cell_type": "markdown",
   "metadata": {
    "id": "UGdy_-5ijXHn"
   },
   "source": [
    "#### Hipótese 4\n",
    "\n",
    "Vemos que a maioria das casas possuem 1 ou 2 níveis. A maior parte das casas possuem condições de regulares a ótimas.\n"
   ]
  },
  {
   "cell_type": "code",
   "execution_count": null,
   "metadata": {
    "colab": {
     "base_uri": "https://localhost:8080/",
     "height": 334
    },
    "id": "vG2kE6nXOQTw",
    "outputId": "9500bce0-4c30-4f4a-9168-101640b8b890"
   },
   "outputs": [
    {
     "data": {
      "image/png": "[encoded data removed]",
      "text/plain": [
       "<Figure size 1440x360 with 2 Axes>"
      ]
     },
     "metadata": {
      "needs_background": "light",
      "tags": []
     },
     "output_type": "display_data"
    }
   ],
   "source": [
    "fig,ax = plt.subplots(1,2, figsize=(20,5))\n",
    "sns.countplot(x='floors', data=casa,ax=ax[0],palette='PuBu')\n",
    "sns.countplot(x='condition', data=casa,ax=ax[1],palette='PuBu');"
   ]
  },
  {
   "cell_type": "markdown",
   "metadata": {
    "id": "bPgIPd4Qmnte"
   },
   "source": [
    "Mas vemos que o casas com mais níveis, tem valores médios maiores. Casas em condições mais elevadas possuem preços médios maiores."
   ]
  },
  {
   "cell_type": "code",
   "execution_count": null,
   "metadata": {
    "colab": {
     "base_uri": "https://localhost:8080/",
     "height": 345
    },
    "id": "D4G2YXeJOQd-",
    "outputId": "c7596998-c375-4e62-d396-9b990ac18775"
   },
   "outputs": [
    {
     "data": {
      "image/png": "[encoded data removed]",
      "text/plain": [
       "<Figure size 1440x360 with 2 Axes>"
      ]
     },
     "metadata": {
      "needs_background": "light",
      "tags": []
     },
     "output_type": "display_data"
    }
   ],
   "source": [
    "fig,ax = plt.subplots(1,2, figsize=(20,5))\n",
    "sns.barplot(x='floors',y='price', data=casa,ax=ax[0],palette='Oranges')\n",
    "sns.barplot(x='condition',y='price', data=casa,ax=ax[1],palette='Oranges');"
   ]
  },
  {
   "cell_type": "markdown",
   "metadata": {
    "id": "WDOcGXlfndSe"
   },
   "source": [
    "A medida que as notas aumentam os preços também aumentam e note que o comportamento aparenta ser exponencial. Então podemos concluir que as *features* apresentadas aqui possuem uma relação com os preços das casas."
   ]
  },
  {
   "cell_type": "code",
   "execution_count": null,
   "metadata": {
    "colab": {
     "base_uri": "https://localhost:8080/",
     "height": 357
    },
    "id": "f38ACZbJOQml",
    "outputId": "a7fc285d-00f8-47c9-aa33-38bb3868fb8d"
   },
   "outputs": [
    {
     "data": {
      "image/png": "[encoded data removed]",
      "text/plain": [
       "<Figure size 1440x360 with 1 Axes>"
      ]
     },
     "metadata": {
      "needs_background": "light",
      "tags": []
     },
     "output_type": "display_data"
    }
   ],
   "source": [
    "plt.figure(figsize=(20,5))\n",
    "sns.lineplot(x='grade',y='price',data=casa)\n",
    "plt.xlabel('Notas das casas', size=15)\n",
    "plt.ylabel('Preços das casas', size=15)\n",
    "plt.title('Relação entre notas e preços',size=15);"
   ]
  },
  {
   "cell_type": "markdown",
   "metadata": {
    "id": "za1T9fkEp5Qw"
   },
   "source": [
    "#### Hipótese 5\n",
    "\n",
    "Por fim, nossa última hipótese pode ser respondida abaixo: mesmo o número de casas com vista para o mar sendo menor, seus preços médios são maiores que os das casas sem vista para o mar."
   ]
  },
  {
   "cell_type": "code",
   "execution_count": null,
   "metadata": {
    "colab": {
     "base_uri": "https://localhost:8080/",
     "height": 345
    },
    "id": "sKfBUChAOQ2B",
    "outputId": "a622c53e-b057-425a-b7b5-b685601356bd"
   },
   "outputs": [
    {
     "data": {
      "image/png": "[encoded data removed]",
      "text/plain": [
       "<Figure size 1440x360 with 2 Axes>"
      ]
     },
     "metadata": {
      "needs_background": "light",
      "tags": []
     },
     "output_type": "display_data"
    }
   ],
   "source": [
    "fig,ax = plt.subplots(1,2, figsize=(20,5))\n",
    "sns.countplot(x='waterfront', data=casa,ax=ax[0],palette='Oranges')\n",
    "sns.barplot(x='waterfront',y='price', data=casa,ax=ax[1],palette='Oranges');"
   ]
  },
  {
   "cell_type": "markdown",
   "metadata": {
    "id": "6d-0cCVequT4"
   },
   "source": [
    "## Seleção de *Features*\n",
    "\n",
    "Vimos anteriormente que temos 21 colunas e algumas colunas não nos trazem informações relevantes ou não são apropriadas para aplicarmos ao modelo. Por exemplo: *id*, *date*, *yr_built*, *yr_renovated*, *zipcode*, *lat* e *long*.\n",
    "\n",
    "Essas colunas serão eliminadas."
   ]
  },
  {
   "cell_type": "code",
   "execution_count": null,
   "metadata": {
    "id": "wRnTG_gJuCmX"
   },
   "outputs": [],
   "source": [
    "casa=casa.drop(['id','date','yr_built','yr_renovated','zipcode','lat','long'],axis=1)"
   ]
  },
  {
   "cell_type": "markdown",
   "metadata": {
    "id": "0FPpui-Nufgi"
   },
   "source": [
    "Agora temos 14 *features*.\n"
   ]
  },
  {
   "cell_type": "code",
   "execution_count": null,
   "metadata": {
    "colab": {
     "base_uri": "https://localhost:8080/"
    },
    "id": "rgnUCRPLs36c",
    "outputId": "2bc5c286-ec5c-4b84-ce9b-eafbab32f5bf"
   },
   "outputs": [
    {
     "data": {
      "text/plain": [
       "(21613, 14)"
      ]
     },
     "execution_count": 24,
     "metadata": {
      "tags": []
     },
     "output_type": "execute_result"
    }
   ],
   "source": [
    "casa.shape"
   ]
  },
  {
   "cell_type": "markdown",
   "metadata": {
    "id": "bBlb39auu1SN"
   },
   "source": [
    "Temos ainda um número elevado de *features*, por isso podemos selecionar as mais adequadas para o nosso problema de regressão por meio da correlação."
   ]
  },
  {
   "cell_type": "code",
   "execution_count": null,
   "metadata": {
    "colab": {
     "base_uri": "https://localhost:8080/"
    },
    "id": "YfT1NHG2u1sm",
    "outputId": "e920399d-8f9c-495c-9c14-82ce2f04e466"
   },
   "outputs": [
    {
     "data": {
      "text/plain": [
       "price            1.000000\n",
       "bedrooms         0.308868\n",
       "bathrooms        0.525714\n",
       "sqft_living      0.702035\n",
       "sqft_lot         0.089661\n",
       "floors           0.256794\n",
       "waterfront       0.266369\n",
       "view             0.397293\n",
       "condition        0.036362\n",
       "grade            0.667434\n",
       "sqft_above       0.605567\n",
       "sqft_basement    0.323816\n",
       "sqft_living15    0.585379\n",
       "sqft_lot15       0.082447\n",
       "Name: price, dtype: float64"
      ]
     },
     "execution_count": 25,
     "metadata": {
      "tags": []
     },
     "output_type": "execute_result"
    }
   ],
   "source": [
    "casa.corr()['price']"
   ]
  },
  {
   "cell_type": "markdown",
   "metadata": {
    "id": "41Ot0TiFx0zT"
   },
   "source": [
    "Vamos ver quais as *features* que passam dos 30% de correlação com o preço."
   ]
  },
  {
   "cell_type": "code",
   "execution_count": null,
   "metadata": {
    "colab": {
     "base_uri": "https://localhost:8080/"
    },
    "id": "UAqH-LDuu1yf",
    "outputId": "33d79641-3761-4260-ba19-24b22dd4be45"
   },
   "outputs": [
    {
     "data": {
      "text/plain": [
       "price             True\n",
       "bedrooms          True\n",
       "bathrooms         True\n",
       "sqft_living       True\n",
       "sqft_lot         False\n",
       "floors           False\n",
       "waterfront       False\n",
       "view              True\n",
       "condition        False\n",
       "grade             True\n",
       "sqft_above        True\n",
       "sqft_basement     True\n",
       "sqft_living15     True\n",
       "sqft_lot15       False\n",
       "Name: price, dtype: bool"
      ]
     },
     "execution_count": 26,
     "metadata": {
      "tags": []
     },
     "output_type": "execute_result"
    }
   ],
   "source": [
    "casa.corr()['price']>0.3"
   ]
  },
  {
   "cell_type": "markdown",
   "metadata": {
    "id": "2bJ8qWsOx9-x"
   },
   "source": [
    "Podemos então selecionar essas variáveis."
   ]
  },
  {
   "cell_type": "code",
   "execution_count": null,
   "metadata": {
    "id": "gQCu7V84NFIv"
   },
   "outputs": [],
   "source": [
    "casa2=casa[['bedrooms','bathrooms','sqft_living','view','grade','sqft_above','sqft_basement','sqft_living15','price']]"
   ]
  },
  {
   "cell_type": "markdown",
   "metadata": {
    "id": "AAiOtpklyIvk"
   },
   "source": [
    "Saímos de 20 características para apenas 9."
   ]
  },
  {
   "cell_type": "code",
   "execution_count": null,
   "metadata": {
    "colab": {
     "base_uri": "https://localhost:8080/"
    },
    "id": "2bCgmwVuNFKy",
    "outputId": "5d64022b-d16a-44eb-861b-2616dc9afce1"
   },
   "outputs": [
    {
     "data": {
      "text/plain": [
       "(21613, 9)"
      ]
     },
     "execution_count": 28,
     "metadata": {
      "tags": []
     },
     "output_type": "execute_result"
    }
   ],
   "source": [
    "casa2.shape"
   ]
  },
  {
   "cell_type": "markdown",
   "metadata": {
    "id": "cJL1zMzryQP8"
   },
   "source": [
    "Vamos visualizar essa nova base de dados."
   ]
  },
  {
   "cell_type": "code",
   "execution_count": null,
   "metadata": {
    "colab": {
     "base_uri": "https://localhost:8080/",
     "height": 202
    },
    "id": "tYr6pGYpNFMm",
    "outputId": "113d3b8d-d106-4860-e465-b841aa9231e3"
   },
   "outputs": [
    {
     "data": {
      "text/html": [
       "<div>\n",
       "<style scoped>\n",
       "    .dataframe tbody tr th:only-of-type {\n",
       "        vertical-align: middle;\n",
       "    }\n",
       "\n",
       "    .dataframe tbody tr th {\n",
       "        vertical-align: top;\n",
       "    }\n",
       "\n",
       "    .dataframe thead th {\n",
       "        text-align: right;\n",
       "    }\n",
       "</style>\n",
       "<table border=\"1\" class=\"dataframe\">\n",
       "  <thead>\n",
       "    <tr style=\"text-align: right;\">\n",
       "      <th></th>\n",
       "      <th>bedrooms</th>\n",
       "      <th>bathrooms</th>\n",
       "      <th>sqft_living</th>\n",
       "      <th>view</th>\n",
       "      <th>grade</th>\n",
       "      <th>sqft_above</th>\n",
       "      <th>sqft_basement</th>\n",
       "      <th>sqft_living15</th>\n",
       "      <th>price</th>\n",
       "    </tr>\n",
       "  </thead>\n",
       "  <tbody>\n",
       "    <tr>\n",
       "      <th>0</th>\n",
       "      <td>3</td>\n",
       "      <td>1.00</td>\n",
       "      <td>1180</td>\n",
       "      <td>0</td>\n",
       "      <td>7</td>\n",
       "      <td>1180</td>\n",
       "      <td>0</td>\n",
       "      <td>1340</td>\n",
       "      <td>221900</td>\n",
       "    </tr>\n",
       "    <tr>\n",
       "      <th>1</th>\n",
       "      <td>3</td>\n",
       "      <td>2.25</td>\n",
       "      <td>2570</td>\n",
       "      <td>0</td>\n",
       "      <td>7</td>\n",
       "      <td>2170</td>\n",
       "      <td>400</td>\n",
       "      <td>1690</td>\n",
       "      <td>538000</td>\n",
       "    </tr>\n",
       "    <tr>\n",
       "      <th>2</th>\n",
       "      <td>2</td>\n",
       "      <td>1.00</td>\n",
       "      <td>770</td>\n",
       "      <td>0</td>\n",
       "      <td>6</td>\n",
       "      <td>770</td>\n",
       "      <td>0</td>\n",
       "      <td>2720</td>\n",
       "      <td>180000</td>\n",
       "    </tr>\n",
       "    <tr>\n",
       "      <th>3</th>\n",
       "      <td>4</td>\n",
       "      <td>3.00</td>\n",
       "      <td>1960</td>\n",
       "      <td>0</td>\n",
       "      <td>7</td>\n",
       "      <td>1050</td>\n",
       "      <td>910</td>\n",
       "      <td>1360</td>\n",
       "      <td>604000</td>\n",
       "    </tr>\n",
       "    <tr>\n",
       "      <th>4</th>\n",
       "      <td>3</td>\n",
       "      <td>2.00</td>\n",
       "      <td>1680</td>\n",
       "      <td>0</td>\n",
       "      <td>8</td>\n",
       "      <td>1680</td>\n",
       "      <td>0</td>\n",
       "      <td>1800</td>\n",
       "      <td>510000</td>\n",
       "    </tr>\n",
       "  </tbody>\n",
       "</table>\n",
       "</div>"
      ],
      "text/plain": [
       "   bedrooms  bathrooms  sqft_living  ...  sqft_basement  sqft_living15   price\n",
       "0         3       1.00         1180  ...              0           1340  221900\n",
       "1         3       2.25         2570  ...            400           1690  538000\n",
       "2         2       1.00          770  ...              0           2720  180000\n",
       "3         4       3.00         1960  ...            910           1360  604000\n",
       "4         3       2.00         1680  ...              0           1800  510000\n",
       "\n",
       "[5 rows x 9 columns]"
      ]
     },
     "execution_count": 29,
     "metadata": {
      "tags": []
     },
     "output_type": "execute_result"
    }
   ],
   "source": [
    "casa2.head()"
   ]
  },
  {
   "cell_type": "markdown",
   "metadata": {
    "id": "ny8EFAvMyV9q"
   },
   "source": [
    "## Separando dados de treino e teste\n",
    "\n",
    "Aqui vamos separar uma porção dos dados para treinar a rede neural e outra para avaliar o desempenho das previsões.\n",
    "\n",
    "Vamos atribuir à variáveis as *features* e o *target*, após isso vamos fazer o *split* dos dados."
   ]
  },
  {
   "cell_type": "code",
   "execution_count": null,
   "metadata": {
    "id": "2XnZZ_zQNFYh"
   },
   "outputs": [],
   "source": [
    "X=casa2.drop('price',axis=1)\n",
    "y=casa2.price"
   ]
  },
  {
   "cell_type": "markdown",
   "metadata": {
    "id": "F8CipsvYidyD"
   },
   "source": [
    "Separação do dados de treino e teste."
   ]
  },
  {
   "cell_type": "code",
   "execution_count": null,
   "metadata": {
    "id": "kHLIcLFINFb6"
   },
   "outputs": [],
   "source": [
    "X_treino, X_teste, y_treino, y_teste=train_test_split(X,y,random_state=42,test_size=0.2)"
   ]
  },
  {
   "cell_type": "markdown",
   "metadata": {
    "id": "9FLR6FMkigve"
   },
   "source": [
    "Algumas *features* que possuem valores inteiros, por esse motivo é mais adequado aplicar uma padronização dessas *features*."
   ]
  },
  {
   "cell_type": "code",
   "execution_count": null,
   "metadata": {
    "colab": {
     "base_uri": "https://localhost:8080/"
    },
    "id": "OEdFqkpLeKHp",
    "outputId": "03571160-3ba3-42f9-b38d-32ee7ed18737"
   },
   "outputs": [
    {
     "name": "stderr",
     "output_type": "stream",
     "text": [
      "/usr/local/lib/python3.6/dist-packages/ipykernel_launcher.py:3: SettingWithCopyWarning: \n",
      "A value is trying to be set on a copy of a slice from a DataFrame.\n",
      "Try using .loc[row_indexer,col_indexer] = value instead\n",
      "\n",
      "See the caveats in the documentation: https://pandas.pydata.org/pandas-docs/stable/user_guide/indexing.html#returning-a-view-versus-a-copy\n",
      "  This is separate from the ipykernel package so we can avoid doing imports until\n",
      "/usr/local/lib/python3.6/dist-packages/ipykernel_launcher.py:4: SettingWithCopyWarning: \n",
      "A value is trying to be set on a copy of a slice from a DataFrame.\n",
      "Try using .loc[row_indexer,col_indexer] = value instead\n",
      "\n",
      "See the caveats in the documentation: https://pandas.pydata.org/pandas-docs/stable/user_guide/indexing.html#returning-a-view-versus-a-copy\n",
      "  after removing the cwd from sys.path.\n"
     ]
    }
   ],
   "source": [
    "lista=['bedrooms','view','grade','sqft_basement']\n",
    "for i in lista:\n",
    "  X_treino[i]=(X_treino[i]-X_treino[i].mean())/(X_treino[i].std())\n",
    "  X_teste[i]=(X_teste[i]-X_teste[i].mean())/(X_teste[i].std())"
   ]
  },
  {
   "cell_type": "markdown",
   "metadata": {
    "id": "XMqM2hhpi1U1"
   },
   "source": [
    "Base de treino."
   ]
  },
  {
   "cell_type": "code",
   "execution_count": null,
   "metadata": {
    "colab": {
     "base_uri": "https://localhost:8080/",
     "height": 202
    },
    "id": "2WZ8cU61eKS7",
    "outputId": "4a404955-5742-4e68-a7cf-c4dd87d525c7"
   },
   "outputs": [
    {
     "data": {
      "text/html": [
       "<div>\n",
       "<style scoped>\n",
       "    .dataframe tbody tr th:only-of-type {\n",
       "        vertical-align: middle;\n",
       "    }\n",
       "\n",
       "    .dataframe tbody tr th {\n",
       "        vertical-align: top;\n",
       "    }\n",
       "\n",
       "    .dataframe thead th {\n",
       "        text-align: right;\n",
       "    }\n",
       "</style>\n",
       "<table border=\"1\" class=\"dataframe\">\n",
       "  <thead>\n",
       "    <tr style=\"text-align: right;\">\n",
       "      <th></th>\n",
       "      <th>bedrooms</th>\n",
       "      <th>bathrooms</th>\n",
       "      <th>sqft_living</th>\n",
       "      <th>view</th>\n",
       "      <th>grade</th>\n",
       "      <th>sqft_above</th>\n",
       "      <th>sqft_basement</th>\n",
       "      <th>sqft_living15</th>\n",
       "    </tr>\n",
       "  </thead>\n",
       "  <tbody>\n",
       "    <tr>\n",
       "      <th>6325</th>\n",
       "      <td>-0.397934</td>\n",
       "      <td>1.75</td>\n",
       "      <td>1780</td>\n",
       "      <td>-0.305908</td>\n",
       "      <td>1.150210</td>\n",
       "      <td>1780</td>\n",
       "      <td>-0.656291</td>\n",
       "      <td>2750</td>\n",
       "    </tr>\n",
       "    <tr>\n",
       "      <th>13473</th>\n",
       "      <td>-1.474829</td>\n",
       "      <td>1.00</td>\n",
       "      <td>1000</td>\n",
       "      <td>-0.305908</td>\n",
       "      <td>-1.413115</td>\n",
       "      <td>800</td>\n",
       "      <td>-0.200427</td>\n",
       "      <td>1270</td>\n",
       "    </tr>\n",
       "    <tr>\n",
       "      <th>17614</th>\n",
       "      <td>-0.397934</td>\n",
       "      <td>1.00</td>\n",
       "      <td>1080</td>\n",
       "      <td>-0.305908</td>\n",
       "      <td>-1.413115</td>\n",
       "      <td>990</td>\n",
       "      <td>-0.451152</td>\n",
       "      <td>1170</td>\n",
       "    </tr>\n",
       "    <tr>\n",
       "      <th>16970</th>\n",
       "      <td>-0.397934</td>\n",
       "      <td>2.25</td>\n",
       "      <td>2090</td>\n",
       "      <td>-0.305908</td>\n",
       "      <td>-0.558673</td>\n",
       "      <td>1280</td>\n",
       "      <td>1.189959</td>\n",
       "      <td>1800</td>\n",
       "    </tr>\n",
       "    <tr>\n",
       "      <th>20868</th>\n",
       "      <td>-1.474829</td>\n",
       "      <td>2.50</td>\n",
       "      <td>1741</td>\n",
       "      <td>-0.305908</td>\n",
       "      <td>0.295768</td>\n",
       "      <td>1446</td>\n",
       "      <td>0.016109</td>\n",
       "      <td>2090</td>\n",
       "    </tr>\n",
       "  </tbody>\n",
       "</table>\n",
       "</div>"
      ],
      "text/plain": [
       "       bedrooms  bathrooms  ...  sqft_basement  sqft_living15\n",
       "6325  -0.397934       1.75  ...      -0.656291           2750\n",
       "13473 -1.474829       1.00  ...      -0.200427           1270\n",
       "17614 -0.397934       1.00  ...      -0.451152           1170\n",
       "16970 -0.397934       2.25  ...       1.189959           1800\n",
       "20868 -1.474829       2.50  ...       0.016109           2090\n",
       "\n",
       "[5 rows x 8 columns]"
      ]
     },
     "execution_count": 63,
     "metadata": {
      "tags": []
     },
     "output_type": "execute_result"
    }
   ],
   "source": [
    "X_treino.head()"
   ]
  },
  {
   "cell_type": "markdown",
   "metadata": {
    "id": "zNVIgmrTjBF6"
   },
   "source": [
    "Base de teste."
   ]
  },
  {
   "cell_type": "code",
   "execution_count": null,
   "metadata": {
    "colab": {
     "base_uri": "https://localhost:8080/",
     "height": 202
    },
    "id": "Bva_dSSEeKdU",
    "outputId": "d17566a8-260f-4b98-cd63-af5b9b61500a"
   },
   "outputs": [
    {
     "data": {
      "text/html": [
       "<div>\n",
       "<style scoped>\n",
       "    .dataframe tbody tr th:only-of-type {\n",
       "        vertical-align: middle;\n",
       "    }\n",
       "\n",
       "    .dataframe tbody tr th {\n",
       "        vertical-align: top;\n",
       "    }\n",
       "\n",
       "    .dataframe thead th {\n",
       "        text-align: right;\n",
       "    }\n",
       "</style>\n",
       "<table border=\"1\" class=\"dataframe\">\n",
       "  <thead>\n",
       "    <tr style=\"text-align: right;\">\n",
       "      <th></th>\n",
       "      <th>bedrooms</th>\n",
       "      <th>bathrooms</th>\n",
       "      <th>sqft_living</th>\n",
       "      <th>view</th>\n",
       "      <th>grade</th>\n",
       "      <th>sqft_above</th>\n",
       "      <th>sqft_basement</th>\n",
       "      <th>sqft_living15</th>\n",
       "    </tr>\n",
       "  </thead>\n",
       "  <tbody>\n",
       "    <tr>\n",
       "      <th>735</th>\n",
       "      <td>0.670005</td>\n",
       "      <td>2.25</td>\n",
       "      <td>2070</td>\n",
       "      <td>-0.305226</td>\n",
       "      <td>0.276839</td>\n",
       "      <td>2070</td>\n",
       "      <td>-0.668568</td>\n",
       "      <td>2390</td>\n",
       "    </tr>\n",
       "    <tr>\n",
       "      <th>2830</th>\n",
       "      <td>1.759707</td>\n",
       "      <td>3.00</td>\n",
       "      <td>2900</td>\n",
       "      <td>-0.305226</td>\n",
       "      <td>0.276839</td>\n",
       "      <td>1830</td>\n",
       "      <td>1.670668</td>\n",
       "      <td>2370</td>\n",
       "    </tr>\n",
       "    <tr>\n",
       "      <th>4106</th>\n",
       "      <td>0.670005</td>\n",
       "      <td>2.50</td>\n",
       "      <td>3770</td>\n",
       "      <td>2.244518</td>\n",
       "      <td>2.785798</td>\n",
       "      <td>3770</td>\n",
       "      <td>-0.668568</td>\n",
       "      <td>3710</td>\n",
       "    </tr>\n",
       "    <tr>\n",
       "      <th>16218</th>\n",
       "      <td>-0.419698</td>\n",
       "      <td>3.50</td>\n",
       "      <td>4560</td>\n",
       "      <td>2.244518</td>\n",
       "      <td>3.622118</td>\n",
       "      <td>4560</td>\n",
       "      <td>-0.668568</td>\n",
       "      <td>4050</td>\n",
       "    </tr>\n",
       "    <tr>\n",
       "      <th>19964</th>\n",
       "      <td>-0.419698</td>\n",
       "      <td>2.50</td>\n",
       "      <td>2550</td>\n",
       "      <td>-0.305226</td>\n",
       "      <td>1.113158</td>\n",
       "      <td>2550</td>\n",
       "      <td>-0.668568</td>\n",
       "      <td>2250</td>\n",
       "    </tr>\n",
       "  </tbody>\n",
       "</table>\n",
       "</div>"
      ],
      "text/plain": [
       "       bedrooms  bathrooms  ...  sqft_basement  sqft_living15\n",
       "735    0.670005       2.25  ...      -0.668568           2390\n",
       "2830   1.759707       3.00  ...       1.670668           2370\n",
       "4106   0.670005       2.50  ...      -0.668568           3710\n",
       "16218 -0.419698       3.50  ...      -0.668568           4050\n",
       "19964 -0.419698       2.50  ...      -0.668568           2250\n",
       "\n",
       "[5 rows x 8 columns]"
      ]
     },
     "execution_count": 64,
     "metadata": {
      "tags": []
     },
     "output_type": "execute_result"
    }
   ],
   "source": [
    "X_teste.head()"
   ]
  },
  {
   "cell_type": "markdown",
   "metadata": {
    "id": "erBNiH8rjVF2"
   },
   "source": [
    "## Aplicação do modelo de Redes Neurais\n",
    "\n",
    "Vamos agora construir nosso modelo de rede neural. Nesse modelo usarei 3 camadas : uma de entrada, uma oculta e uma de saída. Na camada de entrada aplicarei 5 neurônios ($\\frac{8+1}{2}$, onde 8 se referem ao número de *features*) e a função de aticação será a *ReLu*. A camada oculta também terá 5 neurônios e a função de ativação *ReLu*. E a camada de saída terá apenas um neurônio e a função de ativação será a *linear* (que em tese não faz nada).\n",
    "\n",
    "A métrica que usarei será o *mean absolute error* e o otimizador da rede neural será o *adam*."
   ]
  },
  {
   "cell_type": "code",
   "execution_count": null,
   "metadata": {
    "id": "qNMPEkbmNFex"
   },
   "outputs": [],
   "source": [
    "regressor=Sequential()\n",
    "regressor.add(Dense(units=5, activation='relu',input_dim=8))\n",
    "regressor.add(Dense(units=5, activation='relu'))\n",
    "regressor.add(Dense(units=1,activation='linear'))\n",
    "regressor.compile(loss='mean_absolute_error',optimizer='adam',metrics=['mean_absolute_error'])"
   ]
  },
  {
   "cell_type": "markdown",
   "metadata": {
    "id": "j_CpSS07k0w3"
   },
   "source": [
    "Agora irei aplicar as bases de treino para treinar a rede neural."
   ]
  },
  {
   "cell_type": "code",
   "execution_count": null,
   "metadata": {
    "colab": {
     "base_uri": "https://localhost:8080/"
    },
    "id": "uf-xq4O-NFhm",
    "outputId": "1c57109e-985c-4418-fa6c-b9b2ca6bf6cc",
    "scrolled": false
   },
   "outputs": [
    {
     "name": "stdout",
     "output_type": "stream",
     "text": [
      "Epoch 1/300\n",
      "58/58 [==============================] - 0s 1ms/step - loss: 537501.4375 - mean_absolute_error: 537501.4375\n",
      "Epoch 2/300\n",
      "58/58 [==============================] - 0s 1ms/step - loss: 537127.5000 - mean_absolute_error: 537127.5000\n",
      "Epoch 3/300\n",
      "58/58 [==============================] - 0s 1ms/step - loss: 536618.4375 - mean_absolute_error: 536618.4375\n",
      "Epoch 4/300\n",
      "58/58 [==============================] - 0s 1ms/step - loss: 535907.9375 - mean_absolute_error: 535907.9375\n",
      "Epoch 5/300\n",
      "58/58 [==============================] - 0s 1ms/step - loss: 534944.8125 - mean_absolute_error: 534944.8125\n",
      "Epoch 6/300\n",
      "58/58 [==============================] - 0s 1ms/step - loss: 533679.8750 - mean_absolute_error: 533679.8750\n",
      "Epoch 7/300\n",
      "58/58 [==============================] - 0s 1ms/step - loss: 532065.0000 - mean_absolute_error: 532065.0000\n",
      "Epoch 8/300\n",
      "58/58 [==============================] - 0s 1ms/step - loss: 530052.5625 - mean_absolute_error: 530052.5625\n",
      "Epoch 9/300\n",
      "58/58 [==============================] - 0s 1ms/step - loss: 527596.6875 - mean_absolute_error: 527596.6875\n",
      "Epoch 10/300\n",
      "58/58 [==============================] - 0s 1ms/step - loss: 524654.6250 - mean_absolute_error: 524654.6250\n",
      "Epoch 11/300\n",
      "58/58 [==============================] - 0s 1ms/step - loss: 521183.4375 - mean_absolute_error: 521183.4375\n",
      "Epoch 12/300\n",
      "58/58 [==============================] - 0s 1ms/step - loss: 517146.2812 - mean_absolute_error: 517146.2500\n",
      "Epoch 13/300\n",
      "58/58 [==============================] - 0s 1ms/step - loss: 512505.8438 - mean_absolute_error: 512505.8438\n",
      "Epoch 14/300\n",
      "58/58 [==============================] - 0s 1ms/step - loss: 507230.8438 - mean_absolute_error: 507230.8438\n",
      "Epoch 15/300\n",
      "58/58 [==============================] - 0s 2ms/step - loss: 501283.0625 - mean_absolute_error: 501283.0625\n",
      "Epoch 16/300\n",
      "58/58 [==============================] - 0s 1ms/step - loss: 494639.2812 - mean_absolute_error: 494639.2812\n",
      "Epoch 17/300\n",
      "58/58 [==============================] - 0s 1ms/step - loss: 487263.9062 - mean_absolute_error: 487263.9062\n",
      "Epoch 18/300\n",
      "58/58 [==============================] - 0s 1ms/step - loss: 479136.3125 - mean_absolute_error: 479136.3125\n",
      "Epoch 19/300\n",
      "58/58 [==============================] - 0s 1ms/step - loss: 470226.2188 - mean_absolute_error: 470226.2188\n",
      "Epoch 20/300\n",
      "58/58 [==============================] - 0s 1ms/step - loss: 460514.4062 - mean_absolute_error: 460514.4062\n",
      "Epoch 21/300\n",
      "58/58 [==============================] - 0s 1ms/step - loss: 449976.5000 - mean_absolute_error: 449976.5000\n",
      "Epoch 22/300\n",
      "58/58 [==============================] - 0s 1ms/step - loss: 438587.7188 - mean_absolute_error: 438587.7188\n",
      "Epoch 23/300\n",
      "58/58 [==============================] - 0s 1ms/step - loss: 426341.2500 - mean_absolute_error: 426341.2500\n",
      "Epoch 24/300\n",
      "58/58 [==============================] - 0s 1ms/step - loss: 413201.0312 - mean_absolute_error: 413201.0312\n",
      "Epoch 25/300\n",
      "58/58 [==============================] - 0s 1ms/step - loss: 399165.1250 - mean_absolute_error: 399165.1562\n",
      "Epoch 26/300\n",
      "58/58 [==============================] - 0s 1ms/step - loss: 384211.6875 - mean_absolute_error: 384211.6875\n",
      "Epoch 27/300\n",
      "58/58 [==============================] - 0s 1ms/step - loss: 368325.5625 - mean_absolute_error: 368325.5312\n",
      "Epoch 28/300\n",
      "58/58 [==============================] - 0s 1ms/step - loss: 351528.1562 - mean_absolute_error: 351528.1562\n",
      "Epoch 29/300\n",
      "58/58 [==============================] - 0s 1ms/step - loss: 333902.8438 - mean_absolute_error: 333902.8438\n",
      "Epoch 30/300\n",
      "58/58 [==============================] - 0s 1ms/step - loss: 315585.1250 - mean_absolute_error: 315585.1250\n",
      "Epoch 31/300\n",
      "58/58 [==============================] - 0s 1ms/step - loss: 296859.9375 - mean_absolute_error: 296859.9375\n",
      "Epoch 32/300\n",
      "58/58 [==============================] - 0s 1ms/step - loss: 278287.6562 - mean_absolute_error: 278287.6562\n",
      "Epoch 33/300\n",
      "58/58 [==============================] - 0s 1ms/step - loss: 260565.2344 - mean_absolute_error: 260565.2344\n",
      "Epoch 34/300\n",
      "58/58 [==============================] - 0s 1ms/step - loss: 244369.9219 - mean_absolute_error: 244369.9219\n",
      "Epoch 35/300\n",
      "58/58 [==============================] - 0s 1ms/step - loss: 230215.9219 - mean_absolute_error: 230215.9375\n",
      "Epoch 36/300\n",
      "58/58 [==============================] - 0s 1ms/step - loss: 218066.1250 - mean_absolute_error: 218066.1250\n",
      "Epoch 37/300\n",
      "58/58 [==============================] - 0s 1ms/step - loss: 207816.7656 - mean_absolute_error: 207816.7656\n",
      "Epoch 38/300\n",
      "58/58 [==============================] - 0s 1ms/step - loss: 199224.3438 - mean_absolute_error: 199224.3438\n",
      "Epoch 39/300\n",
      "58/58 [==============================] - 0s 1ms/step - loss: 192049.0781 - mean_absolute_error: 192049.0781\n",
      "Epoch 40/300\n",
      "58/58 [==============================] - 0s 1ms/step - loss: 186127.4375 - mean_absolute_error: 186127.4375\n",
      "Epoch 41/300\n",
      "58/58 [==============================] - 0s 1ms/step - loss: 181251.0469 - mean_absolute_error: 181251.0469\n",
      "Epoch 42/300\n",
      "58/58 [==============================] - 0s 1ms/step - loss: 177397.0625 - mean_absolute_error: 177397.0625\n",
      "Epoch 43/300\n",
      "58/58 [==============================] - 0s 1ms/step - loss: 174434.7812 - mean_absolute_error: 174434.7812\n",
      "Epoch 44/300\n",
      "58/58 [==============================] - 0s 1ms/step - loss: 172196.8438 - mean_absolute_error: 172196.8438\n",
      "Epoch 45/300\n",
      "58/58 [==============================] - 0s 1ms/step - loss: 170539.2812 - mean_absolute_error: 170539.2812\n",
      "Epoch 46/300\n",
      "58/58 [==============================] - 0s 1ms/step - loss: 169356.8281 - mean_absolute_error: 169356.8281\n",
      "Epoch 47/300\n",
      "58/58 [==============================] - 0s 1ms/step - loss: 168549.7812 - mean_absolute_error: 168549.7812\n",
      "Epoch 48/300\n",
      "58/58 [==============================] - 0s 1ms/step - loss: 167985.2969 - mean_absolute_error: 167985.2969\n",
      "Epoch 49/300\n",
      "58/58 [==============================] - 0s 1ms/step - loss: 167603.2500 - mean_absolute_error: 167603.2500\n",
      "Epoch 50/300\n",
      "58/58 [==============================] - 0s 1ms/step - loss: 167352.0312 - mean_absolute_error: 167352.0312\n",
      "Epoch 51/300\n",
      "58/58 [==============================] - 0s 1ms/step - loss: 167206.1719 - mean_absolute_error: 167206.1719\n",
      "Epoch 52/300\n",
      "58/58 [==============================] - 0s 1ms/step - loss: 167120.2188 - mean_absolute_error: 167120.2188\n",
      "Epoch 53/300\n",
      "58/58 [==============================] - 0s 1ms/step - loss: 167062.3594 - mean_absolute_error: 167062.3438\n",
      "Epoch 54/300\n",
      "58/58 [==============================] - 0s 1ms/step - loss: 167027.2031 - mean_absolute_error: 167027.2031\n",
      "Epoch 55/300\n",
      "58/58 [==============================] - 0s 1ms/step - loss: 167005.2188 - mean_absolute_error: 167005.2188\n",
      "Epoch 56/300\n",
      "58/58 [==============================] - 0s 2ms/step - loss: 166989.3281 - mean_absolute_error: 166989.3281\n",
      "Epoch 57/300\n",
      "58/58 [==============================] - 0s 1ms/step - loss: 166976.4531 - mean_absolute_error: 166976.4531\n",
      "Epoch 58/300\n",
      "58/58 [==============================] - 0s 1ms/step - loss: 166966.9688 - mean_absolute_error: 166966.9688\n",
      "Epoch 59/300\n",
      "58/58 [==============================] - 0s 1ms/step - loss: 166957.4844 - mean_absolute_error: 166957.4844\n",
      "Epoch 60/300\n",
      "58/58 [==============================] - 0s 2ms/step - loss: 166947.4375 - mean_absolute_error: 166947.4375\n",
      "Epoch 61/300\n",
      "58/58 [==============================] - 0s 1ms/step - loss: 166941.5781 - mean_absolute_error: 166941.5781\n",
      "Epoch 62/300\n",
      "58/58 [==============================] - 0s 1ms/step - loss: 166930.4688 - mean_absolute_error: 166930.4688\n",
      "Epoch 63/300\n",
      "58/58 [==============================] - 0s 1ms/step - loss: 166920.3281 - mean_absolute_error: 166920.3281\n",
      "Epoch 64/300\n",
      "58/58 [==============================] - 0s 1ms/step - loss: 166914.2344 - mean_absolute_error: 166914.2344\n",
      "Epoch 65/300\n",
      "58/58 [==============================] - 0s 1ms/step - loss: 166901.1094 - mean_absolute_error: 166901.1094\n",
      "Epoch 66/300\n",
      "58/58 [==============================] - 0s 1ms/step - loss: 166892.0938 - mean_absolute_error: 166892.1094\n",
      "Epoch 67/300\n",
      "58/58 [==============================] - 0s 1ms/step - loss: 166882.2344 - mean_absolute_error: 166882.2344\n",
      "Epoch 68/300\n",
      "58/58 [==============================] - 0s 1ms/step - loss: 166871.6875 - mean_absolute_error: 166871.6875\n",
      "Epoch 69/300\n",
      "58/58 [==============================] - 0s 1ms/step - loss: 166860.2656 - mean_absolute_error: 166860.2500\n",
      "Epoch 70/300\n",
      "58/58 [==============================] - 0s 1ms/step - loss: 166853.6562 - mean_absolute_error: 166853.6562\n",
      "Epoch 71/300\n",
      "58/58 [==============================] - 0s 1ms/step - loss: 166839.7812 - mean_absolute_error: 166839.7812\n",
      "Epoch 72/300\n",
      "58/58 [==============================] - 0s 1ms/step - loss: 166826.3750 - mean_absolute_error: 166826.3750\n",
      "Epoch 73/300\n",
      "58/58 [==============================] - 0s 1ms/step - loss: 166816.6250 - mean_absolute_error: 166816.6250\n",
      "Epoch 74/300\n",
      "58/58 [==============================] - 0s 1ms/step - loss: 166804.4844 - mean_absolute_error: 166804.4844\n",
      "Epoch 75/300\n",
      "58/58 [==============================] - 0s 1ms/step - loss: 166792.6250 - mean_absolute_error: 166792.6250\n",
      "Epoch 76/300\n",
      "58/58 [==============================] - 0s 1ms/step - loss: 166778.5781 - mean_absolute_error: 166778.5938\n",
      "Epoch 77/300\n",
      "58/58 [==============================] - 0s 1ms/step - loss: 166765.9219 - mean_absolute_error: 166765.9219\n",
      "Epoch 78/300\n",
      "58/58 [==============================] - 0s 1ms/step - loss: 166753.3281 - mean_absolute_error: 166753.3281\n",
      "Epoch 79/300\n",
      "58/58 [==============================] - 0s 1ms/step - loss: 166739.6094 - mean_absolute_error: 166739.6094\n",
      "Epoch 80/300\n",
      "58/58 [==============================] - 0s 1ms/step - loss: 166726.2188 - mean_absolute_error: 166726.2188\n",
      "Epoch 81/300\n",
      "58/58 [==============================] - 0s 1ms/step - loss: 166723.6094 - mean_absolute_error: 166723.6094\n",
      "Epoch 82/300\n",
      "58/58 [==============================] - 0s 1ms/step - loss: 166698.2656 - mean_absolute_error: 166698.2656\n",
      "Epoch 83/300\n",
      "58/58 [==============================] - 0s 1ms/step - loss: 166684.4531 - mean_absolute_error: 166684.4531\n",
      "Epoch 84/300\n",
      "58/58 [==============================] - 0s 1ms/step - loss: 166673.2500 - mean_absolute_error: 166673.2500\n",
      "Epoch 85/300\n",
      "58/58 [==============================] - 0s 1ms/step - loss: 166656.4688 - mean_absolute_error: 166656.4688\n",
      "Epoch 86/300\n",
      "58/58 [==============================] - 0s 1ms/step - loss: 166639.8594 - mean_absolute_error: 166639.8594\n",
      "Epoch 87/300\n",
      "58/58 [==============================] - 0s 1ms/step - loss: 166627.4375 - mean_absolute_error: 166627.4375\n",
      "Epoch 88/300\n",
      "58/58 [==============================] - 0s 1ms/step - loss: 166608.5469 - mean_absolute_error: 166608.5469\n",
      "Epoch 89/300\n",
      "58/58 [==============================] - 0s 1ms/step - loss: 166592.6250 - mean_absolute_error: 166592.6250\n",
      "Epoch 90/300\n",
      "58/58 [==============================] - 0s 1ms/step - loss: 166575.5469 - mean_absolute_error: 166575.5469\n",
      "Epoch 91/300\n",
      "58/58 [==============================] - 0s 1ms/step - loss: 166558.9375 - mean_absolute_error: 166558.9375\n",
      "Epoch 92/300\n",
      "58/58 [==============================] - 0s 1ms/step - loss: 166543.1250 - mean_absolute_error: 166543.1250\n",
      "Epoch 93/300\n",
      "58/58 [==============================] - 0s 1ms/step - loss: 166525.7031 - mean_absolute_error: 166525.7031\n",
      "Epoch 94/300\n",
      "58/58 [==============================] - 0s 1ms/step - loss: 166506.0938 - mean_absolute_error: 166506.0938\n",
      "Epoch 95/300\n",
      "58/58 [==============================] - 0s 1ms/step - loss: 166492.3281 - mean_absolute_error: 166492.3281\n",
      "Epoch 96/300\n",
      "58/58 [==============================] - 0s 1ms/step - loss: 166473.0312 - mean_absolute_error: 166473.0312\n",
      "Epoch 97/300\n",
      "58/58 [==============================] - 0s 1ms/step - loss: 166463.4531 - mean_absolute_error: 166463.4531\n",
      "Epoch 98/300\n",
      "58/58 [==============================] - 0s 1ms/step - loss: 166435.2188 - mean_absolute_error: 166435.2188\n",
      "Epoch 99/300\n",
      "58/58 [==============================] - 0s 1ms/step - loss: 166415.9375 - mean_absolute_error: 166415.9375\n",
      "Epoch 100/300\n",
      "58/58 [==============================] - 0s 1ms/step - loss: 166400.0938 - mean_absolute_error: 166400.0938\n",
      "Epoch 101/300\n",
      "58/58 [==============================] - 0s 1ms/step - loss: 166380.6719 - mean_absolute_error: 166380.6875\n",
      "Epoch 102/300\n",
      "58/58 [==============================] - 0s 1ms/step - loss: 166358.4219 - mean_absolute_error: 166358.4219\n",
      "Epoch 103/300\n",
      "58/58 [==============================] - 0s 1ms/step - loss: 166340.1562 - mean_absolute_error: 166340.1562\n",
      "Epoch 104/300\n",
      "58/58 [==============================] - 0s 1ms/step - loss: 166319.5312 - mean_absolute_error: 166319.5312\n",
      "Epoch 105/300\n",
      "58/58 [==============================] - 0s 1ms/step - loss: 166297.9844 - mean_absolute_error: 166297.9844\n",
      "Epoch 106/300\n",
      "58/58 [==============================] - 0s 1ms/step - loss: 166279.2188 - mean_absolute_error: 166279.2188\n",
      "Epoch 107/300\n",
      "58/58 [==============================] - 0s 1ms/step - loss: 166259.7812 - mean_absolute_error: 166259.7812\n",
      "Epoch 108/300\n",
      "58/58 [==============================] - 0s 1ms/step - loss: 166245.6250 - mean_absolute_error: 166245.6250\n",
      "Epoch 109/300\n",
      "58/58 [==============================] - 0s 1ms/step - loss: 166216.6406 - mean_absolute_error: 166216.6406\n",
      "Epoch 110/300\n",
      "58/58 [==============================] - 0s 1ms/step - loss: 166205.9219 - mean_absolute_error: 166205.9375\n",
      "Epoch 111/300\n",
      "58/58 [==============================] - 0s 1ms/step - loss: 166177.9375 - mean_absolute_error: 166177.9219\n",
      "Epoch 112/300\n",
      "58/58 [==============================] - 0s 1ms/step - loss: 166160.1875 - mean_absolute_error: 166160.1875\n",
      "Epoch 113/300\n",
      "58/58 [==============================] - 0s 1ms/step - loss: 166133.7031 - mean_absolute_error: 166133.7031\n",
      "Epoch 114/300\n",
      "58/58 [==============================] - 0s 1ms/step - loss: 166114.4531 - mean_absolute_error: 166114.4531\n",
      "Epoch 115/300\n",
      "58/58 [==============================] - 0s 1ms/step - loss: 166088.2344 - mean_absolute_error: 166088.2344\n",
      "Epoch 116/300\n",
      "58/58 [==============================] - 0s 1ms/step - loss: 166074.5000 - mean_absolute_error: 166074.5000\n",
      "Epoch 117/300\n",
      "58/58 [==============================] - 0s 1ms/step - loss: 166045.9375 - mean_absolute_error: 166045.9375\n",
      "Epoch 118/300\n",
      "58/58 [==============================] - 0s 1ms/step - loss: 166026.4688 - mean_absolute_error: 166026.4688\n",
      "Epoch 119/300\n",
      "58/58 [==============================] - 0s 1ms/step - loss: 166009.8125 - mean_absolute_error: 166009.8438\n",
      "Epoch 120/300\n",
      "58/58 [==============================] - 0s 1ms/step - loss: 165982.2500 - mean_absolute_error: 165982.2500\n",
      "Epoch 121/300\n",
      "58/58 [==============================] - 0s 1ms/step - loss: 165963.2656 - mean_absolute_error: 165963.2656\n",
      "Epoch 122/300\n",
      "58/58 [==============================] - 0s 1ms/step - loss: 165940.5781 - mean_absolute_error: 165940.5781\n",
      "Epoch 123/300\n",
      "58/58 [==============================] - 0s 1ms/step - loss: 165918.6719 - mean_absolute_error: 165918.6719\n",
      "Epoch 124/300\n",
      "58/58 [==============================] - 0s 1ms/step - loss: 165896.7344 - mean_absolute_error: 165896.7344\n",
      "Epoch 125/300\n",
      "58/58 [==============================] - 0s 1ms/step - loss: 165877.8281 - mean_absolute_error: 165877.8281\n",
      "Epoch 126/300\n",
      "58/58 [==============================] - 0s 1ms/step - loss: 165857.9844 - mean_absolute_error: 165857.9844\n",
      "Epoch 127/300\n",
      "58/58 [==============================] - 0s 1ms/step - loss: 165830.3281 - mean_absolute_error: 165830.3281\n",
      "Epoch 128/300\n",
      "58/58 [==============================] - 0s 1ms/step - loss: 165808.0156 - mean_absolute_error: 165808.0156\n",
      "Epoch 129/300\n",
      "58/58 [==============================] - 0s 1ms/step - loss: 165787.2656 - mean_absolute_error: 165787.2656\n",
      "Epoch 130/300\n",
      "58/58 [==============================] - 0s 1ms/step - loss: 165772.4688 - mean_absolute_error: 165772.4375\n",
      "Epoch 131/300\n",
      "58/58 [==============================] - 0s 1ms/step - loss: 165743.6094 - mean_absolute_error: 165743.6094\n",
      "Epoch 132/300\n",
      "58/58 [==============================] - 0s 1ms/step - loss: 165725.9531 - mean_absolute_error: 165725.9531\n",
      "Epoch 133/300\n",
      "58/58 [==============================] - 0s 1ms/step - loss: 165700.9062 - mean_absolute_error: 165700.9062\n",
      "Epoch 134/300\n",
      "58/58 [==============================] - 0s 1ms/step - loss: 165687.1875 - mean_absolute_error: 165687.1719\n",
      "Epoch 135/300\n",
      "58/58 [==============================] - 0s 1ms/step - loss: 165668.9688 - mean_absolute_error: 165668.9844\n",
      "Epoch 136/300\n",
      "58/58 [==============================] - 0s 1ms/step - loss: 165633.6094 - mean_absolute_error: 165633.6094\n",
      "Epoch 137/300\n",
      "58/58 [==============================] - 0s 1ms/step - loss: 165616.8594 - mean_absolute_error: 165616.8750\n",
      "Epoch 138/300\n",
      "58/58 [==============================] - 0s 1ms/step - loss: 165592.1406 - mean_absolute_error: 165592.1406\n",
      "Epoch 139/300\n",
      "58/58 [==============================] - 0s 1ms/step - loss: 165574.7031 - mean_absolute_error: 165574.7031\n",
      "Epoch 140/300\n",
      "58/58 [==============================] - 0s 1ms/step - loss: 165555.3281 - mean_absolute_error: 165555.3281\n",
      "Epoch 141/300\n",
      "58/58 [==============================] - 0s 1ms/step - loss: 165530.6719 - mean_absolute_error: 165530.6719\n",
      "Epoch 142/300\n",
      "58/58 [==============================] - 0s 1ms/step - loss: 165508.9688 - mean_absolute_error: 165508.9688\n",
      "Epoch 143/300\n",
      "58/58 [==============================] - 0s 2ms/step - loss: 165489.2031 - mean_absolute_error: 165489.2031\n",
      "Epoch 144/300\n",
      "58/58 [==============================] - 0s 2ms/step - loss: 165471.8594 - mean_absolute_error: 165471.8438\n",
      "Epoch 145/300\n",
      "58/58 [==============================] - 0s 1ms/step - loss: 165451.6094 - mean_absolute_error: 165451.6094\n",
      "Epoch 146/300\n",
      "58/58 [==============================] - 0s 1ms/step - loss: 165424.0469 - mean_absolute_error: 165424.0469\n",
      "Epoch 147/300\n",
      "58/58 [==============================] - 0s 1ms/step - loss: 165407.4688 - mean_absolute_error: 165407.4688\n",
      "Epoch 148/300\n",
      "58/58 [==============================] - 0s 1ms/step - loss: 165386.3906 - mean_absolute_error: 165386.3906\n",
      "Epoch 149/300\n",
      "58/58 [==============================] - 0s 1ms/step - loss: 165365.0469 - mean_absolute_error: 165365.0469\n",
      "Epoch 150/300\n",
      "58/58 [==============================] - 0s 1ms/step - loss: 165343.2344 - mean_absolute_error: 165343.2344\n",
      "Epoch 151/300\n",
      "58/58 [==============================] - 0s 1ms/step - loss: 165323.0781 - mean_absolute_error: 165323.0781\n",
      "Epoch 152/300\n",
      "58/58 [==============================] - 0s 1ms/step - loss: 165302.8594 - mean_absolute_error: 165302.8594\n",
      "Epoch 153/300\n",
      "58/58 [==============================] - 0s 1ms/step - loss: 165281.5938 - mean_absolute_error: 165281.5938\n",
      "Epoch 154/300\n",
      "58/58 [==============================] - 0s 1ms/step - loss: 165266.7656 - mean_absolute_error: 165266.7656\n",
      "Epoch 155/300\n",
      "58/58 [==============================] - 0s 1ms/step - loss: 165250.1875 - mean_absolute_error: 165250.1875\n",
      "Epoch 156/300\n",
      "58/58 [==============================] - 0s 1ms/step - loss: 165221.2188 - mean_absolute_error: 165221.2188\n",
      "Epoch 157/300\n",
      "58/58 [==============================] - 0s 1ms/step - loss: 165200.7344 - mean_absolute_error: 165200.7344\n",
      "Epoch 158/300\n",
      "58/58 [==============================] - 0s 1ms/step - loss: 165181.1250 - mean_absolute_error: 165181.1250\n",
      "Epoch 159/300\n",
      "58/58 [==============================] - 0s 1ms/step - loss: 165163.8750 - mean_absolute_error: 165163.8750\n",
      "Epoch 160/300\n",
      "58/58 [==============================] - 0s 1ms/step - loss: 165145.8750 - mean_absolute_error: 165145.8750\n",
      "Epoch 161/300\n",
      "58/58 [==============================] - 0s 1ms/step - loss: 165129.0938 - mean_absolute_error: 165129.0938\n",
      "Epoch 162/300\n",
      "58/58 [==============================] - 0s 1ms/step - loss: 165108.3906 - mean_absolute_error: 165108.3906\n",
      "Epoch 163/300\n",
      "58/58 [==============================] - 0s 1ms/step - loss: 165085.4688 - mean_absolute_error: 165085.4688\n",
      "Epoch 164/300\n",
      "58/58 [==============================] - 0s 1ms/step - loss: 165074.6875 - mean_absolute_error: 165074.6875\n",
      "Epoch 165/300\n",
      "58/58 [==============================] - 0s 1ms/step - loss: 165053.6719 - mean_absolute_error: 165053.6719\n",
      "Epoch 166/300\n",
      "58/58 [==============================] - 0s 1ms/step - loss: 165031.1562 - mean_absolute_error: 165031.1562\n",
      "Epoch 167/300\n",
      "58/58 [==============================] - 0s 1ms/step - loss: 165012.4062 - mean_absolute_error: 165012.4062\n",
      "Epoch 168/300\n",
      "58/58 [==============================] - 0s 1ms/step - loss: 164992.9844 - mean_absolute_error: 164992.9844\n",
      "Epoch 169/300\n",
      "58/58 [==============================] - 0s 1ms/step - loss: 164979.4219 - mean_absolute_error: 164979.4219\n",
      "Epoch 170/300\n",
      "58/58 [==============================] - 0s 1ms/step - loss: 164958.6094 - mean_absolute_error: 164958.6094\n",
      "Epoch 171/300\n",
      "58/58 [==============================] - 0s 1ms/step - loss: 164941.0781 - mean_absolute_error: 164941.0781\n",
      "Epoch 172/300\n",
      "58/58 [==============================] - 0s 1ms/step - loss: 164922.9688 - mean_absolute_error: 164922.9688\n",
      "Epoch 173/300\n",
      "58/58 [==============================] - 0s 1ms/step - loss: 164901.6406 - mean_absolute_error: 164901.6406\n",
      "Epoch 174/300\n",
      "58/58 [==============================] - 0s 1ms/step - loss: 164886.5938 - mean_absolute_error: 164886.5938\n",
      "Epoch 175/300\n",
      "58/58 [==============================] - 0s 1ms/step - loss: 164870.7031 - mean_absolute_error: 164870.7031\n",
      "Epoch 176/300\n",
      "58/58 [==============================] - 0s 1ms/step - loss: 164847.4375 - mean_absolute_error: 164847.4375\n",
      "Epoch 177/300\n",
      "58/58 [==============================] - 0s 2ms/step - loss: 164837.0469 - mean_absolute_error: 164837.0312\n",
      "Epoch 178/300\n",
      "58/58 [==============================] - 0s 1ms/step - loss: 164816.7656 - mean_absolute_error: 164816.7656\n",
      "Epoch 179/300\n",
      "58/58 [==============================] - 0s 1ms/step - loss: 164799.0625 - mean_absolute_error: 164799.0781\n",
      "Epoch 180/300\n",
      "58/58 [==============================] - 0s 1ms/step - loss: 164780.7812 - mean_absolute_error: 164780.7812\n",
      "Epoch 181/300\n",
      "58/58 [==============================] - 0s 1ms/step - loss: 164770.1406 - mean_absolute_error: 164770.1406\n",
      "Epoch 182/300\n",
      "58/58 [==============================] - 0s 1ms/step - loss: 164747.7812 - mean_absolute_error: 164747.7812\n",
      "Epoch 183/300\n",
      "58/58 [==============================] - 0s 1ms/step - loss: 164731.4375 - mean_absolute_error: 164731.4375\n",
      "Epoch 184/300\n",
      "58/58 [==============================] - 0s 1ms/step - loss: 164712.1406 - mean_absolute_error: 164712.1406\n",
      "Epoch 185/300\n",
      "58/58 [==============================] - 0s 1ms/step - loss: 164703.7812 - mean_absolute_error: 164703.8125\n",
      "Epoch 186/300\n",
      "58/58 [==============================] - 0s 1ms/step - loss: 164680.9688 - mean_absolute_error: 164680.9688\n",
      "Epoch 187/300\n",
      "58/58 [==============================] - 0s 1ms/step - loss: 164664.0625 - mean_absolute_error: 164664.0469\n",
      "Epoch 188/300\n",
      "58/58 [==============================] - 0s 1ms/step - loss: 164649.7500 - mean_absolute_error: 164649.7500\n",
      "Epoch 189/300\n",
      "58/58 [==============================] - 0s 1ms/step - loss: 164631.1250 - mean_absolute_error: 164631.1250\n",
      "Epoch 190/300\n",
      "58/58 [==============================] - 0s 1ms/step - loss: 164625.9219 - mean_absolute_error: 164625.9219\n",
      "Epoch 191/300\n",
      "58/58 [==============================] - 0s 1ms/step - loss: 164603.0781 - mean_absolute_error: 164603.0781\n",
      "Epoch 192/300\n",
      "58/58 [==============================] - 0s 1ms/step - loss: 164582.7969 - mean_absolute_error: 164582.7969\n",
      "Epoch 193/300\n",
      "58/58 [==============================] - 0s 1ms/step - loss: 164567.6406 - mean_absolute_error: 164567.6406\n",
      "Epoch 194/300\n",
      "58/58 [==============================] - 0s 1ms/step - loss: 164553.5938 - mean_absolute_error: 164553.5938\n",
      "Epoch 195/300\n",
      "58/58 [==============================] - 0s 1ms/step - loss: 164534.2031 - mean_absolute_error: 164534.2031\n",
      "Epoch 196/300\n",
      "58/58 [==============================] - 0s 1ms/step - loss: 164519.6250 - mean_absolute_error: 164519.6250\n",
      "Epoch 197/300\n",
      "58/58 [==============================] - 0s 1ms/step - loss: 164500.7656 - mean_absolute_error: 164500.7656\n",
      "Epoch 198/300\n",
      "58/58 [==============================] - 0s 1ms/step - loss: 164489.8438 - mean_absolute_error: 164489.8438\n",
      "Epoch 199/300\n",
      "58/58 [==============================] - 0s 1ms/step - loss: 164473.3281 - mean_absolute_error: 164473.3281\n",
      "Epoch 200/300\n",
      "58/58 [==============================] - 0s 1ms/step - loss: 164457.4844 - mean_absolute_error: 164457.4844\n",
      "Epoch 201/300\n",
      "58/58 [==============================] - 0s 1ms/step - loss: 164442.0781 - mean_absolute_error: 164442.0781\n",
      "Epoch 202/300\n",
      "58/58 [==============================] - 0s 1ms/step - loss: 164432.2812 - mean_absolute_error: 164432.2969\n",
      "Epoch 203/300\n",
      "58/58 [==============================] - 0s 1ms/step - loss: 164415.6094 - mean_absolute_error: 164415.5938\n",
      "Epoch 204/300\n",
      "58/58 [==============================] - 0s 1ms/step - loss: 164394.5781 - mean_absolute_error: 164394.5781\n",
      "Epoch 205/300\n",
      "58/58 [==============================] - 0s 1ms/step - loss: 164383.7656 - mean_absolute_error: 164383.7656\n",
      "Epoch 206/300\n",
      "58/58 [==============================] - 0s 1ms/step - loss: 164372.5156 - mean_absolute_error: 164372.5156\n",
      "Epoch 207/300\n",
      "58/58 [==============================] - 0s 1ms/step - loss: 164352.7031 - mean_absolute_error: 164352.7031\n",
      "Epoch 208/300\n",
      "58/58 [==============================] - 0s 1ms/step - loss: 164334.8594 - mean_absolute_error: 164334.8750\n",
      "Epoch 209/300\n",
      "58/58 [==============================] - 0s 1ms/step - loss: 164322.1406 - mean_absolute_error: 164322.1406\n",
      "Epoch 210/300\n",
      "58/58 [==============================] - 0s 1ms/step - loss: 164312.2969 - mean_absolute_error: 164312.2969\n",
      "Epoch 211/300\n",
      "58/58 [==============================] - 0s 1ms/step - loss: 164296.4531 - mean_absolute_error: 164296.4531\n",
      "Epoch 212/300\n",
      "58/58 [==============================] - 0s 1ms/step - loss: 164277.3125 - mean_absolute_error: 164277.3125\n",
      "Epoch 213/300\n",
      "58/58 [==============================] - 0s 1ms/step - loss: 164262.3125 - mean_absolute_error: 164262.3125\n",
      "Epoch 214/300\n",
      "58/58 [==============================] - 0s 1ms/step - loss: 164251.0938 - mean_absolute_error: 164251.0938\n",
      "Epoch 215/300\n",
      "58/58 [==============================] - 0s 1ms/step - loss: 164246.1875 - mean_absolute_error: 164246.1875\n",
      "Epoch 216/300\n",
      "58/58 [==============================] - 0s 1ms/step - loss: 164222.1719 - mean_absolute_error: 164222.1719\n",
      "Epoch 217/300\n",
      "58/58 [==============================] - 0s 1ms/step - loss: 164208.0156 - mean_absolute_error: 164208.0156\n",
      "Epoch 218/300\n",
      "58/58 [==============================] - 0s 1ms/step - loss: 164192.5781 - mean_absolute_error: 164192.5781\n",
      "Epoch 219/300\n",
      "58/58 [==============================] - 0s 1ms/step - loss: 164181.0312 - mean_absolute_error: 164181.0312\n",
      "Epoch 220/300\n",
      "58/58 [==============================] - 0s 1ms/step - loss: 164168.3438 - mean_absolute_error: 164168.3438\n",
      "Epoch 221/300\n",
      "58/58 [==============================] - 0s 1ms/step - loss: 164158.7656 - mean_absolute_error: 164158.7656\n",
      "Epoch 222/300\n",
      "58/58 [==============================] - 0s 1ms/step - loss: 164138.3594 - mean_absolute_error: 164138.3594\n",
      "Epoch 223/300\n",
      "58/58 [==============================] - 0s 1ms/step - loss: 164126.0781 - mean_absolute_error: 164126.0781\n",
      "Epoch 224/300\n",
      "58/58 [==============================] - 0s 1ms/step - loss: 164112.7656 - mean_absolute_error: 164112.7656\n",
      "Epoch 225/300\n",
      "58/58 [==============================] - 0s 2ms/step - loss: 164093.7656 - mean_absolute_error: 164093.7656\n",
      "Epoch 226/300\n",
      "58/58 [==============================] - 0s 1ms/step - loss: 164084.0156 - mean_absolute_error: 164084.0156\n",
      "Epoch 227/300\n",
      "58/58 [==============================] - 0s 1ms/step - loss: 164068.0781 - mean_absolute_error: 164068.0781\n",
      "Epoch 228/300\n",
      "58/58 [==============================] - 0s 1ms/step - loss: 164054.2188 - mean_absolute_error: 164054.2188\n",
      "Epoch 229/300\n",
      "58/58 [==============================] - 0s 1ms/step - loss: 164043.3125 - mean_absolute_error: 164043.3281\n",
      "Epoch 230/300\n",
      "58/58 [==============================] - 0s 1ms/step - loss: 164039.0312 - mean_absolute_error: 164039.0469\n",
      "Epoch 231/300\n",
      "58/58 [==============================] - 0s 1ms/step - loss: 164013.3438 - mean_absolute_error: 164013.3281\n",
      "Epoch 232/300\n",
      "58/58 [==============================] - 0s 1ms/step - loss: 163998.9375 - mean_absolute_error: 163998.9375\n",
      "Epoch 233/300\n",
      "58/58 [==============================] - 0s 2ms/step - loss: 163985.9375 - mean_absolute_error: 163985.9375\n",
      "Epoch 234/300\n",
      "58/58 [==============================] - 0s 1ms/step - loss: 163971.5781 - mean_absolute_error: 163971.5781\n",
      "Epoch 235/300\n",
      "58/58 [==============================] - 0s 1ms/step - loss: 163958.8125 - mean_absolute_error: 163958.8125\n",
      "Epoch 236/300\n",
      "58/58 [==============================] - 0s 1ms/step - loss: 163947.7812 - mean_absolute_error: 163947.7812\n",
      "Epoch 237/300\n",
      "58/58 [==============================] - 0s 1ms/step - loss: 163934.9688 - mean_absolute_error: 163934.9688\n",
      "Epoch 238/300\n",
      "58/58 [==============================] - 0s 1ms/step - loss: 163921.4688 - mean_absolute_error: 163921.4688\n",
      "Epoch 239/300\n",
      "58/58 [==============================] - 0s 1ms/step - loss: 163910.0000 - mean_absolute_error: 163910.0000\n",
      "Epoch 240/300\n",
      "58/58 [==============================] - 0s 1ms/step - loss: 163895.6250 - mean_absolute_error: 163895.6250\n",
      "Epoch 241/300\n",
      "58/58 [==============================] - 0s 1ms/step - loss: 163883.1562 - mean_absolute_error: 163883.1562\n",
      "Epoch 242/300\n",
      "58/58 [==============================] - 0s 1ms/step - loss: 163873.4062 - mean_absolute_error: 163873.4062\n",
      "Epoch 243/300\n",
      "58/58 [==============================] - 0s 2ms/step - loss: 163856.6406 - mean_absolute_error: 163856.6406\n",
      "Epoch 244/300\n",
      "58/58 [==============================] - 0s 1ms/step - loss: 163853.0938 - mean_absolute_error: 163853.0938\n",
      "Epoch 245/300\n",
      "58/58 [==============================] - 0s 1ms/step - loss: 163832.9375 - mean_absolute_error: 163832.9375\n",
      "Epoch 246/300\n",
      "58/58 [==============================] - 0s 1ms/step - loss: 163821.1406 - mean_absolute_error: 163821.1406\n",
      "Epoch 247/300\n",
      "58/58 [==============================] - 0s 1ms/step - loss: 163813.0938 - mean_absolute_error: 163813.0938\n",
      "Epoch 248/300\n",
      "58/58 [==============================] - 0s 1ms/step - loss: 163796.5000 - mean_absolute_error: 163796.5156\n",
      "Epoch 249/300\n",
      "58/58 [==============================] - 0s 2ms/step - loss: 163796.7656 - mean_absolute_error: 163796.7656\n",
      "Epoch 250/300\n",
      "58/58 [==============================] - 0s 1ms/step - loss: 163776.4688 - mean_absolute_error: 163776.4688\n",
      "Epoch 251/300\n",
      "58/58 [==============================] - 0s 1ms/step - loss: 163775.3281 - mean_absolute_error: 163775.3281\n",
      "Epoch 252/300\n",
      "58/58 [==============================] - 0s 1ms/step - loss: 163751.1406 - mean_absolute_error: 163751.1406\n",
      "Epoch 253/300\n",
      "58/58 [==============================] - 0s 1ms/step - loss: 163741.5312 - mean_absolute_error: 163741.5312\n",
      "Epoch 254/300\n",
      "58/58 [==============================] - 0s 1ms/step - loss: 163726.6719 - mean_absolute_error: 163726.6719\n",
      "Epoch 255/300\n",
      "58/58 [==============================] - 0s 1ms/step - loss: 163715.3281 - mean_absolute_error: 163715.3281\n",
      "Epoch 256/300\n",
      "58/58 [==============================] - 0s 1ms/step - loss: 163709.1719 - mean_absolute_error: 163709.1719\n",
      "Epoch 257/300\n",
      "58/58 [==============================] - 0s 1ms/step - loss: 163693.7031 - mean_absolute_error: 163693.7031\n",
      "Epoch 258/300\n",
      "58/58 [==============================] - 0s 1ms/step - loss: 163682.5625 - mean_absolute_error: 163682.5625\n",
      "Epoch 259/300\n",
      "58/58 [==============================] - 0s 1ms/step - loss: 163678.6719 - mean_absolute_error: 163678.6719\n",
      "Epoch 260/300\n",
      "58/58 [==============================] - 0s 1ms/step - loss: 163665.9062 - mean_absolute_error: 163665.9062\n",
      "Epoch 261/300\n",
      "58/58 [==============================] - 0s 1ms/step - loss: 163656.7500 - mean_absolute_error: 163656.7500\n",
      "Epoch 262/300\n",
      "58/58 [==============================] - 0s 1ms/step - loss: 163644.2031 - mean_absolute_error: 163644.2031\n",
      "Epoch 263/300\n",
      "58/58 [==============================] - 0s 1ms/step - loss: 163629.8906 - mean_absolute_error: 163629.8906\n",
      "Epoch 264/300\n",
      "58/58 [==============================] - 0s 1ms/step - loss: 163623.8906 - mean_absolute_error: 163623.8906\n",
      "Epoch 265/300\n",
      "58/58 [==============================] - 0s 1ms/step - loss: 163611.6562 - mean_absolute_error: 163611.6562\n",
      "Epoch 266/300\n",
      "58/58 [==============================] - 0s 1ms/step - loss: 163600.8438 - mean_absolute_error: 163600.8438\n",
      "Epoch 267/300\n",
      "58/58 [==============================] - 0s 1ms/step - loss: 163592.9219 - mean_absolute_error: 163592.9219\n",
      "Epoch 268/300\n",
      "58/58 [==============================] - 0s 1ms/step - loss: 163587.6719 - mean_absolute_error: 163587.6719\n",
      "Epoch 269/300\n",
      "58/58 [==============================] - 0s 1ms/step - loss: 163571.4219 - mean_absolute_error: 163571.4219\n",
      "Epoch 270/300\n",
      "58/58 [==============================] - 0s 1ms/step - loss: 163574.2031 - mean_absolute_error: 163574.2031\n",
      "Epoch 271/300\n",
      "58/58 [==============================] - 0s 1ms/step - loss: 163557.9531 - mean_absolute_error: 163557.9531\n",
      "Epoch 272/300\n",
      "58/58 [==============================] - 0s 1ms/step - loss: 163545.0000 - mean_absolute_error: 163545.0000\n",
      "Epoch 273/300\n",
      "58/58 [==============================] - 0s 1ms/step - loss: 163543.8750 - mean_absolute_error: 163543.8750\n",
      "Epoch 274/300\n",
      "58/58 [==============================] - 0s 1ms/step - loss: 163531.5156 - mean_absolute_error: 163531.5156\n",
      "Epoch 275/300\n",
      "58/58 [==============================] - 0s 1ms/step - loss: 163516.0781 - mean_absolute_error: 163516.0781\n",
      "Epoch 276/300\n",
      "58/58 [==============================] - 0s 1ms/step - loss: 163508.4219 - mean_absolute_error: 163508.4219\n",
      "Epoch 277/300\n",
      "58/58 [==============================] - 0s 1ms/step - loss: 163499.2812 - mean_absolute_error: 163499.2812\n",
      "Epoch 278/300\n",
      "58/58 [==============================] - 0s 1ms/step - loss: 163489.6875 - mean_absolute_error: 163489.6875\n",
      "Epoch 279/300\n",
      "58/58 [==============================] - 0s 1ms/step - loss: 163480.3125 - mean_absolute_error: 163480.3125\n",
      "Epoch 280/300\n",
      "58/58 [==============================] - 0s 1ms/step - loss: 163471.6094 - mean_absolute_error: 163471.6250\n",
      "Epoch 281/300\n",
      "58/58 [==============================] - 0s 1ms/step - loss: 163462.6406 - mean_absolute_error: 163462.6406\n",
      "Epoch 282/300\n",
      "58/58 [==============================] - 0s 1ms/step - loss: 163467.4062 - mean_absolute_error: 163467.4062\n",
      "Epoch 283/300\n",
      "58/58 [==============================] - 0s 1ms/step - loss: 163465.5156 - mean_absolute_error: 163465.5156\n",
      "Epoch 284/300\n",
      "58/58 [==============================] - 0s 1ms/step - loss: 163451.0938 - mean_absolute_error: 163451.0938\n",
      "Epoch 285/300\n",
      "58/58 [==============================] - 0s 1ms/step - loss: 163432.3125 - mean_absolute_error: 163432.3125\n",
      "Epoch 286/300\n",
      "58/58 [==============================] - 0s 1ms/step - loss: 163426.1562 - mean_absolute_error: 163426.1562\n",
      "Epoch 287/300\n",
      "58/58 [==============================] - 0s 1ms/step - loss: 163423.3438 - mean_absolute_error: 163423.3594\n",
      "Epoch 288/300\n",
      "58/58 [==============================] - 0s 1ms/step - loss: 163409.2656 - mean_absolute_error: 163409.2656\n",
      "Epoch 289/300\n",
      "58/58 [==============================] - 0s 1ms/step - loss: 163399.1250 - mean_absolute_error: 163399.0938\n",
      "Epoch 290/300\n",
      "58/58 [==============================] - 0s 1ms/step - loss: 163397.1875 - mean_absolute_error: 163397.1875\n",
      "Epoch 291/300\n",
      "58/58 [==============================] - 0s 1ms/step - loss: 163387.4531 - mean_absolute_error: 163387.4531\n",
      "Epoch 292/300\n",
      "58/58 [==============================] - 0s 1ms/step - loss: 163378.0312 - mean_absolute_error: 163378.0312\n",
      "Epoch 293/300\n",
      "58/58 [==============================] - 0s 3ms/step - loss: 163372.0312 - mean_absolute_error: 163372.0312\n",
      "Epoch 294/300\n",
      "58/58 [==============================] - 0s 1ms/step - loss: 163378.3438 - mean_absolute_error: 163378.3438\n",
      "Epoch 295/300\n",
      "58/58 [==============================] - 0s 1ms/step - loss: 163359.6406 - mean_absolute_error: 163359.6406\n",
      "Epoch 296/300\n",
      "58/58 [==============================] - 0s 1ms/step - loss: 163356.8438 - mean_absolute_error: 163356.8281\n",
      "Epoch 297/300\n",
      "58/58 [==============================] - 0s 1ms/step - loss: 163338.0312 - mean_absolute_error: 163338.0312\n",
      "Epoch 298/300\n",
      "58/58 [==============================] - 0s 1ms/step - loss: 163331.8125 - mean_absolute_error: 163331.8125\n",
      "Epoch 299/300\n",
      "58/58 [==============================] - 0s 1ms/step - loss: 163331.0625 - mean_absolute_error: 163331.0625\n",
      "Epoch 300/300\n",
      "58/58 [==============================] - 0s 1ms/step - loss: 163317.2188 - mean_absolute_error: 163317.2188\n"
     ]
    },
    {
     "data": {
      "text/plain": [
       "<tensorflow.python.keras.callbacks.History at 0x7f70c9a1ce10>"
      ]
     },
     "execution_count": 81,
     "metadata": {
      "tags": []
     },
     "output_type": "execute_result"
    }
   ],
   "source": [
    "regressor.fit(X_treino,y_treino, batch_size=300, epochs = 300)"
   ]
  },
  {
   "cell_type": "markdown",
   "metadata": {
    "id": "I3ZId3ualCs1"
   },
   "source": [
    "Gerando as previsões com o modelo."
   ]
  },
  {
   "cell_type": "code",
   "execution_count": null,
   "metadata": {
    "id": "NJVvx7PgNFbD"
   },
   "outputs": [],
   "source": [
    "prev=regressor.predict(X_teste)"
   ]
  },
  {
   "cell_type": "markdown",
   "metadata": {
    "id": "joKgT6nZlGZE"
   },
   "source": [
    "Vamos ver as previsões em formato *dataset*."
   ]
  },
  {
   "cell_type": "code",
   "execution_count": null,
   "metadata": {
    "colab": {
     "base_uri": "https://localhost:8080/",
     "height": 416
    },
    "id": "MBNshTDNNFW6",
    "outputId": "2bf40b50-9541-4665-8449-5c00ef9105f6"
   },
   "outputs": [
    {
     "data": {
      "text/html": [
       "<div>\n",
       "<style scoped>\n",
       "    .dataframe tbody tr th:only-of-type {\n",
       "        vertical-align: middle;\n",
       "    }\n",
       "\n",
       "    .dataframe tbody tr th {\n",
       "        vertical-align: top;\n",
       "    }\n",
       "\n",
       "    .dataframe thead th {\n",
       "        text-align: right;\n",
       "    }\n",
       "</style>\n",
       "<table border=\"1\" class=\"dataframe\">\n",
       "  <thead>\n",
       "    <tr style=\"text-align: right;\">\n",
       "      <th></th>\n",
       "      <th>0</th>\n",
       "    </tr>\n",
       "  </thead>\n",
       "  <tbody>\n",
       "    <tr>\n",
       "      <th>0</th>\n",
       "      <td>5.389796e+05</td>\n",
       "    </tr>\n",
       "    <tr>\n",
       "      <th>1</th>\n",
       "      <td>6.553317e+05</td>\n",
       "    </tr>\n",
       "    <tr>\n",
       "      <th>2</th>\n",
       "      <td>9.241311e+05</td>\n",
       "    </tr>\n",
       "    <tr>\n",
       "      <th>3</th>\n",
       "      <td>1.077632e+06</td>\n",
       "    </tr>\n",
       "    <tr>\n",
       "      <th>4</th>\n",
       "      <td>6.003383e+05</td>\n",
       "    </tr>\n",
       "    <tr>\n",
       "      <th>...</th>\n",
       "      <td>...</td>\n",
       "    </tr>\n",
       "    <tr>\n",
       "      <th>4318</th>\n",
       "      <td>3.158405e+05</td>\n",
       "    </tr>\n",
       "    <tr>\n",
       "      <th>4319</th>\n",
       "      <td>6.346276e+05</td>\n",
       "    </tr>\n",
       "    <tr>\n",
       "      <th>4320</th>\n",
       "      <td>5.989114e+05</td>\n",
       "    </tr>\n",
       "    <tr>\n",
       "      <th>4321</th>\n",
       "      <td>5.349910e+05</td>\n",
       "    </tr>\n",
       "    <tr>\n",
       "      <th>4322</th>\n",
       "      <td>6.193957e+05</td>\n",
       "    </tr>\n",
       "  </tbody>\n",
       "</table>\n",
       "<p>4323 rows × 1 columns</p>\n",
       "</div>"
      ],
      "text/plain": [
       "                 0\n",
       "0     5.389796e+05\n",
       "1     6.553317e+05\n",
       "2     9.241311e+05\n",
       "3     1.077632e+06\n",
       "4     6.003383e+05\n",
       "...            ...\n",
       "4318  3.158405e+05\n",
       "4319  6.346276e+05\n",
       "4320  5.989114e+05\n",
       "4321  5.349910e+05\n",
       "4322  6.193957e+05\n",
       "\n",
       "[4323 rows x 1 columns]"
      ]
     },
     "execution_count": 83,
     "metadata": {
      "tags": []
     },
     "output_type": "execute_result"
    }
   ],
   "source": [
    "pd.DataFrame(prev)"
   ]
  },
  {
   "cell_type": "markdown",
   "metadata": {
    "id": "I1h5V2rclR12"
   },
   "source": [
    "Visualizando graficamente as previsões."
   ]
  },
  {
   "cell_type": "code",
   "execution_count": null,
   "metadata": {
    "colab": {
     "base_uri": "https://localhost:8080/",
     "height": 330
    },
    "id": "3Toi93Z9NFVq",
    "outputId": "0fcaf506-1eba-4c14-f115-f39e441d691e"
   },
   "outputs": [
    {
     "data": {
      "image/png": "[encoded data removed]",
      "text/plain": [
       "<Figure size 1440x360 with 1 Axes>"
      ]
     },
     "metadata": {
      "needs_background": "light",
      "tags": []
     },
     "output_type": "display_data"
    }
   ],
   "source": [
    "pd.DataFrame(prev)[:100].plot(figsize=(20,5));"
   ]
  },
  {
   "cell_type": "markdown",
   "metadata": {
    "id": "j89RFqYXlZvn"
   },
   "source": [
    "### Comparando real e o predito\n",
    "\n",
    "Agora irei comparar os resultados gerados com o modelo e os valores reais. Antes irei transformá-los em listas e plotarei os valores."
   ]
  },
  {
   "cell_type": "code",
   "execution_count": null,
   "metadata": {
    "id": "r4J6vpgyNFRi"
   },
   "outputs": [],
   "source": [
    "x1= regressor.predict(X_teste).tolist()\n",
    "x2 = y_teste.tolist()"
   ]
  },
  {
   "cell_type": "markdown",
   "metadata": {
    "id": "vWaYTU6EmVc2"
   },
   "source": [
    "Comparação gráfica."
   ]
  },
  {
   "cell_type": "code",
   "execution_count": null,
   "metadata": {
    "colab": {
     "base_uri": "https://localhost:8080/",
     "height": 338
    },
    "id": "xs3ekqSbNFP5",
    "outputId": "70877720-a405-4cd4-ab41-2641d75db601"
   },
   "outputs": [
    {
     "data": {
      "image/png": "[encoded data removed]",
      "text/plain": [
       "<Figure size 1440x360 with 1 Axes>"
      ]
     },
     "metadata": {
      "needs_background": "light",
      "tags": []
     },
     "output_type": "display_data"
    }
   ],
   "source": [
    "%matplotlib inline\n",
    "plt.figure(figsize=(20,5))\n",
    "plt.plot(x1[:100], linewidth=2, color='r')\n",
    "plt.plot(x2[:100], linewidth=2,color='g')\n",
    "plt.title('Comparação entre os valores preditos e os valores reais',size=15)\n",
    "plt.legend(['Predições','Real'],fontsize=15)\n",
    "plt.show()"
   ]
  },
  {
   "cell_type": "markdown",
   "metadata": {
    "id": "iAuCw811wxau"
   },
   "source": [
    "Abaixo podemos ver as métricas de avaliação. Pode ser visto que o $R^2$ está muito baixo, mostrando que o poder explicativo desse modelo está aquém do esperado."
   ]
  },
  {
   "cell_type": "code",
   "execution_count": null,
   "metadata": {
    "colab": {
     "base_uri": "https://localhost:8080/"
    },
    "id": "droKprBVNFOa",
    "outputId": "016a0cc0-a646-4751-dcb3-51d4a4f6d0d3"
   },
   "outputs": [
    {
     "name": "stdout",
     "output_type": "stream",
     "text": [
      "O erro médio absoluto é : 168161.89658512606\n",
      "O erro médio quadrado é : 83143634279.15294\n",
      "O erro mediano absoluto é : 115706.0\n",
      "O R quadrado é : 0.4500235281683058\n"
     ]
    }
   ],
   "source": [
    "print('O erro médio absoluto é :',mean_absolute_error(y_teste,regressor.predict(X_teste)))\n",
    "print('O erro médio quadrado é :',mean_squared_error(y_teste,regressor.predict(X_teste)))\n",
    "print('O erro mediano absoluto é :',median_absolute_error(y_teste,regressor.predict(X_teste)))\n",
    "print('O R quadrado é :',r2_score(y_teste,regressor.predict(X_teste)))"
   ]
  },
  {
   "cell_type": "markdown",
   "metadata": {
    "id": "8buvCX9dNLWd"
   },
   "source": [
    "Podemos também comparar as previsões e os valores reais nos gráfico abaixo. O ideial era que o gráfico abaixo tivesse um comportamento linear 45 graus."
   ]
  },
  {
   "cell_type": "code",
   "execution_count": null,
   "metadata": {
    "colab": {
     "base_uri": "https://localhost:8080/",
     "height": 350
    },
    "id": "P1yDOLeSNLpq",
    "outputId": "109c6bc9-5b23-44fd-94e4-154e1b26983f"
   },
   "outputs": [
    {
     "data": {
      "image/png": "[encoded data removed]",
      "text/plain": [
       "<Figure size 1440x360 with 1 Axes>"
      ]
     },
     "metadata": {
      "needs_background": "light",
      "tags": []
     },
     "output_type": "display_data"
    }
   ],
   "source": [
    "plt.figure(figsize=(20,5))\n",
    "plt.title(\"Real vs Predito\",size=15)\n",
    "plt.scatter(x1,x2);"
   ]
  },
  {
   "cell_type": "markdown",
   "metadata": {
    "id": "-67jkkkIJltw"
   },
   "source": [
    "Sumário do modelo detalhando as suas camadas."
   ]
  },
  {
   "cell_type": "code",
   "execution_count": null,
   "metadata": {
    "colab": {
     "base_uri": "https://localhost:8080/"
    },
    "id": "PeqO5minNE6F",
    "outputId": "922d777b-ca59-4f9c-9fe2-691ac00fb432"
   },
   "outputs": [
    {
     "name": "stdout",
     "output_type": "stream",
     "text": [
      "Model: \"sequential_3\"\n",
      "_________________________________________________________________\n",
      "Layer (type)                 Output Shape              Param #   \n",
      "=================================================================\n",
      "dense_9 (Dense)              (None, 5)                 45        \n",
      "_________________________________________________________________\n",
      "dense_10 (Dense)             (None, 5)                 30        \n",
      "_________________________________________________________________\n",
      "dense_11 (Dense)             (None, 1)                 6         \n",
      "=================================================================\n",
      "Total params: 81\n",
      "Trainable params: 81\n",
      "Non-trainable params: 0\n",
      "_________________________________________________________________\n"
     ]
    }
   ],
   "source": [
    "regressor.summary()"
   ]
  },
  {
   "cell_type": "markdown",
   "metadata": {
    "id": "BjeMCXw_mJCU"
   },
   "source": [
    "Pesos da rede neural."
   ]
  },
  {
   "cell_type": "code",
   "execution_count": null,
   "metadata": {
    "colab": {
     "base_uri": "https://localhost:8080/"
    },
    "id": "YuFJgzpkmFBS",
    "outputId": "379d9aeb-75b4-4e74-c46e-b504b62a4a14"
   },
   "outputs": [
    {
     "data": {
      "text/plain": [
       "[array([[-1.28500385e+01, -7.46998727e-01, -1.47977471e-02,\n",
       "         -5.28953671e-02,  1.04907990e-01],\n",
       "        [ 5.33901405e+00,  3.91913980e-01,  4.61686611e-01,\n",
       "         -1.90474242e-01, -3.70324850e-02],\n",
       "        [ 5.61342669e+00,  6.64094537e-02,  1.73148751e-01,\n",
       "         -6.05596304e-02, -6.23602331e-01],\n",
       "        [ 1.57667427e+01, -1.15663141e-01,  2.71421611e-01,\n",
       "         -1.17332339e-01, -4.39426571e-01],\n",
       "        [ 1.57121944e+01, -7.82349780e-02, -5.70268989e-01,\n",
       "         -4.61384684e-01, -5.12044787e-01],\n",
       "        [ 3.50848496e-01,  4.67275865e-02, -2.93040246e-01,\n",
       "         -4.07061666e-01, -5.55617809e-02],\n",
       "        [ 1.39316845e+01,  7.43110403e-02,  4.55683470e-02,\n",
       "          5.44866323e-01, -1.02250993e-01],\n",
       "        [ 3.60598373e+00, -6.58282995e-01, -4.83260661e-01,\n",
       "          8.21788907e-02, -3.16709280e-01]], dtype=float32),\n",
       " array([ 4.309768  , -0.18361741,  0.        ,  0.        ,  0.        ],\n",
       "       dtype=float32)]"
      ]
     },
     "execution_count": 103,
     "metadata": {
      "tags": []
     },
     "output_type": "execute_result"
    }
   ],
   "source": [
    "regressor.layers[0].get_weights()"
   ]
  },
  {
   "cell_type": "code",
   "execution_count": null,
   "metadata": {
    "colab": {
     "base_uri": "https://localhost:8080/"
    },
    "id": "8rpxlPL6mUme",
    "outputId": "5e4b3279-e738-4505-c5cc-414126607ffc"
   },
   "outputs": [
    {
     "data": {
      "text/plain": [
       "[array([[ 4.82305   , -0.39112914, -0.26423615, -0.63426375, -0.27361286],\n",
       "        [-0.43438113, -0.19762659, -0.12378615,  0.6304054 ,  0.5460195 ],\n",
       "        [ 0.2678604 , -0.597621  , -0.13120598, -0.5772484 ,  0.29683995],\n",
       "        [ 0.36741066,  0.62002826, -0.16479117,  0.4713596 , -0.32158116],\n",
       "        [ 0.08374029, -0.6982854 , -0.6636926 , -0.35694924,  0.16768396]],\n",
       "       dtype=float32),\n",
       " array([3.557923 , 0.       , 0.       , 0.       , 0.0590241],\n",
       "       dtype=float32)]"
      ]
     },
     "execution_count": 104,
     "metadata": {
      "tags": []
     },
     "output_type": "execute_result"
    }
   ],
   "source": [
    "regressor.layers[1].get_weights()"
   ]
  },
  {
   "cell_type": "code",
   "execution_count": null,
   "metadata": {
    "colab": {
     "base_uri": "https://localhost:8080/"
    },
    "id": "C6D6yYbYma99",
    "outputId": "32ca6313-aafa-45f3-e54f-6de1ac50fe3d"
   },
   "outputs": [
    {
     "data": {
      "text/plain": [
       "[array([[ 5.3308244 ],\n",
       "        [-0.77169013],\n",
       "        [-0.26243377],\n",
       "        [-0.9018352 ],\n",
       "        [ 0.08889461]], dtype=float32), array([2.7887206], dtype=float32)]"
      ]
     },
     "execution_count": 105,
     "metadata": {
      "tags": []
     },
     "output_type": "execute_result"
    }
   ],
   "source": [
    "regressor.layers[2].get_weights()"
   ]
  },
  {
   "cell_type": "markdown",
   "metadata": {
    "id": "y27GHY2oLtWl"
   },
   "source": [
    "Agora vamos ver o desempenho do modelo com os dados de treino que foram aplicados nele. \n",
    "\n",
    "Vamos gerar as previsões e transformá-las em uma lista, assim como os dados de treino."
   ]
  },
  {
   "cell_type": "code",
   "execution_count": null,
   "metadata": {
    "id": "glI6uFHnNEyf"
   },
   "outputs": [],
   "source": [
    "x3= regressor.predict(X_treino).tolist()\n",
    "x4 = y_treino.tolist()"
   ]
  },
  {
   "cell_type": "markdown",
   "metadata": {
    "id": "ggY0BBFSMHtd"
   },
   "source": [
    "E compararemos também, de forma gráfica, os resultados."
   ]
  },
  {
   "cell_type": "code",
   "execution_count": null,
   "metadata": {
    "colab": {
     "base_uri": "https://localhost:8080/",
     "height": 338
    },
    "id": "01qlVxyBNEut",
    "outputId": "10a126c3-ccc4-4a2d-818a-0beca2561519"
   },
   "outputs": [
    {
     "data": {
      "image/png": "[encoded data removed]",
      "text/plain": [
       "<Figure size 1440x360 with 1 Axes>"
      ]
     },
     "metadata": {
      "needs_background": "light",
      "tags": []
     },
     "output_type": "display_data"
    }
   ],
   "source": [
    "%matplotlib inline\n",
    "plt.figure(figsize=(20,5))\n",
    "plt.plot(x3[:100], linewidth=2, color='r')\n",
    "plt.plot(x4[:100], linewidth=2,color='g')\n",
    "plt.title('Comparação entre os valores preditos e os valores reais',size=15)\n",
    "plt.legend(['Predições','Real'],fontsize=15)\n",
    "plt.show()"
   ]
  },
  {
   "cell_type": "markdown",
   "metadata": {
    "id": "_PX1Zq6uPePp"
   },
   "source": []
  },
  {
   "cell_type": "markdown",
   "metadata": {
    "id": "LDRQ0DX6Pe4k"
   },
   "source": [
    "Nas métricas de avaliação vemos que o $R^2$ ficou semelhante ao resultado anterior, dessa forma, inicialmente, podemos descartar a presença de *overfitting*."
   ]
  },
  {
   "cell_type": "code",
   "execution_count": null,
   "metadata": {
    "colab": {
     "base_uri": "https://localhost:8080/"
    },
    "id": "_0m_ufUsXj5Y",
    "outputId": "51e71e0d-c8a9-40ab-b062-e8ff41936a0b"
   },
   "outputs": [
    {
     "name": "stdout",
     "output_type": "stream",
     "text": [
      "O erro médio absoluto é : 163311.39869776604\n",
      "O erro médio quadrado é : 71716489801.45435\n",
      "O erro mediano absoluto é : 116991.671875\n",
      "O R quadrado é : 0.4510734720614953\n"
     ]
    }
   ],
   "source": [
    "print('O erro médio absoluto é :',mean_absolute_error(y_treino,regressor.predict(X_treino)))\n",
    "print('O erro médio quadrado é :',mean_squared_error(y_treino,regressor.predict(X_treino)))\n",
    "print('O erro mediano absoluto é :',median_absolute_error(y_treino,regressor.predict(X_treino)))\n",
    "print('O R quadrado é :',r2_score(y_treino,regressor.predict(X_treino)))"
   ]
  },
  {
   "cell_type": "markdown",
   "metadata": {
    "id": "MyI0ih83QbMv"
   },
   "source": [
    "Vamos plotar o gráfico *scatterplot* para comparar o real e o predito."
   ]
  },
  {
   "cell_type": "code",
   "execution_count": null,
   "metadata": {
    "colab": {
     "base_uri": "https://localhost:8080/",
     "height": 350
    },
    "id": "oKH1p749Xj_Y",
    "outputId": "8c5cb18f-785b-4117-d3f5-029684cfb0c5"
   },
   "outputs": [
    {
     "data": {
      "image/png": "[encoded data removed]",
      "text/plain": [
       "<Figure size 1440x360 with 1 Axes>"
      ]
     },
     "metadata": {
      "needs_background": "light",
      "tags": []
     },
     "output_type": "display_data"
    }
   ],
   "source": [
    "plt.figure(figsize=(20,5))\n",
    "plt.title(\"Real vs Predito\",size=15)\n",
    "plt.scatter(x3,x4);"
   ]
  },
  {
   "cell_type": "markdown",
   "metadata": {
    "id": "wsOcUgdIUsbo"
   },
   "source": [
    "## Validação Cruzada\n",
    "\n",
    "Agora vamos fazer a validação cruzada do nosso modelo.\n",
    "\n",
    "Vamos criar uma função e inserir nela a estrutura da nossa rede neural."
   ]
  },
  {
   "cell_type": "code",
   "execution_count": null,
   "metadata": {
    "id": "SBkxOR09XkBq"
   },
   "outputs": [],
   "source": [
    "def RedeNeural():\n",
    "  regressor=Sequential()\n",
    "  regressor.add(Dense(units=5, activation='relu',input_dim=8))\n",
    "  regressor.add(Dense(units=5, activation='relu'))\n",
    "  regressor.add(Dense(units=1,activation='linear'))\n",
    "  regressor.compile(loss='mean_absolute_error',optimizer='adam',metrics=['mean_absolute_error'])\n",
    "\n",
    "  return regressor"
   ]
  },
  {
   "cell_type": "markdown",
   "metadata": {
    "id": "iEI6VcMNVlKG"
   },
   "source": [
    "Criada nossa função vamos aplicar a *cross validation*."
   ]
  },
  {
   "cell_type": "code",
   "execution_count": null,
   "metadata": {
    "colab": {
     "base_uri": "https://localhost:8080/"
    },
    "id": "x-TAYyJjRzHS",
    "outputId": "05d935ca-c6e1-4b3d-c407-c007faed779d",
    "scrolled": false
   },
   "outputs": [
    {
     "name": "stdout",
     "output_type": "stream",
     "text": [
      "Epoch 1/100\n",
      "65/65 [==============================] - 0s 1ms/step - loss: 541089.3750 - mean_absolute_error: 541089.3750\n",
      "Epoch 2/100\n",
      "65/65 [==============================] - 0s 992us/step - loss: 540979.2500 - mean_absolute_error: 540979.2500\n",
      "Epoch 3/100\n",
      "65/65 [==============================] - 0s 1ms/step - loss: 540920.1250 - mean_absolute_error: 540920.1250\n",
      "Epoch 4/100\n",
      "65/65 [==============================] - 0s 1ms/step - loss: 540885.2500 - mean_absolute_error: 540885.2500\n",
      "Epoch 5/100\n",
      "65/65 [==============================] - 0s 989us/step - loss: 540860.1875 - mean_absolute_error: 540860.1875\n",
      "Epoch 6/100\n",
      "65/65 [==============================] - 0s 1ms/step - loss: 540831.3750 - mean_absolute_error: 540831.3750\n",
      "Epoch 7/100\n",
      "65/65 [==============================] - 0s 1ms/step - loss: 540774.3125 - mean_absolute_error: 540774.3125\n",
      "Epoch 8/100\n",
      "65/65 [==============================] - 0s 1ms/step - loss: 540594.5000 - mean_absolute_error: 540594.5000\n",
      "Epoch 9/100\n",
      "65/65 [==============================] - 0s 982us/step - loss: 539738.4375 - mean_absolute_error: 539738.4375\n",
      "Epoch 10/100\n",
      "65/65 [==============================] - 0s 977us/step - loss: 537454.7500 - mean_absolute_error: 537454.7500\n",
      "Epoch 11/100\n",
      "65/65 [==============================] - 0s 1ms/step - loss: 532908.6250 - mean_absolute_error: 532908.6250\n",
      "Epoch 12/100\n",
      "65/65 [==============================] - 0s 982us/step - loss: 525272.0000 - mean_absolute_error: 525272.0000\n",
      "Epoch 13/100\n",
      "65/65 [==============================] - 0s 974us/step - loss: 514768.2500 - mean_absolute_error: 514768.2500\n",
      "Epoch 14/100\n",
      "65/65 [==============================] - 0s 981us/step - loss: 501348.2188 - mean_absolute_error: 501348.2188\n",
      "Epoch 15/100\n",
      "65/65 [==============================] - 0s 1ms/step - loss: 484956.4688 - mean_absolute_error: 484956.4688\n",
      "Epoch 16/100\n",
      "65/65 [==============================] - 0s 1ms/step - loss: 465537.2812 - mean_absolute_error: 465537.2812\n",
      "Epoch 17/100\n",
      "65/65 [==============================] - 0s 1ms/step - loss: 443015.3125 - mean_absolute_error: 443015.3125\n",
      "Epoch 18/100\n",
      "65/65 [==============================] - 0s 1ms/step - loss: 417322.2500 - mean_absolute_error: 417322.2500\n",
      "Epoch 19/100\n",
      "65/65 [==============================] - 0s 1ms/step - loss: 388392.3750 - mean_absolute_error: 388392.3750\n",
      "Epoch 20/100\n",
      "65/65 [==============================] - 0s 1ms/step - loss: 356170.1562 - mean_absolute_error: 356170.1562\n",
      "Epoch 21/100\n",
      "65/65 [==============================] - 0s 1ms/step - loss: 320970.4375 - mean_absolute_error: 320970.4375\n",
      "Epoch 22/100\n",
      "65/65 [==============================] - 0s 1ms/step - loss: 284428.0625 - mean_absolute_error: 284428.0625\n",
      "Epoch 23/100\n",
      "65/65 [==============================] - 0s 990us/step - loss: 249982.4219 - mean_absolute_error: 249982.4062\n",
      "Epoch 24/100\n",
      "65/65 [==============================] - 0s 993us/step - loss: 222296.9688 - mean_absolute_error: 222296.9688\n",
      "Epoch 25/100\n",
      "65/65 [==============================] - 0s 1ms/step - loss: 202122.8125 - mean_absolute_error: 202122.8125\n",
      "Epoch 26/100\n",
      "65/65 [==============================] - 0s 987us/step - loss: 187859.9219 - mean_absolute_error: 187859.9219\n",
      "Epoch 27/100\n",
      "65/65 [==============================] - 0s 979us/step - loss: 178290.0625 - mean_absolute_error: 178290.0625\n",
      "Epoch 28/100\n",
      "65/65 [==============================] - 0s 976us/step - loss: 172150.6250 - mean_absolute_error: 172150.6250\n",
      "Epoch 29/100\n",
      "65/65 [==============================] - 0s 1ms/step - loss: 168527.6875 - mean_absolute_error: 168527.6875\n",
      "Epoch 30/100\n",
      "65/65 [==============================] - 0s 1ms/step - loss: 166485.6875 - mean_absolute_error: 166485.6875\n",
      "Epoch 31/100\n",
      "65/65 [==============================] - 0s 1ms/step - loss: 165393.3906 - mean_absolute_error: 165393.3906\n",
      "Epoch 32/100\n",
      "65/65 [==============================] - 0s 1ms/step - loss: 164824.3906 - mean_absolute_error: 164824.3594\n",
      "Epoch 33/100\n",
      "65/65 [==============================] - 0s 1ms/step - loss: 164566.8750 - mean_absolute_error: 164566.8750\n",
      "Epoch 34/100\n",
      "65/65 [==============================] - 0s 1ms/step - loss: 164451.0000 - mean_absolute_error: 164451.0156\n",
      "Epoch 35/100\n",
      "65/65 [==============================] - 0s 1ms/step - loss: 164404.6094 - mean_absolute_error: 164404.6094\n",
      "Epoch 36/100\n",
      "65/65 [==============================] - 0s 1ms/step - loss: 164376.0156 - mean_absolute_error: 164376.0156\n",
      "Epoch 37/100\n",
      "65/65 [==============================] - 0s 1ms/step - loss: 164361.9688 - mean_absolute_error: 164361.9688\n",
      "Epoch 38/100\n",
      "65/65 [==============================] - 0s 1ms/step - loss: 164354.3750 - mean_absolute_error: 164354.3750\n",
      "Epoch 39/100\n",
      "65/65 [==============================] - 0s 1ms/step - loss: 164341.8906 - mean_absolute_error: 164341.8906\n",
      "Epoch 40/100\n",
      "65/65 [==============================] - 0s 1ms/step - loss: 164333.6094 - mean_absolute_error: 164333.6094\n",
      "Epoch 41/100\n",
      "65/65 [==============================] - 0s 1ms/step - loss: 164325.7500 - mean_absolute_error: 164325.7500\n",
      "Epoch 42/100\n",
      "65/65 [==============================] - 0s 989us/step - loss: 164319.5781 - mean_absolute_error: 164319.5781\n",
      "Epoch 43/100\n",
      "65/65 [==============================] - 0s 955us/step - loss: 164307.4062 - mean_absolute_error: 164307.4062\n",
      "Epoch 44/100\n",
      "65/65 [==============================] - 0s 1ms/step - loss: 164299.7969 - mean_absolute_error: 164299.7969\n",
      "Epoch 45/100\n",
      "65/65 [==============================] - 0s 1ms/step - loss: 164293.7188 - mean_absolute_error: 164293.7188\n",
      "Epoch 46/100\n",
      "65/65 [==============================] - 0s 1ms/step - loss: 164284.3594 - mean_absolute_error: 164284.3594\n",
      "Epoch 47/100\n",
      "65/65 [==============================] - 0s 1ms/step - loss: 164280.0938 - mean_absolute_error: 164280.0938\n",
      "Epoch 48/100\n",
      "65/65 [==============================] - 0s 1ms/step - loss: 164272.0469 - mean_absolute_error: 164272.0625\n",
      "Epoch 49/100\n",
      "65/65 [==============================] - 0s 1ms/step - loss: 164262.4219 - mean_absolute_error: 164262.4219\n",
      "Epoch 50/100\n",
      "65/65 [==============================] - 0s 1ms/step - loss: 164254.4375 - mean_absolute_error: 164254.4375\n",
      "Epoch 51/100\n",
      "65/65 [==============================] - 0s 1ms/step - loss: 164249.2969 - mean_absolute_error: 164249.2969\n",
      "Epoch 52/100\n",
      "65/65 [==============================] - 0s 1ms/step - loss: 164241.5312 - mean_absolute_error: 164241.5312\n",
      "Epoch 53/100\n",
      "65/65 [==============================] - 0s 1ms/step - loss: 164238.2812 - mean_absolute_error: 164238.2812\n",
      "Epoch 54/100\n",
      "65/65 [==============================] - 0s 1ms/step - loss: 164226.7031 - mean_absolute_error: 164226.7188\n",
      "Epoch 55/100\n",
      "65/65 [==============================] - 0s 1ms/step - loss: 164222.2500 - mean_absolute_error: 164222.2500\n",
      "Epoch 56/100\n",
      "65/65 [==============================] - 0s 1ms/step - loss: 164218.0000 - mean_absolute_error: 164218.0000\n",
      "Epoch 57/100\n",
      "65/65 [==============================] - 0s 1ms/step - loss: 164210.3438 - mean_absolute_error: 164210.3438\n",
      "Epoch 58/100\n",
      "65/65 [==============================] - 0s 1ms/step - loss: 164205.0469 - mean_absolute_error: 164205.0625\n",
      "Epoch 59/100\n",
      "65/65 [==============================] - 0s 1ms/step - loss: 164199.4375 - mean_absolute_error: 164199.4375\n",
      "Epoch 60/100\n",
      "65/65 [==============================] - 0s 1ms/step - loss: 164193.5156 - mean_absolute_error: 164193.5156\n",
      "Epoch 61/100\n",
      "65/65 [==============================] - 0s 1ms/step - loss: 164194.3438 - mean_absolute_error: 164194.3438\n",
      "Epoch 62/100\n",
      "65/65 [==============================] - 0s 1ms/step - loss: 164191.4688 - mean_absolute_error: 164191.4688\n",
      "Epoch 63/100\n",
      "65/65 [==============================] - 0s 1ms/step - loss: 164178.7031 - mean_absolute_error: 164178.7031\n",
      "Epoch 64/100\n",
      "65/65 [==============================] - 0s 1ms/step - loss: 164173.3750 - mean_absolute_error: 164173.3750\n",
      "Epoch 65/100\n",
      "65/65 [==============================] - 0s 992us/step - loss: 164167.8438 - mean_absolute_error: 164167.8438\n",
      "Epoch 66/100\n",
      "65/65 [==============================] - 0s 999us/step - loss: 164165.8125 - mean_absolute_error: 164165.8125\n",
      "Epoch 67/100\n",
      "65/65 [==============================] - 0s 1ms/step - loss: 164170.5156 - mean_absolute_error: 164170.5156\n",
      "Epoch 68/100\n",
      "65/65 [==============================] - 0s 1ms/step - loss: 164164.3125 - mean_absolute_error: 164164.3125\n",
      "Epoch 69/100\n",
      "65/65 [==============================] - 0s 1ms/step - loss: 164154.3906 - mean_absolute_error: 164154.3906\n",
      "Epoch 70/100\n",
      "65/65 [==============================] - 0s 1ms/step - loss: 164148.5156 - mean_absolute_error: 164148.5156\n",
      "Epoch 71/100\n",
      "65/65 [==============================] - 0s 986us/step - loss: 164152.3750 - mean_absolute_error: 164152.3750\n",
      "Epoch 72/100\n",
      "65/65 [==============================] - 0s 1ms/step - loss: 164141.2812 - mean_absolute_error: 164141.2812\n",
      "Epoch 73/100\n",
      "65/65 [==============================] - 0s 1ms/step - loss: 164145.8750 - mean_absolute_error: 164145.8750\n",
      "Epoch 74/100\n",
      "65/65 [==============================] - 0s 1ms/step - loss: 164134.4375 - mean_absolute_error: 164134.4375\n",
      "Epoch 75/100\n",
      "65/65 [==============================] - 0s 1ms/step - loss: 164131.9375 - mean_absolute_error: 164131.9375\n",
      "Epoch 76/100\n",
      "65/65 [==============================] - 0s 1ms/step - loss: 164124.6875 - mean_absolute_error: 164124.6875\n",
      "Epoch 77/100\n",
      "65/65 [==============================] - 0s 1ms/step - loss: 164141.4375 - mean_absolute_error: 164141.4375\n",
      "Epoch 78/100\n",
      "65/65 [==============================] - 0s 1ms/step - loss: 164123.5156 - mean_absolute_error: 164123.5156\n",
      "Epoch 79/100\n",
      "65/65 [==============================] - 0s 1ms/step - loss: 164120.7031 - mean_absolute_error: 164120.7031\n",
      "Epoch 80/100\n",
      "65/65 [==============================] - 0s 1ms/step - loss: 164118.3281 - mean_absolute_error: 164118.3281\n",
      "Epoch 81/100\n",
      "65/65 [==============================] - 0s 1ms/step - loss: 164127.0938 - mean_absolute_error: 164127.0938\n",
      "Epoch 82/100\n",
      "65/65 [==============================] - 0s 1ms/step - loss: 164114.2344 - mean_absolute_error: 164114.2344\n",
      "Epoch 83/100\n",
      "65/65 [==============================] - 0s 1ms/step - loss: 164118.3281 - mean_absolute_error: 164118.3281\n",
      "Epoch 84/100\n",
      "65/65 [==============================] - 0s 1ms/step - loss: 164108.5156 - mean_absolute_error: 164108.5156\n",
      "Epoch 85/100\n",
      "65/65 [==============================] - 0s 1ms/step - loss: 164112.9531 - mean_absolute_error: 164112.9531\n",
      "Epoch 86/100\n",
      "65/65 [==============================] - 0s 1ms/step - loss: 164108.9844 - mean_absolute_error: 164108.9844\n",
      "Epoch 87/100\n",
      "65/65 [==============================] - 0s 1ms/step - loss: 164109.2656 - mean_absolute_error: 164109.2656\n",
      "Epoch 88/100\n",
      "65/65 [==============================] - 0s 1ms/step - loss: 164110.0000 - mean_absolute_error: 164110.0000\n",
      "Epoch 89/100\n",
      "65/65 [==============================] - 0s 1ms/step - loss: 164101.1719 - mean_absolute_error: 164101.1719\n",
      "Epoch 90/100\n",
      "65/65 [==============================] - 0s 1ms/step - loss: 164108.5625 - mean_absolute_error: 164108.5625\n",
      "Epoch 91/100\n",
      "65/65 [==============================] - 0s 1ms/step - loss: 164099.0469 - mean_absolute_error: 164099.0469\n",
      "Epoch 92/100\n",
      "65/65 [==============================] - 0s 1ms/step - loss: 164097.2031 - mean_absolute_error: 164097.2031\n",
      "Epoch 93/100\n",
      "65/65 [==============================] - 0s 1ms/step - loss: 164104.4219 - mean_absolute_error: 164104.4219\n",
      "Epoch 94/100\n",
      "65/65 [==============================] - 0s 1ms/step - loss: 164099.6094 - mean_absolute_error: 164099.6094\n",
      "Epoch 95/100\n",
      "65/65 [==============================] - 0s 1ms/step - loss: 164095.6250 - mean_absolute_error: 164095.6250\n",
      "Epoch 96/100\n",
      "65/65 [==============================] - 0s 1ms/step - loss: 164097.0469 - mean_absolute_error: 164097.0469\n",
      "Epoch 97/100\n",
      "65/65 [==============================] - 0s 1ms/step - loss: 164092.8594 - mean_absolute_error: 164092.8438\n",
      "Epoch 98/100\n",
      "65/65 [==============================] - 0s 1ms/step - loss: 164093.9531 - mean_absolute_error: 164093.9531\n",
      "Epoch 99/100\n",
      "65/65 [==============================] - 0s 1ms/step - loss: 164096.5000 - mean_absolute_error: 164096.5000\n",
      "Epoch 100/100\n",
      "65/65 [==============================] - 0s 1ms/step - loss: 164091.5469 - mean_absolute_error: 164091.5625\n",
      "8/8 [==============================] - 0s 1ms/step - loss: 161854.8906 - mean_absolute_error: 161854.8906\n",
      "Epoch 1/100\n",
      "65/65 [==============================] - 0s 1ms/step - loss: 540198.9375 - mean_absolute_error: 540198.9375\n",
      "Epoch 2/100\n",
      "65/65 [==============================] - 0s 1ms/step - loss: 539581.1875 - mean_absolute_error: 539581.1875\n",
      "Epoch 3/100\n",
      "65/65 [==============================] - 0s 1ms/step - loss: 538822.6875 - mean_absolute_error: 538822.6875\n",
      "Epoch 4/100\n",
      "65/65 [==============================] - 0s 1ms/step - loss: 537480.9375 - mean_absolute_error: 537480.9375\n",
      "Epoch 5/100\n",
      "65/65 [==============================] - 0s 1ms/step - loss: 534895.4375 - mean_absolute_error: 534895.4375\n",
      "Epoch 6/100\n",
      "65/65 [==============================] - 0s 1ms/step - loss: 529842.1875 - mean_absolute_error: 529842.1875\n",
      "Epoch 7/100\n",
      "65/65 [==============================] - 0s 1ms/step - loss: 521297.2812 - mean_absolute_error: 521297.2812\n",
      "Epoch 8/100\n",
      "65/65 [==============================] - 0s 1ms/step - loss: 508512.0938 - mean_absolute_error: 508512.0938\n",
      "Epoch 9/100\n",
      "65/65 [==============================] - 0s 1ms/step - loss: 490883.7188 - mean_absolute_error: 490883.7188\n",
      "Epoch 10/100\n",
      "65/65 [==============================] - 0s 1ms/step - loss: 467884.2500 - mean_absolute_error: 467884.2500\n",
      "Epoch 11/100\n",
      "65/65 [==============================] - 0s 1ms/step - loss: 439051.1875 - mean_absolute_error: 439051.1875\n",
      "Epoch 12/100\n",
      "65/65 [==============================] - 0s 1ms/step - loss: 403959.7500 - mean_absolute_error: 403959.7500\n",
      "Epoch 13/100\n",
      "65/65 [==============================] - 0s 1ms/step - loss: 362240.2188 - mean_absolute_error: 362240.2188\n",
      "Epoch 14/100\n",
      "65/65 [==============================] - 0s 1ms/step - loss: 314147.2500 - mean_absolute_error: 314147.2500\n",
      "Epoch 15/100\n",
      "65/65 [==============================] - 0s 1ms/step - loss: 263768.2188 - mean_absolute_error: 263768.2188\n",
      "Epoch 16/100\n",
      "65/65 [==============================] - 0s 1ms/step - loss: 222045.1719 - mean_absolute_error: 222045.1719\n",
      "Epoch 17/100\n",
      "65/65 [==============================] - 0s 1ms/step - loss: 194746.7812 - mean_absolute_error: 194746.7812\n",
      "Epoch 18/100\n",
      "65/65 [==============================] - 0s 1ms/step - loss: 178696.7656 - mean_absolute_error: 178696.7812\n",
      "Epoch 19/100\n",
      "65/65 [==============================] - 0s 1ms/step - loss: 170121.2500 - mean_absolute_error: 170121.2500\n",
      "Epoch 20/100\n",
      "65/65 [==============================] - 0s 1ms/step - loss: 166155.3594 - mean_absolute_error: 166155.3594\n",
      "Epoch 21/100\n",
      "65/65 [==============================] - 0s 1ms/step - loss: 164455.3281 - mean_absolute_error: 164455.3281\n",
      "Epoch 22/100\n",
      "65/65 [==============================] - 0s 1ms/step - loss: 163826.8438 - mean_absolute_error: 163826.8438\n",
      "Epoch 23/100\n",
      "65/65 [==============================] - 0s 1ms/step - loss: 163618.1875 - mean_absolute_error: 163618.1875\n",
      "Epoch 24/100\n",
      "65/65 [==============================] - 0s 1ms/step - loss: 163552.8438 - mean_absolute_error: 163552.8281\n",
      "Epoch 25/100\n",
      "65/65 [==============================] - 0s 1ms/step - loss: 163528.4375 - mean_absolute_error: 163528.4219\n",
      "Epoch 26/100\n",
      "65/65 [==============================] - 0s 1ms/step - loss: 163513.9688 - mean_absolute_error: 163513.9688\n",
      "Epoch 27/100\n",
      "65/65 [==============================] - 0s 1ms/step - loss: 163500.0469 - mean_absolute_error: 163500.0469\n",
      "Epoch 28/100\n",
      "65/65 [==============================] - 0s 1ms/step - loss: 163488.5469 - mean_absolute_error: 163488.5469\n",
      "Epoch 29/100\n",
      "65/65 [==============================] - 0s 1ms/step - loss: 163478.7344 - mean_absolute_error: 163478.7344\n",
      "Epoch 30/100\n",
      "65/65 [==============================] - 0s 1ms/step - loss: 163468.2188 - mean_absolute_error: 163468.2188\n",
      "Epoch 31/100\n",
      "65/65 [==============================] - 0s 1ms/step - loss: 163456.7031 - mean_absolute_error: 163456.7031\n",
      "Epoch 32/100\n",
      "65/65 [==============================] - 0s 1ms/step - loss: 163455.8438 - mean_absolute_error: 163455.8750\n",
      "Epoch 33/100\n",
      "65/65 [==============================] - 0s 1ms/step - loss: 163436.4688 - mean_absolute_error: 163436.4688\n",
      "Epoch 34/100\n",
      "65/65 [==============================] - 0s 1ms/step - loss: 163425.2656 - mean_absolute_error: 163425.2500\n",
      "Epoch 35/100\n",
      "65/65 [==============================] - 0s 1ms/step - loss: 163418.0625 - mean_absolute_error: 163418.0625\n",
      "Epoch 36/100\n",
      "65/65 [==============================] - 0s 994us/step - loss: 163404.1406 - mean_absolute_error: 163404.1406\n",
      "Epoch 37/100\n",
      "65/65 [==============================] - 0s 1ms/step - loss: 163395.4062 - mean_absolute_error: 163395.4062\n",
      "Epoch 38/100\n",
      "65/65 [==============================] - 0s 1ms/step - loss: 163386.3750 - mean_absolute_error: 163386.3750\n",
      "Epoch 39/100\n",
      "65/65 [==============================] - 0s 1ms/step - loss: 163379.0156 - mean_absolute_error: 163379.0156\n",
      "Epoch 40/100\n",
      "65/65 [==============================] - 0s 1ms/step - loss: 163373.8281 - mean_absolute_error: 163373.8281\n",
      "Epoch 41/100\n",
      "65/65 [==============================] - 0s 1ms/step - loss: 163365.8281 - mean_absolute_error: 163365.8281\n",
      "Epoch 42/100\n",
      "65/65 [==============================] - 0s 1ms/step - loss: 163359.7188 - mean_absolute_error: 163359.7188\n",
      "Epoch 43/100\n",
      "65/65 [==============================] - 0s 1ms/step - loss: 163347.6875 - mean_absolute_error: 163347.6875\n",
      "Epoch 44/100\n",
      "65/65 [==============================] - 0s 1ms/step - loss: 163345.4062 - mean_absolute_error: 163345.4062\n",
      "Epoch 45/100\n",
      "65/65 [==============================] - 0s 1ms/step - loss: 163337.8906 - mean_absolute_error: 163337.8906\n",
      "Epoch 46/100\n",
      "65/65 [==============================] - 0s 1ms/step - loss: 163328.2969 - mean_absolute_error: 163328.2969\n",
      "Epoch 47/100\n",
      "65/65 [==============================] - 0s 1ms/step - loss: 163330.2188 - mean_absolute_error: 163330.2188\n",
      "Epoch 48/100\n",
      "65/65 [==============================] - 0s 1ms/step - loss: 163322.5156 - mean_absolute_error: 163322.5156\n",
      "Epoch 49/100\n",
      "65/65 [==============================] - 0s 1ms/step - loss: 163313.2500 - mean_absolute_error: 163313.2656\n",
      "Epoch 50/100\n",
      "65/65 [==============================] - 0s 1ms/step - loss: 163309.9375 - mean_absolute_error: 163309.9375\n",
      "Epoch 51/100\n",
      "65/65 [==============================] - 0s 1ms/step - loss: 163305.9062 - mean_absolute_error: 163305.9062\n",
      "Epoch 52/100\n",
      "65/65 [==============================] - 0s 1ms/step - loss: 163298.5469 - mean_absolute_error: 163298.5469\n",
      "Epoch 53/100\n",
      "65/65 [==============================] - 0s 1ms/step - loss: 163297.1094 - mean_absolute_error: 163297.1094\n",
      "Epoch 54/100\n",
      "65/65 [==============================] - 0s 1ms/step - loss: 163296.1250 - mean_absolute_error: 163296.1250\n",
      "Epoch 55/100\n",
      "65/65 [==============================] - 0s 1ms/step - loss: 163288.7344 - mean_absolute_error: 163288.7344\n",
      "Epoch 56/100\n",
      "65/65 [==============================] - 0s 1ms/step - loss: 163284.8750 - mean_absolute_error: 163284.8750\n",
      "Epoch 57/100\n",
      "65/65 [==============================] - 0s 1ms/step - loss: 163278.3125 - mean_absolute_error: 163278.3125\n",
      "Epoch 58/100\n",
      "65/65 [==============================] - 0s 1ms/step - loss: 163273.2031 - mean_absolute_error: 163273.2031\n",
      "Epoch 59/100\n",
      "65/65 [==============================] - 0s 1ms/step - loss: 163271.7812 - mean_absolute_error: 163271.7812\n",
      "Epoch 60/100\n",
      "65/65 [==============================] - 0s 1ms/step - loss: 163271.5469 - mean_absolute_error: 163271.5312\n",
      "Epoch 61/100\n",
      "65/65 [==============================] - 0s 1ms/step - loss: 163262.6250 - mean_absolute_error: 163262.6250\n",
      "Epoch 62/100\n",
      "65/65 [==============================] - 0s 1ms/step - loss: 163265.0469 - mean_absolute_error: 163265.0469\n",
      "Epoch 63/100\n",
      "65/65 [==============================] - 0s 1ms/step - loss: 163262.9844 - mean_absolute_error: 163262.9844\n",
      "Epoch 64/100\n",
      "65/65 [==============================] - 0s 988us/step - loss: 163262.3594 - mean_absolute_error: 163262.3594\n",
      "Epoch 65/100\n",
      "65/65 [==============================] - 0s 1ms/step - loss: 163258.1250 - mean_absolute_error: 163258.1250\n",
      "Epoch 66/100\n",
      "65/65 [==============================] - 0s 1ms/step - loss: 163256.7656 - mean_absolute_error: 163256.7656\n",
      "Epoch 67/100\n",
      "65/65 [==============================] - 0s 1ms/step - loss: 163253.4219 - mean_absolute_error: 163253.4219\n",
      "Epoch 68/100\n",
      "65/65 [==============================] - 0s 1ms/step - loss: 163249.4375 - mean_absolute_error: 163249.4375\n",
      "Epoch 69/100\n",
      "65/65 [==============================] - 0s 1ms/step - loss: 163257.0156 - mean_absolute_error: 163257.0156\n",
      "Epoch 70/100\n",
      "65/65 [==============================] - 0s 1ms/step - loss: 163247.2031 - mean_absolute_error: 163247.2031\n",
      "Epoch 71/100\n",
      "65/65 [==============================] - 0s 1ms/step - loss: 163245.6094 - mean_absolute_error: 163245.6094\n",
      "Epoch 72/100\n",
      "65/65 [==============================] - 0s 1ms/step - loss: 163245.9219 - mean_absolute_error: 163245.9219\n",
      "Epoch 73/100\n",
      "65/65 [==============================] - 0s 1ms/step - loss: 163242.5625 - mean_absolute_error: 163242.5625\n",
      "Epoch 74/100\n",
      "65/65 [==============================] - 0s 1ms/step - loss: 163241.5938 - mean_absolute_error: 163241.5938\n",
      "Epoch 75/100\n",
      "65/65 [==============================] - 0s 1ms/step - loss: 163244.8594 - mean_absolute_error: 163244.8594\n",
      "Epoch 76/100\n",
      "65/65 [==============================] - 0s 1ms/step - loss: 163245.1250 - mean_absolute_error: 163245.1250\n",
      "Epoch 77/100\n",
      "65/65 [==============================] - 0s 1ms/step - loss: 163238.2344 - mean_absolute_error: 163238.2344\n",
      "Epoch 78/100\n",
      "65/65 [==============================] - 0s 1ms/step - loss: 163233.0312 - mean_absolute_error: 163233.0312\n",
      "Epoch 79/100\n",
      "65/65 [==============================] - 0s 1ms/step - loss: 163234.5156 - mean_absolute_error: 163234.5156\n",
      "Epoch 80/100\n",
      "65/65 [==============================] - 0s 1ms/step - loss: 163233.5156 - mean_absolute_error: 163233.5156\n",
      "Epoch 81/100\n",
      "65/65 [==============================] - 0s 1ms/step - loss: 163237.9219 - mean_absolute_error: 163237.9219\n",
      "Epoch 82/100\n",
      "65/65 [==============================] - 0s 1ms/step - loss: 163234.5938 - mean_absolute_error: 163234.5938\n",
      "Epoch 83/100\n",
      "65/65 [==============================] - 0s 1ms/step - loss: 163227.5781 - mean_absolute_error: 163227.5781\n",
      "Epoch 84/100\n",
      "65/65 [==============================] - 0s 1ms/step - loss: 163231.2188 - mean_absolute_error: 163231.2188\n",
      "Epoch 85/100\n",
      "65/65 [==============================] - 0s 1ms/step - loss: 163231.1719 - mean_absolute_error: 163231.1562\n",
      "Epoch 86/100\n",
      "65/65 [==============================] - 0s 1ms/step - loss: 163242.8281 - mean_absolute_error: 163242.8281\n",
      "Epoch 87/100\n",
      "65/65 [==============================] - 0s 1ms/step - loss: 163227.8906 - mean_absolute_error: 163227.8906\n",
      "Epoch 88/100\n",
      "65/65 [==============================] - 0s 1ms/step - loss: 163240.9844 - mean_absolute_error: 163240.9844\n",
      "Epoch 89/100\n",
      "65/65 [==============================] - 0s 1ms/step - loss: 163232.5781 - mean_absolute_error: 163232.5625\n",
      "Epoch 90/100\n",
      "65/65 [==============================] - 0s 1ms/step - loss: 163227.6562 - mean_absolute_error: 163227.6562\n",
      "Epoch 91/100\n",
      "65/65 [==============================] - 0s 1ms/step - loss: 163224.2969 - mean_absolute_error: 163224.2969\n",
      "Epoch 92/100\n",
      "65/65 [==============================] - 0s 1ms/step - loss: 163227.5156 - mean_absolute_error: 163227.5156\n",
      "Epoch 93/100\n",
      "65/65 [==============================] - 0s 1ms/step - loss: 163233.1719 - mean_absolute_error: 163233.1719\n",
      "Epoch 94/100\n",
      "65/65 [==============================] - 0s 1ms/step - loss: 163221.7812 - mean_absolute_error: 163221.7812\n",
      "Epoch 95/100\n",
      "65/65 [==============================] - 0s 1ms/step - loss: 163219.2188 - mean_absolute_error: 163219.2188\n",
      "Epoch 96/100\n",
      "65/65 [==============================] - 0s 1ms/step - loss: 163224.3750 - mean_absolute_error: 163224.3750\n",
      "Epoch 97/100\n",
      "65/65 [==============================] - 0s 1ms/step - loss: 163231.4531 - mean_absolute_error: 163231.4375\n",
      "Epoch 98/100\n",
      "65/65 [==============================] - 0s 1ms/step - loss: 163216.0938 - mean_absolute_error: 163216.0938\n",
      "Epoch 99/100\n",
      "65/65 [==============================] - 0s 1ms/step - loss: 163233.2656 - mean_absolute_error: 163233.2656\n",
      "Epoch 100/100\n",
      "65/65 [==============================] - 0s 1ms/step - loss: 163218.2031 - mean_absolute_error: 163218.1875\n",
      "8/8 [==============================] - 0s 1ms/step - loss: 169653.1094 - mean_absolute_error: 169653.1094\n",
      "Epoch 1/100\n",
      "65/65 [==============================] - 0s 1ms/step - loss: 540701.0625 - mean_absolute_error: 540701.0625\n",
      "Epoch 2/100\n",
      "65/65 [==============================] - 0s 1ms/step - loss: 539962.3750 - mean_absolute_error: 539962.3750\n",
      "Epoch 3/100\n",
      "65/65 [==============================] - 0s 1ms/step - loss: 538258.1250 - mean_absolute_error: 538258.1250\n",
      "Epoch 4/100\n",
      "65/65 [==============================] - 0s 1ms/step - loss: 535560.5000 - mean_absolute_error: 535560.5000\n",
      "Epoch 5/100\n",
      "65/65 [==============================] - 0s 1ms/step - loss: 531765.2500 - mean_absolute_error: 531765.2500\n",
      "Epoch 6/100\n",
      "65/65 [==============================] - 0s 1ms/step - loss: 526456.9375 - mean_absolute_error: 526456.9375\n",
      "Epoch 7/100\n",
      "65/65 [==============================] - 0s 1ms/step - loss: 519324.5625 - mean_absolute_error: 519324.5625\n",
      "Epoch 8/100\n",
      "65/65 [==============================] - 0s 1ms/step - loss: 510078.8125 - mean_absolute_error: 510078.8125\n",
      "Epoch 9/100\n",
      "65/65 [==============================] - 0s 1ms/step - loss: 498440.2500 - mean_absolute_error: 498440.2500\n",
      "Epoch 10/100\n",
      "65/65 [==============================] - 0s 1ms/step - loss: 484152.6875 - mean_absolute_error: 484152.6875\n",
      "Epoch 11/100\n",
      "65/65 [==============================] - 0s 1ms/step - loss: 466980.4375 - mean_absolute_error: 466980.4375\n",
      "Epoch 12/100\n",
      "65/65 [==============================] - 0s 1ms/step - loss: 446712.9688 - mean_absolute_error: 446712.9688\n",
      "Epoch 13/100\n",
      "65/65 [==============================] - 0s 1ms/step - loss: 423131.5625 - mean_absolute_error: 423131.5625\n",
      "Epoch 14/100\n",
      "65/65 [==============================] - 0s 1ms/step - loss: 396055.3750 - mean_absolute_error: 396055.3750\n",
      "Epoch 15/100\n",
      "65/65 [==============================] - 0s 1ms/step - loss: 365327.4375 - mean_absolute_error: 365327.4375\n",
      "Epoch 16/100\n",
      "65/65 [==============================] - 0s 1ms/step - loss: 330974.5938 - mean_absolute_error: 330974.5938\n",
      "Epoch 17/100\n",
      "65/65 [==============================] - 0s 1ms/step - loss: 294065.8438 - mean_absolute_error: 294065.8438\n",
      "Epoch 18/100\n",
      "65/65 [==============================] - 0s 1ms/step - loss: 257834.1562 - mean_absolute_error: 257834.1562\n",
      "Epoch 19/100\n",
      "65/65 [==============================] - 0s 1ms/step - loss: 226225.0000 - mean_absolute_error: 226225.0000\n",
      "Epoch 20/100\n",
      "65/65 [==============================] - 0s 1ms/step - loss: 200244.3438 - mean_absolute_error: 200244.3438\n",
      "Epoch 21/100\n",
      "65/65 [==============================] - 0s 1ms/step - loss: 183039.2188 - mean_absolute_error: 183039.2188\n",
      "Epoch 22/100\n",
      "65/65 [==============================] - 0s 1ms/step - loss: 173177.6250 - mean_absolute_error: 173177.6250\n",
      "Epoch 23/100\n",
      "65/65 [==============================] - 0s 1ms/step - loss: 168274.3750 - mean_absolute_error: 168274.3750\n",
      "Epoch 24/100\n",
      "65/65 [==============================] - 0s 1ms/step - loss: 166105.3906 - mean_absolute_error: 166105.4062\n",
      "Epoch 25/100\n",
      "65/65 [==============================] - 0s 1ms/step - loss: 165227.0781 - mean_absolute_error: 165227.0781\n",
      "Epoch 26/100\n",
      "65/65 [==============================] - 0s 1ms/step - loss: 164942.3438 - mean_absolute_error: 164942.3438\n",
      "Epoch 27/100\n",
      "65/65 [==============================] - 0s 1ms/step - loss: 164845.7031 - mean_absolute_error: 164845.7031\n",
      "Epoch 28/100\n",
      "65/65 [==============================] - 0s 1ms/step - loss: 164800.0781 - mean_absolute_error: 164800.0938\n",
      "Epoch 29/100\n",
      "65/65 [==============================] - 0s 1ms/step - loss: 164778.0156 - mean_absolute_error: 164778.0156\n",
      "Epoch 30/100\n",
      "65/65 [==============================] - 0s 1ms/step - loss: 164758.8125 - mean_absolute_error: 164758.8125\n",
      "Epoch 31/100\n",
      "65/65 [==============================] - 0s 1ms/step - loss: 164743.2188 - mean_absolute_error: 164743.2188\n",
      "Epoch 32/100\n",
      "65/65 [==============================] - 0s 1ms/step - loss: 164728.5625 - mean_absolute_error: 164728.5625\n",
      "Epoch 33/100\n",
      "65/65 [==============================] - 0s 1ms/step - loss: 164711.4062 - mean_absolute_error: 164711.4062\n",
      "Epoch 34/100\n",
      "65/65 [==============================] - 0s 1ms/step - loss: 164693.0938 - mean_absolute_error: 164693.1094\n",
      "Epoch 35/100\n",
      "65/65 [==============================] - 0s 1ms/step - loss: 164678.6094 - mean_absolute_error: 164678.6094\n",
      "Epoch 36/100\n",
      "65/65 [==============================] - 0s 1ms/step - loss: 164667.7031 - mean_absolute_error: 164667.7188\n",
      "Epoch 37/100\n",
      "65/65 [==============================] - 0s 1ms/step - loss: 164652.3906 - mean_absolute_error: 164652.3906\n",
      "Epoch 38/100\n",
      "65/65 [==============================] - 0s 1ms/step - loss: 164635.0938 - mean_absolute_error: 164635.0938\n",
      "Epoch 39/100\n",
      "65/65 [==============================] - 0s 1ms/step - loss: 164623.5625 - mean_absolute_error: 164623.5625\n",
      "Epoch 40/100\n",
      "65/65 [==============================] - 0s 1ms/step - loss: 164610.7969 - mean_absolute_error: 164610.7969\n",
      "Epoch 41/100\n",
      "65/65 [==============================] - 0s 1ms/step - loss: 164600.6562 - mean_absolute_error: 164600.6562\n",
      "Epoch 42/100\n",
      "65/65 [==============================] - 0s 1ms/step - loss: 164584.5000 - mean_absolute_error: 164584.5000\n",
      "Epoch 43/100\n",
      "65/65 [==============================] - 0s 1ms/step - loss: 164574.5781 - mean_absolute_error: 164574.5781\n",
      "Epoch 44/100\n",
      "65/65 [==============================] - 0s 1ms/step - loss: 164562.6875 - mean_absolute_error: 164562.6875\n",
      "Epoch 45/100\n",
      "65/65 [==============================] - 0s 1ms/step - loss: 164551.9688 - mean_absolute_error: 164551.9688\n",
      "Epoch 46/100\n",
      "65/65 [==============================] - 0s 1ms/step - loss: 164545.6562 - mean_absolute_error: 164545.6562\n",
      "Epoch 47/100\n",
      "65/65 [==============================] - 0s 1ms/step - loss: 164538.5156 - mean_absolute_error: 164538.5156\n",
      "Epoch 48/100\n",
      "65/65 [==============================] - 0s 1ms/step - loss: 164529.5625 - mean_absolute_error: 164529.5625\n",
      "Epoch 49/100\n",
      "65/65 [==============================] - 0s 1ms/step - loss: 164520.4219 - mean_absolute_error: 164520.4219\n",
      "Epoch 50/100\n",
      "65/65 [==============================] - 0s 1ms/step - loss: 164510.2812 - mean_absolute_error: 164510.2812\n",
      "Epoch 51/100\n",
      "65/65 [==============================] - 0s 1ms/step - loss: 164507.0625 - mean_absolute_error: 164507.0625\n",
      "Epoch 52/100\n",
      "65/65 [==============================] - 0s 1ms/step - loss: 164497.0312 - mean_absolute_error: 164497.0312\n",
      "Epoch 53/100\n",
      "65/65 [==============================] - 0s 1ms/step - loss: 164492.1094 - mean_absolute_error: 164492.1094\n",
      "Epoch 54/100\n",
      "65/65 [==============================] - 0s 1ms/step - loss: 164484.5000 - mean_absolute_error: 164484.5000\n",
      "Epoch 55/100\n",
      "65/65 [==============================] - 0s 1ms/step - loss: 164472.5156 - mean_absolute_error: 164472.5156\n",
      "Epoch 56/100\n",
      "65/65 [==============================] - 0s 1ms/step - loss: 164469.5312 - mean_absolute_error: 164469.5312\n",
      "Epoch 57/100\n",
      "65/65 [==============================] - 0s 1ms/step - loss: 164462.1562 - mean_absolute_error: 164462.1562\n",
      "Epoch 58/100\n",
      "65/65 [==============================] - 0s 1ms/step - loss: 164457.3750 - mean_absolute_error: 164457.3594\n",
      "Epoch 59/100\n",
      "65/65 [==============================] - 0s 1ms/step - loss: 164449.0625 - mean_absolute_error: 164449.0625\n",
      "Epoch 60/100\n",
      "65/65 [==============================] - 0s 1ms/step - loss: 164448.7812 - mean_absolute_error: 164448.7812\n",
      "Epoch 61/100\n",
      "65/65 [==============================] - 0s 1ms/step - loss: 164440.0625 - mean_absolute_error: 164440.0625\n",
      "Epoch 62/100\n",
      "65/65 [==============================] - 0s 1ms/step - loss: 164438.7969 - mean_absolute_error: 164438.7969\n",
      "Epoch 63/100\n",
      "65/65 [==============================] - 0s 1ms/step - loss: 164433.2656 - mean_absolute_error: 164433.2656\n",
      "Epoch 64/100\n",
      "65/65 [==============================] - 0s 1ms/step - loss: 164433.2031 - mean_absolute_error: 164433.2031\n",
      "Epoch 65/100\n",
      "65/65 [==============================] - 0s 1ms/step - loss: 164428.2188 - mean_absolute_error: 164428.2188\n",
      "Epoch 66/100\n",
      "65/65 [==============================] - 0s 1ms/step - loss: 164428.7188 - mean_absolute_error: 164428.7188\n",
      "Epoch 67/100\n",
      "65/65 [==============================] - 0s 1ms/step - loss: 164426.2500 - mean_absolute_error: 164426.2500\n",
      "Epoch 68/100\n",
      "65/65 [==============================] - 0s 1ms/step - loss: 164421.3906 - mean_absolute_error: 164421.4062\n",
      "Epoch 69/100\n",
      "65/65 [==============================] - 0s 1ms/step - loss: 164413.1562 - mean_absolute_error: 164413.1562\n",
      "Epoch 70/100\n",
      "65/65 [==============================] - 0s 1ms/step - loss: 164417.1719 - mean_absolute_error: 164417.1719\n",
      "Epoch 71/100\n",
      "65/65 [==============================] - 0s 1ms/step - loss: 164407.4375 - mean_absolute_error: 164407.4375\n",
      "Epoch 72/100\n",
      "65/65 [==============================] - 0s 1ms/step - loss: 164404.9375 - mean_absolute_error: 164404.9219\n",
      "Epoch 73/100\n",
      "65/65 [==============================] - 0s 1ms/step - loss: 164404.1406 - mean_absolute_error: 164404.1406\n",
      "Epoch 74/100\n",
      "65/65 [==============================] - 0s 1ms/step - loss: 164408.1719 - mean_absolute_error: 164408.1875\n",
      "Epoch 75/100\n",
      "65/65 [==============================] - 0s 1ms/step - loss: 164408.9062 - mean_absolute_error: 164408.9062\n",
      "Epoch 76/100\n",
      "65/65 [==============================] - 0s 1ms/step - loss: 164398.2031 - mean_absolute_error: 164398.2188\n",
      "Epoch 77/100\n",
      "65/65 [==============================] - 0s 1ms/step - loss: 164407.1094 - mean_absolute_error: 164407.1094\n",
      "Epoch 78/100\n",
      "65/65 [==============================] - 0s 1ms/step - loss: 164417.2031 - mean_absolute_error: 164417.2031\n",
      "Epoch 79/100\n",
      "65/65 [==============================] - 0s 1ms/step - loss: 164396.0000 - mean_absolute_error: 164396.0000\n",
      "Epoch 80/100\n",
      "65/65 [==============================] - 0s 1ms/step - loss: 164393.5469 - mean_absolute_error: 164393.5469\n",
      "Epoch 81/100\n",
      "65/65 [==============================] - 0s 1ms/step - loss: 164399.7500 - mean_absolute_error: 164399.7500\n",
      "Epoch 82/100\n",
      "65/65 [==============================] - 0s 1ms/step - loss: 164388.4531 - mean_absolute_error: 164388.4531\n",
      "Epoch 83/100\n",
      "65/65 [==============================] - 0s 1ms/step - loss: 164386.6719 - mean_absolute_error: 164386.6719\n",
      "Epoch 84/100\n",
      "65/65 [==============================] - 0s 1ms/step - loss: 164384.4219 - mean_absolute_error: 164384.4219\n",
      "Epoch 85/100\n",
      "65/65 [==============================] - 0s 1ms/step - loss: 164382.9844 - mean_absolute_error: 164383.0156\n",
      "Epoch 86/100\n",
      "65/65 [==============================] - 0s 1ms/step - loss: 164387.6719 - mean_absolute_error: 164387.6719\n",
      "Epoch 87/100\n",
      "65/65 [==============================] - 0s 1ms/step - loss: 164381.2500 - mean_absolute_error: 164381.2500\n",
      "Epoch 88/100\n",
      "65/65 [==============================] - 0s 1ms/step - loss: 164384.4531 - mean_absolute_error: 164384.4531\n",
      "Epoch 89/100\n",
      "65/65 [==============================] - 0s 1ms/step - loss: 164382.0625 - mean_absolute_error: 164382.0625\n",
      "Epoch 90/100\n",
      "65/65 [==============================] - 0s 1ms/step - loss: 164387.2344 - mean_absolute_error: 164387.2344\n",
      "Epoch 91/100\n",
      "65/65 [==============================] - 0s 1ms/step - loss: 164392.1094 - mean_absolute_error: 164392.1094\n",
      "Epoch 92/100\n",
      "65/65 [==============================] - 0s 1ms/step - loss: 164380.6562 - mean_absolute_error: 164380.6562\n",
      "Epoch 93/100\n",
      "65/65 [==============================] - 0s 1ms/step - loss: 164390.4062 - mean_absolute_error: 164390.4062\n",
      "Epoch 94/100\n",
      "65/65 [==============================] - 0s 1ms/step - loss: 164371.8750 - mean_absolute_error: 164371.8750\n",
      "Epoch 95/100\n",
      "65/65 [==============================] - 0s 1ms/step - loss: 164367.2969 - mean_absolute_error: 164367.2969\n",
      "Epoch 96/100\n",
      "65/65 [==============================] - 0s 1ms/step - loss: 164374.0000 - mean_absolute_error: 164374.0000\n",
      "Epoch 97/100\n",
      "65/65 [==============================] - 0s 1ms/step - loss: 164380.8281 - mean_absolute_error: 164380.8125\n",
      "Epoch 98/100\n",
      "65/65 [==============================] - 0s 1ms/step - loss: 164377.4219 - mean_absolute_error: 164377.4219\n",
      "Epoch 99/100\n",
      "65/65 [==============================] - 0s 1ms/step - loss: 164371.5625 - mean_absolute_error: 164371.5625\n",
      "Epoch 100/100\n",
      "65/65 [==============================] - 0s 1ms/step - loss: 164370.5625 - mean_absolute_error: 164370.5625\n",
      "8/8 [==============================] - 0s 1ms/step - loss: 159445.8438 - mean_absolute_error: 159445.8438\n",
      "Epoch 1/100\n",
      "65/65 [==============================] - 0s 1ms/step - loss: 541586.5625 - mean_absolute_error: 541586.5625\n",
      "Epoch 2/100\n",
      "65/65 [==============================] - 0s 1ms/step - loss: 541454.3750 - mean_absolute_error: 541454.3750\n",
      "Epoch 3/100\n",
      "65/65 [==============================] - 0s 1ms/step - loss: 541396.4375 - mean_absolute_error: 541396.4375\n",
      "Epoch 4/100\n",
      "65/65 [==============================] - 0s 1ms/step - loss: 541370.0625 - mean_absolute_error: 541370.0625\n",
      "Epoch 5/100\n",
      "65/65 [==============================] - 0s 1ms/step - loss: 541358.6875 - mean_absolute_error: 541358.6875\n",
      "Epoch 6/100\n",
      "65/65 [==============================] - 0s 1ms/step - loss: 541357.8125 - mean_absolute_error: 541357.8125\n",
      "Epoch 7/100\n",
      "65/65 [==============================] - 0s 1ms/step - loss: 541357.7500 - mean_absolute_error: 541357.7500\n",
      "Epoch 8/100\n",
      "65/65 [==============================] - 0s 1ms/step - loss: 541357.7500 - mean_absolute_error: 541357.7500\n",
      "Epoch 9/100\n",
      "65/65 [==============================] - 0s 1ms/step - loss: 541357.6250 - mean_absolute_error: 541357.6875\n",
      "Epoch 10/100\n",
      "65/65 [==============================] - 0s 1ms/step - loss: 541357.5625 - mean_absolute_error: 541357.5625\n",
      "Epoch 11/100\n",
      "65/65 [==============================] - 0s 1ms/step - loss: 541357.4375 - mean_absolute_error: 541357.4375\n",
      "Epoch 12/100\n",
      "65/65 [==============================] - 0s 1ms/step - loss: 541357.3125 - mean_absolute_error: 541357.3750\n",
      "Epoch 13/100\n",
      "65/65 [==============================] - 0s 1ms/step - loss: 541357.1250 - mean_absolute_error: 541357.1250\n",
      "Epoch 14/100\n",
      "65/65 [==============================] - 0s 1ms/step - loss: 541357.3125 - mean_absolute_error: 541357.3125\n",
      "Epoch 15/100\n",
      "65/65 [==============================] - 0s 1ms/step - loss: 541357.2500 - mean_absolute_error: 541357.2500\n",
      "Epoch 16/100\n",
      "65/65 [==============================] - 0s 1ms/step - loss: 541357.2500 - mean_absolute_error: 541357.2500\n",
      "Epoch 17/100\n",
      "65/65 [==============================] - 0s 1ms/step - loss: 541357.0625 - mean_absolute_error: 541357.0625\n",
      "Epoch 18/100\n",
      "65/65 [==============================] - 0s 1ms/step - loss: 541357.1875 - mean_absolute_error: 541357.1875\n",
      "Epoch 19/100\n",
      "65/65 [==============================] - 0s 1ms/step - loss: 541356.9375 - mean_absolute_error: 541356.9375\n",
      "Epoch 20/100\n",
      "65/65 [==============================] - 0s 1ms/step - loss: 541356.9375 - mean_absolute_error: 541356.9375\n",
      "Epoch 21/100\n",
      "65/65 [==============================] - 0s 1ms/step - loss: 541357.0000 - mean_absolute_error: 541357.0000\n",
      "Epoch 22/100\n",
      "65/65 [==============================] - 0s 1ms/step - loss: 541356.8125 - mean_absolute_error: 541356.8125\n",
      "Epoch 23/100\n",
      "65/65 [==============================] - 0s 1ms/step - loss: 541356.6250 - mean_absolute_error: 541356.6250\n",
      "Epoch 24/100\n",
      "65/65 [==============================] - 0s 1ms/step - loss: 541356.3750 - mean_absolute_error: 541356.3750\n",
      "Epoch 25/100\n",
      "65/65 [==============================] - 0s 1ms/step - loss: 541042.5625 - mean_absolute_error: 541042.5000\n",
      "Epoch 26/100\n",
      "65/65 [==============================] - 0s 1ms/step - loss: 539142.5000 - mean_absolute_error: 539142.5000\n",
      "Epoch 27/100\n",
      "65/65 [==============================] - 0s 1ms/step - loss: 535247.7500 - mean_absolute_error: 535247.7500\n",
      "Epoch 28/100\n",
      "65/65 [==============================] - 0s 1ms/step - loss: 529527.7500 - mean_absolute_error: 529527.7500\n",
      "Epoch 29/100\n",
      "65/65 [==============================] - 0s 1ms/step - loss: 522131.2500 - mean_absolute_error: 522131.2500\n",
      "Epoch 30/100\n",
      "65/65 [==============================] - 0s 1ms/step - loss: 513164.0312 - mean_absolute_error: 513164.0312\n",
      "Epoch 31/100\n",
      "65/65 [==============================] - 0s 1ms/step - loss: 502691.0312 - mean_absolute_error: 502691.0312\n",
      "Epoch 32/100\n",
      "65/65 [==============================] - 0s 1ms/step - loss: 490763.2500 - mean_absolute_error: 490763.2500\n",
      "Epoch 33/100\n",
      "65/65 [==============================] - 0s 1ms/step - loss: 477404.8438 - mean_absolute_error: 477404.8438\n",
      "Epoch 34/100\n",
      "65/65 [==============================] - 0s 1ms/step - loss: 462644.8438 - mean_absolute_error: 462644.8438\n",
      "Epoch 35/100\n",
      "65/65 [==============================] - 0s 1ms/step - loss: 446489.7812 - mean_absolute_error: 446489.7812\n",
      "Epoch 36/100\n",
      "65/65 [==============================] - 0s 1ms/step - loss: 428955.2188 - mean_absolute_error: 428955.2188\n",
      "Epoch 37/100\n",
      "65/65 [==============================] - 0s 1ms/step - loss: 410042.0625 - mean_absolute_error: 410042.0625\n",
      "Epoch 38/100\n",
      "65/65 [==============================] - 0s 1ms/step - loss: 389761.1875 - mean_absolute_error: 389761.1875\n",
      "Epoch 39/100\n",
      "65/65 [==============================] - 0s 1ms/step - loss: 368096.9062 - mean_absolute_error: 368096.9062\n",
      "Epoch 40/100\n",
      "65/65 [==============================] - 0s 1ms/step - loss: 345115.8125 - mean_absolute_error: 345115.8125\n",
      "Epoch 41/100\n",
      "65/65 [==============================] - 0s 1ms/step - loss: 321063.4062 - mean_absolute_error: 321063.4062\n",
      "Epoch 42/100\n",
      "65/65 [==============================] - 0s 1ms/step - loss: 296488.8125 - mean_absolute_error: 296488.8125\n",
      "Epoch 43/100\n",
      "65/65 [==============================] - 0s 1ms/step - loss: 272433.3750 - mean_absolute_error: 272433.3750\n",
      "Epoch 44/100\n",
      "65/65 [==============================] - 0s 1ms/step - loss: 250203.0000 - mean_absolute_error: 250203.0000\n",
      "Epoch 45/100\n",
      "65/65 [==============================] - 0s 1ms/step - loss: 231122.5469 - mean_absolute_error: 231122.5469\n",
      "Epoch 46/100\n",
      "65/65 [==============================] - 0s 1ms/step - loss: 215480.1719 - mean_absolute_error: 215480.1719\n",
      "Epoch 47/100\n",
      "65/65 [==============================] - 0s 1ms/step - loss: 202812.3438 - mean_absolute_error: 202812.3438\n",
      "Epoch 48/100\n",
      "65/65 [==============================] - 0s 1ms/step - loss: 192727.2812 - mean_absolute_error: 192727.2812\n",
      "Epoch 49/100\n",
      "65/65 [==============================] - 0s 1ms/step - loss: 184850.9844 - mean_absolute_error: 184850.9844\n",
      "Epoch 50/100\n",
      "65/65 [==============================] - 0s 1ms/step - loss: 178890.6719 - mean_absolute_error: 178890.6719\n",
      "Epoch 51/100\n",
      "65/65 [==============================] - 0s 1ms/step - loss: 174380.0156 - mean_absolute_error: 174380.0156\n",
      "Epoch 52/100\n",
      "65/65 [==============================] - 0s 1ms/step - loss: 171087.2969 - mean_absolute_error: 171087.2969\n",
      "Epoch 53/100\n",
      "65/65 [==============================] - 0s 1ms/step - loss: 168774.7188 - mean_absolute_error: 168774.7188\n",
      "Epoch 54/100\n",
      "65/65 [==============================] - 0s 1ms/step - loss: 167154.2500 - mean_absolute_error: 167154.2500\n",
      "Epoch 55/100\n",
      "65/65 [==============================] - 0s 1ms/step - loss: 166087.3906 - mean_absolute_error: 166087.3906\n",
      "Epoch 56/100\n",
      "65/65 [==============================] - 0s 1ms/step - loss: 165399.5781 - mean_absolute_error: 165399.5781\n",
      "Epoch 57/100\n",
      "65/65 [==============================] - 0s 1ms/step - loss: 164939.2188 - mean_absolute_error: 164939.2188\n",
      "Epoch 58/100\n",
      "65/65 [==============================] - 0s 1ms/step - loss: 164675.9844 - mean_absolute_error: 164675.9844\n",
      "Epoch 59/100\n",
      "65/65 [==============================] - 0s 1ms/step - loss: 164515.2969 - mean_absolute_error: 164515.2969\n",
      "Epoch 60/100\n",
      "65/65 [==============================] - 0s 1ms/step - loss: 164428.0000 - mean_absolute_error: 164428.0000\n",
      "Epoch 61/100\n",
      "65/65 [==============================] - 0s 1ms/step - loss: 164374.7344 - mean_absolute_error: 164374.7344\n",
      "Epoch 62/100\n",
      "65/65 [==============================] - 0s 1ms/step - loss: 164348.0938 - mean_absolute_error: 164348.0938\n",
      "Epoch 63/100\n",
      "65/65 [==============================] - 0s 1ms/step - loss: 164324.9688 - mean_absolute_error: 164324.9688\n",
      "Epoch 64/100\n",
      "65/65 [==============================] - 0s 1ms/step - loss: 164310.6719 - mean_absolute_error: 164310.6562\n",
      "Epoch 65/100\n",
      "65/65 [==============================] - 0s 1ms/step - loss: 164301.3125 - mean_absolute_error: 164301.3125\n",
      "Epoch 66/100\n",
      "65/65 [==============================] - 0s 1ms/step - loss: 164293.0469 - mean_absolute_error: 164293.0469\n",
      "Epoch 67/100\n",
      "65/65 [==============================] - 0s 1ms/step - loss: 164283.7031 - mean_absolute_error: 164283.7031\n",
      "Epoch 68/100\n",
      "65/65 [==============================] - 0s 1ms/step - loss: 164276.2812 - mean_absolute_error: 164276.2812\n",
      "Epoch 69/100\n",
      "65/65 [==============================] - 0s 1ms/step - loss: 164267.4688 - mean_absolute_error: 164267.4688\n",
      "Epoch 70/100\n",
      "65/65 [==============================] - 0s 1ms/step - loss: 164258.3750 - mean_absolute_error: 164258.3750\n",
      "Epoch 71/100\n",
      "65/65 [==============================] - 0s 1ms/step - loss: 164252.3906 - mean_absolute_error: 164252.3906\n",
      "Epoch 72/100\n",
      "65/65 [==============================] - 0s 1ms/step - loss: 164241.5156 - mean_absolute_error: 164241.5156\n",
      "Epoch 73/100\n",
      "65/65 [==============================] - 0s 1ms/step - loss: 164237.4219 - mean_absolute_error: 164237.4219\n",
      "Epoch 74/100\n",
      "65/65 [==============================] - 0s 1ms/step - loss: 164226.1250 - mean_absolute_error: 164226.1250\n",
      "Epoch 75/100\n",
      "65/65 [==============================] - 0s 1ms/step - loss: 164218.3125 - mean_absolute_error: 164218.2969\n",
      "Epoch 76/100\n",
      "65/65 [==============================] - 0s 1ms/step - loss: 164210.6406 - mean_absolute_error: 164210.6406\n",
      "Epoch 77/100\n",
      "65/65 [==============================] - 0s 1ms/step - loss: 164201.7656 - mean_absolute_error: 164201.7656\n",
      "Epoch 78/100\n",
      "65/65 [==============================] - 0s 1ms/step - loss: 164193.0156 - mean_absolute_error: 164193.0156\n",
      "Epoch 79/100\n",
      "65/65 [==============================] - 0s 1ms/step - loss: 164187.0156 - mean_absolute_error: 164187.0156\n",
      "Epoch 80/100\n",
      "65/65 [==============================] - 0s 1ms/step - loss: 164175.7031 - mean_absolute_error: 164175.7031\n",
      "Epoch 81/100\n",
      "65/65 [==============================] - 0s 1ms/step - loss: 164169.7812 - mean_absolute_error: 164169.7812\n",
      "Epoch 82/100\n",
      "65/65 [==============================] - 0s 1ms/step - loss: 164160.1719 - mean_absolute_error: 164160.1719\n",
      "Epoch 83/100\n",
      "65/65 [==============================] - 0s 1ms/step - loss: 164151.3906 - mean_absolute_error: 164151.3906\n",
      "Epoch 84/100\n",
      "65/65 [==============================] - 0s 1ms/step - loss: 164145.4375 - mean_absolute_error: 164145.4375\n",
      "Epoch 85/100\n",
      "65/65 [==============================] - 0s 1ms/step - loss: 164136.3281 - mean_absolute_error: 164136.3438\n",
      "Epoch 86/100\n",
      "65/65 [==============================] - 0s 1ms/step - loss: 164132.5312 - mean_absolute_error: 164132.5312\n",
      "Epoch 87/100\n",
      "65/65 [==============================] - 0s 1ms/step - loss: 164121.0938 - mean_absolute_error: 164121.0938\n",
      "Epoch 88/100\n",
      "65/65 [==============================] - 0s 1ms/step - loss: 164113.3438 - mean_absolute_error: 164113.3438\n",
      "Epoch 89/100\n",
      "65/65 [==============================] - 0s 1ms/step - loss: 164107.7188 - mean_absolute_error: 164107.7188\n",
      "Epoch 90/100\n",
      "65/65 [==============================] - 0s 1ms/step - loss: 164100.7500 - mean_absolute_error: 164100.7500\n",
      "Epoch 91/100\n",
      "65/65 [==============================] - 0s 1ms/step - loss: 164090.7656 - mean_absolute_error: 164090.7656\n",
      "Epoch 92/100\n",
      "65/65 [==============================] - 0s 1ms/step - loss: 164086.2188 - mean_absolute_error: 164086.2031\n",
      "Epoch 93/100\n",
      "65/65 [==============================] - 0s 1ms/step - loss: 164076.1875 - mean_absolute_error: 164076.1875\n",
      "Epoch 94/100\n",
      "65/65 [==============================] - 0s 1ms/step - loss: 164069.2031 - mean_absolute_error: 164069.2031\n",
      "Epoch 95/100\n",
      "65/65 [==============================] - 0s 1ms/step - loss: 164064.5938 - mean_absolute_error: 164064.5938\n",
      "Epoch 96/100\n",
      "65/65 [==============================] - 0s 1ms/step - loss: 164058.8125 - mean_absolute_error: 164058.8125\n",
      "Epoch 97/100\n",
      "65/65 [==============================] - 0s 1ms/step - loss: 164050.6562 - mean_absolute_error: 164050.6562\n",
      "Epoch 98/100\n",
      "65/65 [==============================] - 0s 1ms/step - loss: 164043.8438 - mean_absolute_error: 164043.8438\n",
      "Epoch 99/100\n",
      "65/65 [==============================] - 0s 1ms/step - loss: 164038.5312 - mean_absolute_error: 164038.5312\n",
      "Epoch 100/100\n",
      "65/65 [==============================] - 0s 1ms/step - loss: 164034.9688 - mean_absolute_error: 164034.9531\n",
      "8/8 [==============================] - 0s 2ms/step - loss: 164086.4375 - mean_absolute_error: 164086.4375\n",
      "Epoch 1/100\n",
      "65/65 [==============================] - 0s 1ms/step - loss: 542312.4375 - mean_absolute_error: 542312.4375\n",
      "Epoch 2/100\n",
      "65/65 [==============================] - 0s 1ms/step - loss: 542036.5625 - mean_absolute_error: 542036.5625\n",
      "Epoch 3/100\n",
      "65/65 [==============================] - 0s 1ms/step - loss: 541079.9375 - mean_absolute_error: 541080.0000\n",
      "Epoch 4/100\n",
      "65/65 [==============================] - 0s 1ms/step - loss: 538978.9375 - mean_absolute_error: 538978.9375\n",
      "Epoch 5/100\n",
      "65/65 [==============================] - 0s 1ms/step - loss: 535306.1250 - mean_absolute_error: 535306.1250\n",
      "Epoch 6/100\n",
      "65/65 [==============================] - 0s 1ms/step - loss: 529652.3750 - mean_absolute_error: 529652.3750\n",
      "Epoch 7/100\n",
      "65/65 [==============================] - 0s 1ms/step - loss: 521628.3438 - mean_absolute_error: 521628.3438\n",
      "Epoch 8/100\n",
      "65/65 [==============================] - 0s 1ms/step - loss: 510882.9375 - mean_absolute_error: 510882.9375\n",
      "Epoch 9/100\n",
      "65/65 [==============================] - 0s 1ms/step - loss: 497082.9375 - mean_absolute_error: 497082.9375\n",
      "Epoch 10/100\n",
      "65/65 [==============================] - 0s 1ms/step - loss: 479919.8750 - mean_absolute_error: 479919.8750\n",
      "Epoch 11/100\n",
      "65/65 [==============================] - 0s 1ms/step - loss: 459108.1875 - mean_absolute_error: 459108.1875\n",
      "Epoch 12/100\n",
      "65/65 [==============================] - 0s 1ms/step - loss: 434377.9688 - mean_absolute_error: 434377.9688\n",
      "Epoch 13/100\n",
      "65/65 [==============================] - 0s 1ms/step - loss: 405466.9375 - mean_absolute_error: 405466.9375\n",
      "Epoch 14/100\n",
      "65/65 [==============================] - 0s 1ms/step - loss: 372165.6250 - mean_absolute_error: 372165.6562\n",
      "Epoch 15/100\n",
      "65/65 [==============================] - 0s 1ms/step - loss: 334463.0625 - mean_absolute_error: 334463.0625\n",
      "Epoch 16/100\n",
      "65/65 [==============================] - 0s 2ms/step - loss: 293756.7812 - mean_absolute_error: 293756.7812\n",
      "Epoch 17/100\n",
      "65/65 [==============================] - 0s 1ms/step - loss: 254197.2031 - mean_absolute_error: 254197.2031\n",
      "Epoch 18/100\n",
      "65/65 [==============================] - 0s 1ms/step - loss: 222175.0781 - mean_absolute_error: 222175.0781\n",
      "Epoch 19/100\n",
      "65/65 [==============================] - 0s 1ms/step - loss: 199474.2656 - mean_absolute_error: 199474.2656\n",
      "Epoch 20/100\n",
      "65/65 [==============================] - 0s 1ms/step - loss: 184605.4844 - mean_absolute_error: 184605.4844\n",
      "Epoch 21/100\n",
      "65/65 [==============================] - 0s 1ms/step - loss: 175413.2500 - mean_absolute_error: 175413.2500\n",
      "Epoch 22/100\n",
      "65/65 [==============================] - 0s 1ms/step - loss: 170100.0938 - mean_absolute_error: 170100.0938\n",
      "Epoch 23/100\n",
      "65/65 [==============================] - 0s 1ms/step - loss: 167369.6406 - mean_absolute_error: 167369.6406\n",
      "Epoch 24/100\n",
      "65/65 [==============================] - 0s 1ms/step - loss: 166074.5156 - mean_absolute_error: 166074.5156\n",
      "Epoch 25/100\n",
      "65/65 [==============================] - 0s 1ms/step - loss: 165486.0625 - mean_absolute_error: 165486.0625\n",
      "Epoch 26/100\n",
      "65/65 [==============================] - 0s 1ms/step - loss: 165256.9375 - mean_absolute_error: 165256.9375\n",
      "Epoch 27/100\n",
      "65/65 [==============================] - 0s 1ms/step - loss: 165172.2812 - mean_absolute_error: 165172.2812\n",
      "Epoch 28/100\n",
      "65/65 [==============================] - 0s 1ms/step - loss: 165141.8750 - mean_absolute_error: 165141.8750\n",
      "Epoch 29/100\n",
      "65/65 [==============================] - 0s 1ms/step - loss: 165129.6094 - mean_absolute_error: 165129.6094\n",
      "Epoch 30/100\n",
      "65/65 [==============================] - 0s 1ms/step - loss: 165124.9062 - mean_absolute_error: 165124.8906\n",
      "Epoch 31/100\n",
      "65/65 [==============================] - 0s 1ms/step - loss: 165121.8594 - mean_absolute_error: 165121.8594\n",
      "Epoch 32/100\n",
      "65/65 [==============================] - 0s 1ms/step - loss: 165121.2812 - mean_absolute_error: 165121.2812\n",
      "Epoch 33/100\n",
      "65/65 [==============================] - 0s 1ms/step - loss: 165117.6094 - mean_absolute_error: 165117.6250\n",
      "Epoch 34/100\n",
      "65/65 [==============================] - 0s 1ms/step - loss: 165117.1094 - mean_absolute_error: 165117.1094\n",
      "Epoch 35/100\n",
      "65/65 [==============================] - 0s 1ms/step - loss: 165117.0156 - mean_absolute_error: 165117.0156\n",
      "Epoch 36/100\n",
      "65/65 [==============================] - 0s 1ms/step - loss: 165111.9688 - mean_absolute_error: 165111.9688\n",
      "Epoch 37/100\n",
      "65/65 [==============================] - 0s 1ms/step - loss: 165108.8125 - mean_absolute_error: 165108.8125\n",
      "Epoch 38/100\n",
      "65/65 [==============================] - 0s 1ms/step - loss: 165110.7031 - mean_absolute_error: 165110.7031\n",
      "Epoch 39/100\n",
      "65/65 [==============================] - 0s 1ms/step - loss: 165105.6875 - mean_absolute_error: 165105.6875\n",
      "Epoch 40/100\n",
      "65/65 [==============================] - 0s 1ms/step - loss: 165103.5625 - mean_absolute_error: 165103.5625\n",
      "Epoch 41/100\n",
      "65/65 [==============================] - 0s 1ms/step - loss: 165101.6406 - mean_absolute_error: 165101.6406\n",
      "Epoch 42/100\n",
      "65/65 [==============================] - 0s 1ms/step - loss: 165100.6250 - mean_absolute_error: 165100.6250\n",
      "Epoch 43/100\n",
      "65/65 [==============================] - 0s 1ms/step - loss: 165098.4062 - mean_absolute_error: 165098.4062\n",
      "Epoch 44/100\n",
      "65/65 [==============================] - 0s 1ms/step - loss: 165097.1406 - mean_absolute_error: 165097.1406\n",
      "Epoch 45/100\n",
      "65/65 [==============================] - 0s 1ms/step - loss: 165095.2656 - mean_absolute_error: 165095.2656\n",
      "Epoch 46/100\n",
      "65/65 [==============================] - 0s 1ms/step - loss: 165095.3438 - mean_absolute_error: 165095.3281\n",
      "Epoch 47/100\n",
      "65/65 [==============================] - 0s 1ms/step - loss: 165093.4531 - mean_absolute_error: 165093.4531\n",
      "Epoch 48/100\n",
      "65/65 [==============================] - 0s 1ms/step - loss: 165091.4219 - mean_absolute_error: 165091.4531\n",
      "Epoch 49/100\n",
      "65/65 [==============================] - 0s 1ms/step - loss: 165091.2656 - mean_absolute_error: 165091.2656\n",
      "Epoch 50/100\n",
      "65/65 [==============================] - 0s 1ms/step - loss: 165096.7500 - mean_absolute_error: 165096.7500\n",
      "Epoch 51/100\n",
      "65/65 [==============================] - 0s 1ms/step - loss: 165084.1094 - mean_absolute_error: 165084.1094\n",
      "Epoch 52/100\n",
      "65/65 [==============================] - 0s 1ms/step - loss: 165084.3438 - mean_absolute_error: 165084.3438\n",
      "Epoch 53/100\n",
      "65/65 [==============================] - 0s 1ms/step - loss: 165085.5000 - mean_absolute_error: 165085.5000\n",
      "Epoch 54/100\n",
      "65/65 [==============================] - 0s 1ms/step - loss: 165079.9844 - mean_absolute_error: 165079.9844\n",
      "Epoch 55/100\n",
      "65/65 [==============================] - 0s 1ms/step - loss: 165086.0000 - mean_absolute_error: 165086.0000\n",
      "Epoch 56/100\n",
      "65/65 [==============================] - 0s 1ms/step - loss: 165076.1719 - mean_absolute_error: 165076.1719\n",
      "Epoch 57/100\n",
      "65/65 [==============================] - 0s 1ms/step - loss: 165080.2500 - mean_absolute_error: 165080.2500\n",
      "Epoch 58/100\n",
      "65/65 [==============================] - 0s 1ms/step - loss: 165076.1250 - mean_absolute_error: 165076.1094\n",
      "Epoch 59/100\n",
      "65/65 [==============================] - 0s 1ms/step - loss: 165075.1250 - mean_absolute_error: 165075.1250\n",
      "Epoch 60/100\n",
      "65/65 [==============================] - 0s 1ms/step - loss: 165073.0938 - mean_absolute_error: 165073.0938\n",
      "Epoch 61/100\n",
      "65/65 [==============================] - 0s 1ms/step - loss: 165073.2344 - mean_absolute_error: 165073.2344\n",
      "Epoch 62/100\n",
      "65/65 [==============================] - 0s 1ms/step - loss: 165077.8281 - mean_absolute_error: 165077.8281\n",
      "Epoch 63/100\n",
      "65/65 [==============================] - 0s 1ms/step - loss: 165067.9844 - mean_absolute_error: 165067.9844\n",
      "Epoch 64/100\n",
      "65/65 [==============================] - 0s 1ms/step - loss: 165067.3594 - mean_absolute_error: 165067.3594\n",
      "Epoch 65/100\n",
      "65/65 [==============================] - 0s 1ms/step - loss: 165065.5625 - mean_absolute_error: 165065.5625\n",
      "Epoch 66/100\n",
      "65/65 [==============================] - 0s 1ms/step - loss: 165067.9219 - mean_absolute_error: 165067.9219\n",
      "Epoch 67/100\n",
      "65/65 [==============================] - 0s 1ms/step - loss: 165070.8594 - mean_absolute_error: 165070.8594\n",
      "Epoch 68/100\n",
      "65/65 [==============================] - 0s 1ms/step - loss: 165067.3125 - mean_absolute_error: 165067.3125\n",
      "Epoch 69/100\n",
      "65/65 [==============================] - 0s 1ms/step - loss: 165063.3125 - mean_absolute_error: 165063.3125\n",
      "Epoch 70/100\n",
      "65/65 [==============================] - 0s 1ms/step - loss: 165062.9375 - mean_absolute_error: 165062.9375\n",
      "Epoch 71/100\n",
      "65/65 [==============================] - 0s 1ms/step - loss: 165062.5938 - mean_absolute_error: 165062.5938\n",
      "Epoch 72/100\n",
      "65/65 [==============================] - 0s 1ms/step - loss: 165058.6250 - mean_absolute_error: 165058.6250\n",
      "Epoch 73/100\n",
      "65/65 [==============================] - 0s 1ms/step - loss: 165055.9844 - mean_absolute_error: 165055.9844\n",
      "Epoch 74/100\n",
      "65/65 [==============================] - 0s 1ms/step - loss: 165055.2500 - mean_absolute_error: 165055.2500\n",
      "Epoch 75/100\n",
      "65/65 [==============================] - 0s 1ms/step - loss: 165067.6562 - mean_absolute_error: 165067.6562\n",
      "Epoch 76/100\n",
      "65/65 [==============================] - 0s 1ms/step - loss: 165052.1094 - mean_absolute_error: 165052.1094\n",
      "Epoch 77/100\n",
      "65/65 [==============================] - 0s 1ms/step - loss: 165050.0781 - mean_absolute_error: 165050.0781\n",
      "Epoch 78/100\n",
      "65/65 [==============================] - 0s 1ms/step - loss: 165056.5312 - mean_absolute_error: 165056.5312\n",
      "Epoch 79/100\n",
      "65/65 [==============================] - 0s 1ms/step - loss: 165051.4062 - mean_absolute_error: 165051.4062\n",
      "Epoch 80/100\n",
      "65/65 [==============================] - 0s 1ms/step - loss: 165045.0000 - mean_absolute_error: 165045.0000\n",
      "Epoch 81/100\n",
      "65/65 [==============================] - 0s 1ms/step - loss: 165052.2031 - mean_absolute_error: 165052.2031\n",
      "Epoch 82/100\n",
      "65/65 [==============================] - 0s 1ms/step - loss: 165046.5156 - mean_absolute_error: 165046.4844\n",
      "Epoch 83/100\n",
      "65/65 [==============================] - 0s 1ms/step - loss: 165045.3438 - mean_absolute_error: 165045.3438\n",
      "Epoch 84/100\n",
      "65/65 [==============================] - 0s 1ms/step - loss: 165043.2969 - mean_absolute_error: 165043.2969\n",
      "Epoch 85/100\n",
      "65/65 [==============================] - 0s 1ms/step - loss: 165054.2031 - mean_absolute_error: 165054.2031\n",
      "Epoch 86/100\n",
      "65/65 [==============================] - 0s 1ms/step - loss: 165046.9531 - mean_absolute_error: 165046.9531\n",
      "Epoch 87/100\n",
      "65/65 [==============================] - 0s 1ms/step - loss: 165049.4219 - mean_absolute_error: 165049.4219\n",
      "Epoch 88/100\n",
      "65/65 [==============================] - 0s 1ms/step - loss: 165042.1875 - mean_absolute_error: 165042.1875\n",
      "Epoch 89/100\n",
      "65/65 [==============================] - 0s 1ms/step - loss: 165037.5938 - mean_absolute_error: 165037.5938\n",
      "Epoch 90/100\n",
      "65/65 [==============================] - 0s 1ms/step - loss: 165037.9688 - mean_absolute_error: 165037.9688\n",
      "Epoch 91/100\n",
      "65/65 [==============================] - 0s 1ms/step - loss: 165047.5625 - mean_absolute_error: 165047.5625\n",
      "Epoch 92/100\n",
      "65/65 [==============================] - 0s 1ms/step - loss: 165043.1719 - mean_absolute_error: 165043.1719\n",
      "Epoch 93/100\n",
      "65/65 [==============================] - 0s 1ms/step - loss: 165037.8594 - mean_absolute_error: 165037.8594\n",
      "Epoch 94/100\n",
      "65/65 [==============================] - 0s 1ms/step - loss: 165031.9219 - mean_absolute_error: 165031.9219\n",
      "Epoch 95/100\n",
      "65/65 [==============================] - 0s 1ms/step - loss: 165044.8594 - mean_absolute_error: 165044.8594\n",
      "Epoch 96/100\n",
      "65/65 [==============================] - 0s 1ms/step - loss: 165031.2969 - mean_absolute_error: 165031.2969\n",
      "Epoch 97/100\n",
      "65/65 [==============================] - 0s 1ms/step - loss: 165043.8594 - mean_absolute_error: 165043.8594\n",
      "Epoch 98/100\n",
      "65/65 [==============================] - 0s 1ms/step - loss: 165029.0000 - mean_absolute_error: 165029.0000\n",
      "Epoch 99/100\n",
      "65/65 [==============================] - 0s 1ms/step - loss: 165033.1719 - mean_absolute_error: 165033.1719\n",
      "Epoch 100/100\n",
      "65/65 [==============================] - 0s 1ms/step - loss: 165033.6406 - mean_absolute_error: 165033.6719\n",
      "8/8 [==============================] - 0s 2ms/step - loss: 153622.1406 - mean_absolute_error: 153622.1406\n",
      "Epoch 1/100\n",
      "65/65 [==============================] - 0s 1ms/step - loss: 540814.6875 - mean_absolute_error: 540814.6875\n",
      "Epoch 2/100\n",
      "65/65 [==============================] - 0s 1ms/step - loss: 539544.1875 - mean_absolute_error: 539544.1875\n",
      "Epoch 3/100\n",
      "65/65 [==============================] - 0s 1ms/step - loss: 537453.8750 - mean_absolute_error: 537453.8750\n",
      "Epoch 4/100\n",
      "65/65 [==============================] - 0s 1ms/step - loss: 534101.1875 - mean_absolute_error: 534101.1875\n",
      "Epoch 5/100\n",
      "65/65 [==============================] - 0s 1ms/step - loss: 528843.7500 - mean_absolute_error: 528843.8125\n",
      "Epoch 6/100\n",
      "65/65 [==============================] - 0s 1ms/step - loss: 520717.9375 - mean_absolute_error: 520717.9375\n",
      "Epoch 7/100\n",
      "65/65 [==============================] - 0s 1ms/step - loss: 508608.8438 - mean_absolute_error: 508608.8438\n",
      "Epoch 8/100\n",
      "65/65 [==============================] - 0s 1ms/step - loss: 491640.1250 - mean_absolute_error: 491640.1250\n",
      "Epoch 9/100\n",
      "65/65 [==============================] - 0s 1ms/step - loss: 469164.4062 - mean_absolute_error: 469164.4062\n",
      "Epoch 10/100\n",
      "65/65 [==============================] - 0s 1ms/step - loss: 440615.8750 - mean_absolute_error: 440615.8750\n",
      "Epoch 11/100\n",
      "65/65 [==============================] - 0s 1ms/step - loss: 405491.5312 - mean_absolute_error: 405491.5312\n",
      "Epoch 12/100\n",
      "65/65 [==============================] - 0s 1ms/step - loss: 363359.1562 - mean_absolute_error: 363359.1562\n",
      "Epoch 13/100\n",
      "65/65 [==============================] - 0s 1ms/step - loss: 314242.1562 - mean_absolute_error: 314242.1562\n",
      "Epoch 14/100\n",
      "65/65 [==============================] - 0s 1ms/step - loss: 259244.2969 - mean_absolute_error: 259244.2969\n",
      "Epoch 15/100\n",
      "65/65 [==============================] - 0s 1ms/step - loss: 213434.5781 - mean_absolute_error: 213434.5938\n",
      "Epoch 16/100\n",
      "65/65 [==============================] - 0s 1ms/step - loss: 186144.0469 - mean_absolute_error: 186144.0469\n",
      "Epoch 17/100\n",
      "65/65 [==============================] - 0s 1ms/step - loss: 172634.0781 - mean_absolute_error: 172634.0781\n",
      "Epoch 18/100\n",
      "65/65 [==============================] - 0s 1ms/step - loss: 167187.9062 - mean_absolute_error: 167187.9062\n",
      "Epoch 19/100\n",
      "65/65 [==============================] - 0s 1ms/step - loss: 165354.9375 - mean_absolute_error: 165354.9375\n",
      "Epoch 20/100\n",
      "65/65 [==============================] - 0s 1ms/step - loss: 164840.5469 - mean_absolute_error: 164840.5469\n",
      "Epoch 21/100\n",
      "65/65 [==============================] - 0s 1ms/step - loss: 164726.4844 - mean_absolute_error: 164726.4844\n",
      "Epoch 22/100\n",
      "65/65 [==============================] - 0s 1ms/step - loss: 164695.8281 - mean_absolute_error: 164695.8281\n",
      "Epoch 23/100\n",
      "65/65 [==============================] - 0s 1ms/step - loss: 164677.0781 - mean_absolute_error: 164677.0781\n",
      "Epoch 24/100\n",
      "65/65 [==============================] - 0s 1ms/step - loss: 164657.6875 - mean_absolute_error: 164657.6875\n",
      "Epoch 25/100\n",
      "65/65 [==============================] - 0s 1ms/step - loss: 164639.7656 - mean_absolute_error: 164639.7656\n",
      "Epoch 26/100\n",
      "65/65 [==============================] - 0s 1ms/step - loss: 164622.4375 - mean_absolute_error: 164622.4219\n",
      "Epoch 27/100\n",
      "65/65 [==============================] - 0s 1ms/step - loss: 164601.6094 - mean_absolute_error: 164601.6094\n",
      "Epoch 28/100\n",
      "65/65 [==============================] - 0s 1ms/step - loss: 164589.8281 - mean_absolute_error: 164589.8281\n",
      "Epoch 29/100\n",
      "65/65 [==============================] - 0s 1ms/step - loss: 164574.5000 - mean_absolute_error: 164574.5000\n",
      "Epoch 30/100\n",
      "65/65 [==============================] - 0s 1ms/step - loss: 164558.4688 - mean_absolute_error: 164558.4375\n",
      "Epoch 31/100\n",
      "65/65 [==============================] - 0s 1ms/step - loss: 164542.8750 - mean_absolute_error: 164542.8750\n",
      "Epoch 32/100\n",
      "65/65 [==============================] - 0s 1ms/step - loss: 164531.1250 - mean_absolute_error: 164531.1250\n",
      "Epoch 33/100\n",
      "65/65 [==============================] - 0s 1ms/step - loss: 164521.2656 - mean_absolute_error: 164521.2656\n",
      "Epoch 34/100\n",
      "65/65 [==============================] - 0s 1ms/step - loss: 164506.1250 - mean_absolute_error: 164506.1406\n",
      "Epoch 35/100\n",
      "65/65 [==============================] - 0s 1ms/step - loss: 164495.9844 - mean_absolute_error: 164495.9844\n",
      "Epoch 36/100\n",
      "65/65 [==============================] - 0s 1ms/step - loss: 164486.2969 - mean_absolute_error: 164486.2969\n",
      "Epoch 37/100\n",
      "65/65 [==============================] - 0s 1ms/step - loss: 164478.4062 - mean_absolute_error: 164478.4062\n",
      "Epoch 38/100\n",
      "65/65 [==============================] - 0s 1ms/step - loss: 164469.4219 - mean_absolute_error: 164469.4219\n",
      "Epoch 39/100\n",
      "65/65 [==============================] - 0s 2ms/step - loss: 164458.7344 - mean_absolute_error: 164458.7344\n",
      "Epoch 40/100\n",
      "65/65 [==============================] - 0s 1ms/step - loss: 164451.0156 - mean_absolute_error: 164451.0156\n",
      "Epoch 41/100\n",
      "65/65 [==============================] - 0s 1ms/step - loss: 164445.4844 - mean_absolute_error: 164445.4688\n",
      "Epoch 42/100\n",
      "65/65 [==============================] - 0s 1ms/step - loss: 164436.8594 - mean_absolute_error: 164436.8594\n",
      "Epoch 43/100\n",
      "65/65 [==============================] - 0s 1ms/step - loss: 164433.8438 - mean_absolute_error: 164433.8438\n",
      "Epoch 44/100\n",
      "65/65 [==============================] - 0s 1ms/step - loss: 164423.9375 - mean_absolute_error: 164423.9375\n",
      "Epoch 45/100\n",
      "65/65 [==============================] - 0s 1ms/step - loss: 164424.3906 - mean_absolute_error: 164424.3906\n",
      "Epoch 46/100\n",
      "65/65 [==============================] - 0s 1ms/step - loss: 164413.6250 - mean_absolute_error: 164413.6250\n",
      "Epoch 47/100\n",
      "65/65 [==============================] - 0s 1ms/step - loss: 164414.4531 - mean_absolute_error: 164414.4531\n",
      "Epoch 48/100\n",
      "65/65 [==============================] - 0s 1ms/step - loss: 164401.6875 - mean_absolute_error: 164401.6875\n",
      "Epoch 49/100\n",
      "65/65 [==============================] - 0s 1ms/step - loss: 164400.0312 - mean_absolute_error: 164400.0312\n",
      "Epoch 50/100\n",
      "65/65 [==============================] - 0s 1ms/step - loss: 164402.1094 - mean_absolute_error: 164402.1094\n",
      "Epoch 51/100\n",
      "65/65 [==============================] - 0s 2ms/step - loss: 164391.5938 - mean_absolute_error: 164391.5938\n",
      "Epoch 52/100\n",
      "65/65 [==============================] - 0s 1ms/step - loss: 164388.3438 - mean_absolute_error: 164388.3438\n",
      "Epoch 53/100\n",
      "65/65 [==============================] - 0s 1ms/step - loss: 164395.9688 - mean_absolute_error: 164395.9688\n",
      "Epoch 54/100\n",
      "65/65 [==============================] - 0s 1ms/step - loss: 164381.4844 - mean_absolute_error: 164381.4844\n",
      "Epoch 55/100\n",
      "65/65 [==============================] - 0s 1ms/step - loss: 164378.3438 - mean_absolute_error: 164378.3438\n",
      "Epoch 56/100\n",
      "65/65 [==============================] - 0s 1ms/step - loss: 164375.0625 - mean_absolute_error: 164375.0625\n",
      "Epoch 57/100\n",
      "65/65 [==============================] - 0s 1ms/step - loss: 164377.3125 - mean_absolute_error: 164377.3125\n",
      "Epoch 58/100\n",
      "65/65 [==============================] - 0s 1ms/step - loss: 164369.0469 - mean_absolute_error: 164369.0469\n",
      "Epoch 59/100\n",
      "65/65 [==============================] - 0s 1ms/step - loss: 164367.4062 - mean_absolute_error: 164367.4062\n",
      "Epoch 60/100\n",
      "65/65 [==============================] - 0s 1ms/step - loss: 164377.4062 - mean_absolute_error: 164377.4062\n",
      "Epoch 61/100\n",
      "65/65 [==============================] - 0s 1ms/step - loss: 164366.5000 - mean_absolute_error: 164366.5156\n",
      "Epoch 62/100\n",
      "65/65 [==============================] - 0s 1ms/step - loss: 164362.9844 - mean_absolute_error: 164362.9844\n",
      "Epoch 63/100\n",
      "65/65 [==============================] - 0s 1ms/step - loss: 164363.1875 - mean_absolute_error: 164363.1875\n",
      "Epoch 64/100\n",
      "65/65 [==============================] - 0s 1ms/step - loss: 164363.3750 - mean_absolute_error: 164363.3750\n",
      "Epoch 65/100\n",
      "65/65 [==============================] - 0s 1ms/step - loss: 164361.7656 - mean_absolute_error: 164361.7656\n",
      "Epoch 66/100\n",
      "65/65 [==============================] - 0s 1ms/step - loss: 164362.2344 - mean_absolute_error: 164362.2188\n",
      "Epoch 67/100\n",
      "65/65 [==============================] - 0s 1ms/step - loss: 164361.3906 - mean_absolute_error: 164361.3906\n",
      "Epoch 68/100\n",
      "65/65 [==============================] - 0s 1ms/step - loss: 164363.6250 - mean_absolute_error: 164363.6250\n",
      "Epoch 69/100\n",
      "65/65 [==============================] - 0s 1ms/step - loss: 164360.9062 - mean_absolute_error: 164360.8906\n",
      "Epoch 70/100\n",
      "65/65 [==============================] - 0s 1ms/step - loss: 164364.8750 - mean_absolute_error: 164364.8750\n",
      "Epoch 71/100\n",
      "65/65 [==============================] - 0s 1ms/step - loss: 164357.7812 - mean_absolute_error: 164357.7812\n",
      "Epoch 72/100\n",
      "65/65 [==============================] - 0s 1ms/step - loss: 164351.9844 - mean_absolute_error: 164351.9844\n",
      "Epoch 73/100\n",
      "65/65 [==============================] - 0s 1ms/step - loss: 164350.5469 - mean_absolute_error: 164350.5469\n",
      "Epoch 74/100\n",
      "65/65 [==============================] - 0s 1ms/step - loss: 164348.5625 - mean_absolute_error: 164348.5625\n",
      "Epoch 75/100\n",
      "65/65 [==============================] - 0s 1ms/step - loss: 164356.0938 - mean_absolute_error: 164356.0938\n",
      "Epoch 76/100\n",
      "65/65 [==============================] - 0s 1ms/step - loss: 164347.7031 - mean_absolute_error: 164347.7031\n",
      "Epoch 77/100\n",
      "65/65 [==============================] - 0s 1ms/step - loss: 164351.1406 - mean_absolute_error: 164351.1406\n",
      "Epoch 78/100\n",
      "65/65 [==============================] - 0s 2ms/step - loss: 164345.8594 - mean_absolute_error: 164345.8594\n",
      "Epoch 79/100\n",
      "65/65 [==============================] - 0s 1ms/step - loss: 164343.7656 - mean_absolute_error: 164343.7656\n",
      "Epoch 80/100\n",
      "65/65 [==============================] - 0s 1ms/step - loss: 164347.7656 - mean_absolute_error: 164347.7656\n",
      "Epoch 81/100\n",
      "65/65 [==============================] - 0s 1ms/step - loss: 164344.5312 - mean_absolute_error: 164344.5312\n",
      "Epoch 82/100\n",
      "65/65 [==============================] - 0s 1ms/step - loss: 164345.7969 - mean_absolute_error: 164345.8125\n",
      "Epoch 83/100\n",
      "65/65 [==============================] - 0s 1ms/step - loss: 164350.2969 - mean_absolute_error: 164350.2969\n",
      "Epoch 84/100\n",
      "65/65 [==============================] - 0s 1ms/step - loss: 164348.0000 - mean_absolute_error: 164348.0000\n",
      "Epoch 85/100\n",
      "65/65 [==============================] - 0s 1ms/step - loss: 164361.0938 - mean_absolute_error: 164361.0938\n",
      "Epoch 86/100\n",
      "65/65 [==============================] - 0s 1ms/step - loss: 164346.7812 - mean_absolute_error: 164346.7656\n",
      "Epoch 87/100\n",
      "65/65 [==============================] - 0s 1ms/step - loss: 164347.4688 - mean_absolute_error: 164347.4688\n",
      "Epoch 88/100\n",
      "65/65 [==============================] - 0s 1ms/step - loss: 164341.5312 - mean_absolute_error: 164341.5312\n",
      "Epoch 89/100\n",
      "65/65 [==============================] - 0s 1ms/step - loss: 164346.2969 - mean_absolute_error: 164346.2812\n",
      "Epoch 90/100\n",
      "65/65 [==============================] - 0s 1ms/step - loss: 164338.0312 - mean_absolute_error: 164338.0312\n",
      "Epoch 91/100\n",
      "65/65 [==============================] - 0s 1ms/step - loss: 164335.9844 - mean_absolute_error: 164335.9844\n",
      "Epoch 92/100\n",
      "65/65 [==============================] - 0s 1ms/step - loss: 164342.4531 - mean_absolute_error: 164342.4531\n",
      "Epoch 93/100\n",
      "65/65 [==============================] - 0s 1ms/step - loss: 164340.9531 - mean_absolute_error: 164340.9531\n",
      "Epoch 94/100\n",
      "65/65 [==============================] - 0s 1ms/step - loss: 164339.8125 - mean_absolute_error: 164339.8125\n",
      "Epoch 95/100\n",
      "65/65 [==============================] - 0s 1ms/step - loss: 164361.4844 - mean_absolute_error: 164361.4844\n",
      "Epoch 96/100\n",
      "65/65 [==============================] - 0s 1ms/step - loss: 164340.9062 - mean_absolute_error: 164340.9062\n",
      "Epoch 97/100\n",
      "65/65 [==============================] - 0s 1ms/step - loss: 164342.1562 - mean_absolute_error: 164342.1562\n",
      "Epoch 98/100\n",
      "65/65 [==============================] - 0s 1ms/step - loss: 164343.1094 - mean_absolute_error: 164343.1094\n",
      "Epoch 99/100\n",
      "65/65 [==============================] - 0s 1ms/step - loss: 164331.9375 - mean_absolute_error: 164331.9375\n",
      "Epoch 100/100\n",
      "65/65 [==============================] - 0s 1ms/step - loss: 164343.0938 - mean_absolute_error: 164343.0938\n",
      "8/8 [==============================] - 0s 2ms/step - loss: 159592.1250 - mean_absolute_error: 159592.1250\n",
      "Epoch 1/100\n",
      "65/65 [==============================] - 0s 1ms/step - loss: 540276.3125 - mean_absolute_error: 540276.3125\n",
      "Epoch 2/100\n",
      "65/65 [==============================] - 0s 1ms/step - loss: 539874.9375 - mean_absolute_error: 539874.9375\n",
      "Epoch 3/100\n",
      "65/65 [==============================] - 0s 1ms/step - loss: 539256.6875 - mean_absolute_error: 539256.6875\n",
      "Epoch 4/100\n",
      "65/65 [==============================] - 0s 1ms/step - loss: 537871.1250 - mean_absolute_error: 537871.1250\n",
      "Epoch 5/100\n",
      "65/65 [==============================] - 0s 1ms/step - loss: 535261.1875 - mean_absolute_error: 535261.1875\n",
      "Epoch 6/100\n",
      "65/65 [==============================] - 0s 1ms/step - loss: 530420.7500 - mean_absolute_error: 530420.7500\n",
      "Epoch 7/100\n",
      "65/65 [==============================] - 0s 1ms/step - loss: 521687.3125 - mean_absolute_error: 521687.3125\n",
      "Epoch 8/100\n",
      "65/65 [==============================] - 0s 1ms/step - loss: 509212.3750 - mean_absolute_error: 509212.3750\n",
      "Epoch 9/100\n",
      "65/65 [==============================] - 0s 1ms/step - loss: 492782.4062 - mean_absolute_error: 492782.4062\n",
      "Epoch 10/100\n",
      "65/65 [==============================] - 0s 1ms/step - loss: 472079.5938 - mean_absolute_error: 472079.5938\n",
      "Epoch 11/100\n",
      "65/65 [==============================] - 0s 1ms/step - loss: 446803.4375 - mean_absolute_error: 446803.4375\n",
      "Epoch 12/100\n",
      "65/65 [==============================] - 0s 1ms/step - loss: 416631.2500 - mean_absolute_error: 416631.2500\n",
      "Epoch 13/100\n",
      "65/65 [==============================] - 0s 1ms/step - loss: 381338.2812 - mean_absolute_error: 381338.2812\n",
      "Epoch 14/100\n",
      "65/65 [==============================] - 0s 1ms/step - loss: 340726.0000 - mean_absolute_error: 340726.0000\n",
      "Epoch 15/100\n",
      "65/65 [==============================] - 0s 1ms/step - loss: 295955.3438 - mean_absolute_error: 295955.3438\n",
      "Epoch 16/100\n",
      "65/65 [==============================] - 0s 1ms/step - loss: 252241.9844 - mean_absolute_error: 252241.9844\n",
      "Epoch 17/100\n",
      "65/65 [==============================] - 0s 1ms/step - loss: 217968.5469 - mean_absolute_error: 217968.5469\n",
      "Epoch 18/100\n",
      "65/65 [==============================] - 0s 1ms/step - loss: 194878.4062 - mean_absolute_error: 194878.4062\n",
      "Epoch 19/100\n",
      "65/65 [==============================] - 0s 1ms/step - loss: 180498.7344 - mean_absolute_error: 180498.7344\n",
      "Epoch 20/100\n",
      "65/65 [==============================] - 0s 1ms/step - loss: 172151.8594 - mean_absolute_error: 172151.8594\n",
      "Epoch 21/100\n",
      "65/65 [==============================] - 0s 1ms/step - loss: 167870.3438 - mean_absolute_error: 167870.3438\n",
      "Epoch 22/100\n",
      "65/65 [==============================] - 0s 1ms/step - loss: 165872.2969 - mean_absolute_error: 165872.2969\n",
      "Epoch 23/100\n",
      "65/65 [==============================] - 0s 1ms/step - loss: 165017.6719 - mean_absolute_error: 165017.6719\n",
      "Epoch 24/100\n",
      "65/65 [==============================] - 0s 1ms/step - loss: 164682.6094 - mean_absolute_error: 164682.6094\n",
      "Epoch 25/100\n",
      "65/65 [==============================] - 0s 1ms/step - loss: 164564.3594 - mean_absolute_error: 164564.3594\n",
      "Epoch 26/100\n",
      "65/65 [==============================] - 0s 1ms/step - loss: 164522.7188 - mean_absolute_error: 164522.7188\n",
      "Epoch 27/100\n",
      "65/65 [==============================] - 0s 1ms/step - loss: 164494.8906 - mean_absolute_error: 164494.8906\n",
      "Epoch 28/100\n",
      "65/65 [==============================] - 0s 1ms/step - loss: 164478.2656 - mean_absolute_error: 164478.2656\n",
      "Epoch 29/100\n",
      "65/65 [==============================] - 0s 1ms/step - loss: 164459.7656 - mean_absolute_error: 164459.7656\n",
      "Epoch 30/100\n",
      "65/65 [==============================] - 0s 1ms/step - loss: 164444.1562 - mean_absolute_error: 164444.1562\n",
      "Epoch 31/100\n",
      "65/65 [==============================] - 0s 1ms/step - loss: 164428.1719 - mean_absolute_error: 164428.1719\n",
      "Epoch 32/100\n",
      "65/65 [==============================] - 0s 1ms/step - loss: 164414.2031 - mean_absolute_error: 164414.2031\n",
      "Epoch 33/100\n",
      "65/65 [==============================] - 0s 1ms/step - loss: 164400.0312 - mean_absolute_error: 164400.0312\n",
      "Epoch 34/100\n",
      "65/65 [==============================] - 0s 1ms/step - loss: 164387.2188 - mean_absolute_error: 164387.2188\n",
      "Epoch 35/100\n",
      "65/65 [==============================] - 0s 1ms/step - loss: 164371.3281 - mean_absolute_error: 164371.3281\n",
      "Epoch 36/100\n",
      "65/65 [==============================] - 0s 1ms/step - loss: 164360.0000 - mean_absolute_error: 164360.0000\n",
      "Epoch 37/100\n",
      "65/65 [==============================] - 0s 1ms/step - loss: 164345.8594 - mean_absolute_error: 164345.8594\n",
      "Epoch 38/100\n",
      "65/65 [==============================] - 0s 1ms/step - loss: 164338.4688 - mean_absolute_error: 164338.4688\n",
      "Epoch 39/100\n",
      "65/65 [==============================] - 0s 1ms/step - loss: 164320.6875 - mean_absolute_error: 164320.6875\n",
      "Epoch 40/100\n",
      "65/65 [==============================] - 0s 1ms/step - loss: 164308.3594 - mean_absolute_error: 164308.3594\n",
      "Epoch 41/100\n",
      "65/65 [==============================] - 0s 1ms/step - loss: 164301.6094 - mean_absolute_error: 164301.6094\n",
      "Epoch 42/100\n",
      "65/65 [==============================] - 0s 1ms/step - loss: 164288.6719 - mean_absolute_error: 164288.6719\n",
      "Epoch 43/100\n",
      "65/65 [==============================] - 0s 1ms/step - loss: 164275.4219 - mean_absolute_error: 164275.4219\n",
      "Epoch 44/100\n",
      "65/65 [==============================] - 0s 1ms/step - loss: 164268.9375 - mean_absolute_error: 164268.9375\n",
      "Epoch 45/100\n",
      "65/65 [==============================] - 0s 1ms/step - loss: 164258.6719 - mean_absolute_error: 164258.6719\n",
      "Epoch 46/100\n",
      "65/65 [==============================] - 0s 1ms/step - loss: 164248.3281 - mean_absolute_error: 164248.3281\n",
      "Epoch 47/100\n",
      "65/65 [==============================] - 0s 1ms/step - loss: 164236.6875 - mean_absolute_error: 164236.6875\n",
      "Epoch 48/100\n",
      "65/65 [==============================] - 0s 1ms/step - loss: 164227.5781 - mean_absolute_error: 164227.5938\n",
      "Epoch 49/100\n",
      "65/65 [==============================] - 0s 1ms/step - loss: 164216.7344 - mean_absolute_error: 164216.7344\n",
      "Epoch 50/100\n",
      "65/65 [==============================] - 0s 1ms/step - loss: 164213.9844 - mean_absolute_error: 164213.9844\n",
      "Epoch 51/100\n",
      "65/65 [==============================] - 0s 1ms/step - loss: 164212.2969 - mean_absolute_error: 164212.2969\n",
      "Epoch 52/100\n",
      "65/65 [==============================] - 0s 1ms/step - loss: 164200.4844 - mean_absolute_error: 164200.4844\n",
      "Epoch 53/100\n",
      "65/65 [==============================] - 0s 1ms/step - loss: 164197.6562 - mean_absolute_error: 164197.6562\n",
      "Epoch 54/100\n",
      "65/65 [==============================] - 0s 1ms/step - loss: 164180.7656 - mean_absolute_error: 164180.7656\n",
      "Epoch 55/100\n",
      "65/65 [==============================] - 0s 1ms/step - loss: 164175.7500 - mean_absolute_error: 164175.7500\n",
      "Epoch 56/100\n",
      "65/65 [==============================] - 0s 1ms/step - loss: 164170.7969 - mean_absolute_error: 164170.7969\n",
      "Epoch 57/100\n",
      "65/65 [==============================] - 0s 1ms/step - loss: 164170.5469 - mean_absolute_error: 164170.5469\n",
      "Epoch 58/100\n",
      "65/65 [==============================] - 0s 1ms/step - loss: 164160.6406 - mean_absolute_error: 164160.6406\n",
      "Epoch 59/100\n",
      "65/65 [==============================] - 0s 1ms/step - loss: 164147.6875 - mean_absolute_error: 164147.6719\n",
      "Epoch 60/100\n",
      "65/65 [==============================] - 0s 1ms/step - loss: 164146.5625 - mean_absolute_error: 164146.5625\n",
      "Epoch 61/100\n",
      "65/65 [==============================] - 0s 1ms/step - loss: 164139.3438 - mean_absolute_error: 164139.3281\n",
      "Epoch 62/100\n",
      "65/65 [==============================] - 0s 1ms/step - loss: 164132.9688 - mean_absolute_error: 164132.9688\n",
      "Epoch 63/100\n",
      "65/65 [==============================] - 0s 1ms/step - loss: 164128.3906 - mean_absolute_error: 164128.3906\n",
      "Epoch 64/100\n",
      "65/65 [==============================] - 0s 1ms/step - loss: 164126.5938 - mean_absolute_error: 164126.5938\n",
      "Epoch 65/100\n",
      "65/65 [==============================] - 0s 1ms/step - loss: 164118.8281 - mean_absolute_error: 164118.8281\n",
      "Epoch 66/100\n",
      "65/65 [==============================] - 0s 1ms/step - loss: 164120.1094 - mean_absolute_error: 164120.1094\n",
      "Epoch 67/100\n",
      "65/65 [==============================] - 0s 1ms/step - loss: 164110.4844 - mean_absolute_error: 164110.4844\n",
      "Epoch 68/100\n",
      "65/65 [==============================] - 0s 1ms/step - loss: 164110.0469 - mean_absolute_error: 164110.0469\n",
      "Epoch 69/100\n",
      "65/65 [==============================] - 0s 1ms/step - loss: 164107.7344 - mean_absolute_error: 164107.7344\n",
      "Epoch 70/100\n",
      "65/65 [==============================] - 0s 1ms/step - loss: 164106.5000 - mean_absolute_error: 164106.5000\n",
      "Epoch 71/100\n",
      "65/65 [==============================] - 0s 1ms/step - loss: 164102.3906 - mean_absolute_error: 164102.3906\n",
      "Epoch 72/100\n",
      "65/65 [==============================] - 0s 1ms/step - loss: 164098.6719 - mean_absolute_error: 164098.6719\n",
      "Epoch 73/100\n",
      "65/65 [==============================] - 0s 1ms/step - loss: 164102.2812 - mean_absolute_error: 164102.2812\n",
      "Epoch 74/100\n",
      "65/65 [==============================] - 0s 1ms/step - loss: 164091.9375 - mean_absolute_error: 164091.9375\n",
      "Epoch 75/100\n",
      "65/65 [==============================] - 0s 1ms/step - loss: 164091.1250 - mean_absolute_error: 164091.1250\n",
      "Epoch 76/100\n",
      "65/65 [==============================] - 0s 1ms/step - loss: 164099.7969 - mean_absolute_error: 164099.7969\n",
      "Epoch 77/100\n",
      "65/65 [==============================] - 0s 1ms/step - loss: 164087.3438 - mean_absolute_error: 164087.3438\n",
      "Epoch 78/100\n",
      "65/65 [==============================] - 0s 1ms/step - loss: 164086.0156 - mean_absolute_error: 164086.0156\n",
      "Epoch 79/100\n",
      "65/65 [==============================] - 0s 1ms/step - loss: 164085.6094 - mean_absolute_error: 164085.6094\n",
      "Epoch 80/100\n",
      "65/65 [==============================] - 0s 2ms/step - loss: 164086.1250 - mean_absolute_error: 164086.1250\n",
      "Epoch 81/100\n",
      "65/65 [==============================] - 0s 1ms/step - loss: 164078.0781 - mean_absolute_error: 164078.0781\n",
      "Epoch 82/100\n",
      "65/65 [==============================] - 0s 1ms/step - loss: 164090.7500 - mean_absolute_error: 164090.7656\n",
      "Epoch 83/100\n",
      "65/65 [==============================] - 0s 1ms/step - loss: 164079.1719 - mean_absolute_error: 164079.1719\n",
      "Epoch 84/100\n",
      "65/65 [==============================] - 0s 1ms/step - loss: 164083.2031 - mean_absolute_error: 164083.2031\n",
      "Epoch 85/100\n",
      "65/65 [==============================] - 0s 1ms/step - loss: 164074.0156 - mean_absolute_error: 164074.0156\n",
      "Epoch 86/100\n",
      "65/65 [==============================] - 0s 1ms/step - loss: 164070.9219 - mean_absolute_error: 164070.9219\n",
      "Epoch 87/100\n",
      "65/65 [==============================] - 0s 1ms/step - loss: 164071.6719 - mean_absolute_error: 164071.6719\n",
      "Epoch 88/100\n",
      "65/65 [==============================] - 0s 1ms/step - loss: 164076.2656 - mean_absolute_error: 164076.2656\n",
      "Epoch 89/100\n",
      "65/65 [==============================] - 0s 1ms/step - loss: 164066.1094 - mean_absolute_error: 164066.1094\n",
      "Epoch 90/100\n",
      "65/65 [==============================] - 0s 1ms/step - loss: 164065.8281 - mean_absolute_error: 164065.8281\n",
      "Epoch 91/100\n",
      "65/65 [==============================] - 0s 1ms/step - loss: 164069.6719 - mean_absolute_error: 164069.6719\n",
      "Epoch 92/100\n",
      "65/65 [==============================] - 0s 1ms/step - loss: 164067.5000 - mean_absolute_error: 164067.5000\n",
      "Epoch 93/100\n",
      "65/65 [==============================] - 0s 1ms/step - loss: 164062.0625 - mean_absolute_error: 164062.0625\n",
      "Epoch 94/100\n",
      "65/65 [==============================] - 0s 1ms/step - loss: 164061.1562 - mean_absolute_error: 164061.1562\n",
      "Epoch 95/100\n",
      "65/65 [==============================] - 0s 1ms/step - loss: 164056.2344 - mean_absolute_error: 164056.2344\n",
      "Epoch 96/100\n",
      "65/65 [==============================] - 0s 2ms/step - loss: 164058.1094 - mean_absolute_error: 164058.1094\n",
      "Epoch 97/100\n",
      "65/65 [==============================] - 0s 1ms/step - loss: 164083.0625 - mean_absolute_error: 164083.0625\n",
      "Epoch 98/100\n",
      "65/65 [==============================] - 0s 1ms/step - loss: 164053.8438 - mean_absolute_error: 164053.8438\n",
      "Epoch 99/100\n",
      "65/65 [==============================] - 0s 1ms/step - loss: 164058.9688 - mean_absolute_error: 164058.9531\n",
      "Epoch 100/100\n",
      "65/65 [==============================] - 0s 1ms/step - loss: 164054.7188 - mean_absolute_error: 164054.7188\n",
      "8/8 [==============================] - 0s 2ms/step - loss: 162241.8594 - mean_absolute_error: 162241.8594\n",
      "Epoch 1/100\n",
      "65/65 [==============================] - 0s 1ms/step - loss: 540445.8750 - mean_absolute_error: 540445.8750\n",
      "Epoch 2/100\n",
      "65/65 [==============================] - 0s 1ms/step - loss: 539911.8125 - mean_absolute_error: 539911.8125\n",
      "Epoch 3/100\n",
      "65/65 [==============================] - 0s 1ms/step - loss: 538287.5000 - mean_absolute_error: 538287.5000\n",
      "Epoch 4/100\n",
      "65/65 [==============================] - 0s 1ms/step - loss: 535507.9375 - mean_absolute_error: 535507.9375\n",
      "Epoch 5/100\n",
      "65/65 [==============================] - 0s 1ms/step - loss: 530970.3750 - mean_absolute_error: 530970.3750\n",
      "Epoch 6/100\n",
      "65/65 [==============================] - 0s 1ms/step - loss: 523417.5625 - mean_absolute_error: 523417.5625\n",
      "Epoch 7/100\n",
      "65/65 [==============================] - 0s 1ms/step - loss: 511611.0625 - mean_absolute_error: 511611.0625\n",
      "Epoch 8/100\n",
      "65/65 [==============================] - 0s 1ms/step - loss: 494865.0000 - mean_absolute_error: 494865.0000\n",
      "Epoch 9/100\n",
      "65/65 [==============================] - 0s 1ms/step - loss: 472590.9062 - mean_absolute_error: 472590.9062\n",
      "Epoch 10/100\n",
      "65/65 [==============================] - 0s 1ms/step - loss: 444251.0312 - mean_absolute_error: 444251.0312\n",
      "Epoch 11/100\n",
      "65/65 [==============================] - 0s 1ms/step - loss: 409339.0938 - mean_absolute_error: 409339.0938\n",
      "Epoch 12/100\n",
      "65/65 [==============================] - 0s 1ms/step - loss: 367373.6562 - mean_absolute_error: 367373.6562\n",
      "Epoch 13/100\n",
      "65/65 [==============================] - 0s 1ms/step - loss: 318522.9375 - mean_absolute_error: 318522.9375\n",
      "Epoch 14/100\n",
      "65/65 [==============================] - 0s 1ms/step - loss: 266860.8750 - mean_absolute_error: 266860.8750\n",
      "Epoch 15/100\n",
      "65/65 [==============================] - 0s 1ms/step - loss: 223507.9844 - mean_absolute_error: 223507.9844\n",
      "Epoch 16/100\n",
      "65/65 [==============================] - 0s 1ms/step - loss: 195088.3906 - mean_absolute_error: 195088.3750\n",
      "Epoch 17/100\n",
      "65/65 [==============================] - 0s 1ms/step - loss: 178762.5625 - mean_absolute_error: 178762.5781\n",
      "Epoch 18/100\n",
      "65/65 [==============================] - 0s 1ms/step - loss: 170263.2031 - mean_absolute_error: 170263.2031\n",
      "Epoch 19/100\n",
      "65/65 [==============================] - 0s 1ms/step - loss: 166380.5938 - mean_absolute_error: 166380.5938\n",
      "Epoch 20/100\n",
      "65/65 [==============================] - 0s 1ms/step - loss: 164841.0156 - mean_absolute_error: 164841.0156\n",
      "Epoch 21/100\n",
      "65/65 [==============================] - 0s 1ms/step - loss: 164320.1250 - mean_absolute_error: 164320.1250\n",
      "Epoch 22/100\n",
      "65/65 [==============================] - 0s 1ms/step - loss: 164165.9219 - mean_absolute_error: 164165.9219\n",
      "Epoch 23/100\n",
      "65/65 [==============================] - 0s 1ms/step - loss: 164114.5000 - mean_absolute_error: 164114.5000\n",
      "Epoch 24/100\n",
      "65/65 [==============================] - 0s 1ms/step - loss: 164095.4688 - mean_absolute_error: 164095.4688\n",
      "Epoch 25/100\n",
      "65/65 [==============================] - 0s 1ms/step - loss: 164088.2031 - mean_absolute_error: 164088.2031\n",
      "Epoch 26/100\n",
      "65/65 [==============================] - 0s 1ms/step - loss: 164074.4375 - mean_absolute_error: 164074.4375\n",
      "Epoch 27/100\n",
      "65/65 [==============================] - 0s 1ms/step - loss: 164064.6094 - mean_absolute_error: 164064.6094\n",
      "Epoch 28/100\n",
      "65/65 [==============================] - 0s 2ms/step - loss: 164056.9531 - mean_absolute_error: 164056.9531\n",
      "Epoch 29/100\n",
      "65/65 [==============================] - 0s 2ms/step - loss: 164047.2344 - mean_absolute_error: 164047.2344\n",
      "Epoch 30/100\n",
      "65/65 [==============================] - 0s 1ms/step - loss: 164038.1094 - mean_absolute_error: 164038.1094\n",
      "Epoch 31/100\n",
      "65/65 [==============================] - 0s 1ms/step - loss: 164028.7969 - mean_absolute_error: 164028.7969\n",
      "Epoch 32/100\n",
      "65/65 [==============================] - 0s 1ms/step - loss: 164023.1094 - mean_absolute_error: 164023.1094\n",
      "Epoch 33/100\n",
      "65/65 [==============================] - 0s 1ms/step - loss: 164014.5000 - mean_absolute_error: 164014.5000\n",
      "Epoch 34/100\n",
      "65/65 [==============================] - 0s 1ms/step - loss: 164002.3438 - mean_absolute_error: 164002.3438\n",
      "Epoch 35/100\n",
      "65/65 [==============================] - 0s 1ms/step - loss: 163990.6562 - mean_absolute_error: 163990.6562\n",
      "Epoch 36/100\n",
      "65/65 [==============================] - 0s 1ms/step - loss: 163978.3281 - mean_absolute_error: 163978.3281\n",
      "Epoch 37/100\n",
      "65/65 [==============================] - 0s 1ms/step - loss: 163968.6250 - mean_absolute_error: 163968.6250\n",
      "Epoch 38/100\n",
      "65/65 [==============================] - 0s 1ms/step - loss: 163955.1875 - mean_absolute_error: 163955.1875\n",
      "Epoch 39/100\n",
      "65/65 [==============================] - 0s 1ms/step - loss: 163940.0156 - mean_absolute_error: 163940.0156\n",
      "Epoch 40/100\n",
      "65/65 [==============================] - 0s 1ms/step - loss: 163912.3125 - mean_absolute_error: 163912.3125\n",
      "Epoch 41/100\n",
      "65/65 [==============================] - 0s 1ms/step - loss: 163891.6094 - mean_absolute_error: 163891.6094\n",
      "Epoch 42/100\n",
      "65/65 [==============================] - 0s 1ms/step - loss: 163864.0469 - mean_absolute_error: 163864.0469\n",
      "Epoch 43/100\n",
      "65/65 [==============================] - 0s 1ms/step - loss: 163838.7344 - mean_absolute_error: 163838.7344\n",
      "Epoch 44/100\n",
      "65/65 [==============================] - 0s 1ms/step - loss: 163813.7656 - mean_absolute_error: 163813.7656\n",
      "Epoch 45/100\n",
      "65/65 [==============================] - 0s 1ms/step - loss: 163798.9219 - mean_absolute_error: 163798.9219\n",
      "Epoch 46/100\n",
      "65/65 [==============================] - 0s 1ms/step - loss: 163774.3438 - mean_absolute_error: 163774.3281\n",
      "Epoch 47/100\n",
      "65/65 [==============================] - 0s 1ms/step - loss: 163752.0938 - mean_absolute_error: 163752.0938\n",
      "Epoch 48/100\n",
      "65/65 [==============================] - 0s 1ms/step - loss: 163732.2188 - mean_absolute_error: 163732.2188\n",
      "Epoch 49/100\n",
      "65/65 [==============================] - 0s 1ms/step - loss: 163720.8438 - mean_absolute_error: 163720.8438\n",
      "Epoch 50/100\n",
      "65/65 [==============================] - 0s 1ms/step - loss: 163698.0156 - mean_absolute_error: 163698.0156\n",
      "Epoch 51/100\n",
      "65/65 [==============================] - 0s 2ms/step - loss: 163673.2344 - mean_absolute_error: 163673.2344\n",
      "Epoch 52/100\n",
      "65/65 [==============================] - 0s 1ms/step - loss: 163657.0469 - mean_absolute_error: 163657.0625\n",
      "Epoch 53/100\n",
      "65/65 [==============================] - 0s 1ms/step - loss: 163654.9844 - mean_absolute_error: 163654.9844\n",
      "Epoch 54/100\n",
      "65/65 [==============================] - 0s 1ms/step - loss: 163627.5156 - mean_absolute_error: 163627.5156\n",
      "Epoch 55/100\n",
      "65/65 [==============================] - 0s 1ms/step - loss: 163606.5625 - mean_absolute_error: 163606.5625\n",
      "Epoch 56/100\n",
      "65/65 [==============================] - 0s 1ms/step - loss: 163593.9688 - mean_absolute_error: 163593.9688\n",
      "Epoch 57/100\n",
      "65/65 [==============================] - 0s 1ms/step - loss: 163583.0000 - mean_absolute_error: 163583.0000\n",
      "Epoch 58/100\n",
      "65/65 [==============================] - 0s 1ms/step - loss: 163557.0312 - mean_absolute_error: 163557.0156\n",
      "Epoch 59/100\n",
      "65/65 [==============================] - 0s 1ms/step - loss: 163539.5938 - mean_absolute_error: 163539.5938\n",
      "Epoch 60/100\n",
      "65/65 [==============================] - 0s 1ms/step - loss: 163531.7500 - mean_absolute_error: 163531.7500\n",
      "Epoch 61/100\n",
      "65/65 [==============================] - 0s 1ms/step - loss: 163516.0312 - mean_absolute_error: 163516.0312\n",
      "Epoch 62/100\n",
      "65/65 [==============================] - 0s 2ms/step - loss: 163504.1250 - mean_absolute_error: 163504.1250\n",
      "Epoch 63/100\n",
      "65/65 [==============================] - 0s 1ms/step - loss: 163487.0781 - mean_absolute_error: 163487.0781\n",
      "Epoch 64/100\n",
      "65/65 [==============================] - 0s 1ms/step - loss: 163467.5469 - mean_absolute_error: 163467.5469\n",
      "Epoch 65/100\n",
      "65/65 [==============================] - 0s 1ms/step - loss: 163455.0156 - mean_absolute_error: 163455.0156\n",
      "Epoch 66/100\n",
      "65/65 [==============================] - 0s 1ms/step - loss: 163437.3906 - mean_absolute_error: 163437.3906\n",
      "Epoch 67/100\n",
      "65/65 [==============================] - 0s 1ms/step - loss: 163427.9219 - mean_absolute_error: 163427.9219\n",
      "Epoch 68/100\n",
      "65/65 [==============================] - 0s 1ms/step - loss: 163428.5938 - mean_absolute_error: 163428.5938\n",
      "Epoch 69/100\n",
      "65/65 [==============================] - 0s 1ms/step - loss: 163396.2344 - mean_absolute_error: 163396.2344\n",
      "Epoch 70/100\n",
      "65/65 [==============================] - 0s 1ms/step - loss: 163384.2812 - mean_absolute_error: 163384.2812\n",
      "Epoch 71/100\n",
      "65/65 [==============================] - 0s 1ms/step - loss: 163377.0625 - mean_absolute_error: 163377.0781\n",
      "Epoch 72/100\n",
      "65/65 [==============================] - 0s 2ms/step - loss: 163356.6875 - mean_absolute_error: 163356.6875\n",
      "Epoch 73/100\n",
      "65/65 [==============================] - 0s 1ms/step - loss: 163362.2656 - mean_absolute_error: 163362.2656\n",
      "Epoch 74/100\n",
      "65/65 [==============================] - 0s 1ms/step - loss: 163336.5312 - mean_absolute_error: 163336.5312\n",
      "Epoch 75/100\n",
      "65/65 [==============================] - 0s 1ms/step - loss: 163338.0625 - mean_absolute_error: 163338.0625\n",
      "Epoch 76/100\n",
      "65/65 [==============================] - 0s 1ms/step - loss: 163314.3125 - mean_absolute_error: 163314.3125\n",
      "Epoch 77/100\n",
      "65/65 [==============================] - 0s 1ms/step - loss: 163321.0000 - mean_absolute_error: 163321.0000\n",
      "Epoch 78/100\n",
      "65/65 [==============================] - 0s 1ms/step - loss: 163279.0781 - mean_absolute_error: 163279.0781\n",
      "Epoch 79/100\n",
      "65/65 [==============================] - 0s 1ms/step - loss: 163278.6406 - mean_absolute_error: 163278.6406\n",
      "Epoch 80/100\n",
      "65/65 [==============================] - 0s 1ms/step - loss: 163259.5469 - mean_absolute_error: 163259.5469\n",
      "Epoch 81/100\n",
      "65/65 [==============================] - 0s 1ms/step - loss: 163253.6094 - mean_absolute_error: 163253.6094\n",
      "Epoch 82/100\n",
      "65/65 [==============================] - 0s 1ms/step - loss: 163256.3281 - mean_absolute_error: 163256.3281\n",
      "Epoch 83/100\n",
      "65/65 [==============================] - 0s 1ms/step - loss: 163241.2656 - mean_absolute_error: 163241.2656\n",
      "Epoch 84/100\n",
      "65/65 [==============================] - 0s 1ms/step - loss: 163235.8750 - mean_absolute_error: 163235.8750\n",
      "Epoch 85/100\n",
      "65/65 [==============================] - 0s 1ms/step - loss: 163203.9688 - mean_absolute_error: 163203.9688\n",
      "Epoch 86/100\n",
      "65/65 [==============================] - 0s 1ms/step - loss: 163218.8594 - mean_absolute_error: 163218.8594\n",
      "Epoch 87/100\n",
      "65/65 [==============================] - 0s 1ms/step - loss: 163192.0781 - mean_absolute_error: 163192.0625\n",
      "Epoch 88/100\n",
      "65/65 [==============================] - 0s 1ms/step - loss: 163182.1406 - mean_absolute_error: 163182.1406\n",
      "Epoch 89/100\n",
      "65/65 [==============================] - 0s 1ms/step - loss: 163181.7656 - mean_absolute_error: 163181.7656\n",
      "Epoch 90/100\n",
      "65/65 [==============================] - 0s 1ms/step - loss: 163160.4531 - mean_absolute_error: 163160.4531\n",
      "Epoch 91/100\n",
      "65/65 [==============================] - 0s 1ms/step - loss: 163174.6875 - mean_absolute_error: 163174.6875\n",
      "Epoch 92/100\n",
      "65/65 [==============================] - 0s 1ms/step - loss: 163148.5625 - mean_absolute_error: 163148.5625\n",
      "Epoch 93/100\n",
      "65/65 [==============================] - 0s 1ms/step - loss: 163135.3906 - mean_absolute_error: 163135.3906\n",
      "Epoch 94/100\n",
      "65/65 [==============================] - 0s 1ms/step - loss: 163127.9375 - mean_absolute_error: 163127.9375\n",
      "Epoch 95/100\n",
      "65/65 [==============================] - 0s 1ms/step - loss: 163125.9844 - mean_absolute_error: 163125.9844\n",
      "Epoch 96/100\n",
      "65/65 [==============================] - 0s 2ms/step - loss: 163119.4531 - mean_absolute_error: 163119.4531\n",
      "Epoch 97/100\n",
      "65/65 [==============================] - 0s 1ms/step - loss: 163103.4688 - mean_absolute_error: 163103.4688\n",
      "Epoch 98/100\n",
      "65/65 [==============================] - 0s 1ms/step - loss: 163102.0625 - mean_absolute_error: 163102.0625\n",
      "Epoch 99/100\n",
      "65/65 [==============================] - 0s 1ms/step - loss: 163084.4375 - mean_absolute_error: 163084.4531\n",
      "Epoch 100/100\n",
      "65/65 [==============================] - 0s 1ms/step - loss: 163079.7812 - mean_absolute_error: 163079.7812\n",
      "8/8 [==============================] - 0s 1ms/step - loss: 164822.4375 - mean_absolute_error: 164822.4219\n",
      "Epoch 1/100\n",
      "65/65 [==============================] - 0s 1ms/step - loss: 539339.8125 - mean_absolute_error: 539339.8125\n",
      "Epoch 2/100\n",
      "65/65 [==============================] - 0s 1ms/step - loss: 538277.8125 - mean_absolute_error: 538277.8125\n",
      "Epoch 3/100\n",
      "65/65 [==============================] - 0s 1ms/step - loss: 535897.6250 - mean_absolute_error: 535897.6250\n",
      "Epoch 4/100\n",
      "65/65 [==============================] - 0s 1ms/step - loss: 531674.0625 - mean_absolute_error: 531674.0625\n",
      "Epoch 5/100\n",
      "65/65 [==============================] - 0s 1ms/step - loss: 523528.8438 - mean_absolute_error: 523528.8438\n",
      "Epoch 6/100\n",
      "65/65 [==============================] - 0s 1ms/step - loss: 510325.7188 - mean_absolute_error: 510325.7188\n",
      "Epoch 7/100\n",
      "65/65 [==============================] - 0s 1ms/step - loss: 491535.0625 - mean_absolute_error: 491535.0625\n",
      "Epoch 8/100\n",
      "65/65 [==============================] - 0s 1ms/step - loss: 466286.9688 - mean_absolute_error: 466286.9688\n",
      "Epoch 9/100\n",
      "65/65 [==============================] - 0s 1ms/step - loss: 433758.3750 - mean_absolute_error: 433758.3750\n",
      "Epoch 10/100\n",
      "65/65 [==============================] - 0s 2ms/step - loss: 393199.6250 - mean_absolute_error: 393199.6250\n",
      "Epoch 11/100\n",
      "65/65 [==============================] - 0s 1ms/step - loss: 344049.6250 - mean_absolute_error: 344049.6250\n",
      "Epoch 12/100\n",
      "65/65 [==============================] - 0s 1ms/step - loss: 287877.0938 - mean_absolute_error: 287877.0938\n",
      "Epoch 13/100\n",
      "65/65 [==============================] - 0s 1ms/step - loss: 235479.4688 - mean_absolute_error: 235479.4688\n",
      "Epoch 14/100\n",
      "65/65 [==============================] - 0s 1ms/step - loss: 199888.3281 - mean_absolute_error: 199888.3281\n",
      "Epoch 15/100\n",
      "65/65 [==============================] - 0s 1ms/step - loss: 179943.7812 - mean_absolute_error: 179943.7812\n",
      "Epoch 16/100\n",
      "65/65 [==============================] - 0s 1ms/step - loss: 170125.1875 - mean_absolute_error: 170125.1875\n",
      "Epoch 17/100\n",
      "65/65 [==============================] - 0s 1ms/step - loss: 166156.1406 - mean_absolute_error: 166156.1562\n",
      "Epoch 18/100\n",
      "65/65 [==============================] - 0s 1ms/step - loss: 164744.6250 - mean_absolute_error: 164744.6250\n",
      "Epoch 19/100\n",
      "65/65 [==============================] - 0s 1ms/step - loss: 164315.0781 - mean_absolute_error: 164315.0781\n",
      "Epoch 20/100\n",
      "65/65 [==============================] - 0s 1ms/step - loss: 164199.9062 - mean_absolute_error: 164199.9062\n",
      "Epoch 21/100\n",
      "65/65 [==============================] - 0s 1ms/step - loss: 164157.6719 - mean_absolute_error: 164157.6719\n",
      "Epoch 22/100\n",
      "65/65 [==============================] - 0s 1ms/step - loss: 164140.4688 - mean_absolute_error: 164140.4688\n",
      "Epoch 23/100\n",
      "65/65 [==============================] - 0s 1ms/step - loss: 164121.0000 - mean_absolute_error: 164121.0000\n",
      "Epoch 24/100\n",
      "65/65 [==============================] - 0s 1ms/step - loss: 164101.6562 - mean_absolute_error: 164101.6562\n",
      "Epoch 25/100\n",
      "65/65 [==============================] - 0s 1ms/step - loss: 164080.7656 - mean_absolute_error: 164080.7656\n",
      "Epoch 26/100\n",
      "65/65 [==============================] - 0s 1ms/step - loss: 164062.9375 - mean_absolute_error: 164062.9219\n",
      "Epoch 27/100\n",
      "65/65 [==============================] - 0s 1ms/step - loss: 164042.7188 - mean_absolute_error: 164042.7188\n",
      "Epoch 28/100\n",
      "65/65 [==============================] - 0s 1ms/step - loss: 164024.9062 - mean_absolute_error: 164024.9062\n",
      "Epoch 29/100\n",
      "65/65 [==============================] - 0s 1ms/step - loss: 164011.2656 - mean_absolute_error: 164011.2656\n",
      "Epoch 30/100\n",
      "65/65 [==============================] - 0s 1ms/step - loss: 163995.4062 - mean_absolute_error: 163995.3906\n",
      "Epoch 31/100\n",
      "65/65 [==============================] - 0s 1ms/step - loss: 163980.4219 - mean_absolute_error: 163980.4219\n",
      "Epoch 32/100\n",
      "65/65 [==============================] - 0s 1ms/step - loss: 163966.2969 - mean_absolute_error: 163966.2969\n",
      "Epoch 33/100\n",
      "65/65 [==============================] - 0s 1ms/step - loss: 163955.0781 - mean_absolute_error: 163955.0938\n",
      "Epoch 34/100\n",
      "65/65 [==============================] - 0s 1ms/step - loss: 163941.6094 - mean_absolute_error: 163941.6094\n",
      "Epoch 35/100\n",
      "65/65 [==============================] - 0s 1ms/step - loss: 163923.7344 - mean_absolute_error: 163923.7344\n",
      "Epoch 36/100\n",
      "65/65 [==============================] - 0s 1ms/step - loss: 163913.4062 - mean_absolute_error: 163913.4062\n",
      "Epoch 37/100\n",
      "65/65 [==============================] - 0s 1ms/step - loss: 163903.0156 - mean_absolute_error: 163903.0156\n",
      "Epoch 38/100\n",
      "65/65 [==============================] - 0s 1ms/step - loss: 163890.8438 - mean_absolute_error: 163890.8438\n",
      "Epoch 39/100\n",
      "65/65 [==============================] - 0s 1ms/step - loss: 163883.5156 - mean_absolute_error: 163883.5156\n",
      "Epoch 40/100\n",
      "65/65 [==============================] - 0s 1ms/step - loss: 163868.7031 - mean_absolute_error: 163868.7031\n",
      "Epoch 41/100\n",
      "65/65 [==============================] - 0s 1ms/step - loss: 163861.1406 - mean_absolute_error: 163861.1406\n",
      "Epoch 42/100\n",
      "65/65 [==============================] - 0s 1ms/step - loss: 163854.0000 - mean_absolute_error: 163854.0000\n",
      "Epoch 43/100\n",
      "65/65 [==============================] - 0s 1ms/step - loss: 163845.3750 - mean_absolute_error: 163845.3750\n",
      "Epoch 44/100\n",
      "65/65 [==============================] - 0s 1ms/step - loss: 163858.2656 - mean_absolute_error: 163858.2812\n",
      "Epoch 45/100\n",
      "65/65 [==============================] - 0s 2ms/step - loss: 163827.6875 - mean_absolute_error: 163827.6875\n",
      "Epoch 46/100\n",
      "65/65 [==============================] - 0s 1ms/step - loss: 163822.2031 - mean_absolute_error: 163822.2188\n",
      "Epoch 47/100\n",
      "65/65 [==============================] - 0s 1ms/step - loss: 163824.5312 - mean_absolute_error: 163824.5312\n",
      "Epoch 48/100\n",
      "65/65 [==============================] - 0s 1ms/step - loss: 163817.0938 - mean_absolute_error: 163817.0938\n",
      "Epoch 49/100\n",
      "65/65 [==============================] - 0s 1ms/step - loss: 163807.6406 - mean_absolute_error: 163807.6406\n",
      "Epoch 50/100\n",
      "65/65 [==============================] - 0s 1ms/step - loss: 163799.4375 - mean_absolute_error: 163799.4375\n",
      "Epoch 51/100\n",
      "65/65 [==============================] - 0s 1ms/step - loss: 163797.6250 - mean_absolute_error: 163797.6250\n",
      "Epoch 52/100\n",
      "65/65 [==============================] - 0s 1ms/step - loss: 163794.3750 - mean_absolute_error: 163794.3750\n",
      "Epoch 53/100\n",
      "65/65 [==============================] - 0s 1ms/step - loss: 163785.5469 - mean_absolute_error: 163785.5469\n",
      "Epoch 54/100\n",
      "65/65 [==============================] - 0s 1ms/step - loss: 163785.8750 - mean_absolute_error: 163785.8906\n",
      "Epoch 55/100\n",
      "65/65 [==============================] - 0s 1ms/step - loss: 163771.3438 - mean_absolute_error: 163771.3438\n",
      "Epoch 56/100\n",
      "65/65 [==============================] - 0s 1ms/step - loss: 163772.0781 - mean_absolute_error: 163772.0781\n",
      "Epoch 57/100\n",
      "65/65 [==============================] - 0s 1ms/step - loss: 163775.5000 - mean_absolute_error: 163775.5000\n",
      "Epoch 58/100\n",
      "65/65 [==============================] - 0s 1ms/step - loss: 163769.7188 - mean_absolute_error: 163769.7188\n",
      "Epoch 59/100\n",
      "65/65 [==============================] - 0s 1ms/step - loss: 163768.1875 - mean_absolute_error: 163768.1875\n",
      "Epoch 60/100\n",
      "65/65 [==============================] - 0s 1ms/step - loss: 163767.6562 - mean_absolute_error: 163767.6562\n",
      "Epoch 61/100\n",
      "65/65 [==============================] - 0s 1ms/step - loss: 163766.0625 - mean_absolute_error: 163766.0625\n",
      "Epoch 62/100\n",
      "65/65 [==============================] - 0s 1ms/step - loss: 163761.0625 - mean_absolute_error: 163761.0625\n",
      "Epoch 63/100\n",
      "65/65 [==============================] - 0s 1ms/step - loss: 163759.2656 - mean_absolute_error: 163759.2656\n",
      "Epoch 64/100\n",
      "65/65 [==============================] - 0s 1ms/step - loss: 163756.7969 - mean_absolute_error: 163756.7969\n",
      "Epoch 65/100\n",
      "65/65 [==============================] - 0s 1ms/step - loss: 163745.1562 - mean_absolute_error: 163745.1562\n",
      "Epoch 66/100\n",
      "65/65 [==============================] - 0s 1ms/step - loss: 163744.8281 - mean_absolute_error: 163744.8281\n",
      "Epoch 67/100\n",
      "65/65 [==============================] - 0s 1ms/step - loss: 163745.1250 - mean_absolute_error: 163745.1250\n",
      "Epoch 68/100\n",
      "65/65 [==============================] - 0s 1ms/step - loss: 163741.1719 - mean_absolute_error: 163741.1719\n",
      "Epoch 69/100\n",
      "65/65 [==============================] - 0s 1ms/step - loss: 163731.9844 - mean_absolute_error: 163731.9844\n",
      "Epoch 70/100\n",
      "65/65 [==============================] - 0s 1ms/step - loss: 163739.2188 - mean_absolute_error: 163739.2031\n",
      "Epoch 71/100\n",
      "65/65 [==============================] - 0s 1ms/step - loss: 163733.7656 - mean_absolute_error: 163733.7656\n",
      "Epoch 72/100\n",
      "65/65 [==============================] - 0s 1ms/step - loss: 163741.7500 - mean_absolute_error: 163741.7500\n",
      "Epoch 73/100\n",
      "65/65 [==============================] - 0s 1ms/step - loss: 163724.7656 - mean_absolute_error: 163724.7656\n",
      "Epoch 74/100\n",
      "65/65 [==============================] - 0s 2ms/step - loss: 163749.2500 - mean_absolute_error: 163749.2500\n",
      "Epoch 75/100\n",
      "65/65 [==============================] - 0s 1ms/step - loss: 163724.9844 - mean_absolute_error: 163724.9688\n",
      "Epoch 76/100\n",
      "65/65 [==============================] - 0s 1ms/step - loss: 163730.1875 - mean_absolute_error: 163730.1875\n",
      "Epoch 77/100\n",
      "65/65 [==============================] - 0s 1ms/step - loss: 163731.1250 - mean_absolute_error: 163731.1250\n",
      "Epoch 78/100\n",
      "65/65 [==============================] - 0s 1ms/step - loss: 163728.9219 - mean_absolute_error: 163728.9062\n",
      "Epoch 79/100\n",
      "65/65 [==============================] - 0s 1ms/step - loss: 163722.1719 - mean_absolute_error: 163722.1719\n",
      "Epoch 80/100\n",
      "65/65 [==============================] - 0s 1ms/step - loss: 163724.8281 - mean_absolute_error: 163724.8281\n",
      "Epoch 81/100\n",
      "65/65 [==============================] - 0s 2ms/step - loss: 163719.5938 - mean_absolute_error: 163719.5781\n",
      "Epoch 82/100\n",
      "65/65 [==============================] - 0s 1ms/step - loss: 163720.8438 - mean_absolute_error: 163720.8125\n",
      "Epoch 83/100\n",
      "65/65 [==============================] - 0s 1ms/step - loss: 163709.7969 - mean_absolute_error: 163709.7969\n",
      "Epoch 84/100\n",
      "65/65 [==============================] - 0s 2ms/step - loss: 163715.4688 - mean_absolute_error: 163715.4688\n",
      "Epoch 85/100\n",
      "65/65 [==============================] - 0s 1ms/step - loss: 163713.1875 - mean_absolute_error: 163713.2031\n",
      "Epoch 86/100\n",
      "65/65 [==============================] - 0s 1ms/step - loss: 163732.3125 - mean_absolute_error: 163732.3125\n",
      "Epoch 87/100\n",
      "65/65 [==============================] - 0s 1ms/step - loss: 163711.6406 - mean_absolute_error: 163711.6250\n",
      "Epoch 88/100\n",
      "65/65 [==============================] - 0s 1ms/step - loss: 163707.5781 - mean_absolute_error: 163707.5781\n",
      "Epoch 89/100\n",
      "65/65 [==============================] - 0s 1ms/step - loss: 163710.6719 - mean_absolute_error: 163710.6719\n",
      "Epoch 90/100\n",
      "65/65 [==============================] - 0s 1ms/step - loss: 163724.8125 - mean_absolute_error: 163724.8125\n",
      "Epoch 91/100\n",
      "65/65 [==============================] - 0s 1ms/step - loss: 163704.0938 - mean_absolute_error: 163704.0938\n",
      "Epoch 92/100\n",
      "65/65 [==============================] - 0s 1ms/step - loss: 163712.1094 - mean_absolute_error: 163712.1250\n",
      "Epoch 93/100\n",
      "65/65 [==============================] - 0s 1ms/step - loss: 163703.1094 - mean_absolute_error: 163703.1094\n",
      "Epoch 94/100\n",
      "65/65 [==============================] - 0s 1ms/step - loss: 163703.5625 - mean_absolute_error: 163703.5781\n",
      "Epoch 95/100\n",
      "65/65 [==============================] - 0s 2ms/step - loss: 163697.9531 - mean_absolute_error: 163697.9531\n",
      "Epoch 96/100\n",
      "65/65 [==============================] - 0s 1ms/step - loss: 163702.9531 - mean_absolute_error: 163702.9531\n",
      "Epoch 97/100\n",
      "65/65 [==============================] - 0s 1ms/step - loss: 163701.5156 - mean_absolute_error: 163701.5156\n",
      "Epoch 98/100\n",
      "65/65 [==============================] - 0s 1ms/step - loss: 163693.8281 - mean_absolute_error: 163693.8281\n",
      "Epoch 99/100\n",
      "65/65 [==============================] - 0s 1ms/step - loss: 163725.2188 - mean_absolute_error: 163725.2188\n",
      "Epoch 100/100\n",
      "65/65 [==============================] - 0s 1ms/step - loss: 163702.3438 - mean_absolute_error: 163702.3438\n",
      "8/8 [==============================] - 0s 2ms/step - loss: 165382.2031 - mean_absolute_error: 165382.2031\n",
      "Epoch 1/100\n",
      "65/65 [==============================] - 0s 1ms/step - loss: 534384.8125 - mean_absolute_error: 534384.9375\n",
      "Epoch 2/100\n",
      "65/65 [==============================] - 0s 2ms/step - loss: 533053.6250 - mean_absolute_error: 533053.6250\n",
      "Epoch 3/100\n",
      "65/65 [==============================] - 0s 1ms/step - loss: 530923.3750 - mean_absolute_error: 530923.3750\n",
      "Epoch 4/100\n",
      "65/65 [==============================] - 0s 1ms/step - loss: 527678.3750 - mean_absolute_error: 527678.3750\n",
      "Epoch 5/100\n",
      "65/65 [==============================] - 0s 1ms/step - loss: 522771.2812 - mean_absolute_error: 522771.2812\n",
      "Epoch 6/100\n",
      "65/65 [==============================] - 0s 2ms/step - loss: 515676.4375 - mean_absolute_error: 515676.4375\n",
      "Epoch 7/100\n",
      "65/65 [==============================] - 0s 1ms/step - loss: 505925.5938 - mean_absolute_error: 505925.5938\n",
      "Epoch 8/100\n",
      "65/65 [==============================] - 0s 1ms/step - loss: 493060.9062 - mean_absolute_error: 493060.9062\n",
      "Epoch 9/100\n",
      "65/65 [==============================] - 0s 1ms/step - loss: 476682.2500 - mean_absolute_error: 476682.2500\n",
      "Epoch 10/100\n",
      "65/65 [==============================] - 0s 1ms/step - loss: 456390.8750 - mean_absolute_error: 456390.8750\n",
      "Epoch 11/100\n",
      "65/65 [==============================] - 0s 1ms/step - loss: 431837.4375 - mean_absolute_error: 431837.4375\n",
      "Epoch 12/100\n",
      "65/65 [==============================] - 0s 1ms/step - loss: 402707.5625 - mean_absolute_error: 402707.5625\n",
      "Epoch 13/100\n",
      "65/65 [==============================] - 0s 1ms/step - loss: 368675.5312 - mean_absolute_error: 368675.5312\n",
      "Epoch 14/100\n",
      "65/65 [==============================] - 0s 1ms/step - loss: 329696.6250 - mean_absolute_error: 329696.6250\n",
      "Epoch 15/100\n",
      "65/65 [==============================] - 0s 1ms/step - loss: 287235.8438 - mean_absolute_error: 287235.8438\n",
      "Epoch 16/100\n",
      "65/65 [==============================] - 0s 1ms/step - loss: 246627.0469 - mean_absolute_error: 246627.0469\n",
      "Epoch 17/100\n",
      "65/65 [==============================] - 0s 1ms/step - loss: 214850.1250 - mean_absolute_error: 214850.1250\n",
      "Epoch 18/100\n",
      "65/65 [==============================] - 0s 1ms/step - loss: 192359.0469 - mean_absolute_error: 192359.0469\n",
      "Epoch 19/100\n",
      "65/65 [==============================] - 0s 1ms/step - loss: 177086.8594 - mean_absolute_error: 177086.8594\n",
      "Epoch 20/100\n",
      "65/65 [==============================] - 0s 1ms/step - loss: 168601.1250 - mean_absolute_error: 168601.1406\n",
      "Epoch 21/100\n",
      "65/65 [==============================] - 0s 1ms/step - loss: 164856.0156 - mean_absolute_error: 164856.0156\n",
      "Epoch 22/100\n",
      "65/65 [==============================] - 0s 1ms/step - loss: 163432.9531 - mean_absolute_error: 163432.9531\n",
      "Epoch 23/100\n",
      "65/65 [==============================] - 0s 1ms/step - loss: 162999.4219 - mean_absolute_error: 162999.3906\n",
      "Epoch 24/100\n",
      "65/65 [==============================] - 0s 1ms/step - loss: 162900.3281 - mean_absolute_error: 162900.3281\n",
      "Epoch 25/100\n",
      "65/65 [==============================] - 0s 1ms/step - loss: 162860.1562 - mean_absolute_error: 162860.1562\n",
      "Epoch 26/100\n",
      "65/65 [==============================] - 0s 1ms/step - loss: 162835.4531 - mean_absolute_error: 162835.4688\n",
      "Epoch 27/100\n",
      "65/65 [==============================] - 0s 1ms/step - loss: 162816.9531 - mean_absolute_error: 162816.9531\n",
      "Epoch 28/100\n",
      "65/65 [==============================] - 0s 1ms/step - loss: 162799.1875 - mean_absolute_error: 162799.1875\n",
      "Epoch 29/100\n",
      "65/65 [==============================] - 0s 1ms/step - loss: 162783.3281 - mean_absolute_error: 162783.3438\n",
      "Epoch 30/100\n",
      "65/65 [==============================] - 0s 1ms/step - loss: 162766.6094 - mean_absolute_error: 162766.6094\n",
      "Epoch 31/100\n",
      "65/65 [==============================] - 0s 1ms/step - loss: 162751.6719 - mean_absolute_error: 162751.6719\n",
      "Epoch 32/100\n",
      "65/65 [==============================] - 0s 1ms/step - loss: 162735.7031 - mean_absolute_error: 162735.7031\n",
      "Epoch 33/100\n",
      "65/65 [==============================] - 0s 1ms/step - loss: 162720.7031 - mean_absolute_error: 162720.7031\n",
      "Epoch 34/100\n",
      "65/65 [==============================] - 0s 1ms/step - loss: 162707.6094 - mean_absolute_error: 162707.6094\n",
      "Epoch 35/100\n",
      "65/65 [==============================] - 0s 1ms/step - loss: 162693.4219 - mean_absolute_error: 162693.4062\n",
      "Epoch 36/100\n",
      "65/65 [==============================] - 0s 1ms/step - loss: 162680.5781 - mean_absolute_error: 162680.5781\n",
      "Epoch 37/100\n",
      "65/65 [==============================] - 0s 1ms/step - loss: 162668.8438 - mean_absolute_error: 162668.8438\n",
      "Epoch 38/100\n",
      "65/65 [==============================] - 0s 1ms/step - loss: 162652.8906 - mean_absolute_error: 162652.8906\n",
      "Epoch 39/100\n",
      "65/65 [==============================] - 0s 1ms/step - loss: 162643.7031 - mean_absolute_error: 162643.7031\n",
      "Epoch 40/100\n",
      "65/65 [==============================] - 0s 1ms/step - loss: 162632.2031 - mean_absolute_error: 162632.2031\n",
      "Epoch 41/100\n",
      "65/65 [==============================] - 0s 1ms/step - loss: 162618.6094 - mean_absolute_error: 162618.6094\n",
      "Epoch 42/100\n",
      "65/65 [==============================] - 0s 1ms/step - loss: 162607.3438 - mean_absolute_error: 162607.3438\n",
      "Epoch 43/100\n",
      "65/65 [==============================] - 0s 1ms/step - loss: 162597.1250 - mean_absolute_error: 162597.1250\n",
      "Epoch 44/100\n",
      "65/65 [==============================] - 0s 1ms/step - loss: 162585.4688 - mean_absolute_error: 162585.4688\n",
      "Epoch 45/100\n",
      "65/65 [==============================] - 0s 2ms/step - loss: 162574.7656 - mean_absolute_error: 162574.7656\n",
      "Epoch 46/100\n",
      "65/65 [==============================] - 0s 1ms/step - loss: 162568.2969 - mean_absolute_error: 162568.2969\n",
      "Epoch 47/100\n",
      "65/65 [==============================] - 0s 1ms/step - loss: 162555.8750 - mean_absolute_error: 162555.8750\n",
      "Epoch 48/100\n",
      "65/65 [==============================] - 0s 1ms/step - loss: 162560.7656 - mean_absolute_error: 162560.7656\n",
      "Epoch 49/100\n",
      "65/65 [==============================] - 0s 1ms/step - loss: 162542.1094 - mean_absolute_error: 162542.1094\n",
      "Epoch 50/100\n",
      "65/65 [==============================] - 0s 1ms/step - loss: 162536.9219 - mean_absolute_error: 162536.9219\n",
      "Epoch 51/100\n",
      "65/65 [==============================] - 0s 1ms/step - loss: 162529.9219 - mean_absolute_error: 162529.9219\n",
      "Epoch 52/100\n",
      "65/65 [==============================] - 0s 1ms/step - loss: 162522.5625 - mean_absolute_error: 162522.5625\n",
      "Epoch 53/100\n",
      "65/65 [==============================] - 0s 1ms/step - loss: 162508.9688 - mean_absolute_error: 162508.9688\n",
      "Epoch 54/100\n",
      "65/65 [==============================] - 0s 1ms/step - loss: 162501.2969 - mean_absolute_error: 162501.2969\n",
      "Epoch 55/100\n",
      "65/65 [==============================] - 0s 1ms/step - loss: 162494.1250 - mean_absolute_error: 162494.1094\n",
      "Epoch 56/100\n",
      "65/65 [==============================] - 0s 1ms/step - loss: 162499.2969 - mean_absolute_error: 162499.2969\n",
      "Epoch 57/100\n",
      "65/65 [==============================] - 0s 1ms/step - loss: 162486.1562 - mean_absolute_error: 162486.1562\n",
      "Epoch 58/100\n",
      "65/65 [==============================] - 0s 1ms/step - loss: 162478.0000 - mean_absolute_error: 162478.0000\n",
      "Epoch 59/100\n",
      "65/65 [==============================] - 0s 1ms/step - loss: 162471.2344 - mean_absolute_error: 162471.2188\n",
      "Epoch 60/100\n",
      "65/65 [==============================] - 0s 1ms/step - loss: 162463.1406 - mean_absolute_error: 162463.1406\n",
      "Epoch 61/100\n",
      "65/65 [==============================] - 0s 1ms/step - loss: 162459.2500 - mean_absolute_error: 162459.2500\n",
      "Epoch 62/100\n",
      "65/65 [==============================] - 0s 1ms/step - loss: 162455.0938 - mean_absolute_error: 162455.0938\n",
      "Epoch 63/100\n",
      "65/65 [==============================] - 0s 1ms/step - loss: 162449.7031 - mean_absolute_error: 162449.7031\n",
      "Epoch 64/100\n",
      "65/65 [==============================] - 0s 1ms/step - loss: 162444.9688 - mean_absolute_error: 162444.9688\n",
      "Epoch 65/100\n",
      "65/65 [==============================] - 0s 1ms/step - loss: 162436.1562 - mean_absolute_error: 162436.1562\n",
      "Epoch 66/100\n",
      "65/65 [==============================] - 0s 1ms/step - loss: 162432.2812 - mean_absolute_error: 162432.2812\n",
      "Epoch 67/100\n",
      "65/65 [==============================] - 0s 1ms/step - loss: 162430.7344 - mean_absolute_error: 162430.7344\n",
      "Epoch 68/100\n",
      "65/65 [==============================] - 0s 2ms/step - loss: 162423.3594 - mean_absolute_error: 162423.3594\n",
      "Epoch 69/100\n",
      "65/65 [==============================] - 0s 1ms/step - loss: 162419.8125 - mean_absolute_error: 162419.8125\n",
      "Epoch 70/100\n",
      "65/65 [==============================] - 0s 1ms/step - loss: 162415.7344 - mean_absolute_error: 162415.7344\n",
      "Epoch 71/100\n",
      "65/65 [==============================] - 0s 2ms/step - loss: 162411.6875 - mean_absolute_error: 162411.6875\n",
      "Epoch 72/100\n",
      "65/65 [==============================] - 0s 1ms/step - loss: 162410.2031 - mean_absolute_error: 162410.2031\n",
      "Epoch 73/100\n",
      "65/65 [==============================] - 0s 1ms/step - loss: 162404.2500 - mean_absolute_error: 162404.2500\n",
      "Epoch 74/100\n",
      "65/65 [==============================] - 0s 1ms/step - loss: 162405.1406 - mean_absolute_error: 162405.1406\n",
      "Epoch 75/100\n",
      "65/65 [==============================] - 0s 1ms/step - loss: 162396.8594 - mean_absolute_error: 162396.8594\n",
      "Epoch 76/100\n",
      "65/65 [==============================] - 0s 1ms/step - loss: 162399.6719 - mean_absolute_error: 162399.6719\n",
      "Epoch 77/100\n",
      "65/65 [==============================] - 0s 1ms/step - loss: 162398.4062 - mean_absolute_error: 162398.3906\n",
      "Epoch 78/100\n",
      "65/65 [==============================] - 0s 1ms/step - loss: 162392.0781 - mean_absolute_error: 162392.0781\n",
      "Epoch 79/100\n",
      "65/65 [==============================] - 0s 1ms/step - loss: 162384.5000 - mean_absolute_error: 162384.5000\n",
      "Epoch 80/100\n",
      "65/65 [==============================] - 0s 1ms/step - loss: 162391.3906 - mean_absolute_error: 162391.3906\n",
      "Epoch 81/100\n",
      "65/65 [==============================] - 0s 1ms/step - loss: 162385.7188 - mean_absolute_error: 162385.7188\n",
      "Epoch 82/100\n",
      "65/65 [==============================] - 0s 1ms/step - loss: 162377.6406 - mean_absolute_error: 162377.6406\n",
      "Epoch 83/100\n",
      "65/65 [==============================] - 0s 1ms/step - loss: 162378.5312 - mean_absolute_error: 162378.5312\n",
      "Epoch 84/100\n",
      "65/65 [==============================] - 0s 1ms/step - loss: 162365.5156 - mean_absolute_error: 162365.5156\n",
      "Epoch 85/100\n",
      "65/65 [==============================] - 0s 1ms/step - loss: 162366.0469 - mean_absolute_error: 162366.0469\n",
      "Epoch 86/100\n",
      "65/65 [==============================] - 0s 1ms/step - loss: 162381.0625 - mean_absolute_error: 162381.0625\n",
      "Epoch 87/100\n",
      "65/65 [==============================] - 0s 1ms/step - loss: 162356.6406 - mean_absolute_error: 162356.6406\n",
      "Epoch 88/100\n",
      "65/65 [==============================] - 0s 1ms/step - loss: 162368.7656 - mean_absolute_error: 162368.7656\n",
      "Epoch 89/100\n",
      "65/65 [==============================] - 0s 1ms/step - loss: 162350.8125 - mean_absolute_error: 162350.8125\n",
      "Epoch 90/100\n",
      "65/65 [==============================] - 0s 2ms/step - loss: 162368.9531 - mean_absolute_error: 162368.9531\n",
      "Epoch 91/100\n",
      "65/65 [==============================] - 0s 1ms/step - loss: 162349.1562 - mean_absolute_error: 162349.1562\n",
      "Epoch 92/100\n",
      "65/65 [==============================] - 0s 1ms/step - loss: 162344.2031 - mean_absolute_error: 162344.2031\n",
      "Epoch 93/100\n",
      "65/65 [==============================] - 0s 1ms/step - loss: 162344.0312 - mean_absolute_error: 162344.0312\n",
      "Epoch 94/100\n",
      "65/65 [==============================] - 0s 1ms/step - loss: 162345.6719 - mean_absolute_error: 162345.6875\n",
      "Epoch 95/100\n",
      "65/65 [==============================] - 0s 1ms/step - loss: 162331.5781 - mean_absolute_error: 162331.5781\n",
      "Epoch 96/100\n",
      "65/65 [==============================] - 0s 1ms/step - loss: 162344.9688 - mean_absolute_error: 162344.9688\n",
      "Epoch 97/100\n",
      "65/65 [==============================] - 0s 1ms/step - loss: 162341.6406 - mean_absolute_error: 162341.6250\n",
      "Epoch 98/100\n",
      "65/65 [==============================] - 0s 1ms/step - loss: 162353.1250 - mean_absolute_error: 162353.1250\n",
      "Epoch 99/100\n",
      "65/65 [==============================] - 0s 1ms/step - loss: 162345.5781 - mean_absolute_error: 162345.5781\n",
      "Epoch 100/100\n",
      "65/65 [==============================] - 0s 2ms/step - loss: 162333.9375 - mean_absolute_error: 162333.9375\n",
      "8/8 [==============================] - 0s 2ms/step - loss: 177824.2969 - mean_absolute_error: 177824.2969\n"
     ]
    }
   ],
   "source": [
    "regressor_cv = KerasRegressor(build_fn=RedeNeural, epochs=100, batch_size=300)\n",
    "resultados = cross_val_score(estimator=regressor_cv, X=X, y=y, cv=10)"
   ]
  },
  {
   "cell_type": "markdown",
   "metadata": {
    "id": "2i7Gx8H_Xjqi"
   },
   "source": [
    "Agora vamos visualizar os resultados."
   ]
  },
  {
   "cell_type": "code",
   "execution_count": null,
   "metadata": {
    "colab": {
     "base_uri": "https://localhost:8080/"
    },
    "id": "p5Itr3RoRzMU",
    "outputId": "aa8cac18-5fc9-4fef-ff9b-ba9e24f69cec"
   },
   "outputs": [
    {
     "data": {
      "text/plain": [
       "array([-161854.890625, -169653.109375, -159445.84375 , -164086.4375  ,\n",
       "       -153622.140625, -159592.125   , -162241.859375, -164822.4375  ,\n",
       "       -165382.203125, -177824.296875])"
      ]
     },
     "execution_count": 100,
     "metadata": {
      "tags": []
     },
     "output_type": "execute_result"
    }
   ],
   "source": [
    "resultados"
   ]
  },
  {
   "cell_type": "markdown",
   "metadata": {
    "id": "tHTD0cqNXuVO"
   },
   "source": [
    "Vemos que a média dos resultados ficaram próximos dos resultaddos que já víamos conseguindo com o nosso modelo."
   ]
  },
  {
   "cell_type": "code",
   "execution_count": null,
   "metadata": {
    "colab": {
     "base_uri": "https://localhost:8080/"
    },
    "id": "96lD-nS9RzFq",
    "outputId": "902ec3b2-19fc-4300-e8e9-a82789d51dc6"
   },
   "outputs": [
    {
     "data": {
      "text/plain": [
       "-163852.534375"
      ]
     },
     "execution_count": 101,
     "metadata": {
      "tags": []
     },
     "output_type": "execute_result"
    }
   ],
   "source": [
    "resultados.mean()"
   ]
  },
  {
   "cell_type": "markdown",
   "metadata": {
    "id": "yjaGehbfX3X8"
   },
   "source": [
    "E o desvio padrão."
   ]
  },
  {
   "cell_type": "code",
   "execution_count": null,
   "metadata": {
    "colab": {
     "base_uri": "https://localhost:8080/"
    },
    "id": "RKmd7z5mRzD2",
    "outputId": "b8a75685-b452-4efd-b62a-5c6ca21c01db"
   },
   "outputs": [
    {
     "data": {
      "text/plain": [
       "6172.5841266859725"
      ]
     },
     "execution_count": 102,
     "metadata": {
      "tags": []
     },
     "output_type": "execute_result"
    }
   ],
   "source": [
    "resultados.std()"
   ]
  },
  {
   "cell_type": "markdown",
   "metadata": {
    "id": "AWk44UmnZTki"
   },
   "source": [
    "## Conclusão\n",
    "\n",
    "Nesse projeto aplicamos redes neurais para modelagem de preços. Uma coisa que não realizamos foi o *GridSearch* do modelo, mas que será feito em outro *notebook* e esse procedimento é necessário visto que a rede neural não obteve um desempenho tão acurado, entretanto é bom notar que as previsões seguiram próximas dos valores reais."
   ]
  }
 ],
 "metadata": {
  "colab": {
   "name": "Redes neurais para previsão de preços de casas em Seattle.ipynb",
   "provenance": []
  },
  "kernelspec": {
   "display_name": "Python 3",
   "language": "python",
   "name": "python3"
  },
  "language_info": {
   "codemirror_mode": {
    "name": "ipython",
    "version": 3
   },
   "file_extension": ".py",
   "mimetype": "text/x-python",
   "name": "python",
   "nbconvert_exporter": "python",
   "pygments_lexer": "ipython3",
   "version": "3.6.8"
  }
 },
 "nbformat": 4,
 "nbformat_minor": 1
}
