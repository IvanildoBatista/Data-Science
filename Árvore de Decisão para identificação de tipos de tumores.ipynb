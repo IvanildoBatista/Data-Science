{
 "cells": [
  {
   "cell_type": "markdown",
   "metadata": {},
   "source": [
    "# Usando o algoritmo árvore de decisão para classificar tipos de tumores mamários"
   ]
  },
  {
   "cell_type": "markdown",
   "metadata": {},
   "source": [
    "**Sobre os dados**\n",
    "\n",
    "Os dados são de tumores de câncer de mama e as features calculadas a partir de uma imagem digitalizada de um aspirado por agulha fina (PAAF) de uma massa mamária. Eles descrevem características dos núcleos celulares presentes na imagem.\n",
    "O dataset em questão foi obtido na plataforma Kaggle [aqui](https://www.kaggle.com/uciml/breast-cancer-wisconsin-data) e possui as seguintes variáveis:\n",
    "\n",
    "**1)** Número de identificação\n",
    "\n",
    "**2)** Diagnóstico (**M = maligno, B = benigno**)\n",
    "\n",
    "**3)** raio (média das distâncias do centro aos pontos do perímetro)\n",
    "\n",
    "**4)** textura (desvio padrão dos valores da escala de cinza)\n",
    "\n",
    "**5)** perímetro\n",
    "\n",
    "**6)** área\n",
    "\n",
    "**7)** lisura (variação local nos comprimentos do raio)\n",
    "\n",
    "**8)** compacidade (perímetro ^ 2 / área - 1,0)\n",
    "\n",
    "**9)** concavidade (gravidade das partes côncavas do contorno)\n",
    "\n",
    "**10)** pontos côncavos (número de partes côncavas do contorno)\n",
    "\n",
    "**11)** simetria\n",
    "\n",
    "**12)** dimensão fractal\n",
    "\n",
    "Para cada features serão usadas a suas médias (mean), desvios-padrões (se) e \"pior\" ou maior (worst) para classificação."
   ]
  },
  {
   "cell_type": "markdown",
   "metadata": {},
   "source": [
    "**Objetivo do projeto**\n",
    "\n",
    "O objetivo desse projeto é usar o Algoritmo de Árvore de Decisão e identificar, a partir das características de tumores mamários, se um tumor é do tipo Maligno (M) ou do tipo Benigno (B)."
   ]
  },
  {
   "cell_type": "markdown",
   "metadata": {},
   "source": [
    "**ATRIBUINDO O DATASET A UMA VARIÁVEL**"
   ]
  },
  {
   "cell_type": "code",
   "execution_count": 1,
   "metadata": {},
   "outputs": [],
   "source": [
    "diag='cancer.csv'"
   ]
  },
  {
   "cell_type": "code",
   "execution_count": 2,
   "metadata": {},
   "outputs": [
    {
     "data": {
      "text/plain": [
       "'cancer.csv'"
      ]
     },
     "execution_count": 2,
     "metadata": {},
     "output_type": "execute_result"
    }
   ],
   "source": [
    "diag"
   ]
  },
  {
   "cell_type": "markdown",
   "metadata": {},
   "source": [
    "**IMPORTANDO A BIBLIOTECA PANDAS E NUMPY**"
   ]
  },
  {
   "cell_type": "code",
   "execution_count": 3,
   "metadata": {},
   "outputs": [],
   "source": [
    "import pandas as pd\n",
    "import numpy as np"
   ]
  },
  {
   "cell_type": "markdown",
   "metadata": {},
   "source": [
    "**IMPORTANDO BASE DE DADOS**"
   ]
  },
  {
   "cell_type": "code",
   "execution_count": 4,
   "metadata": {},
   "outputs": [],
   "source": [
    "diagnostico=pd.read_csv(diag,sep=',',header=0)"
   ]
  },
  {
   "cell_type": "markdown",
   "metadata": {},
   "source": [
    "**VISUALIZANDO O CONJUNTO DE DADOS**"
   ]
  },
  {
   "cell_type": "code",
   "execution_count": 5,
   "metadata": {},
   "outputs": [
    {
     "data": {
      "text/html": [
       "<div>\n",
       "<style scoped>\n",
       "    .dataframe tbody tr th:only-of-type {\n",
       "        vertical-align: middle;\n",
       "    }\n",
       "\n",
       "    .dataframe tbody tr th {\n",
       "        vertical-align: top;\n",
       "    }\n",
       "\n",
       "    .dataframe thead th {\n",
       "        text-align: right;\n",
       "    }\n",
       "</style>\n",
       "<table border=\"1\" class=\"dataframe\">\n",
       "  <thead>\n",
       "    <tr style=\"text-align: right;\">\n",
       "      <th></th>\n",
       "      <th>id</th>\n",
       "      <th>diagnosis</th>\n",
       "      <th>radius_mean</th>\n",
       "      <th>texture_mean</th>\n",
       "      <th>perimeter_mean</th>\n",
       "      <th>area_mean</th>\n",
       "      <th>smoothness_mean</th>\n",
       "      <th>compactness_mean</th>\n",
       "      <th>concavity_mean</th>\n",
       "      <th>concave points_mean</th>\n",
       "      <th>...</th>\n",
       "      <th>texture_worst</th>\n",
       "      <th>perimeter_worst</th>\n",
       "      <th>area_worst</th>\n",
       "      <th>smoothness_worst</th>\n",
       "      <th>compactness_worst</th>\n",
       "      <th>concavity_worst</th>\n",
       "      <th>concave points_worst</th>\n",
       "      <th>symmetry_worst</th>\n",
       "      <th>fractal_dimension_worst</th>\n",
       "      <th>Unnamed: 32</th>\n",
       "    </tr>\n",
       "  </thead>\n",
       "  <tbody>\n",
       "    <tr>\n",
       "      <th>0</th>\n",
       "      <td>842302</td>\n",
       "      <td>M</td>\n",
       "      <td>17.99</td>\n",
       "      <td>10.38</td>\n",
       "      <td>122.80</td>\n",
       "      <td>1001.0</td>\n",
       "      <td>0.11840</td>\n",
       "      <td>0.27760</td>\n",
       "      <td>0.3001</td>\n",
       "      <td>0.14710</td>\n",
       "      <td>...</td>\n",
       "      <td>17.33</td>\n",
       "      <td>184.60</td>\n",
       "      <td>2019.0</td>\n",
       "      <td>0.1622</td>\n",
       "      <td>0.6656</td>\n",
       "      <td>0.7119</td>\n",
       "      <td>0.2654</td>\n",
       "      <td>0.4601</td>\n",
       "      <td>0.11890</td>\n",
       "      <td>NaN</td>\n",
       "    </tr>\n",
       "    <tr>\n",
       "      <th>1</th>\n",
       "      <td>842517</td>\n",
       "      <td>M</td>\n",
       "      <td>20.57</td>\n",
       "      <td>17.77</td>\n",
       "      <td>132.90</td>\n",
       "      <td>1326.0</td>\n",
       "      <td>0.08474</td>\n",
       "      <td>0.07864</td>\n",
       "      <td>0.0869</td>\n",
       "      <td>0.07017</td>\n",
       "      <td>...</td>\n",
       "      <td>23.41</td>\n",
       "      <td>158.80</td>\n",
       "      <td>1956.0</td>\n",
       "      <td>0.1238</td>\n",
       "      <td>0.1866</td>\n",
       "      <td>0.2416</td>\n",
       "      <td>0.1860</td>\n",
       "      <td>0.2750</td>\n",
       "      <td>0.08902</td>\n",
       "      <td>NaN</td>\n",
       "    </tr>\n",
       "    <tr>\n",
       "      <th>2</th>\n",
       "      <td>84300903</td>\n",
       "      <td>M</td>\n",
       "      <td>19.69</td>\n",
       "      <td>21.25</td>\n",
       "      <td>130.00</td>\n",
       "      <td>1203.0</td>\n",
       "      <td>0.10960</td>\n",
       "      <td>0.15990</td>\n",
       "      <td>0.1974</td>\n",
       "      <td>0.12790</td>\n",
       "      <td>...</td>\n",
       "      <td>25.53</td>\n",
       "      <td>152.50</td>\n",
       "      <td>1709.0</td>\n",
       "      <td>0.1444</td>\n",
       "      <td>0.4245</td>\n",
       "      <td>0.4504</td>\n",
       "      <td>0.2430</td>\n",
       "      <td>0.3613</td>\n",
       "      <td>0.08758</td>\n",
       "      <td>NaN</td>\n",
       "    </tr>\n",
       "    <tr>\n",
       "      <th>3</th>\n",
       "      <td>84348301</td>\n",
       "      <td>M</td>\n",
       "      <td>11.42</td>\n",
       "      <td>20.38</td>\n",
       "      <td>77.58</td>\n",
       "      <td>386.1</td>\n",
       "      <td>0.14250</td>\n",
       "      <td>0.28390</td>\n",
       "      <td>0.2414</td>\n",
       "      <td>0.10520</td>\n",
       "      <td>...</td>\n",
       "      <td>26.50</td>\n",
       "      <td>98.87</td>\n",
       "      <td>567.7</td>\n",
       "      <td>0.2098</td>\n",
       "      <td>0.8663</td>\n",
       "      <td>0.6869</td>\n",
       "      <td>0.2575</td>\n",
       "      <td>0.6638</td>\n",
       "      <td>0.17300</td>\n",
       "      <td>NaN</td>\n",
       "    </tr>\n",
       "    <tr>\n",
       "      <th>4</th>\n",
       "      <td>84358402</td>\n",
       "      <td>M</td>\n",
       "      <td>20.29</td>\n",
       "      <td>14.34</td>\n",
       "      <td>135.10</td>\n",
       "      <td>1297.0</td>\n",
       "      <td>0.10030</td>\n",
       "      <td>0.13280</td>\n",
       "      <td>0.1980</td>\n",
       "      <td>0.10430</td>\n",
       "      <td>...</td>\n",
       "      <td>16.67</td>\n",
       "      <td>152.20</td>\n",
       "      <td>1575.0</td>\n",
       "      <td>0.1374</td>\n",
       "      <td>0.2050</td>\n",
       "      <td>0.4000</td>\n",
       "      <td>0.1625</td>\n",
       "      <td>0.2364</td>\n",
       "      <td>0.07678</td>\n",
       "      <td>NaN</td>\n",
       "    </tr>\n",
       "  </tbody>\n",
       "</table>\n",
       "<p>5 rows × 33 columns</p>\n",
       "</div>"
      ],
      "text/plain": [
       "         id diagnosis  radius_mean  texture_mean  perimeter_mean  area_mean  \\\n",
       "0    842302         M        17.99         10.38          122.80     1001.0   \n",
       "1    842517         M        20.57         17.77          132.90     1326.0   \n",
       "2  84300903         M        19.69         21.25          130.00     1203.0   \n",
       "3  84348301         M        11.42         20.38           77.58      386.1   \n",
       "4  84358402         M        20.29         14.34          135.10     1297.0   \n",
       "\n",
       "   smoothness_mean  compactness_mean  concavity_mean  concave points_mean  \\\n",
       "0          0.11840           0.27760          0.3001              0.14710   \n",
       "1          0.08474           0.07864          0.0869              0.07017   \n",
       "2          0.10960           0.15990          0.1974              0.12790   \n",
       "3          0.14250           0.28390          0.2414              0.10520   \n",
       "4          0.10030           0.13280          0.1980              0.10430   \n",
       "\n",
       "   ...  texture_worst  perimeter_worst  area_worst  smoothness_worst  \\\n",
       "0  ...          17.33           184.60      2019.0            0.1622   \n",
       "1  ...          23.41           158.80      1956.0            0.1238   \n",
       "2  ...          25.53           152.50      1709.0            0.1444   \n",
       "3  ...          26.50            98.87       567.7            0.2098   \n",
       "4  ...          16.67           152.20      1575.0            0.1374   \n",
       "\n",
       "   compactness_worst  concavity_worst  concave points_worst  symmetry_worst  \\\n",
       "0             0.6656           0.7119                0.2654          0.4601   \n",
       "1             0.1866           0.2416                0.1860          0.2750   \n",
       "2             0.4245           0.4504                0.2430          0.3613   \n",
       "3             0.8663           0.6869                0.2575          0.6638   \n",
       "4             0.2050           0.4000                0.1625          0.2364   \n",
       "\n",
       "   fractal_dimension_worst  Unnamed: 32  \n",
       "0                  0.11890          NaN  \n",
       "1                  0.08902          NaN  \n",
       "2                  0.08758          NaN  \n",
       "3                  0.17300          NaN  \n",
       "4                  0.07678          NaN  \n",
       "\n",
       "[5 rows x 33 columns]"
      ]
     },
     "execution_count": 5,
     "metadata": {},
     "output_type": "execute_result"
    }
   ],
   "source": [
    "diagnostico.head()"
   ]
  },
  {
   "cell_type": "markdown",
   "metadata": {},
   "source": [
    "**VISUALIZANDO OS TIPOS DE DADOS DAS COLUNAS DO CONJUNTO DE DADOS**"
   ]
  },
  {
   "cell_type": "code",
   "execution_count": 6,
   "metadata": {},
   "outputs": [
    {
     "name": "stdout",
     "output_type": "stream",
     "text": [
      "<class 'pandas.core.frame.DataFrame'>\n",
      "RangeIndex: 569 entries, 0 to 568\n",
      "Data columns (total 33 columns):\n",
      "id                         569 non-null int64\n",
      "diagnosis                  569 non-null object\n",
      "radius_mean                569 non-null float64\n",
      "texture_mean               569 non-null float64\n",
      "perimeter_mean             569 non-null float64\n",
      "area_mean                  569 non-null float64\n",
      "smoothness_mean            569 non-null float64\n",
      "compactness_mean           569 non-null float64\n",
      "concavity_mean             569 non-null float64\n",
      "concave points_mean        569 non-null float64\n",
      "symmetry_mean              569 non-null float64\n",
      "fractal_dimension_mean     569 non-null float64\n",
      "radius_se                  569 non-null float64\n",
      "texture_se                 569 non-null float64\n",
      "perimeter_se               569 non-null float64\n",
      "area_se                    569 non-null float64\n",
      "smoothness_se              569 non-null float64\n",
      "compactness_se             569 non-null float64\n",
      "concavity_se               569 non-null float64\n",
      "concave points_se          569 non-null float64\n",
      "symmetry_se                569 non-null float64\n",
      "fractal_dimension_se       569 non-null float64\n",
      "radius_worst               569 non-null float64\n",
      "texture_worst              569 non-null float64\n",
      "perimeter_worst            569 non-null float64\n",
      "area_worst                 569 non-null float64\n",
      "smoothness_worst           569 non-null float64\n",
      "compactness_worst          569 non-null float64\n",
      "concavity_worst            569 non-null float64\n",
      "concave points_worst       569 non-null float64\n",
      "symmetry_worst             569 non-null float64\n",
      "fractal_dimension_worst    569 non-null float64\n",
      "Unnamed: 32                0 non-null float64\n",
      "dtypes: float64(31), int64(1), object(1)\n",
      "memory usage: 146.8+ KB\n"
     ]
    }
   ],
   "source": [
    "#Como pode-se observar a maioria das colunas do conjunto de dados é do tipo float\n",
    "\n",
    "diagnostico.info()"
   ]
  },
  {
   "cell_type": "markdown",
   "metadata": {},
   "source": [
    "**VISUALIZANDO SE O CONJUNTO DE DADOS POSSUI VALORES FALTANTES**"
   ]
  },
  {
   "cell_type": "code",
   "execution_count": 7,
   "metadata": {},
   "outputs": [
    {
     "data": {
      "text/plain": [
       "id                           0\n",
       "diagnosis                    0\n",
       "radius_mean                  0\n",
       "texture_mean                 0\n",
       "perimeter_mean               0\n",
       "area_mean                    0\n",
       "smoothness_mean              0\n",
       "compactness_mean             0\n",
       "concavity_mean               0\n",
       "concave points_mean          0\n",
       "symmetry_mean                0\n",
       "fractal_dimension_mean       0\n",
       "radius_se                    0\n",
       "texture_se                   0\n",
       "perimeter_se                 0\n",
       "area_se                      0\n",
       "smoothness_se                0\n",
       "compactness_se               0\n",
       "concavity_se                 0\n",
       "concave points_se            0\n",
       "symmetry_se                  0\n",
       "fractal_dimension_se         0\n",
       "radius_worst                 0\n",
       "texture_worst                0\n",
       "perimeter_worst              0\n",
       "area_worst                   0\n",
       "smoothness_worst             0\n",
       "compactness_worst            0\n",
       "concavity_worst              0\n",
       "concave points_worst         0\n",
       "symmetry_worst               0\n",
       "fractal_dimension_worst      0\n",
       "Unnamed: 32                569\n",
       "dtype: int64"
      ]
     },
     "execution_count": 7,
     "metadata": {},
     "output_type": "execute_result"
    }
   ],
   "source": [
    "#Não há valores faltantes na base de dados\n",
    "\n",
    "diagnostico.isnull().sum()"
   ]
  },
  {
   "cell_type": "markdown",
   "metadata": {},
   "source": [
    "**ESTATÍSTICAS DESCRITIVAS DA BASE DE DADOS**"
   ]
  },
  {
   "cell_type": "code",
   "execution_count": 8,
   "metadata": {},
   "outputs": [
    {
     "data": {
      "text/html": [
       "<div>\n",
       "<style scoped>\n",
       "    .dataframe tbody tr th:only-of-type {\n",
       "        vertical-align: middle;\n",
       "    }\n",
       "\n",
       "    .dataframe tbody tr th {\n",
       "        vertical-align: top;\n",
       "    }\n",
       "\n",
       "    .dataframe thead th {\n",
       "        text-align: right;\n",
       "    }\n",
       "</style>\n",
       "<table border=\"1\" class=\"dataframe\">\n",
       "  <thead>\n",
       "    <tr style=\"text-align: right;\">\n",
       "      <th></th>\n",
       "      <th>count</th>\n",
       "      <th>mean</th>\n",
       "      <th>std</th>\n",
       "      <th>min</th>\n",
       "      <th>25%</th>\n",
       "      <th>50%</th>\n",
       "      <th>75%</th>\n",
       "      <th>max</th>\n",
       "    </tr>\n",
       "  </thead>\n",
       "  <tbody>\n",
       "    <tr>\n",
       "      <th>id</th>\n",
       "      <td>569.0</td>\n",
       "      <td>3.037183e+07</td>\n",
       "      <td>1.250206e+08</td>\n",
       "      <td>8670.000000</td>\n",
       "      <td>869218.000000</td>\n",
       "      <td>906024.000000</td>\n",
       "      <td>8.813129e+06</td>\n",
       "      <td>9.113205e+08</td>\n",
       "    </tr>\n",
       "    <tr>\n",
       "      <th>radius_mean</th>\n",
       "      <td>569.0</td>\n",
       "      <td>1.412729e+01</td>\n",
       "      <td>3.524049e+00</td>\n",
       "      <td>6.981000</td>\n",
       "      <td>11.700000</td>\n",
       "      <td>13.370000</td>\n",
       "      <td>1.578000e+01</td>\n",
       "      <td>2.811000e+01</td>\n",
       "    </tr>\n",
       "    <tr>\n",
       "      <th>texture_mean</th>\n",
       "      <td>569.0</td>\n",
       "      <td>1.928965e+01</td>\n",
       "      <td>4.301036e+00</td>\n",
       "      <td>9.710000</td>\n",
       "      <td>16.170000</td>\n",
       "      <td>18.840000</td>\n",
       "      <td>2.180000e+01</td>\n",
       "      <td>3.928000e+01</td>\n",
       "    </tr>\n",
       "    <tr>\n",
       "      <th>perimeter_mean</th>\n",
       "      <td>569.0</td>\n",
       "      <td>9.196903e+01</td>\n",
       "      <td>2.429898e+01</td>\n",
       "      <td>43.790000</td>\n",
       "      <td>75.170000</td>\n",
       "      <td>86.240000</td>\n",
       "      <td>1.041000e+02</td>\n",
       "      <td>1.885000e+02</td>\n",
       "    </tr>\n",
       "    <tr>\n",
       "      <th>area_mean</th>\n",
       "      <td>569.0</td>\n",
       "      <td>6.548891e+02</td>\n",
       "      <td>3.519141e+02</td>\n",
       "      <td>143.500000</td>\n",
       "      <td>420.300000</td>\n",
       "      <td>551.100000</td>\n",
       "      <td>7.827000e+02</td>\n",
       "      <td>2.501000e+03</td>\n",
       "    </tr>\n",
       "    <tr>\n",
       "      <th>smoothness_mean</th>\n",
       "      <td>569.0</td>\n",
       "      <td>9.636028e-02</td>\n",
       "      <td>1.406413e-02</td>\n",
       "      <td>0.052630</td>\n",
       "      <td>0.086370</td>\n",
       "      <td>0.095870</td>\n",
       "      <td>1.053000e-01</td>\n",
       "      <td>1.634000e-01</td>\n",
       "    </tr>\n",
       "    <tr>\n",
       "      <th>compactness_mean</th>\n",
       "      <td>569.0</td>\n",
       "      <td>1.043410e-01</td>\n",
       "      <td>5.281276e-02</td>\n",
       "      <td>0.019380</td>\n",
       "      <td>0.064920</td>\n",
       "      <td>0.092630</td>\n",
       "      <td>1.304000e-01</td>\n",
       "      <td>3.454000e-01</td>\n",
       "    </tr>\n",
       "    <tr>\n",
       "      <th>concavity_mean</th>\n",
       "      <td>569.0</td>\n",
       "      <td>8.879932e-02</td>\n",
       "      <td>7.971981e-02</td>\n",
       "      <td>0.000000</td>\n",
       "      <td>0.029560</td>\n",
       "      <td>0.061540</td>\n",
       "      <td>1.307000e-01</td>\n",
       "      <td>4.268000e-01</td>\n",
       "    </tr>\n",
       "    <tr>\n",
       "      <th>concave points_mean</th>\n",
       "      <td>569.0</td>\n",
       "      <td>4.891915e-02</td>\n",
       "      <td>3.880284e-02</td>\n",
       "      <td>0.000000</td>\n",
       "      <td>0.020310</td>\n",
       "      <td>0.033500</td>\n",
       "      <td>7.400000e-02</td>\n",
       "      <td>2.012000e-01</td>\n",
       "    </tr>\n",
       "    <tr>\n",
       "      <th>symmetry_mean</th>\n",
       "      <td>569.0</td>\n",
       "      <td>1.811619e-01</td>\n",
       "      <td>2.741428e-02</td>\n",
       "      <td>0.106000</td>\n",
       "      <td>0.161900</td>\n",
       "      <td>0.179200</td>\n",
       "      <td>1.957000e-01</td>\n",
       "      <td>3.040000e-01</td>\n",
       "    </tr>\n",
       "    <tr>\n",
       "      <th>fractal_dimension_mean</th>\n",
       "      <td>569.0</td>\n",
       "      <td>6.279761e-02</td>\n",
       "      <td>7.060363e-03</td>\n",
       "      <td>0.049960</td>\n",
       "      <td>0.057700</td>\n",
       "      <td>0.061540</td>\n",
       "      <td>6.612000e-02</td>\n",
       "      <td>9.744000e-02</td>\n",
       "    </tr>\n",
       "    <tr>\n",
       "      <th>radius_se</th>\n",
       "      <td>569.0</td>\n",
       "      <td>4.051721e-01</td>\n",
       "      <td>2.773127e-01</td>\n",
       "      <td>0.111500</td>\n",
       "      <td>0.232400</td>\n",
       "      <td>0.324200</td>\n",
       "      <td>4.789000e-01</td>\n",
       "      <td>2.873000e+00</td>\n",
       "    </tr>\n",
       "    <tr>\n",
       "      <th>texture_se</th>\n",
       "      <td>569.0</td>\n",
       "      <td>1.216853e+00</td>\n",
       "      <td>5.516484e-01</td>\n",
       "      <td>0.360200</td>\n",
       "      <td>0.833900</td>\n",
       "      <td>1.108000</td>\n",
       "      <td>1.474000e+00</td>\n",
       "      <td>4.885000e+00</td>\n",
       "    </tr>\n",
       "    <tr>\n",
       "      <th>perimeter_se</th>\n",
       "      <td>569.0</td>\n",
       "      <td>2.866059e+00</td>\n",
       "      <td>2.021855e+00</td>\n",
       "      <td>0.757000</td>\n",
       "      <td>1.606000</td>\n",
       "      <td>2.287000</td>\n",
       "      <td>3.357000e+00</td>\n",
       "      <td>2.198000e+01</td>\n",
       "    </tr>\n",
       "    <tr>\n",
       "      <th>area_se</th>\n",
       "      <td>569.0</td>\n",
       "      <td>4.033708e+01</td>\n",
       "      <td>4.549101e+01</td>\n",
       "      <td>6.802000</td>\n",
       "      <td>17.850000</td>\n",
       "      <td>24.530000</td>\n",
       "      <td>4.519000e+01</td>\n",
       "      <td>5.422000e+02</td>\n",
       "    </tr>\n",
       "    <tr>\n",
       "      <th>smoothness_se</th>\n",
       "      <td>569.0</td>\n",
       "      <td>7.040979e-03</td>\n",
       "      <td>3.002518e-03</td>\n",
       "      <td>0.001713</td>\n",
       "      <td>0.005169</td>\n",
       "      <td>0.006380</td>\n",
       "      <td>8.146000e-03</td>\n",
       "      <td>3.113000e-02</td>\n",
       "    </tr>\n",
       "    <tr>\n",
       "      <th>compactness_se</th>\n",
       "      <td>569.0</td>\n",
       "      <td>2.547814e-02</td>\n",
       "      <td>1.790818e-02</td>\n",
       "      <td>0.002252</td>\n",
       "      <td>0.013080</td>\n",
       "      <td>0.020450</td>\n",
       "      <td>3.245000e-02</td>\n",
       "      <td>1.354000e-01</td>\n",
       "    </tr>\n",
       "    <tr>\n",
       "      <th>concavity_se</th>\n",
       "      <td>569.0</td>\n",
       "      <td>3.189372e-02</td>\n",
       "      <td>3.018606e-02</td>\n",
       "      <td>0.000000</td>\n",
       "      <td>0.015090</td>\n",
       "      <td>0.025890</td>\n",
       "      <td>4.205000e-02</td>\n",
       "      <td>3.960000e-01</td>\n",
       "    </tr>\n",
       "    <tr>\n",
       "      <th>concave points_se</th>\n",
       "      <td>569.0</td>\n",
       "      <td>1.179614e-02</td>\n",
       "      <td>6.170285e-03</td>\n",
       "      <td>0.000000</td>\n",
       "      <td>0.007638</td>\n",
       "      <td>0.010930</td>\n",
       "      <td>1.471000e-02</td>\n",
       "      <td>5.279000e-02</td>\n",
       "    </tr>\n",
       "    <tr>\n",
       "      <th>symmetry_se</th>\n",
       "      <td>569.0</td>\n",
       "      <td>2.054230e-02</td>\n",
       "      <td>8.266372e-03</td>\n",
       "      <td>0.007882</td>\n",
       "      <td>0.015160</td>\n",
       "      <td>0.018730</td>\n",
       "      <td>2.348000e-02</td>\n",
       "      <td>7.895000e-02</td>\n",
       "    </tr>\n",
       "    <tr>\n",
       "      <th>fractal_dimension_se</th>\n",
       "      <td>569.0</td>\n",
       "      <td>3.794904e-03</td>\n",
       "      <td>2.646071e-03</td>\n",
       "      <td>0.000895</td>\n",
       "      <td>0.002248</td>\n",
       "      <td>0.003187</td>\n",
       "      <td>4.558000e-03</td>\n",
       "      <td>2.984000e-02</td>\n",
       "    </tr>\n",
       "    <tr>\n",
       "      <th>radius_worst</th>\n",
       "      <td>569.0</td>\n",
       "      <td>1.626919e+01</td>\n",
       "      <td>4.833242e+00</td>\n",
       "      <td>7.930000</td>\n",
       "      <td>13.010000</td>\n",
       "      <td>14.970000</td>\n",
       "      <td>1.879000e+01</td>\n",
       "      <td>3.604000e+01</td>\n",
       "    </tr>\n",
       "    <tr>\n",
       "      <th>texture_worst</th>\n",
       "      <td>569.0</td>\n",
       "      <td>2.567722e+01</td>\n",
       "      <td>6.146258e+00</td>\n",
       "      <td>12.020000</td>\n",
       "      <td>21.080000</td>\n",
       "      <td>25.410000</td>\n",
       "      <td>2.972000e+01</td>\n",
       "      <td>4.954000e+01</td>\n",
       "    </tr>\n",
       "    <tr>\n",
       "      <th>perimeter_worst</th>\n",
       "      <td>569.0</td>\n",
       "      <td>1.072612e+02</td>\n",
       "      <td>3.360254e+01</td>\n",
       "      <td>50.410000</td>\n",
       "      <td>84.110000</td>\n",
       "      <td>97.660000</td>\n",
       "      <td>1.254000e+02</td>\n",
       "      <td>2.512000e+02</td>\n",
       "    </tr>\n",
       "    <tr>\n",
       "      <th>area_worst</th>\n",
       "      <td>569.0</td>\n",
       "      <td>8.805831e+02</td>\n",
       "      <td>5.693570e+02</td>\n",
       "      <td>185.200000</td>\n",
       "      <td>515.300000</td>\n",
       "      <td>686.500000</td>\n",
       "      <td>1.084000e+03</td>\n",
       "      <td>4.254000e+03</td>\n",
       "    </tr>\n",
       "    <tr>\n",
       "      <th>smoothness_worst</th>\n",
       "      <td>569.0</td>\n",
       "      <td>1.323686e-01</td>\n",
       "      <td>2.283243e-02</td>\n",
       "      <td>0.071170</td>\n",
       "      <td>0.116600</td>\n",
       "      <td>0.131300</td>\n",
       "      <td>1.460000e-01</td>\n",
       "      <td>2.226000e-01</td>\n",
       "    </tr>\n",
       "    <tr>\n",
       "      <th>compactness_worst</th>\n",
       "      <td>569.0</td>\n",
       "      <td>2.542650e-01</td>\n",
       "      <td>1.573365e-01</td>\n",
       "      <td>0.027290</td>\n",
       "      <td>0.147200</td>\n",
       "      <td>0.211900</td>\n",
       "      <td>3.391000e-01</td>\n",
       "      <td>1.058000e+00</td>\n",
       "    </tr>\n",
       "    <tr>\n",
       "      <th>concavity_worst</th>\n",
       "      <td>569.0</td>\n",
       "      <td>2.721885e-01</td>\n",
       "      <td>2.086243e-01</td>\n",
       "      <td>0.000000</td>\n",
       "      <td>0.114500</td>\n",
       "      <td>0.226700</td>\n",
       "      <td>3.829000e-01</td>\n",
       "      <td>1.252000e+00</td>\n",
       "    </tr>\n",
       "    <tr>\n",
       "      <th>concave points_worst</th>\n",
       "      <td>569.0</td>\n",
       "      <td>1.146062e-01</td>\n",
       "      <td>6.573234e-02</td>\n",
       "      <td>0.000000</td>\n",
       "      <td>0.064930</td>\n",
       "      <td>0.099930</td>\n",
       "      <td>1.614000e-01</td>\n",
       "      <td>2.910000e-01</td>\n",
       "    </tr>\n",
       "    <tr>\n",
       "      <th>symmetry_worst</th>\n",
       "      <td>569.0</td>\n",
       "      <td>2.900756e-01</td>\n",
       "      <td>6.186747e-02</td>\n",
       "      <td>0.156500</td>\n",
       "      <td>0.250400</td>\n",
       "      <td>0.282200</td>\n",
       "      <td>3.179000e-01</td>\n",
       "      <td>6.638000e-01</td>\n",
       "    </tr>\n",
       "    <tr>\n",
       "      <th>fractal_dimension_worst</th>\n",
       "      <td>569.0</td>\n",
       "      <td>8.394582e-02</td>\n",
       "      <td>1.806127e-02</td>\n",
       "      <td>0.055040</td>\n",
       "      <td>0.071460</td>\n",
       "      <td>0.080040</td>\n",
       "      <td>9.208000e-02</td>\n",
       "      <td>2.075000e-01</td>\n",
       "    </tr>\n",
       "    <tr>\n",
       "      <th>Unnamed: 32</th>\n",
       "      <td>0.0</td>\n",
       "      <td>NaN</td>\n",
       "      <td>NaN</td>\n",
       "      <td>NaN</td>\n",
       "      <td>NaN</td>\n",
       "      <td>NaN</td>\n",
       "      <td>NaN</td>\n",
       "      <td>NaN</td>\n",
       "    </tr>\n",
       "  </tbody>\n",
       "</table>\n",
       "</div>"
      ],
      "text/plain": [
       "                         count          mean           std          min  \\\n",
       "id                       569.0  3.037183e+07  1.250206e+08  8670.000000   \n",
       "radius_mean              569.0  1.412729e+01  3.524049e+00     6.981000   \n",
       "texture_mean             569.0  1.928965e+01  4.301036e+00     9.710000   \n",
       "perimeter_mean           569.0  9.196903e+01  2.429898e+01    43.790000   \n",
       "area_mean                569.0  6.548891e+02  3.519141e+02   143.500000   \n",
       "smoothness_mean          569.0  9.636028e-02  1.406413e-02     0.052630   \n",
       "compactness_mean         569.0  1.043410e-01  5.281276e-02     0.019380   \n",
       "concavity_mean           569.0  8.879932e-02  7.971981e-02     0.000000   \n",
       "concave points_mean      569.0  4.891915e-02  3.880284e-02     0.000000   \n",
       "symmetry_mean            569.0  1.811619e-01  2.741428e-02     0.106000   \n",
       "fractal_dimension_mean   569.0  6.279761e-02  7.060363e-03     0.049960   \n",
       "radius_se                569.0  4.051721e-01  2.773127e-01     0.111500   \n",
       "texture_se               569.0  1.216853e+00  5.516484e-01     0.360200   \n",
       "perimeter_se             569.0  2.866059e+00  2.021855e+00     0.757000   \n",
       "area_se                  569.0  4.033708e+01  4.549101e+01     6.802000   \n",
       "smoothness_se            569.0  7.040979e-03  3.002518e-03     0.001713   \n",
       "compactness_se           569.0  2.547814e-02  1.790818e-02     0.002252   \n",
       "concavity_se             569.0  3.189372e-02  3.018606e-02     0.000000   \n",
       "concave points_se        569.0  1.179614e-02  6.170285e-03     0.000000   \n",
       "symmetry_se              569.0  2.054230e-02  8.266372e-03     0.007882   \n",
       "fractal_dimension_se     569.0  3.794904e-03  2.646071e-03     0.000895   \n",
       "radius_worst             569.0  1.626919e+01  4.833242e+00     7.930000   \n",
       "texture_worst            569.0  2.567722e+01  6.146258e+00    12.020000   \n",
       "perimeter_worst          569.0  1.072612e+02  3.360254e+01    50.410000   \n",
       "area_worst               569.0  8.805831e+02  5.693570e+02   185.200000   \n",
       "smoothness_worst         569.0  1.323686e-01  2.283243e-02     0.071170   \n",
       "compactness_worst        569.0  2.542650e-01  1.573365e-01     0.027290   \n",
       "concavity_worst          569.0  2.721885e-01  2.086243e-01     0.000000   \n",
       "concave points_worst     569.0  1.146062e-01  6.573234e-02     0.000000   \n",
       "symmetry_worst           569.0  2.900756e-01  6.186747e-02     0.156500   \n",
       "fractal_dimension_worst  569.0  8.394582e-02  1.806127e-02     0.055040   \n",
       "Unnamed: 32                0.0           NaN           NaN          NaN   \n",
       "\n",
       "                                   25%            50%           75%  \\\n",
       "id                       869218.000000  906024.000000  8.813129e+06   \n",
       "radius_mean                  11.700000      13.370000  1.578000e+01   \n",
       "texture_mean                 16.170000      18.840000  2.180000e+01   \n",
       "perimeter_mean               75.170000      86.240000  1.041000e+02   \n",
       "area_mean                   420.300000     551.100000  7.827000e+02   \n",
       "smoothness_mean               0.086370       0.095870  1.053000e-01   \n",
       "compactness_mean              0.064920       0.092630  1.304000e-01   \n",
       "concavity_mean                0.029560       0.061540  1.307000e-01   \n",
       "concave points_mean           0.020310       0.033500  7.400000e-02   \n",
       "symmetry_mean                 0.161900       0.179200  1.957000e-01   \n",
       "fractal_dimension_mean        0.057700       0.061540  6.612000e-02   \n",
       "radius_se                     0.232400       0.324200  4.789000e-01   \n",
       "texture_se                    0.833900       1.108000  1.474000e+00   \n",
       "perimeter_se                  1.606000       2.287000  3.357000e+00   \n",
       "area_se                      17.850000      24.530000  4.519000e+01   \n",
       "smoothness_se                 0.005169       0.006380  8.146000e-03   \n",
       "compactness_se                0.013080       0.020450  3.245000e-02   \n",
       "concavity_se                  0.015090       0.025890  4.205000e-02   \n",
       "concave points_se             0.007638       0.010930  1.471000e-02   \n",
       "symmetry_se                   0.015160       0.018730  2.348000e-02   \n",
       "fractal_dimension_se          0.002248       0.003187  4.558000e-03   \n",
       "radius_worst                 13.010000      14.970000  1.879000e+01   \n",
       "texture_worst                21.080000      25.410000  2.972000e+01   \n",
       "perimeter_worst              84.110000      97.660000  1.254000e+02   \n",
       "area_worst                  515.300000     686.500000  1.084000e+03   \n",
       "smoothness_worst              0.116600       0.131300  1.460000e-01   \n",
       "compactness_worst             0.147200       0.211900  3.391000e-01   \n",
       "concavity_worst               0.114500       0.226700  3.829000e-01   \n",
       "concave points_worst          0.064930       0.099930  1.614000e-01   \n",
       "symmetry_worst                0.250400       0.282200  3.179000e-01   \n",
       "fractal_dimension_worst       0.071460       0.080040  9.208000e-02   \n",
       "Unnamed: 32                        NaN            NaN           NaN   \n",
       "\n",
       "                                  max  \n",
       "id                       9.113205e+08  \n",
       "radius_mean              2.811000e+01  \n",
       "texture_mean             3.928000e+01  \n",
       "perimeter_mean           1.885000e+02  \n",
       "area_mean                2.501000e+03  \n",
       "smoothness_mean          1.634000e-01  \n",
       "compactness_mean         3.454000e-01  \n",
       "concavity_mean           4.268000e-01  \n",
       "concave points_mean      2.012000e-01  \n",
       "symmetry_mean            3.040000e-01  \n",
       "fractal_dimension_mean   9.744000e-02  \n",
       "radius_se                2.873000e+00  \n",
       "texture_se               4.885000e+00  \n",
       "perimeter_se             2.198000e+01  \n",
       "area_se                  5.422000e+02  \n",
       "smoothness_se            3.113000e-02  \n",
       "compactness_se           1.354000e-01  \n",
       "concavity_se             3.960000e-01  \n",
       "concave points_se        5.279000e-02  \n",
       "symmetry_se              7.895000e-02  \n",
       "fractal_dimension_se     2.984000e-02  \n",
       "radius_worst             3.604000e+01  \n",
       "texture_worst            4.954000e+01  \n",
       "perimeter_worst          2.512000e+02  \n",
       "area_worst               4.254000e+03  \n",
       "smoothness_worst         2.226000e-01  \n",
       "compactness_worst        1.058000e+00  \n",
       "concavity_worst          1.252000e+00  \n",
       "concave points_worst     2.910000e-01  \n",
       "symmetry_worst           6.638000e-01  \n",
       "fractal_dimension_worst  2.075000e-01  \n",
       "Unnamed: 32                       NaN  "
      ]
     },
     "execution_count": 8,
     "metadata": {},
     "output_type": "execute_result"
    }
   ],
   "source": [
    "diagnostico.describe().T\n",
    "\n",
    "#tabela contendo as estatísticas descritivas de cada coluna do dataset"
   ]
  },
  {
   "cell_type": "markdown",
   "metadata": {},
   "source": [
    "**VISUALIZAÇÃO DE DADOS**"
   ]
  },
  {
   "cell_type": "markdown",
   "metadata": {},
   "source": [
    "**IMPORTANDO BIBLIOTECAS SEABORN E MATPLOTLIB**"
   ]
  },
  {
   "cell_type": "code",
   "execution_count": 9,
   "metadata": {},
   "outputs": [],
   "source": [
    "import seaborn as sns\n",
    "import matplotlib.pyplot as plt"
   ]
  },
  {
   "cell_type": "code",
   "execution_count": 10,
   "metadata": {},
   "outputs": [],
   "source": [
    "#importando estilo 'ggplot' que será aplicado nos gráfico gerados\n",
    "\n",
    "plt.style.use('ggplot')"
   ]
  },
  {
   "cell_type": "markdown",
   "metadata": {},
   "source": [
    "**VISUALIZANDO AS DISTRIBUIÇÕES DAS COLUNAS DA BASE DE DADOS**"
   ]
  },
  {
   "cell_type": "markdown",
   "metadata": {},
   "source": [
    "**DISTRIBUIÇÕES DAS COLUNAS DAS FEATURES (MÉDIA)**"
   ]
  },
  {
   "cell_type": "code",
   "execution_count": 11,
   "metadata": {},
   "outputs": [
    {
     "data": {
      "text/plain": [
       "array([[<matplotlib.axes._subplots.AxesSubplot object at 0x000002020ED8CF60>,\n",
       "        <matplotlib.axes._subplots.AxesSubplot object at 0x000002020F092438>,\n",
       "        <matplotlib.axes._subplots.AxesSubplot object at 0x000002020F0BA9B0>],\n",
       "       [<matplotlib.axes._subplots.AxesSubplot object at 0x000002020F0E3F28>,\n",
       "        <matplotlib.axes._subplots.AxesSubplot object at 0x000002020F1114E0>,\n",
       "        <matplotlib.axes._subplots.AxesSubplot object at 0x000002020F137A58>],\n",
       "       [<matplotlib.axes._subplots.AxesSubplot object at 0x000002020F164FD0>,\n",
       "        <matplotlib.axes._subplots.AxesSubplot object at 0x000002020F1925C0>,\n",
       "        <matplotlib.axes._subplots.AxesSubplot object at 0x000002020F1925F8>],\n",
       "       [<matplotlib.axes._subplots.AxesSubplot object at 0x000002020F1EA0B8>,\n",
       "        <matplotlib.axes._subplots.AxesSubplot object at 0x000002020F210630>,\n",
       "        <matplotlib.axes._subplots.AxesSubplot object at 0x000002020F235BA8>]],\n",
       "      dtype=object)"
      ]
     },
     "execution_count": 11,
     "metadata": {},
     "output_type": "execute_result"
    },
    {
     "data": {
      "image/png": "[encoded data removed]",
      "text/plain": [
       "<Figure size 720x720 with 12 Axes>"
      ]
     },
     "metadata": {},
     "output_type": "display_data"
    }
   ],
   "source": [
    "diagnostico[['radius_mean','texture_mean','perimeter_mean','area_mean','smoothness_mean',\n",
    "             'compactness_mean','concavity_mean','concave points_mean','symmetry_mean',\n",
    "             'fractal_dimension_mean']].hist(figsize=(10,10),color = \"blue\")"
   ]
  },
  {
   "cell_type": "markdown",
   "metadata": {},
   "source": [
    "**DISTRIBUIÇÕES DAS COLUNAS DAS FEATURES (STANDARD ERROR)**"
   ]
  },
  {
   "cell_type": "code",
   "execution_count": 12,
   "metadata": {},
   "outputs": [
    {
     "data": {
      "text/plain": [
       "array([[<matplotlib.axes._subplots.AxesSubplot object at 0x000002020F30CA90>,\n",
       "        <matplotlib.axes._subplots.AxesSubplot object at 0x000002020F679320>,\n",
       "        <matplotlib.axes._subplots.AxesSubplot object at 0x000002020F735390>],\n",
       "       [<matplotlib.axes._subplots.AxesSubplot object at 0x000002020F38B908>,\n",
       "        <matplotlib.axes._subplots.AxesSubplot object at 0x000002020F3B4E80>,\n",
       "        <matplotlib.axes._subplots.AxesSubplot object at 0x000002020F3E5438>],\n",
       "       [<matplotlib.axes._subplots.AxesSubplot object at 0x000002020F40B9B0>,\n",
       "        <matplotlib.axes._subplots.AxesSubplot object at 0x000002020F437F60>,\n",
       "        <matplotlib.axes._subplots.AxesSubplot object at 0x000002020F437F98>],\n",
       "       [<matplotlib.axes._subplots.AxesSubplot object at 0x000002020F48EA58>,\n",
       "        <matplotlib.axes._subplots.AxesSubplot object at 0x000002020F4B6FD0>,\n",
       "        <matplotlib.axes._subplots.AxesSubplot object at 0x000002020F4E6588>]],\n",
       "      dtype=object)"
      ]
     },
     "execution_count": 12,
     "metadata": {},
     "output_type": "execute_result"
    },
    {
     "data": {
      "image/png": "[encoded data removed]",
      "text/plain": [
       "<Figure size 720x720 with 12 Axes>"
      ]
     },
     "metadata": {},
     "output_type": "display_data"
    }
   ],
   "source": [
    "diagnostico[['radius_se','texture_se','perimeter_se','area_se','smoothness_se',\n",
    "             'compactness_se','concavity_se','concave points_se',\n",
    "             'symmetry_se','fractal_dimension_se']].hist(figsize=(10,10),color = \"green\")"
   ]
  },
  {
   "cell_type": "markdown",
   "metadata": {},
   "source": [
    "**DISTRIBUIÇÕES DAS COLUNAS DAS FEATURES (WORST)**"
   ]
  },
  {
   "cell_type": "code",
   "execution_count": 13,
   "metadata": {},
   "outputs": [
    {
     "data": {
      "text/plain": [
       "array([[<matplotlib.axes._subplots.AxesSubplot object at 0x000002020FCA13C8>,\n",
       "        <matplotlib.axes._subplots.AxesSubplot object at 0x000002020FCB0630>,\n",
       "        <matplotlib.axes._subplots.AxesSubplot object at 0x000002020F98E6D8>],\n",
       "       [<matplotlib.axes._subplots.AxesSubplot object at 0x000002020F9B6C50>,\n",
       "        <matplotlib.axes._subplots.AxesSubplot object at 0x000002020F9E8198>,\n",
       "        <matplotlib.axes._subplots.AxesSubplot object at 0x000002020FA0D710>],\n",
       "       [<matplotlib.axes._subplots.AxesSubplot object at 0x000002020FA36C88>,\n",
       "        <matplotlib.axes._subplots.AxesSubplot object at 0x000002020FA68278>,\n",
       "        <matplotlib.axes._subplots.AxesSubplot object at 0x000002020FA682B0>],\n",
       "       [<matplotlib.axes._subplots.AxesSubplot object at 0x000002020FAB9D30>,\n",
       "        <matplotlib.axes._subplots.AxesSubplot object at 0x000002020FAE92E8>,\n",
       "        <matplotlib.axes._subplots.AxesSubplot object at 0x000002020FB11828>]],\n",
       "      dtype=object)"
      ]
     },
     "execution_count": 13,
     "metadata": {},
     "output_type": "execute_result"
    },
    {
     "data": {
      "image/png": "[encoded data removed]",
      "text/plain": [
       "<Figure size 720x720 with 12 Axes>"
      ]
     },
     "metadata": {},
     "output_type": "display_data"
    }
   ],
   "source": [
    "diagnostico[['radius_worst','texture_worst','perimeter_worst',\n",
    "                            'area_worst','smoothness_worst','compactness_worst',\n",
    "                            'concavity_worst','concave points_worst','symmetry_worst',\n",
    "                            'fractal_dimension_worst']].hist(figsize=(10,10),color = \"red\")"
   ]
  },
  {
   "cell_type": "markdown",
   "metadata": {},
   "source": [
    "**VISUALIZANDO A CORRELAÇÃO ENTRE AS FEATURES DE MÉDIA**"
   ]
  },
  {
   "cell_type": "markdown",
   "metadata": {},
   "source": [
    "**MEAN (MÉDIA)**"
   ]
  },
  {
   "cell_type": "code",
   "execution_count": 14,
   "metadata": {},
   "outputs": [],
   "source": [
    "#atribuindo a uma variável a correlação entre as features de média\n",
    "\n",
    "correlacoes=diagnostico[['radius_mean','texture_mean','perimeter_mean',\n",
    "                         'area_mean','smoothness_mean','compactness_mean',\n",
    "                         'concavity_mean','concave points_mean','symmetry_mean',\n",
    "                         'fractal_dimension_mean']].corr()"
   ]
  },
  {
   "cell_type": "code",
   "execution_count": 15,
   "metadata": {},
   "outputs": [
    {
     "data": {
      "text/plain": [
       "<matplotlib.axes._subplots.AxesSubplot at 0x20210254c88>"
      ]
     },
     "execution_count": 15,
     "metadata": {},
     "output_type": "execute_result"
    },
    {
     "data": {
      "image/png": "[encoded data removed]",
      "text/plain": [
       "<Figure size 432x288 with 2 Axes>"
      ]
     },
     "metadata": {
      "needs_background": "light"
     },
     "output_type": "display_data"
    }
   ],
   "source": [
    "#plotando o gráfico de correlação entre as features de média\n",
    "\n",
    "%matplotlib inline\n",
    "sns.heatmap(correlacoes, annot = True, cmap = \"YlGnBu\")"
   ]
  },
  {
   "cell_type": "markdown",
   "metadata": {},
   "source": [
    "**STANDARD ERROR (ERRO PADRÃO)**"
   ]
  },
  {
   "cell_type": "code",
   "execution_count": 16,
   "metadata": {},
   "outputs": [],
   "source": [
    "#atribuindo a uma variável a correlação entre as features de erro padrão\n",
    "\n",
    "correlacoes2 = diagnostico[['radius_se','texture_se',\n",
    "                            'perimeter_se','area_se','smoothness_se',\n",
    "                            'compactness_se','concavity_se','concave points_se',\n",
    "                            'symmetry_se','fractal_dimension_se']].corr()"
   ]
  },
  {
   "cell_type": "code",
   "execution_count": 17,
   "metadata": {},
   "outputs": [
    {
     "data": {
      "text/plain": [
       "<matplotlib.axes._subplots.AxesSubplot at 0x202100443c8>"
      ]
     },
     "execution_count": 17,
     "metadata": {},
     "output_type": "execute_result"
    },
    {
     "data": {
      "image/png": "[encoded data removed]",
      "text/plain": [
       "<Figure size 432x288 with 2 Axes>"
      ]
     },
     "metadata": {
      "needs_background": "light"
     },
     "output_type": "display_data"
    }
   ],
   "source": [
    "#plotando o gráfico de correlação entre as features de erro padrão\n",
    "\n",
    "%matplotlib inline\n",
    "sns.heatmap(correlacoes2, annot = True, cmap = \"YlOrRd\")"
   ]
  },
  {
   "cell_type": "markdown",
   "metadata": {},
   "source": [
    "**WORST**"
   ]
  },
  {
   "cell_type": "code",
   "execution_count": 18,
   "metadata": {},
   "outputs": [],
   "source": [
    "#atribuindo a uma variável a correlação entre as features de worst\n",
    "\n",
    "correlacoes3 = diagnostico[['radius_worst','texture_worst','perimeter_worst',\n",
    "                            'area_worst','smoothness_worst','compactness_worst',\n",
    "                            'concavity_worst','concave points_worst','symmetry_worst',\n",
    "                            'fractal_dimension_worst']].corr()"
   ]
  },
  {
   "cell_type": "code",
   "execution_count": 19,
   "metadata": {},
   "outputs": [
    {
     "data": {
      "text/plain": [
       "<matplotlib.axes._subplots.AxesSubplot at 0x20210466828>"
      ]
     },
     "execution_count": 19,
     "metadata": {},
     "output_type": "execute_result"
    },
    {
     "data": {
      "image/png": "[encoded data removed]",
      "text/plain": [
       "<Figure size 432x288 with 2 Axes>"
      ]
     },
     "metadata": {
      "needs_background": "light"
     },
     "output_type": "display_data"
    }
   ],
   "source": [
    "#plotando o gráfico de correlação entre as features worst\n",
    "\n",
    "%matplotlib inline\n",
    "sns.heatmap(correlacoes3, annot = True, cmap = \"Greens\")"
   ]
  },
  {
   "cell_type": "markdown",
   "metadata": {},
   "source": [
    "**CONTAGEM DAS CLASSES**"
   ]
  },
  {
   "cell_type": "code",
   "execution_count": 20,
   "metadata": {},
   "outputs": [
    {
     "data": {
      "text/plain": [
       "<seaborn.axisgrid.FacetGrid at 0x202101c7358>"
      ]
     },
     "execution_count": 20,
     "metadata": {},
     "output_type": "execute_result"
    },
    {
     "data": {
      "image/png": "[encoded data removed]",
      "text/plain": [
       "<Figure size 360x360 with 1 Axes>"
      ]
     },
     "metadata": {
      "needs_background": "light"
     },
     "output_type": "display_data"
    }
   ],
   "source": [
    "diagnostico=pd.read_csv(diag,sep=',',header=0)\n",
    "sns.catplot(x=\"diagnosis\", kind=\"count\", data=diagnostico)"
   ]
  },
  {
   "cell_type": "markdown",
   "metadata": {},
   "source": [
    "**EXCLUINDO AS COLUNAS \"Unnamed:32\" E \"id\"**"
   ]
  },
  {
   "cell_type": "code",
   "execution_count": 21,
   "metadata": {},
   "outputs": [],
   "source": [
    "diagnostico.drop(['Unnamed: 32'], axis=1,inplace=True)\n",
    "diagnostico.drop(['id'], axis=1,inplace=True)"
   ]
  },
  {
   "cell_type": "markdown",
   "metadata": {},
   "source": [
    "**SEPARANDO OS DADOS PARA TREINO E TESTE DO ALGORITMO DE ÁRVORE DE DECISÃO**"
   ]
  },
  {
   "cell_type": "code",
   "execution_count": 22,
   "metadata": {},
   "outputs": [],
   "source": [
    "#atribuindo a 'y' a variável de resultado, que no caso é a coluna'diagnosis' que trás os resultados 'M' de maligno e \n",
    "#'B' de benigno, ou seja, os tipos de tumores a serem classificados.\n",
    "\n",
    "y=diagnostico['diagnosis']"
   ]
  },
  {
   "cell_type": "code",
   "execution_count": 23,
   "metadata": {},
   "outputs": [],
   "source": [
    "#Atribuindo a 'X' a demais variáveis\n",
    "\n",
    "X=diagnostico.drop(['diagnosis'],axis=1)"
   ]
  },
  {
   "cell_type": "markdown",
   "metadata": {},
   "source": [
    "**IMPORTANDO MÓDULO TRAIN_TEST_SPLIT**"
   ]
  },
  {
   "cell_type": "code",
   "execution_count": 24,
   "metadata": {},
   "outputs": [],
   "source": [
    "from sklearn.model_selection import train_test_split"
   ]
  },
  {
   "cell_type": "markdown",
   "metadata": {},
   "source": [
    "**APLICANDO TRAIN_TEST_SPLIT AOS DADOS**"
   ]
  },
  {
   "cell_type": "code",
   "execution_count": 25,
   "metadata": {},
   "outputs": [],
   "source": [
    "#O train_test_split irá dividir os dados. Uma parte dos dados será para treinar o algortimo de árvore de decisão (treino) e os\n",
    "#e os outros dados para testar o quanto o algoritmo acerta.\n",
    "\n",
    "X_treino,X_teste,y_treino,y_teste = train_test_split(X,y,random_state=42)"
   ]
  },
  {
   "cell_type": "code",
   "execution_count": 26,
   "metadata": {},
   "outputs": [
    {
     "data": {
      "text/plain": [
       "(426, 30)"
      ]
     },
     "execution_count": 26,
     "metadata": {},
     "output_type": "execute_result"
    }
   ],
   "source": [
    "X_treino.shape"
   ]
  },
  {
   "cell_type": "code",
   "execution_count": 27,
   "metadata": {},
   "outputs": [
    {
     "data": {
      "text/plain": [
       "(426,)"
      ]
     },
     "execution_count": 27,
     "metadata": {},
     "output_type": "execute_result"
    }
   ],
   "source": [
    "y_treino.shape"
   ]
  },
  {
   "cell_type": "code",
   "execution_count": 28,
   "metadata": {},
   "outputs": [
    {
     "data": {
      "text/plain": [
       "(143, 30)"
      ]
     },
     "execution_count": 28,
     "metadata": {},
     "output_type": "execute_result"
    }
   ],
   "source": [
    "X_teste.shape"
   ]
  },
  {
   "cell_type": "code",
   "execution_count": 29,
   "metadata": {},
   "outputs": [
    {
     "data": {
      "text/plain": [
       "(143,)"
      ]
     },
     "execution_count": 29,
     "metadata": {},
     "output_type": "execute_result"
    }
   ],
   "source": [
    "y_teste.shape"
   ]
  },
  {
   "cell_type": "markdown",
   "metadata": {},
   "source": [
    "**IMPORTANDO E TREINANDO A ÁRVORE DE DECISÃO**"
   ]
  },
  {
   "cell_type": "code",
   "execution_count": 30,
   "metadata": {},
   "outputs": [
    {
     "data": {
      "text/plain": [
       "DecisionTreeClassifier(ccp_alpha=0.0, class_weight=None, criterion='gini',\n",
       "                       max_depth=None, max_features=None, max_leaf_nodes=None,\n",
       "                       min_impurity_decrease=0.0, min_impurity_split=None,\n",
       "                       min_samples_leaf=1, min_samples_split=2,\n",
       "                       min_weight_fraction_leaf=0.0, presort='deprecated',\n",
       "                       random_state=None, splitter='best')"
      ]
     },
     "execution_count": 30,
     "metadata": {},
     "output_type": "execute_result"
    }
   ],
   "source": [
    "from sklearn import tree\n",
    "arvore=tree.DecisionTreeClassifier()\n",
    "arvore.fit(X_treino,y_treino)"
   ]
  },
  {
   "cell_type": "code",
   "execution_count": 31,
   "metadata": {},
   "outputs": [
    {
     "data": {
      "text/plain": [
       "array(['B', 'M', 'M', 'B', 'B', 'M', 'M', 'B', 'B', 'B', 'B', 'M', 'B',\n",
       "       'M', 'B', 'M', 'B', 'B', 'B', 'M', 'B', 'B', 'M', 'B', 'B', 'B',\n",
       "       'B', 'B', 'B', 'M', 'B', 'B', 'B', 'B', 'B', 'B', 'M', 'B', 'M',\n",
       "       'B', 'B', 'M', 'B', 'B', 'B', 'B', 'M', 'B', 'B', 'B', 'M', 'M',\n",
       "       'B', 'B', 'B', 'B', 'B', 'M', 'M', 'B', 'B', 'M', 'M', 'B', 'B',\n",
       "       'B', 'M', 'M', 'B', 'B', 'M', 'M', 'B', 'M', 'B', 'B', 'B', 'M',\n",
       "       'B', 'B', 'M', 'B', 'B', 'M', 'M', 'M', 'M', 'M', 'B', 'B', 'B',\n",
       "       'B', 'M', 'B', 'B', 'B', 'M', 'M', 'B', 'M', 'M', 'B', 'M', 'M',\n",
       "       'B', 'B', 'B', 'M', 'B', 'B', 'M', 'B', 'B', 'M', 'B', 'M', 'B',\n",
       "       'B', 'B', 'M', 'M', 'B', 'B', 'M', 'B', 'M', 'M', 'B', 'B', 'M',\n",
       "       'M', 'M', 'B', 'B', 'B', 'M', 'M', 'B', 'B', 'M', 'B', 'M', 'B'],\n",
       "      dtype=object)"
      ]
     },
     "execution_count": 31,
     "metadata": {},
     "output_type": "execute_result"
    }
   ],
   "source": [
    "resultado=arvore.predict(X_teste)\n",
    "resultado"
   ]
  },
  {
   "cell_type": "markdown",
   "metadata": {},
   "source": [
    "**MATRIZ DE CONFUSÃO**\n",
    "\n",
    "Vamos agora usar a matriz de confusão para visualizar o quanto o modelo confundiu de uma classe para outra."
   ]
  },
  {
   "cell_type": "code",
   "execution_count": 33,
   "metadata": {},
   "outputs": [
    {
     "name": "stdout",
     "output_type": "stream",
     "text": [
      "Predito   B   M  All\n",
      "Real                \n",
      "B        85   4   89\n",
      "M         3  51   54\n",
      "All      88  55  143\n"
     ]
    }
   ],
   "source": [
    "print(pd.crosstab(y_teste,resultado,rownames=['Real'],colnames=['Predito'],margins=True))\n",
    "\n",
    "#Para a classe 'B' o modelo acertou 85 observações de 89 e confundiu 4 observações com a classe 'M'.\n",
    "\n",
    "#Para a classe 'M' o modelo acertou 51 observações de 54 e confundiu 3 observações com a classe 'B'."
   ]
  },
  {
   "cell_type": "markdown",
   "metadata": {},
   "source": [
    "**APLICANDO CROSS-VALIDATION**"
   ]
  },
  {
   "cell_type": "code",
   "execution_count": 34,
   "metadata": {},
   "outputs": [],
   "source": [
    "#imptando o módulo para validação cruzada\n",
    "\n",
    "from sklearn.model_selection import cross_val_predict"
   ]
  },
  {
   "cell_type": "code",
   "execution_count": 35,
   "metadata": {},
   "outputs": [],
   "source": [
    "resultados = cross_val_predict(arvore,X,y,cv=10)"
   ]
  },
  {
   "cell_type": "code",
   "execution_count": 83,
   "metadata": {},
   "outputs": [
    {
     "name": "stdout",
     "output_type": "stream",
     "text": [
      "91.03690685413005\n"
     ]
    }
   ],
   "source": [
    "#importando módulo metrics\n",
    "from sklearn import metrics\n",
    "\n",
    "#Como pode-se ver a acurácia média do modelo é de 91.03%.\n",
    "\n",
    "print(metrics.accuracy_score(y,resultados)*100)"
   ]
  },
  {
   "cell_type": "markdown",
   "metadata": {},
   "source": [
    "**IMPORTANDO O MÓDULO MÉTRICS**"
   ]
  },
  {
   "cell_type": "code",
   "execution_count": 38,
   "metadata": {},
   "outputs": [],
   "source": [
    "from sklearn import metrics"
   ]
  },
  {
   "cell_type": "code",
   "execution_count": 39,
   "metadata": {},
   "outputs": [
    {
     "name": "stdout",
     "output_type": "stream",
     "text": [
      "              precision    recall  f1-score   support\n",
      "\n",
      "           B       0.97      0.96      0.96        89\n",
      "           M       0.93      0.94      0.94        54\n",
      "\n",
      "    accuracy                           0.95       143\n",
      "   macro avg       0.95      0.95      0.95       143\n",
      "weighted avg       0.95      0.95      0.95       143\n",
      "\n"
     ]
    }
   ],
   "source": [
    "print(metrics.classification_report(y_teste,resultado))\n",
    "\n",
    "#Para classe 'B', o modelo teve uma precisão"
   ]
  },
  {
   "cell_type": "markdown",
   "metadata": {},
   "source": [
    "**FEATURES MAIS IMPORTANTES**"
   ]
  },
  {
   "cell_type": "code",
   "execution_count": 40,
   "metadata": {},
   "outputs": [
    {
     "data": {
      "text/plain": [
       "array([0.        , 0.02601101, 0.        , 0.        , 0.        ,\n",
       "       0.        , 0.        , 0.72468105, 0.00670697, 0.        ,\n",
       "       0.01277192, 0.        , 0.        , 0.        , 0.00155458,\n",
       "       0.        , 0.        , 0.01702539, 0.        , 0.00838371,\n",
       "       0.05899273, 0.09949554, 0.        , 0.03452044, 0.00985664,\n",
       "       0.        , 0.        , 0.        , 0.        , 0.        ])"
      ]
     },
     "execution_count": 40,
     "metadata": {},
     "output_type": "execute_result"
    }
   ],
   "source": [
    "#Vamos agora observar quais as features mais importantes para o modelo de árvore de decisão.\n",
    "\n",
    "arvore.feature_importances_"
   ]
  },
  {
   "cell_type": "code",
   "execution_count": 41,
   "metadata": {},
   "outputs": [
    {
     "data": {
      "text/plain": [
       "radius_mean                0.000000\n",
       "texture_mean               0.026011\n",
       "perimeter_mean             0.000000\n",
       "area_mean                  0.000000\n",
       "smoothness_mean            0.000000\n",
       "compactness_mean           0.000000\n",
       "concavity_mean             0.000000\n",
       "concave points_mean        0.724681\n",
       "symmetry_mean              0.006707\n",
       "fractal_dimension_mean     0.000000\n",
       "radius_se                  0.012772\n",
       "texture_se                 0.000000\n",
       "perimeter_se               0.000000\n",
       "area_se                    0.000000\n",
       "smoothness_se              0.001555\n",
       "compactness_se             0.000000\n",
       "concavity_se               0.000000\n",
       "concave points_se          0.017025\n",
       "symmetry_se                0.000000\n",
       "fractal_dimension_se       0.008384\n",
       "radius_worst               0.058993\n",
       "texture_worst              0.099496\n",
       "perimeter_worst            0.000000\n",
       "area_worst                 0.034520\n",
       "smoothness_worst           0.009857\n",
       "compactness_worst          0.000000\n",
       "concavity_worst            0.000000\n",
       "concave points_worst       0.000000\n",
       "symmetry_worst             0.000000\n",
       "fractal_dimension_worst    0.000000\n",
       "dtype: float64"
      ]
     },
     "execution_count": 41,
     "metadata": {},
     "output_type": "execute_result"
    }
   ],
   "source": [
    "feature_imp=pd.Series(arvore.feature_importances_,index=X_treino.columns)\n",
    "feature_imp"
   ]
  },
  {
   "cell_type": "code",
   "execution_count": 43,
   "metadata": {},
   "outputs": [
    {
     "data": {
      "image/png": "[encoded data removed]",
      "text/plain": [
       "<Figure size 432x288 with 1 Axes>"
      ]
     },
     "metadata": {
      "needs_background": "light"
     },
     "output_type": "display_data"
    }
   ],
   "source": [
    "%matplotlib inline\n",
    "sns.barplot(x=feature_imp,y=feature_imp.index)\n",
    "plt.xlabel('Importância de features')\n",
    "plt.ylabel('Feature')\n",
    "plt.title('Importância de Features')\n",
    "plt.show()\n",
    "\n",
    "#Podemos ver no gráfico abaixo que as features mais importantes para o modelo de árvore de decisão foram:\n",
    "#texture_mean               0.026011\n",
    "#concave points_mean        0.724681\n",
    "#symmetry_mean              0.006707\n",
    "#radius_se                  0.012772\n",
    "#smoothness_se              0.001555\n",
    "#concave points_se          0.017025\n",
    "#fractal_dimension_se       0.008384\n",
    "#radius_worst               0.058993\n",
    "#texture_worst              0.099496\n",
    "#area_worst                 0.034520\n",
    "#smoothness_worst           0.009857"
   ]
  },
  {
   "cell_type": "markdown",
   "metadata": {},
   "source": [
    "**VISUALIZANDO A ÁRVORE DE DECISÃO**"
   ]
  },
  {
   "cell_type": "code",
   "execution_count": 44,
   "metadata": {},
   "outputs": [],
   "source": [
    "#importando bibliotecas para impressão da árvore de decisão\n",
    "\n",
    "import pydot\n",
    "import graphviz \n",
    "from ipywidgets import interactive"
   ]
  },
  {
   "cell_type": "code",
   "execution_count": 45,
   "metadata": {},
   "outputs": [
    {
     "data": {
      "image/svg+xml": [
       "<?xml version=\"1.0\" encoding=\"UTF-8\" standalone=\"no\"?>\r\n",
       "<!DOCTYPE svg PUBLIC \"-//W3C//DTD SVG 1.1//EN\"\r\n",
       " \"http://www.w3.org/Graphics/SVG/1.1/DTD/svg11.dtd\">\r\n",
       "<!-- Generated by graphviz version 2.38.0 (20140413.2041)\r\n",
       " -->\r\n",
       "<!-- Title: Tree Pages: 1 -->\r\n",
       "<svg width=\"1286pt\" height=\"580pt\"\r\n",
       " viewBox=\"0.00 0.00 1286.00 580.00\" xmlns=\"http://www.w3.org/2000/svg\" xmlns:xlink=\"http://www.w3.org/1999/xlink\">\r\n",
       "<g id=\"graph0\" class=\"graph\" transform=\"scale(1 1) rotate(0) translate(4 576)\">\r\n",
       "<title>Tree</title>\r\n",
       "<polygon fill=\"white\" stroke=\"none\" points=\"-4,4 -4,-576 1282,-576 1282,4 -4,4\"/>\r\n",
       "<!-- 0 -->\r\n",
       "<g id=\"node1\" class=\"node\"><title>0</title>\r\n",
       "<path fill=\"#f4cbae\" stroke=\"black\" d=\"M788.5,-572C788.5,-572 596.5,-572 596.5,-572 590.5,-572 584.5,-566 584.5,-560 584.5,-560 584.5,-486 584.5,-486 584.5,-480 590.5,-474 596.5,-474 596.5,-474 788.5,-474 788.5,-474 794.5,-474 800.5,-480 800.5,-486 800.5,-486 800.5,-560 800.5,-560 800.5,-566 794.5,-572 788.5,-572\"/>\r\n",
       "<text text-anchor=\"middle\" x=\"692.5\" y=\"-556.8\" font-family=\"Helvetica,sans-Serif\" font-size=\"14.00\">node #0</text>\r\n",
       "<text text-anchor=\"middle\" x=\"692.5\" y=\"-541.8\" font-family=\"Helvetica,sans-Serif\" font-size=\"14.00\">concave points_mean &lt;= 0.051</text>\r\n",
       "<text text-anchor=\"middle\" x=\"692.5\" y=\"-526.8\" font-family=\"Helvetica,sans-Serif\" font-size=\"14.00\">gini = 0.467</text>\r\n",
       "<text text-anchor=\"middle\" x=\"692.5\" y=\"-511.8\" font-family=\"Helvetica,sans-Serif\" font-size=\"14.00\">samples = 426</text>\r\n",
       "<text text-anchor=\"middle\" x=\"692.5\" y=\"-496.8\" font-family=\"Helvetica,sans-Serif\" font-size=\"14.00\">value = [268, 158]</text>\r\n",
       "<text text-anchor=\"middle\" x=\"692.5\" y=\"-481.8\" font-family=\"Helvetica,sans-Serif\" font-size=\"14.00\">class = M</text>\r\n",
       "</g>\r\n",
       "<!-- 1 -->\r\n",
       "<g id=\"node2\" class=\"node\"><title>1</title>\r\n",
       "<path fill=\"#e78946\" stroke=\"black\" d=\"M629.5,-438C629.5,-438 495.5,-438 495.5,-438 489.5,-438 483.5,-432 483.5,-426 483.5,-426 483.5,-352 483.5,-352 483.5,-346 489.5,-340 495.5,-340 495.5,-340 629.5,-340 629.5,-340 635.5,-340 641.5,-346 641.5,-352 641.5,-352 641.5,-426 641.5,-426 641.5,-432 635.5,-438 629.5,-438\"/>\r\n",
       "<text text-anchor=\"middle\" x=\"562.5\" y=\"-422.8\" font-family=\"Helvetica,sans-Serif\" font-size=\"14.00\">node #1</text>\r\n",
       "<text text-anchor=\"middle\" x=\"562.5\" y=\"-407.8\" font-family=\"Helvetica,sans-Serif\" font-size=\"14.00\">radius_worst &lt;= 16.83</text>\r\n",
       "<text text-anchor=\"middle\" x=\"562.5\" y=\"-392.8\" font-family=\"Helvetica,sans-Serif\" font-size=\"14.00\">gini = 0.113</text>\r\n",
       "<text text-anchor=\"middle\" x=\"562.5\" y=\"-377.8\" font-family=\"Helvetica,sans-Serif\" font-size=\"14.00\">samples = 267</text>\r\n",
       "<text text-anchor=\"middle\" x=\"562.5\" y=\"-362.8\" font-family=\"Helvetica,sans-Serif\" font-size=\"14.00\">value = [251, 16]</text>\r\n",
       "<text text-anchor=\"middle\" x=\"562.5\" y=\"-347.8\" font-family=\"Helvetica,sans-Serif\" font-size=\"14.00\">class = M</text>\r\n",
       "</g>\r\n",
       "<!-- 0&#45;&gt;1 -->\r\n",
       "<g id=\"edge1\" class=\"edge\"><title>0&#45;&gt;1</title>\r\n",
       "<path fill=\"none\" stroke=\"black\" d=\"M645.199,-473.972C636.059,-464.69 626.413,-454.896 617.063,-445.402\"/>\r\n",
       "<polygon fill=\"black\" stroke=\"black\" points=\"619.494,-442.883 609.983,-438.214 614.507,-447.795 619.494,-442.883\"/>\r\n",
       "<text text-anchor=\"middle\" x=\"609.793\" y=\"-459.513\" font-family=\"Helvetica,sans-Serif\" font-size=\"14.00\">True</text>\r\n",
       "</g>\r\n",
       "<!-- 22 -->\r\n",
       "<g id=\"node15\" class=\"node\"><title>22</title>\r\n",
       "<path fill=\"#51a9e8\" stroke=\"black\" d=\"M896.5,-438C896.5,-438 750.5,-438 750.5,-438 744.5,-438 738.5,-432 738.5,-426 738.5,-426 738.5,-352 738.5,-352 738.5,-346 744.5,-340 750.5,-340 750.5,-340 896.5,-340 896.5,-340 902.5,-340 908.5,-346 908.5,-352 908.5,-352 908.5,-426 908.5,-426 908.5,-432 902.5,-438 896.5,-438\"/>\r\n",
       "<text text-anchor=\"middle\" x=\"823.5\" y=\"-422.8\" font-family=\"Helvetica,sans-Serif\" font-size=\"14.00\">node #22</text>\r\n",
       "<text text-anchor=\"middle\" x=\"823.5\" y=\"-407.8\" font-family=\"Helvetica,sans-Serif\" font-size=\"14.00\">texture_worst &lt;= 20.405</text>\r\n",
       "<text text-anchor=\"middle\" x=\"823.5\" y=\"-392.8\" font-family=\"Helvetica,sans-Serif\" font-size=\"14.00\">gini = 0.191</text>\r\n",
       "<text text-anchor=\"middle\" x=\"823.5\" y=\"-377.8\" font-family=\"Helvetica,sans-Serif\" font-size=\"14.00\">samples = 159</text>\r\n",
       "<text text-anchor=\"middle\" x=\"823.5\" y=\"-362.8\" font-family=\"Helvetica,sans-Serif\" font-size=\"14.00\">value = [17, 142]</text>\r\n",
       "<text text-anchor=\"middle\" x=\"823.5\" y=\"-347.8\" font-family=\"Helvetica,sans-Serif\" font-size=\"14.00\">class = M</text>\r\n",
       "</g>\r\n",
       "<!-- 0&#45;&gt;22 -->\r\n",
       "<g id=\"edge14\" class=\"edge\"><title>0&#45;&gt;22</title>\r\n",
       "<path fill=\"none\" stroke=\"black\" d=\"M740.165,-473.972C749.375,-464.69 759.096,-454.896 768.518,-445.402\"/>\r\n",
       "<polygon fill=\"black\" stroke=\"black\" points=\"771.091,-447.777 775.651,-438.214 766.123,-442.846 771.091,-447.777\"/>\r\n",
       "<text text-anchor=\"middle\" x=\"775.746\" y=\"-459.514\" font-family=\"Helvetica,sans-Serif\" font-size=\"14.00\">False</text>\r\n",
       "</g>\r\n",
       "<!-- 2 -->\r\n",
       "<g id=\"node3\" class=\"node\"><title>2</title>\r\n",
       "<path fill=\"#e6843d\" stroke=\"black\" d=\"M364.5,-304C364.5,-304 248.5,-304 248.5,-304 242.5,-304 236.5,-298 236.5,-292 236.5,-292 236.5,-218 236.5,-218 236.5,-212 242.5,-206 248.5,-206 248.5,-206 364.5,-206 364.5,-206 370.5,-206 376.5,-212 376.5,-218 376.5,-218 376.5,-292 376.5,-292 376.5,-298 370.5,-304 364.5,-304\"/>\r\n",
       "<text text-anchor=\"middle\" x=\"306.5\" y=\"-288.8\" font-family=\"Helvetica,sans-Serif\" font-size=\"14.00\">node #2</text>\r\n",
       "<text text-anchor=\"middle\" x=\"306.5\" y=\"-273.8\" font-family=\"Helvetica,sans-Serif\" font-size=\"14.00\">radius_se &lt;= 0.626</text>\r\n",
       "<text text-anchor=\"middle\" x=\"306.5\" y=\"-258.8\" font-family=\"Helvetica,sans-Serif\" font-size=\"14.00\">gini = 0.039</text>\r\n",
       "<text text-anchor=\"middle\" x=\"306.5\" y=\"-243.8\" font-family=\"Helvetica,sans-Serif\" font-size=\"14.00\">samples = 249</text>\r\n",
       "<text text-anchor=\"middle\" x=\"306.5\" y=\"-228.8\" font-family=\"Helvetica,sans-Serif\" font-size=\"14.00\">value = [244, 5]</text>\r\n",
       "<text text-anchor=\"middle\" x=\"306.5\" y=\"-213.8\" font-family=\"Helvetica,sans-Serif\" font-size=\"14.00\">class = M</text>\r\n",
       "</g>\r\n",
       "<!-- 1&#45;&gt;2 -->\r\n",
       "<g id=\"edge2\" class=\"edge\"><title>1&#45;&gt;2</title>\r\n",
       "<path fill=\"none\" stroke=\"black\" d=\"M483.253,-347.138C452.246,-331.15 416.751,-312.848 385.744,-296.86\"/>\r\n",
       "<polygon fill=\"black\" stroke=\"black\" points=\"387.194,-293.67 376.702,-292.198 383.986,-299.892 387.194,-293.67\"/>\r\n",
       "</g>\r\n",
       "<!-- 17 -->\r\n",
       "<g id=\"node10\" class=\"node\"><title>17</title>\r\n",
       "<path fill=\"#b7dbf6\" stroke=\"black\" d=\"M632.5,-304C632.5,-304 492.5,-304 492.5,-304 486.5,-304 480.5,-298 480.5,-292 480.5,-292 480.5,-218 480.5,-218 480.5,-212 486.5,-206 492.5,-206 492.5,-206 632.5,-206 632.5,-206 638.5,-206 644.5,-212 644.5,-218 644.5,-218 644.5,-292 644.5,-292 644.5,-298 638.5,-304 632.5,-304\"/>\r\n",
       "<text text-anchor=\"middle\" x=\"562.5\" y=\"-288.8\" font-family=\"Helvetica,sans-Serif\" font-size=\"14.00\">node #17</text>\r\n",
       "<text text-anchor=\"middle\" x=\"562.5\" y=\"-273.8\" font-family=\"Helvetica,sans-Serif\" font-size=\"14.00\">texture_mean &lt;= 16.19</text>\r\n",
       "<text text-anchor=\"middle\" x=\"562.5\" y=\"-258.8\" font-family=\"Helvetica,sans-Serif\" font-size=\"14.00\">gini = 0.475</text>\r\n",
       "<text text-anchor=\"middle\" x=\"562.5\" y=\"-243.8\" font-family=\"Helvetica,sans-Serif\" font-size=\"14.00\">samples = 18</text>\r\n",
       "<text text-anchor=\"middle\" x=\"562.5\" y=\"-228.8\" font-family=\"Helvetica,sans-Serif\" font-size=\"14.00\">value = [7, 11]</text>\r\n",
       "<text text-anchor=\"middle\" x=\"562.5\" y=\"-213.8\" font-family=\"Helvetica,sans-Serif\" font-size=\"14.00\">class = M</text>\r\n",
       "</g>\r\n",
       "<!-- 1&#45;&gt;17 -->\r\n",
       "<g id=\"edge9\" class=\"edge\"><title>1&#45;&gt;17</title>\r\n",
       "<path fill=\"none\" stroke=\"black\" d=\"M562.5,-339.972C562.5,-331.691 562.5,-323.003 562.5,-314.483\"/>\r\n",
       "<polygon fill=\"black\" stroke=\"black\" points=\"566,-314.214 562.5,-304.214 559,-314.214 566,-314.214\"/>\r\n",
       "</g>\r\n",
       "<!-- 3 -->\r\n",
       "<g id=\"node4\" class=\"node\"><title>3</title>\r\n",
       "<path fill=\"#e5833b\" stroke=\"black\" d=\"M185,-170C185,-170 12,-170 12,-170 6,-170 -1.42109e-014,-164 -1.42109e-014,-158 -1.42109e-014,-158 -1.42109e-014,-84 -1.42109e-014,-84 -1.42109e-014,-78 6,-72 12,-72 12,-72 185,-72 185,-72 191,-72 197,-78 197,-84 197,-84 197,-158 197,-158 197,-164 191,-170 185,-170\"/>\r\n",
       "<text text-anchor=\"middle\" x=\"98.5\" y=\"-154.8\" font-family=\"Helvetica,sans-Serif\" font-size=\"14.00\">node #3</text>\r\n",
       "<text text-anchor=\"middle\" x=\"98.5\" y=\"-139.8\" font-family=\"Helvetica,sans-Serif\" font-size=\"14.00\">smoothness_worst &lt;= 0.178</text>\r\n",
       "<text text-anchor=\"middle\" x=\"98.5\" y=\"-124.8\" font-family=\"Helvetica,sans-Serif\" font-size=\"14.00\">gini = 0.024</text>\r\n",
       "<text text-anchor=\"middle\" x=\"98.5\" y=\"-109.8\" font-family=\"Helvetica,sans-Serif\" font-size=\"14.00\">samples = 246</text>\r\n",
       "<text text-anchor=\"middle\" x=\"98.5\" y=\"-94.8\" font-family=\"Helvetica,sans-Serif\" font-size=\"14.00\">value = [243, 3]</text>\r\n",
       "<text text-anchor=\"middle\" x=\"98.5\" y=\"-79.8\" font-family=\"Helvetica,sans-Serif\" font-size=\"14.00\">class = M</text>\r\n",
       "</g>\r\n",
       "<!-- 2&#45;&gt;3 -->\r\n",
       "<g id=\"edge3\" class=\"edge\"><title>2&#45;&gt;3</title>\r\n",
       "<path fill=\"none\" stroke=\"black\" d=\"M236.371,-209.495C219.242,-198.625 200.737,-186.881 183.015,-175.635\"/>\r\n",
       "<polygon fill=\"black\" stroke=\"black\" points=\"184.706,-172.563 174.388,-170.159 180.956,-178.473 184.706,-172.563\"/>\r\n",
       "</g>\r\n",
       "<!-- 14 -->\r\n",
       "<g id=\"node7\" class=\"node\"><title>14</title>\r\n",
       "<path fill=\"#9ccef2\" stroke=\"black\" d=\"M385.5,-170C385.5,-170 227.5,-170 227.5,-170 221.5,-170 215.5,-164 215.5,-158 215.5,-158 215.5,-84 215.5,-84 215.5,-78 221.5,-72 227.5,-72 227.5,-72 385.5,-72 385.5,-72 391.5,-72 397.5,-78 397.5,-84 397.5,-84 397.5,-158 397.5,-158 397.5,-164 391.5,-170 385.5,-170\"/>\r\n",
       "<text text-anchor=\"middle\" x=\"306.5\" y=\"-154.8\" font-family=\"Helvetica,sans-Serif\" font-size=\"14.00\">node #14</text>\r\n",
       "<text text-anchor=\"middle\" x=\"306.5\" y=\"-139.8\" font-family=\"Helvetica,sans-Serif\" font-size=\"14.00\">symmetry_mean &lt;= 0.166</text>\r\n",
       "<text text-anchor=\"middle\" x=\"306.5\" y=\"-124.8\" font-family=\"Helvetica,sans-Serif\" font-size=\"14.00\">gini = 0.444</text>\r\n",
       "<text text-anchor=\"middle\" x=\"306.5\" y=\"-109.8\" font-family=\"Helvetica,sans-Serif\" font-size=\"14.00\">samples = 3</text>\r\n",
       "<text text-anchor=\"middle\" x=\"306.5\" y=\"-94.8\" font-family=\"Helvetica,sans-Serif\" font-size=\"14.00\">value = [1, 2]</text>\r\n",
       "<text text-anchor=\"middle\" x=\"306.5\" y=\"-79.8\" font-family=\"Helvetica,sans-Serif\" font-size=\"14.00\">class = M</text>\r\n",
       "</g>\r\n",
       "<!-- 2&#45;&gt;14 -->\r\n",
       "<g id=\"edge6\" class=\"edge\"><title>2&#45;&gt;14</title>\r\n",
       "<path fill=\"none\" stroke=\"black\" d=\"M306.5,-205.972C306.5,-197.691 306.5,-189.003 306.5,-180.483\"/>\r\n",
       "<polygon fill=\"black\" stroke=\"black\" points=\"310,-180.214 306.5,-170.214 303,-180.214 310,-180.214\"/>\r\n",
       "</g>\r\n",
       "<!-- 4 -->\r\n",
       "<g id=\"node5\" class=\"node\"><title>4</title>\r\n",
       "<path fill=\"#c0c0c0\" stroke=\"black\" d=\"M93.5,-36C93.5,-36 63.5,-36 63.5,-36 57.5,-36 51.5,-30 51.5,-24 51.5,-24 51.5,-12 51.5,-12 51.5,-6 57.5,-0 63.5,-0 63.5,-0 93.5,-0 93.5,-0 99.5,-0 105.5,-6 105.5,-12 105.5,-12 105.5,-24 105.5,-24 105.5,-30 99.5,-36 93.5,-36\"/>\r\n",
       "<text text-anchor=\"middle\" x=\"78.5\" y=\"-14.3\" font-family=\"Helvetica,sans-Serif\" font-size=\"14.00\">(...)</text>\r\n",
       "</g>\r\n",
       "<!-- 3&#45;&gt;4 -->\r\n",
       "<g id=\"edge4\" class=\"edge\"><title>3&#45;&gt;4</title>\r\n",
       "<path fill=\"none\" stroke=\"black\" d=\"M88.9686,-71.8664C87.2057,-62.9639 85.4234,-53.9632 83.8414,-45.974\"/>\r\n",
       "<polygon fill=\"black\" stroke=\"black\" points=\"87.2715,-45.2772 81.8956,-36.1476 80.4048,-46.637 87.2715,-45.2772\"/>\r\n",
       "</g>\r\n",
       "<!-- 13 -->\r\n",
       "<g id=\"node6\" class=\"node\"><title>13</title>\r\n",
       "<path fill=\"#c0c0c0\" stroke=\"black\" d=\"M165.5,-36C165.5,-36 135.5,-36 135.5,-36 129.5,-36 123.5,-30 123.5,-24 123.5,-24 123.5,-12 123.5,-12 123.5,-6 129.5,-0 135.5,-0 135.5,-0 165.5,-0 165.5,-0 171.5,-0 177.5,-6 177.5,-12 177.5,-12 177.5,-24 177.5,-24 177.5,-30 171.5,-36 165.5,-36\"/>\r\n",
       "<text text-anchor=\"middle\" x=\"150.5\" y=\"-14.3\" font-family=\"Helvetica,sans-Serif\" font-size=\"14.00\">(...)</text>\r\n",
       "</g>\r\n",
       "<!-- 3&#45;&gt;13 -->\r\n",
       "<g id=\"edge5\" class=\"edge\"><title>3&#45;&gt;13</title>\r\n",
       "<path fill=\"none\" stroke=\"black\" d=\"M123.282,-71.8664C128.02,-62.6638 132.812,-53.3562 137.027,-45.1696\"/>\r\n",
       "<polygon fill=\"black\" stroke=\"black\" points=\"140.206,-46.6405 141.672,-36.1476 133.982,-43.4363 140.206,-46.6405\"/>\r\n",
       "</g>\r\n",
       "<!-- 15 -->\r\n",
       "<g id=\"node8\" class=\"node\"><title>15</title>\r\n",
       "<path fill=\"#c0c0c0\" stroke=\"black\" d=\"M269.5,-36C269.5,-36 239.5,-36 239.5,-36 233.5,-36 227.5,-30 227.5,-24 227.5,-24 227.5,-12 227.5,-12 227.5,-6 233.5,-0 239.5,-0 239.5,-0 269.5,-0 269.5,-0 275.5,-0 281.5,-6 281.5,-12 281.5,-12 281.5,-24 281.5,-24 281.5,-30 275.5,-36 269.5,-36\"/>\r\n",
       "<text text-anchor=\"middle\" x=\"254.5\" y=\"-14.3\" font-family=\"Helvetica,sans-Serif\" font-size=\"14.00\">(...)</text>\r\n",
       "</g>\r\n",
       "<!-- 14&#45;&gt;15 -->\r\n",
       "<g id=\"edge7\" class=\"edge\"><title>14&#45;&gt;15</title>\r\n",
       "<path fill=\"none\" stroke=\"black\" d=\"M281.718,-71.8664C276.98,-62.6638 272.188,-53.3562 267.973,-45.1696\"/>\r\n",
       "<polygon fill=\"black\" stroke=\"black\" points=\"271.018,-43.4363 263.328,-36.1476 264.794,-46.6405 271.018,-43.4363\"/>\r\n",
       "</g>\r\n",
       "<!-- 16 -->\r\n",
       "<g id=\"node9\" class=\"node\"><title>16</title>\r\n",
       "<path fill=\"#c0c0c0\" stroke=\"black\" d=\"M341.5,-36C341.5,-36 311.5,-36 311.5,-36 305.5,-36 299.5,-30 299.5,-24 299.5,-24 299.5,-12 299.5,-12 299.5,-6 305.5,-0 311.5,-0 311.5,-0 341.5,-0 341.5,-0 347.5,-0 353.5,-6 353.5,-12 353.5,-12 353.5,-24 353.5,-24 353.5,-30 347.5,-36 341.5,-36\"/>\r\n",
       "<text text-anchor=\"middle\" x=\"326.5\" y=\"-14.3\" font-family=\"Helvetica,sans-Serif\" font-size=\"14.00\">(...)</text>\r\n",
       "</g>\r\n",
       "<!-- 14&#45;&gt;16 -->\r\n",
       "<g id=\"edge8\" class=\"edge\"><title>14&#45;&gt;16</title>\r\n",
       "<path fill=\"none\" stroke=\"black\" d=\"M316.031,-71.8664C317.794,-62.9639 319.577,-53.9632 321.159,-45.974\"/>\r\n",
       "<polygon fill=\"black\" stroke=\"black\" points=\"324.595,-46.637 323.104,-36.1476 317.729,-45.2772 324.595,-46.637\"/>\r\n",
       "</g>\r\n",
       "<!-- 18 -->\r\n",
       "<g id=\"node11\" class=\"node\"><title>18</title>\r\n",
       "<path fill=\"#e58139\" stroke=\"black\" d=\"M501,-162.5C501,-162.5 428,-162.5 428,-162.5 422,-162.5 416,-156.5 416,-150.5 416,-150.5 416,-91.5 416,-91.5 416,-85.5 422,-79.5 428,-79.5 428,-79.5 501,-79.5 501,-79.5 507,-79.5 513,-85.5 513,-91.5 513,-91.5 513,-150.5 513,-150.5 513,-156.5 507,-162.5 501,-162.5\"/>\r\n",
       "<text text-anchor=\"middle\" x=\"464.5\" y=\"-147.3\" font-family=\"Helvetica,sans-Serif\" font-size=\"14.00\">node #18</text>\r\n",
       "<text text-anchor=\"middle\" x=\"464.5\" y=\"-132.3\" font-family=\"Helvetica,sans-Serif\" font-size=\"14.00\">gini = 0.0</text>\r\n",
       "<text text-anchor=\"middle\" x=\"464.5\" y=\"-117.3\" font-family=\"Helvetica,sans-Serif\" font-size=\"14.00\">samples = 5</text>\r\n",
       "<text text-anchor=\"middle\" x=\"464.5\" y=\"-102.3\" font-family=\"Helvetica,sans-Serif\" font-size=\"14.00\">value = [5, 0]</text>\r\n",
       "<text text-anchor=\"middle\" x=\"464.5\" y=\"-87.3\" font-family=\"Helvetica,sans-Serif\" font-size=\"14.00\">class = M</text>\r\n",
       "</g>\r\n",
       "<!-- 17&#45;&gt;18 -->\r\n",
       "<g id=\"edge10\" class=\"edge\"><title>17&#45;&gt;18</title>\r\n",
       "<path fill=\"none\" stroke=\"black\" d=\"M526.843,-205.972C518.387,-194.583 509.358,-182.421 500.871,-170.99\"/>\r\n",
       "<polygon fill=\"black\" stroke=\"black\" points=\"503.574,-168.759 494.803,-162.817 497.954,-172.932 503.574,-168.759\"/>\r\n",
       "</g>\r\n",
       "<!-- 19 -->\r\n",
       "<g id=\"node12\" class=\"node\"><title>19</title>\r\n",
       "<path fill=\"#5dafea\" stroke=\"black\" d=\"M707.5,-170C707.5,-170 543.5,-170 543.5,-170 537.5,-170 531.5,-164 531.5,-158 531.5,-158 531.5,-84 531.5,-84 531.5,-78 537.5,-72 543.5,-72 543.5,-72 707.5,-72 707.5,-72 713.5,-72 719.5,-78 719.5,-84 719.5,-84 719.5,-158 719.5,-158 719.5,-164 713.5,-170 707.5,-170\"/>\r\n",
       "<text text-anchor=\"middle\" x=\"625.5\" y=\"-154.8\" font-family=\"Helvetica,sans-Serif\" font-size=\"14.00\">node #19</text>\r\n",
       "<text text-anchor=\"middle\" x=\"625.5\" y=\"-139.8\" font-family=\"Helvetica,sans-Serif\" font-size=\"14.00\">concave points_se &lt;= 0.01</text>\r\n",
       "<text text-anchor=\"middle\" x=\"625.5\" y=\"-124.8\" font-family=\"Helvetica,sans-Serif\" font-size=\"14.00\">gini = 0.26</text>\r\n",
       "<text text-anchor=\"middle\" x=\"625.5\" y=\"-109.8\" font-family=\"Helvetica,sans-Serif\" font-size=\"14.00\">samples = 13</text>\r\n",
       "<text text-anchor=\"middle\" x=\"625.5\" y=\"-94.8\" font-family=\"Helvetica,sans-Serif\" font-size=\"14.00\">value = [2, 11]</text>\r\n",
       "<text text-anchor=\"middle\" x=\"625.5\" y=\"-79.8\" font-family=\"Helvetica,sans-Serif\" font-size=\"14.00\">class = M</text>\r\n",
       "</g>\r\n",
       "<!-- 17&#45;&gt;19 -->\r\n",
       "<g id=\"edge11\" class=\"edge\"><title>17&#45;&gt;19</title>\r\n",
       "<path fill=\"none\" stroke=\"black\" d=\"M585.423,-205.972C589.548,-197.327 593.886,-188.238 598.123,-179.361\"/>\r\n",
       "<polygon fill=\"black\" stroke=\"black\" points=\"601.34,-180.746 602.489,-170.214 595.023,-177.731 601.34,-180.746\"/>\r\n",
       "</g>\r\n",
       "<!-- 20 -->\r\n",
       "<g id=\"node13\" class=\"node\"><title>20</title>\r\n",
       "<path fill=\"#c0c0c0\" stroke=\"black\" d=\"M604.5,-36C604.5,-36 574.5,-36 574.5,-36 568.5,-36 562.5,-30 562.5,-24 562.5,-24 562.5,-12 562.5,-12 562.5,-6 568.5,-0 574.5,-0 574.5,-0 604.5,-0 604.5,-0 610.5,-0 616.5,-6 616.5,-12 616.5,-12 616.5,-24 616.5,-24 616.5,-30 610.5,-36 604.5,-36\"/>\r\n",
       "<text text-anchor=\"middle\" x=\"589.5\" y=\"-14.3\" font-family=\"Helvetica,sans-Serif\" font-size=\"14.00\">(...)</text>\r\n",
       "</g>\r\n",
       "<!-- 19&#45;&gt;20 -->\r\n",
       "<g id=\"edge12\" class=\"edge\"><title>19&#45;&gt;20</title>\r\n",
       "<path fill=\"none\" stroke=\"black\" d=\"M608.343,-71.8664C605.135,-62.8639 601.89,-53.7609 599.019,-45.7051\"/>\r\n",
       "<polygon fill=\"black\" stroke=\"black\" points=\"602.266,-44.392 595.612,-36.1476 595.673,-46.7422 602.266,-44.392\"/>\r\n",
       "</g>\r\n",
       "<!-- 21 -->\r\n",
       "<g id=\"node14\" class=\"node\"><title>21</title>\r\n",
       "<path fill=\"#c0c0c0\" stroke=\"black\" d=\"M676.5,-36C676.5,-36 646.5,-36 646.5,-36 640.5,-36 634.5,-30 634.5,-24 634.5,-24 634.5,-12 634.5,-12 634.5,-6 640.5,-0 646.5,-0 646.5,-0 676.5,-0 676.5,-0 682.5,-0 688.5,-6 688.5,-12 688.5,-12 688.5,-24 688.5,-24 688.5,-30 682.5,-36 676.5,-36\"/>\r\n",
       "<text text-anchor=\"middle\" x=\"661.5\" y=\"-14.3\" font-family=\"Helvetica,sans-Serif\" font-size=\"14.00\">(...)</text>\r\n",
       "</g>\r\n",
       "<!-- 19&#45;&gt;21 -->\r\n",
       "<g id=\"edge13\" class=\"edge\"><title>19&#45;&gt;21</title>\r\n",
       "<path fill=\"none\" stroke=\"black\" d=\"M642.657,-71.8664C645.865,-62.8639 649.11,-53.7609 651.981,-45.7051\"/>\r\n",
       "<polygon fill=\"black\" stroke=\"black\" points=\"655.327,-46.7422 655.388,-36.1476 648.734,-44.392 655.327,-46.7422\"/>\r\n",
       "</g>\r\n",
       "<!-- 23 -->\r\n",
       "<g id=\"node16\" class=\"node\"><title>23</title>\r\n",
       "<path fill=\"#efb388\" stroke=\"black\" d=\"M919.5,-304C919.5,-304 727.5,-304 727.5,-304 721.5,-304 715.5,-298 715.5,-292 715.5,-292 715.5,-218 715.5,-218 715.5,-212 721.5,-206 727.5,-206 727.5,-206 919.5,-206 919.5,-206 925.5,-206 931.5,-212 931.5,-218 931.5,-218 931.5,-292 931.5,-292 931.5,-298 925.5,-304 919.5,-304\"/>\r\n",
       "<text text-anchor=\"middle\" x=\"823.5\" y=\"-288.8\" font-family=\"Helvetica,sans-Serif\" font-size=\"14.00\">node #23</text>\r\n",
       "<text text-anchor=\"middle\" x=\"823.5\" y=\"-273.8\" font-family=\"Helvetica,sans-Serif\" font-size=\"14.00\">concave points_mean &lt;= 0.091</text>\r\n",
       "<text text-anchor=\"middle\" x=\"823.5\" y=\"-258.8\" font-family=\"Helvetica,sans-Serif\" font-size=\"14.00\">gini = 0.408</text>\r\n",
       "<text text-anchor=\"middle\" x=\"823.5\" y=\"-243.8\" font-family=\"Helvetica,sans-Serif\" font-size=\"14.00\">samples = 14</text>\r\n",
       "<text text-anchor=\"middle\" x=\"823.5\" y=\"-228.8\" font-family=\"Helvetica,sans-Serif\" font-size=\"14.00\">value = [10, 4]</text>\r\n",
       "<text text-anchor=\"middle\" x=\"823.5\" y=\"-213.8\" font-family=\"Helvetica,sans-Serif\" font-size=\"14.00\">class = M</text>\r\n",
       "</g>\r\n",
       "<!-- 22&#45;&gt;23 -->\r\n",
       "<g id=\"edge15\" class=\"edge\"><title>22&#45;&gt;23</title>\r\n",
       "<path fill=\"none\" stroke=\"black\" d=\"M823.5,-339.972C823.5,-331.691 823.5,-323.003 823.5,-314.483\"/>\r\n",
       "<polygon fill=\"black\" stroke=\"black\" points=\"827,-314.214 823.5,-304.214 820,-314.214 827,-314.214\"/>\r\n",
       "</g>\r\n",
       "<!-- 26 -->\r\n",
       "<g id=\"node19\" class=\"node\"><title>26</title>\r\n",
       "<path fill=\"#43a2e6\" stroke=\"black\" d=\"M1127,-304C1127,-304 996,-304 996,-304 990,-304 984,-298 984,-292 984,-292 984,-218 984,-218 984,-212 990,-206 996,-206 996,-206 1127,-206 1127,-206 1133,-206 1139,-212 1139,-218 1139,-218 1139,-292 1139,-292 1139,-298 1133,-304 1127,-304\"/>\r\n",
       "<text text-anchor=\"middle\" x=\"1061.5\" y=\"-288.8\" font-family=\"Helvetica,sans-Serif\" font-size=\"14.00\">node #26</text>\r\n",
       "<text text-anchor=\"middle\" x=\"1061.5\" y=\"-273.8\" font-family=\"Helvetica,sans-Serif\" font-size=\"14.00\">area_worst &lt;= 718.65</text>\r\n",
       "<text text-anchor=\"middle\" x=\"1061.5\" y=\"-258.8\" font-family=\"Helvetica,sans-Serif\" font-size=\"14.00\">gini = 0.092</text>\r\n",
       "<text text-anchor=\"middle\" x=\"1061.5\" y=\"-243.8\" font-family=\"Helvetica,sans-Serif\" font-size=\"14.00\">samples = 145</text>\r\n",
       "<text text-anchor=\"middle\" x=\"1061.5\" y=\"-228.8\" font-family=\"Helvetica,sans-Serif\" font-size=\"14.00\">value = [7, 138]</text>\r\n",
       "<text text-anchor=\"middle\" x=\"1061.5\" y=\"-213.8\" font-family=\"Helvetica,sans-Serif\" font-size=\"14.00\">class = M</text>\r\n",
       "</g>\r\n",
       "<!-- 22&#45;&gt;26 -->\r\n",
       "<g id=\"edge18\" class=\"edge\"><title>22&#45;&gt;26</title>\r\n",
       "<path fill=\"none\" stroke=\"black\" d=\"M908.751,-340.718C930.322,-328.754 953.505,-315.897 975.13,-303.903\"/>\r\n",
       "<polygon fill=\"black\" stroke=\"black\" points=\"976.924,-306.91 983.971,-298.999 973.529,-300.789 976.924,-306.91\"/>\r\n",
       "</g>\r\n",
       "<!-- 24 -->\r\n",
       "<g id=\"node17\" class=\"node\"><title>24</title>\r\n",
       "<path fill=\"#e58139\" stroke=\"black\" d=\"M831,-162.5C831,-162.5 750,-162.5 750,-162.5 744,-162.5 738,-156.5 738,-150.5 738,-150.5 738,-91.5 738,-91.5 738,-85.5 744,-79.5 750,-79.5 750,-79.5 831,-79.5 831,-79.5 837,-79.5 843,-85.5 843,-91.5 843,-91.5 843,-150.5 843,-150.5 843,-156.5 837,-162.5 831,-162.5\"/>\r\n",
       "<text text-anchor=\"middle\" x=\"790.5\" y=\"-147.3\" font-family=\"Helvetica,sans-Serif\" font-size=\"14.00\">node #24</text>\r\n",
       "<text text-anchor=\"middle\" x=\"790.5\" y=\"-132.3\" font-family=\"Helvetica,sans-Serif\" font-size=\"14.00\">gini = 0.0</text>\r\n",
       "<text text-anchor=\"middle\" x=\"790.5\" y=\"-117.3\" font-family=\"Helvetica,sans-Serif\" font-size=\"14.00\">samples = 10</text>\r\n",
       "<text text-anchor=\"middle\" x=\"790.5\" y=\"-102.3\" font-family=\"Helvetica,sans-Serif\" font-size=\"14.00\">value = [10, 0]</text>\r\n",
       "<text text-anchor=\"middle\" x=\"790.5\" y=\"-87.3\" font-family=\"Helvetica,sans-Serif\" font-size=\"14.00\">class = M</text>\r\n",
       "</g>\r\n",
       "<!-- 23&#45;&gt;24 -->\r\n",
       "<g id=\"edge16\" class=\"edge\"><title>23&#45;&gt;24</title>\r\n",
       "<path fill=\"none\" stroke=\"black\" d=\"M811.493,-205.972C808.784,-195.135 805.9,-183.6 803.165,-172.659\"/>\r\n",
       "<polygon fill=\"black\" stroke=\"black\" points=\"806.525,-171.669 800.704,-162.817 799.734,-173.367 806.525,-171.669\"/>\r\n",
       "</g>\r\n",
       "<!-- 25 -->\r\n",
       "<g id=\"node18\" class=\"node\"><title>25</title>\r\n",
       "<path fill=\"#399de5\" stroke=\"black\" d=\"M946,-162.5C946,-162.5 873,-162.5 873,-162.5 867,-162.5 861,-156.5 861,-150.5 861,-150.5 861,-91.5 861,-91.5 861,-85.5 867,-79.5 873,-79.5 873,-79.5 946,-79.5 946,-79.5 952,-79.5 958,-85.5 958,-91.5 958,-91.5 958,-150.5 958,-150.5 958,-156.5 952,-162.5 946,-162.5\"/>\r\n",
       "<text text-anchor=\"middle\" x=\"909.5\" y=\"-147.3\" font-family=\"Helvetica,sans-Serif\" font-size=\"14.00\">node #25</text>\r\n",
       "<text text-anchor=\"middle\" x=\"909.5\" y=\"-132.3\" font-family=\"Helvetica,sans-Serif\" font-size=\"14.00\">gini = 0.0</text>\r\n",
       "<text text-anchor=\"middle\" x=\"909.5\" y=\"-117.3\" font-family=\"Helvetica,sans-Serif\" font-size=\"14.00\">samples = 4</text>\r\n",
       "<text text-anchor=\"middle\" x=\"909.5\" y=\"-102.3\" font-family=\"Helvetica,sans-Serif\" font-size=\"14.00\">value = [0, 4]</text>\r\n",
       "<text text-anchor=\"middle\" x=\"909.5\" y=\"-87.3\" font-family=\"Helvetica,sans-Serif\" font-size=\"14.00\">class = M</text>\r\n",
       "</g>\r\n",
       "<!-- 23&#45;&gt;25 -->\r\n",
       "<g id=\"edge17\" class=\"edge\"><title>23&#45;&gt;25</title>\r\n",
       "<path fill=\"none\" stroke=\"black\" d=\"M854.791,-205.972C862.139,-194.693 869.981,-182.657 877.365,-171.323\"/>\r\n",
       "<polygon fill=\"black\" stroke=\"black\" points=\"880.381,-173.106 882.907,-162.817 874.516,-169.285 880.381,-173.106\"/>\r\n",
       "</g>\r\n",
       "<!-- 27 -->\r\n",
       "<g id=\"node20\" class=\"node\"><title>27</title>\r\n",
       "<path fill=\"#fbede3\" stroke=\"black\" d=\"M1134.5,-170C1134.5,-170 988.5,-170 988.5,-170 982.5,-170 976.5,-164 976.5,-158 976.5,-158 976.5,-84 976.5,-84 976.5,-78 982.5,-72 988.5,-72 988.5,-72 1134.5,-72 1134.5,-72 1140.5,-72 1146.5,-78 1146.5,-84 1146.5,-84 1146.5,-158 1146.5,-158 1146.5,-164 1140.5,-170 1134.5,-170\"/>\r\n",
       "<text text-anchor=\"middle\" x=\"1061.5\" y=\"-154.8\" font-family=\"Helvetica,sans-Serif\" font-size=\"14.00\">node #27</text>\r\n",
       "<text text-anchor=\"middle\" x=\"1061.5\" y=\"-139.8\" font-family=\"Helvetica,sans-Serif\" font-size=\"14.00\">texture_worst &lt;= 25.925</text>\r\n",
       "<text text-anchor=\"middle\" x=\"1061.5\" y=\"-124.8\" font-family=\"Helvetica,sans-Serif\" font-size=\"14.00\">gini = 0.497</text>\r\n",
       "<text text-anchor=\"middle\" x=\"1061.5\" y=\"-109.8\" font-family=\"Helvetica,sans-Serif\" font-size=\"14.00\">samples = 13</text>\r\n",
       "<text text-anchor=\"middle\" x=\"1061.5\" y=\"-94.8\" font-family=\"Helvetica,sans-Serif\" font-size=\"14.00\">value = [7, 6]</text>\r\n",
       "<text text-anchor=\"middle\" x=\"1061.5\" y=\"-79.8\" font-family=\"Helvetica,sans-Serif\" font-size=\"14.00\">class = M</text>\r\n",
       "</g>\r\n",
       "<!-- 26&#45;&gt;27 -->\r\n",
       "<g id=\"edge19\" class=\"edge\"><title>26&#45;&gt;27</title>\r\n",
       "<path fill=\"none\" stroke=\"black\" d=\"M1061.5,-205.972C1061.5,-197.691 1061.5,-189.003 1061.5,-180.483\"/>\r\n",
       "<polygon fill=\"black\" stroke=\"black\" points=\"1065,-180.214 1061.5,-170.214 1058,-180.214 1065,-180.214\"/>\r\n",
       "</g>\r\n",
       "<!-- 30 -->\r\n",
       "<g id=\"node23\" class=\"node\"><title>30</title>\r\n",
       "<path fill=\"#399de5\" stroke=\"black\" d=\"M1266,-162.5C1266,-162.5 1177,-162.5 1177,-162.5 1171,-162.5 1165,-156.5 1165,-150.5 1165,-150.5 1165,-91.5 1165,-91.5 1165,-85.5 1171,-79.5 1177,-79.5 1177,-79.5 1266,-79.5 1266,-79.5 1272,-79.5 1278,-85.5 1278,-91.5 1278,-91.5 1278,-150.5 1278,-150.5 1278,-156.5 1272,-162.5 1266,-162.5\"/>\r\n",
       "<text text-anchor=\"middle\" x=\"1221.5\" y=\"-147.3\" font-family=\"Helvetica,sans-Serif\" font-size=\"14.00\">node #30</text>\r\n",
       "<text text-anchor=\"middle\" x=\"1221.5\" y=\"-132.3\" font-family=\"Helvetica,sans-Serif\" font-size=\"14.00\">gini = 0.0</text>\r\n",
       "<text text-anchor=\"middle\" x=\"1221.5\" y=\"-117.3\" font-family=\"Helvetica,sans-Serif\" font-size=\"14.00\">samples = 132</text>\r\n",
       "<text text-anchor=\"middle\" x=\"1221.5\" y=\"-102.3\" font-family=\"Helvetica,sans-Serif\" font-size=\"14.00\">value = [0, 132]</text>\r\n",
       "<text text-anchor=\"middle\" x=\"1221.5\" y=\"-87.3\" font-family=\"Helvetica,sans-Serif\" font-size=\"14.00\">class = M</text>\r\n",
       "</g>\r\n",
       "<!-- 26&#45;&gt;30 -->\r\n",
       "<g id=\"edge22\" class=\"edge\"><title>26&#45;&gt;30</title>\r\n",
       "<path fill=\"none\" stroke=\"black\" d=\"M1119.72,-205.972C1134.27,-193.968 1149.86,-181.105 1164.36,-169.144\"/>\r\n",
       "<polygon fill=\"black\" stroke=\"black\" points=\"1166.8,-171.667 1172.28,-162.603 1162.34,-166.267 1166.8,-171.667\"/>\r\n",
       "</g>\r\n",
       "<!-- 28 -->\r\n",
       "<g id=\"node21\" class=\"node\"><title>28</title>\r\n",
       "<path fill=\"#c0c0c0\" stroke=\"black\" d=\"M1040.5,-36C1040.5,-36 1010.5,-36 1010.5,-36 1004.5,-36 998.5,-30 998.5,-24 998.5,-24 998.5,-12 998.5,-12 998.5,-6 1004.5,-0 1010.5,-0 1010.5,-0 1040.5,-0 1040.5,-0 1046.5,-0 1052.5,-6 1052.5,-12 1052.5,-12 1052.5,-24 1052.5,-24 1052.5,-30 1046.5,-36 1040.5,-36\"/>\r\n",
       "<text text-anchor=\"middle\" x=\"1025.5\" y=\"-14.3\" font-family=\"Helvetica,sans-Serif\" font-size=\"14.00\">(...)</text>\r\n",
       "</g>\r\n",
       "<!-- 27&#45;&gt;28 -->\r\n",
       "<g id=\"edge20\" class=\"edge\"><title>27&#45;&gt;28</title>\r\n",
       "<path fill=\"none\" stroke=\"black\" d=\"M1044.34,-71.8664C1041.13,-62.8639 1037.89,-53.7609 1035.02,-45.7051\"/>\r\n",
       "<polygon fill=\"black\" stroke=\"black\" points=\"1038.27,-44.392 1031.61,-36.1476 1031.67,-46.7422 1038.27,-44.392\"/>\r\n",
       "</g>\r\n",
       "<!-- 29 -->\r\n",
       "<g id=\"node22\" class=\"node\"><title>29</title>\r\n",
       "<path fill=\"#c0c0c0\" stroke=\"black\" d=\"M1112.5,-36C1112.5,-36 1082.5,-36 1082.5,-36 1076.5,-36 1070.5,-30 1070.5,-24 1070.5,-24 1070.5,-12 1070.5,-12 1070.5,-6 1076.5,-0 1082.5,-0 1082.5,-0 1112.5,-0 1112.5,-0 1118.5,-0 1124.5,-6 1124.5,-12 1124.5,-12 1124.5,-24 1124.5,-24 1124.5,-30 1118.5,-36 1112.5,-36\"/>\r\n",
       "<text text-anchor=\"middle\" x=\"1097.5\" y=\"-14.3\" font-family=\"Helvetica,sans-Serif\" font-size=\"14.00\">(...)</text>\r\n",
       "</g>\r\n",
       "<!-- 27&#45;&gt;29 -->\r\n",
       "<g id=\"edge21\" class=\"edge\"><title>27&#45;&gt;29</title>\r\n",
       "<path fill=\"none\" stroke=\"black\" d=\"M1078.66,-71.8664C1081.87,-62.8639 1085.11,-53.7609 1087.98,-45.7051\"/>\r\n",
       "<polygon fill=\"black\" stroke=\"black\" points=\"1091.33,-46.7422 1091.39,-36.1476 1084.73,-44.392 1091.33,-46.7422\"/>\r\n",
       "</g>\r\n",
       "</g>\r\n",
       "</svg>\r\n"
      ],
      "text/plain": [
       "<graphviz.files.Source at 0x20211dd2320>"
      ]
     },
     "execution_count": 45,
     "metadata": {},
     "output_type": "execute_result"
    }
   ],
   "source": [
    "#imprimindo árvore de decisão\n",
    "\n",
    "dot_data = tree.export_graphviz(\n",
    "         arvore,\n",
    "         feature_names=X.columns,\n",
    "         class_names=y,\n",
    "         max_depth=3, \n",
    "         filled=True, \n",
    "         rounded=True,\n",
    "         node_ids=True,\n",
    "         label='all',\n",
    "        )  \n",
    "graph = graphviz.Source(dot_data)  \n",
    "graph"
   ]
  },
  {
   "cell_type": "markdown",
   "metadata": {},
   "source": [
    "**RENDERIZAÇÃO DA ÁRVORE DE DECISÃO**\n",
    "\n",
    "Renderizar uma árvore de decisão é gerar uma forma interativa de manipular a árvore alterando os seus parâmetros. Logo a seguir iremos criar um caixa de interação e poderemos ter mais liberdade para manipular nossa árvore de decisão."
   ]
  },
  {
   "cell_type": "code",
   "execution_count": 46,
   "metadata": {},
   "outputs": [],
   "source": [
    "#importando bibliotecas\n",
    "\n",
    "from ipywidgets import interactive\n",
    "from IPython.display import SVG,display\n",
    "from graphviz import Source"
   ]
  },
  {
   "cell_type": "code",
   "execution_count": 47,
   "metadata": {},
   "outputs": [],
   "source": [
    "diagnostico=pd.read_csv(diag,sep=',',header=0)\n",
    "diagnostico.drop(['Unnamed: 32'], axis=1,inplace=True)\n",
    "diagnostico.drop(['id'], axis=1,inplace=True)\n",
    "\n",
    "\n",
    "features_label = diagnostico.columns[1:]\n",
    "class_label = diagnostico.columns[0]"
   ]
  },
  {
   "cell_type": "code",
   "execution_count": 48,
   "metadata": {},
   "outputs": [],
   "source": [
    "#Aqui criaremos uma função que será alimentada pelos parâmetros e será usada para gerar o display.\n",
    "\n",
    "def plot_tree(crit,split,depth,min_split,min_leaf=0.2):\n",
    "    estimator=tree.DecisionTreeClassifier(\n",
    "        random_state=42,\n",
    "        criterion=crit,\n",
    "        splitter=split,\n",
    "        max_depth=depth,\n",
    "        min_samples_split=min_split,\n",
    "        min_samples_leaf=min_leaf\n",
    "    )\n",
    "    estimator.fit(X,y)\n",
    "    graph=Source(tree.export_graphviz(estimator,\n",
    "                                      out_file=None,\n",
    "                                      feature_names=features_label,\n",
    "                                      class_names=class_label,\n",
    "                                      filled=True))\n",
    "    display(SVG(graph.pipe(format='svg')))\n",
    "    return estimator"
   ]
  },
  {
   "cell_type": "code",
   "execution_count": 49,
   "metadata": {},
   "outputs": [
    {
     "data": {
      "application/vnd.jupyter.widget-view+json": {
       "model_id": "a63cd3399f444e9ba928409e3bcca3b3",
       "version_major": 2,
       "version_minor": 0
      },
      "text/plain": [
       "interactive(children=(Dropdown(description='crit', options=('gini', 'entropy'), value='gini'), Dropdown(descri…"
      ]
     },
     "metadata": {},
     "output_type": "display_data"
    }
   ],
   "source": [
    "#Gerando o display interativo.\n",
    "\n",
    "inter=interactive(plot_tree,\n",
    "                  crit=[\"gini\",\"entropy\"],\n",
    "                  split=[\"best\",\"random\"],\n",
    "                  depth=[1,2,3,4,5],\n",
    "                  min_split=(0.1,1),\n",
    "                  min_leaf=(0.1,0.5))\n",
    "\n",
    "display(inter)"
   ]
  },
  {
   "cell_type": "markdown",
   "metadata": {},
   "source": [
    "**NAVEGANDO PELA ÁRVORE DE DECISÃO**"
   ]
  },
  {
   "cell_type": "code",
   "execution_count": 50,
   "metadata": {},
   "outputs": [],
   "source": [
    "#Separando os dados para treino e teste novamente\n",
    "\n",
    "X_treino,X_teste,y_treino,y_teste = train_test_split(X,y,random_state=42)"
   ]
  },
  {
   "cell_type": "code",
   "execution_count": 51,
   "metadata": {},
   "outputs": [
    {
     "data": {
      "text/plain": [
       "DecisionTreeClassifier(ccp_alpha=0.0, class_weight=None, criterion='gini',\n",
       "                       max_depth=None, max_features=None, max_leaf_nodes=3,\n",
       "                       min_impurity_decrease=0.0, min_impurity_split=None,\n",
       "                       min_samples_leaf=1, min_samples_split=2,\n",
       "                       min_weight_fraction_leaf=0.0, presort='deprecated',\n",
       "                       random_state=42, splitter='best')"
      ]
     },
     "execution_count": 51,
     "metadata": {},
     "output_type": "execute_result"
    }
   ],
   "source": [
    "#treinando novamente o modelo de árvore de regressão\n",
    "\n",
    "estimator=tree.DecisionTreeClassifier(max_leaf_nodes=3,random_state=42)\n",
    "estimator.fit(X_treino,y_treino)"
   ]
  },
  {
   "cell_type": "code",
   "execution_count": 52,
   "metadata": {},
   "outputs": [],
   "source": [
    "n_nodes=estimator.tree_.node_count #contagem de nós\n",
    "children_left=estimator.tree_.children_left #índices a esquerda\n",
    "children_right=estimator.tree_.children_right #índices a direita\n",
    "feature=estimator.tree_.feature\n",
    "threshold=estimator.tree_.threshold"
   ]
  },
  {
   "cell_type": "code",
   "execution_count": 53,
   "metadata": {},
   "outputs": [
    {
     "name": "stdout",
     "output_type": "stream",
     "text": [
      "Números de nós: 5\n",
      "Índices a esquerda : [ 1  3 -1 -1 -1]\n",
      "Índices a direita : [ 2  4 -1 -1 -1]\n",
      "Feature : [ 7 20 -2 -2 -2]\n",
      "Limite/Threshold : [ 0.05128    16.82999992 -2.         -2.         -2.        ]\n"
     ]
    }
   ],
   "source": [
    "print(\"Números de nós: {}\".format(n_nodes))\n",
    "print(\"Índices a esquerda : {}\".format(children_left))\n",
    "print(\"Índices a direita : {}\".format(children_right))\n",
    "print(\"Feature : {}\".format(feature))\n",
    "print(\"Limite/Threshold : {}\".format(threshold))"
   ]
  },
  {
   "cell_type": "markdown",
   "metadata": {},
   "source": [
    " "
   ]
  },
  {
   "cell_type": "code",
   "execution_count": 54,
   "metadata": {},
   "outputs": [
    {
     "name": "stdout",
     "output_type": "stream",
     "text": [
      "\n",
      " A árvore binária tem 5 nós e a seguinte estrutura : \n",
      "\n",
      " nós = 0 (nó teste): vai para o nó 1 se o valor atributo concave points_mean <= 0.05127999931573868 \n",
      " se não, vai para o nó 2\n",
      "\t nós = 1 (nó teste): vai para o nó 3 se o valor atributo radius_worst <= 16.829999923706055 \n",
      " se não, vai para o nó 4\n",
      "\t nós = 2 (nó teste): vai para o nó -1 se o valor atributo symmetry_worst <= -2.0 \n",
      " se não, vai para o nó -1\n",
      "\t\t nós = 3 (nó teste): vai para o nó -1 se o valor atributo symmetry_worst <= -2.0 \n",
      " se não, vai para o nó -1\n",
      "\t\t nós = 4 (nó teste): vai para o nó -1 se o valor atributo symmetry_worst <= -2.0 \n",
      " se não, vai para o nó -1\n"
     ]
    }
   ],
   "source": [
    "node_depth=np.zeros(shape=n_nodes,dtype=np.int64)\n",
    "is_leaves=np.zeros(shape=n_nodes, dtype=bool)\n",
    "stack=[(0,-1)]\n",
    "\n",
    "while len(stack)>0:\n",
    "    node_id, parent_depth=stack.pop()\n",
    "    node_depth[node_id]=parent_depth+1\n",
    "    if(children_left[node_id]!=children_right[node_id]):\n",
    "        stack.append((children_left[node_id],parent_depth+1))\n",
    "        stack.append((children_right[node_id],parent_depth+1))\n",
    "        \n",
    "print(\"\\n A árvore binária tem %s nós e a seguinte estrutura : \\n\"\n",
    "      % n_nodes)\n",
    "\n",
    "for i in range(n_nodes):\n",
    "    if is_leaves[i]:\n",
    "        print(\"%s nó = %s (nó folha).\" %(node_depth[i]* \"\\t\",i))\n",
    "    else:\n",
    "        print(\"%s nós = %s (nó teste): vai para o nó %s se o valor atributo %s <= %s \\n se não, vai para o nó %s\"\\\n",
    "              %(node_depth[i]*\"\\t\",\n",
    "                i,\n",
    "                children_left[i],\n",
    "                features_label[feature[i]],\n",
    "                threshold[i],\n",
    "                children_right[i])) "
   ]
  },
  {
   "cell_type": "markdown",
   "metadata": {},
   "source": [
    "  "
   ]
  },
  {
   "cell_type": "markdown",
   "metadata": {},
   "source": [
    "Podemos também refazer o modelo de árvore de decisão e usarmos apenas as features mais importantes dessa vez."
   ]
  },
  {
   "cell_type": "markdown",
   "metadata": {},
   "source": [
    "**IMPORTANDO NOVAMENTE O DATASET**"
   ]
  },
  {
   "cell_type": "code",
   "execution_count": 57,
   "metadata": {},
   "outputs": [],
   "source": [
    "diagnostico=pd.read_csv(diag,sep=',',header=0)"
   ]
  },
  {
   "cell_type": "code",
   "execution_count": 58,
   "metadata": {},
   "outputs": [],
   "source": [
    "#Atribuindo a uma variável o dataset com apenas as features consideradas importantes para o modelo de árvore de decisão\n",
    "\n",
    "diagnostico1 = diagnostico[['diagnosis','texture_mean','concave points_mean','symmetry_mean',\n",
    "                            'radius_se', 'smoothness_se', 'concave points_se', 'fractal_dimension_se',\n",
    "                            'radius_worst', 'texture_worst', 'area_worst', 'smoothness_worst']]\n",
    "\n",
    "\n"
   ]
  },
  {
   "cell_type": "code",
   "execution_count": 59,
   "metadata": {},
   "outputs": [
    {
     "data": {
      "text/html": [
       "<div>\n",
       "<style scoped>\n",
       "    .dataframe tbody tr th:only-of-type {\n",
       "        vertical-align: middle;\n",
       "    }\n",
       "\n",
       "    .dataframe tbody tr th {\n",
       "        vertical-align: top;\n",
       "    }\n",
       "\n",
       "    .dataframe thead th {\n",
       "        text-align: right;\n",
       "    }\n",
       "</style>\n",
       "<table border=\"1\" class=\"dataframe\">\n",
       "  <thead>\n",
       "    <tr style=\"text-align: right;\">\n",
       "      <th></th>\n",
       "      <th>diagnosis</th>\n",
       "      <th>texture_mean</th>\n",
       "      <th>concave points_mean</th>\n",
       "      <th>symmetry_mean</th>\n",
       "      <th>radius_se</th>\n",
       "      <th>smoothness_se</th>\n",
       "      <th>concave points_se</th>\n",
       "      <th>fractal_dimension_se</th>\n",
       "      <th>radius_worst</th>\n",
       "      <th>texture_worst</th>\n",
       "      <th>area_worst</th>\n",
       "      <th>smoothness_worst</th>\n",
       "    </tr>\n",
       "  </thead>\n",
       "  <tbody>\n",
       "    <tr>\n",
       "      <th>0</th>\n",
       "      <td>M</td>\n",
       "      <td>10.38</td>\n",
       "      <td>0.14710</td>\n",
       "      <td>0.2419</td>\n",
       "      <td>1.0950</td>\n",
       "      <td>0.006399</td>\n",
       "      <td>0.01587</td>\n",
       "      <td>0.006193</td>\n",
       "      <td>25.38</td>\n",
       "      <td>17.33</td>\n",
       "      <td>2019.0</td>\n",
       "      <td>0.1622</td>\n",
       "    </tr>\n",
       "    <tr>\n",
       "      <th>1</th>\n",
       "      <td>M</td>\n",
       "      <td>17.77</td>\n",
       "      <td>0.07017</td>\n",
       "      <td>0.1812</td>\n",
       "      <td>0.5435</td>\n",
       "      <td>0.005225</td>\n",
       "      <td>0.01340</td>\n",
       "      <td>0.003532</td>\n",
       "      <td>24.99</td>\n",
       "      <td>23.41</td>\n",
       "      <td>1956.0</td>\n",
       "      <td>0.1238</td>\n",
       "    </tr>\n",
       "    <tr>\n",
       "      <th>2</th>\n",
       "      <td>M</td>\n",
       "      <td>21.25</td>\n",
       "      <td>0.12790</td>\n",
       "      <td>0.2069</td>\n",
       "      <td>0.7456</td>\n",
       "      <td>0.006150</td>\n",
       "      <td>0.02058</td>\n",
       "      <td>0.004571</td>\n",
       "      <td>23.57</td>\n",
       "      <td>25.53</td>\n",
       "      <td>1709.0</td>\n",
       "      <td>0.1444</td>\n",
       "    </tr>\n",
       "    <tr>\n",
       "      <th>3</th>\n",
       "      <td>M</td>\n",
       "      <td>20.38</td>\n",
       "      <td>0.10520</td>\n",
       "      <td>0.2597</td>\n",
       "      <td>0.4956</td>\n",
       "      <td>0.009110</td>\n",
       "      <td>0.01867</td>\n",
       "      <td>0.009208</td>\n",
       "      <td>14.91</td>\n",
       "      <td>26.50</td>\n",
       "      <td>567.7</td>\n",
       "      <td>0.2098</td>\n",
       "    </tr>\n",
       "    <tr>\n",
       "      <th>4</th>\n",
       "      <td>M</td>\n",
       "      <td>14.34</td>\n",
       "      <td>0.10430</td>\n",
       "      <td>0.1809</td>\n",
       "      <td>0.7572</td>\n",
       "      <td>0.011490</td>\n",
       "      <td>0.01885</td>\n",
       "      <td>0.005115</td>\n",
       "      <td>22.54</td>\n",
       "      <td>16.67</td>\n",
       "      <td>1575.0</td>\n",
       "      <td>0.1374</td>\n",
       "    </tr>\n",
       "  </tbody>\n",
       "</table>\n",
       "</div>"
      ],
      "text/plain": [
       "  diagnosis  texture_mean  concave points_mean  symmetry_mean  radius_se  \\\n",
       "0         M         10.38              0.14710         0.2419     1.0950   \n",
       "1         M         17.77              0.07017         0.1812     0.5435   \n",
       "2         M         21.25              0.12790         0.2069     0.7456   \n",
       "3         M         20.38              0.10520         0.2597     0.4956   \n",
       "4         M         14.34              0.10430         0.1809     0.7572   \n",
       "\n",
       "   smoothness_se  concave points_se  fractal_dimension_se  radius_worst  \\\n",
       "0       0.006399            0.01587              0.006193         25.38   \n",
       "1       0.005225            0.01340              0.003532         24.99   \n",
       "2       0.006150            0.02058              0.004571         23.57   \n",
       "3       0.009110            0.01867              0.009208         14.91   \n",
       "4       0.011490            0.01885              0.005115         22.54   \n",
       "\n",
       "   texture_worst  area_worst  smoothness_worst  \n",
       "0          17.33      2019.0            0.1622  \n",
       "1          23.41      1956.0            0.1238  \n",
       "2          25.53      1709.0            0.1444  \n",
       "3          26.50       567.7            0.2098  \n",
       "4          16.67      1575.0            0.1374  "
      ]
     },
     "execution_count": 59,
     "metadata": {},
     "output_type": "execute_result"
    }
   ],
   "source": [
    "diagnostico1.head()"
   ]
  },
  {
   "cell_type": "markdown",
   "metadata": {},
   "source": [
    "**PLOTANDO O GRÁFICO DE CORRELAÇÃO DO NOVO DATASET**"
   ]
  },
  {
   "cell_type": "code",
   "execution_count": 60,
   "metadata": {},
   "outputs": [],
   "source": [
    "correlacoes4=diagnostico1.corr()"
   ]
  },
  {
   "cell_type": "code",
   "execution_count": 61,
   "metadata": {},
   "outputs": [
    {
     "data": {
      "text/plain": [
       "<matplotlib.axes._subplots.AxesSubplot at 0x20211e09a20>"
      ]
     },
     "execution_count": 61,
     "metadata": {},
     "output_type": "execute_result"
    },
    {
     "data": {
      "image/png": "[encoded data removed]",
      "text/plain": [
       "<Figure size 432x288 with 2 Axes>"
      ]
     },
     "metadata": {
      "needs_background": "light"
     },
     "output_type": "display_data"
    }
   ],
   "source": [
    "%matplotlib inline\n",
    "sns.heatmap(correlacoes4, annot = True, cmap= \"RdYlGn\")"
   ]
  },
  {
   "cell_type": "markdown",
   "metadata": {},
   "source": [
    "**ATRIBUINDO VARIÁVEIS DE TREINO E TESTE NOVAMENTE**"
   ]
  },
  {
   "cell_type": "code",
   "execution_count": 62,
   "metadata": {},
   "outputs": [],
   "source": [
    "y2=diagnostico1['diagnosis']"
   ]
  },
  {
   "cell_type": "code",
   "execution_count": 63,
   "metadata": {},
   "outputs": [],
   "source": [
    "X2=diagnostico1.drop(['diagnosis'],axis=1)"
   ]
  },
  {
   "cell_type": "markdown",
   "metadata": {},
   "source": [
    "**SEPARANDO OS DADOS DE TREINO E TESTE**"
   ]
  },
  {
   "cell_type": "code",
   "execution_count": 64,
   "metadata": {},
   "outputs": [],
   "source": [
    "from sklearn.model_selection import train_test_split"
   ]
  },
  {
   "cell_type": "code",
   "execution_count": 65,
   "metadata": {},
   "outputs": [],
   "source": [
    "X2_treino,X2_teste,y2_treino,y2_teste = train_test_split(X2,y2,random_state=42)"
   ]
  },
  {
   "cell_type": "code",
   "execution_count": 66,
   "metadata": {},
   "outputs": [
    {
     "data": {
      "text/plain": [
       "(426, 11)"
      ]
     },
     "execution_count": 66,
     "metadata": {},
     "output_type": "execute_result"
    }
   ],
   "source": [
    "X2_treino.shape"
   ]
  },
  {
   "cell_type": "code",
   "execution_count": 67,
   "metadata": {},
   "outputs": [
    {
     "data": {
      "text/plain": [
       "(426,)"
      ]
     },
     "execution_count": 67,
     "metadata": {},
     "output_type": "execute_result"
    }
   ],
   "source": [
    "y2_treino.shape"
   ]
  },
  {
   "cell_type": "code",
   "execution_count": 68,
   "metadata": {},
   "outputs": [
    {
     "data": {
      "text/plain": [
       "(143, 11)"
      ]
     },
     "execution_count": 68,
     "metadata": {},
     "output_type": "execute_result"
    }
   ],
   "source": [
    "X2_teste.shape"
   ]
  },
  {
   "cell_type": "code",
   "execution_count": 69,
   "metadata": {},
   "outputs": [
    {
     "data": {
      "text/plain": [
       "(143,)"
      ]
     },
     "execution_count": 69,
     "metadata": {},
     "output_type": "execute_result"
    }
   ],
   "source": [
    "y2_teste.shape"
   ]
  },
  {
   "cell_type": "markdown",
   "metadata": {},
   "source": [
    "**TREINANDO NOVAMENTE O MODELO DE ÁRVORE DE DECISÃO**"
   ]
  },
  {
   "cell_type": "code",
   "execution_count": 70,
   "metadata": {},
   "outputs": [
    {
     "data": {
      "text/plain": [
       "DecisionTreeClassifier(ccp_alpha=0.0, class_weight=None, criterion='gini',\n",
       "                       max_depth=None, max_features=None, max_leaf_nodes=None,\n",
       "                       min_impurity_decrease=0.0, min_impurity_split=None,\n",
       "                       min_samples_leaf=1, min_samples_split=2,\n",
       "                       min_weight_fraction_leaf=0.0, presort='deprecated',\n",
       "                       random_state=None, splitter='best')"
      ]
     },
     "execution_count": 70,
     "metadata": {},
     "output_type": "execute_result"
    }
   ],
   "source": [
    "from sklearn import tree\n",
    "arvore2=tree.DecisionTreeClassifier()\n",
    "arvore2.fit(X2_treino,y2_treino)"
   ]
  },
  {
   "cell_type": "code",
   "execution_count": 71,
   "metadata": {},
   "outputs": [
    {
     "data": {
      "text/plain": [
       "array(['B', 'M', 'M', 'B', 'B', 'M', 'M', 'B', 'B', 'B', 'B', 'M', 'B',\n",
       "       'M', 'B', 'M', 'B', 'B', 'B', 'M', 'B', 'B', 'M', 'B', 'B', 'B',\n",
       "       'B', 'B', 'B', 'M', 'B', 'B', 'M', 'B', 'B', 'B', 'M', 'B', 'M',\n",
       "       'B', 'B', 'M', 'B', 'B', 'B', 'B', 'M', 'B', 'B', 'B', 'M', 'M',\n",
       "       'B', 'B', 'B', 'B', 'B', 'M', 'M', 'B', 'B', 'M', 'M', 'B', 'B',\n",
       "       'B', 'M', 'M', 'B', 'B', 'M', 'M', 'B', 'M', 'B', 'B', 'B', 'M',\n",
       "       'B', 'B', 'M', 'B', 'B', 'M', 'M', 'M', 'M', 'M', 'B', 'B', 'B',\n",
       "       'B', 'M', 'B', 'B', 'B', 'M', 'M', 'B', 'M', 'M', 'B', 'M', 'M',\n",
       "       'B', 'B', 'B', 'M', 'B', 'B', 'M', 'B', 'B', 'M', 'B', 'M', 'B',\n",
       "       'B', 'B', 'M', 'M', 'B', 'B', 'M', 'B', 'M', 'M', 'B', 'B', 'M',\n",
       "       'M', 'M', 'M', 'B', 'B', 'M', 'M', 'B', 'B', 'M', 'B', 'M', 'B'],\n",
       "      dtype=object)"
      ]
     },
     "execution_count": 71,
     "metadata": {},
     "output_type": "execute_result"
    }
   ],
   "source": [
    "resultado2=arvore2.predict(X2_teste)\n",
    "resultado2"
   ]
  },
  {
   "cell_type": "markdown",
   "metadata": {},
   "source": [
    "**MATRIZ DE CONFUSÃO**"
   ]
  },
  {
   "cell_type": "code",
   "execution_count": 72,
   "metadata": {},
   "outputs": [
    {
     "name": "stdout",
     "output_type": "stream",
     "text": [
      "Predito   B   M  All\n",
      "Real                \n",
      "B        83   6   89\n",
      "M         3  51   54\n",
      "All      86  57  143\n"
     ]
    }
   ],
   "source": [
    "print(pd.crosstab(y2_teste,resultado2,rownames=['Real'],colnames=['Predito'],margins=True))\n",
    "\n",
    "#Para a classe 'B' o modelo acertou 85 observações de 89 e confundiu 4 observações com a classe 'M'.\n",
    "#Para a classe 'M' o modelo acertou 52 observações de 56 e confundiu 2 observações com a classe 'B'.\n",
    "\n",
    "#Aparentemente não houveram mudanças"
   ]
  },
  {
   "cell_type": "markdown",
   "metadata": {},
   "source": [
    "**APLICANDO CROSS-VALIDATION**"
   ]
  },
  {
   "cell_type": "code",
   "execution_count": 73,
   "metadata": {},
   "outputs": [],
   "source": [
    "resultados2 = cross_val_predict(arvore2,X2,y2,cv=10)"
   ]
  },
  {
   "cell_type": "code",
   "execution_count": 74,
   "metadata": {},
   "outputs": [
    {
     "name": "stdout",
     "output_type": "stream",
     "text": [
      "93.67311072056239\n"
     ]
    }
   ],
   "source": [
    "print(metrics.accuracy_score(y2,resultados2)*100)\n",
    "\n",
    "#Como podemos observar, houve uma melhora na acurácia do modelo em relação ao anterior.\n",
    "#A acurácia subiu de 91.03% para 93.67%"
   ]
  },
  {
   "cell_type": "markdown",
   "metadata": {},
   "source": [
    "**MÉTRICAS DE AVALIAÇÃO**"
   ]
  },
  {
   "cell_type": "code",
   "execution_count": 75,
   "metadata": {},
   "outputs": [],
   "source": [
    "from sklearn import metrics"
   ]
  },
  {
   "cell_type": "code",
   "execution_count": 76,
   "metadata": {},
   "outputs": [
    {
     "name": "stdout",
     "output_type": "stream",
     "text": [
      "              precision    recall  f1-score   support\n",
      "\n",
      "           B       0.97      0.93      0.95        89\n",
      "           M       0.89      0.94      0.92        54\n",
      "\n",
      "    accuracy                           0.94       143\n",
      "   macro avg       0.93      0.94      0.93       143\n",
      "weighted avg       0.94      0.94      0.94       143\n",
      "\n"
     ]
    }
   ],
   "source": [
    "print(metrics.classification_report(y2_teste,resultado2))"
   ]
  },
  {
   "cell_type": "markdown",
   "metadata": {},
   "source": [
    "**FEATURES MAIS IMPORTANTES**"
   ]
  },
  {
   "cell_type": "code",
   "execution_count": 77,
   "metadata": {},
   "outputs": [
    {
     "data": {
      "text/plain": [
       "array([0.        , 0.72468105, 0.        , 0.01277192, 0.00155458,\n",
       "       0.01702539, 0.00670697, 0.06737645, 0.12550655, 0.03452044,\n",
       "       0.00985664])"
      ]
     },
     "execution_count": 77,
     "metadata": {},
     "output_type": "execute_result"
    }
   ],
   "source": [
    "#Vamos agora observar novamente as features mais importantes desse novo modelo\n",
    "\n",
    "arvore2.feature_importances_"
   ]
  },
  {
   "cell_type": "code",
   "execution_count": 78,
   "metadata": {},
   "outputs": [],
   "source": [
    "feature_imp=pd.Series(arvore2.feature_importances_,index=X2_treino.columns)"
   ]
  },
  {
   "cell_type": "code",
   "execution_count": 79,
   "metadata": {},
   "outputs": [
    {
     "data": {
      "text/plain": [
       "texture_mean            0.000000\n",
       "concave points_mean     0.724681\n",
       "symmetry_mean           0.000000\n",
       "radius_se               0.012772\n",
       "smoothness_se           0.001555\n",
       "concave points_se       0.017025\n",
       "fractal_dimension_se    0.006707\n",
       "radius_worst            0.067376\n",
       "texture_worst           0.125507\n",
       "area_worst              0.034520\n",
       "smoothness_worst        0.009857\n",
       "dtype: float64"
      ]
     },
     "execution_count": 79,
     "metadata": {},
     "output_type": "execute_result"
    }
   ],
   "source": [
    "feature_imp"
   ]
  },
  {
   "cell_type": "code",
   "execution_count": 80,
   "metadata": {},
   "outputs": [
    {
     "data": {
      "image/png": "[encoded data removed]",
      "text/plain": [
       "<Figure size 432x288 with 1 Axes>"
      ]
     },
     "metadata": {
      "needs_background": "light"
     },
     "output_type": "display_data"
    }
   ],
   "source": [
    "%matplotlib inline\n",
    "sns.barplot(x=feature_imp,y=feature_imp.index)\n",
    "plt.xlabel('Importância de Features')\n",
    "plt.ylabel('Feature')\n",
    "plt.title(\"Importância da Feature\")\n",
    "plt.show()\n",
    "\n",
    "#Diferente do modelo anterior a feature 'smoothness_se' perdeu sua importância nesse novo modelo, enquanto a feature\n",
    "#teve um pequeno aumento de importância. Todas as outras features mantiverem-se com o mesmo nível de importância."
   ]
  },
  {
   "cell_type": "markdown",
   "metadata": {},
   "source": [
    "**PLOTANDO A NOVA ÁRVORE DE DECISÃO**"
   ]
  },
  {
   "cell_type": "code",
   "execution_count": 81,
   "metadata": {},
   "outputs": [
    {
     "data": {
      "image/svg+xml": [
       "<?xml version=\"1.0\" encoding=\"UTF-8\" standalone=\"no\"?>\r\n",
       "<!DOCTYPE svg PUBLIC \"-//W3C//DTD SVG 1.1//EN\"\r\n",
       " \"http://www.w3.org/Graphics/SVG/1.1/DTD/svg11.dtd\">\r\n",
       "<!-- Generated by graphviz version 2.38.0 (20140413.2041)\r\n",
       " -->\r\n",
       "<!-- Title: Tree Pages: 1 -->\r\n",
       "<svg width=\"1316pt\" height=\"580pt\"\r\n",
       " viewBox=\"0.00 0.00 1316.00 580.00\" xmlns=\"http://www.w3.org/2000/svg\" xmlns:xlink=\"http://www.w3.org/1999/xlink\">\r\n",
       "<g id=\"graph0\" class=\"graph\" transform=\"scale(1 1) rotate(0) translate(4 576)\">\r\n",
       "<title>Tree</title>\r\n",
       "<polygon fill=\"white\" stroke=\"none\" points=\"-4,4 -4,-576 1312,-576 1312,4 -4,4\"/>\r\n",
       "<!-- 0 -->\r\n",
       "<g id=\"node1\" class=\"node\"><title>0</title>\r\n",
       "<path fill=\"#f4cbae\" stroke=\"black\" d=\"M798.5,-572C798.5,-572 606.5,-572 606.5,-572 600.5,-572 594.5,-566 594.5,-560 594.5,-560 594.5,-486 594.5,-486 594.5,-480 600.5,-474 606.5,-474 606.5,-474 798.5,-474 798.5,-474 804.5,-474 810.5,-480 810.5,-486 810.5,-486 810.5,-560 810.5,-560 810.5,-566 804.5,-572 798.5,-572\"/>\r\n",
       "<text text-anchor=\"middle\" x=\"702.5\" y=\"-556.8\" font-family=\"Helvetica,sans-Serif\" font-size=\"14.00\">node #0</text>\r\n",
       "<text text-anchor=\"middle\" x=\"702.5\" y=\"-541.8\" font-family=\"Helvetica,sans-Serif\" font-size=\"14.00\">concave points_mean &lt;= 0.051</text>\r\n",
       "<text text-anchor=\"middle\" x=\"702.5\" y=\"-526.8\" font-family=\"Helvetica,sans-Serif\" font-size=\"14.00\">gini = 0.467</text>\r\n",
       "<text text-anchor=\"middle\" x=\"702.5\" y=\"-511.8\" font-family=\"Helvetica,sans-Serif\" font-size=\"14.00\">samples = 426</text>\r\n",
       "<text text-anchor=\"middle\" x=\"702.5\" y=\"-496.8\" font-family=\"Helvetica,sans-Serif\" font-size=\"14.00\">value = [268, 158]</text>\r\n",
       "<text text-anchor=\"middle\" x=\"702.5\" y=\"-481.8\" font-family=\"Helvetica,sans-Serif\" font-size=\"14.00\">class = M</text>\r\n",
       "</g>\r\n",
       "<!-- 1 -->\r\n",
       "<g id=\"node2\" class=\"node\"><title>1</title>\r\n",
       "<path fill=\"#e78946\" stroke=\"black\" d=\"M631.5,-438C631.5,-438 497.5,-438 497.5,-438 491.5,-438 485.5,-432 485.5,-426 485.5,-426 485.5,-352 485.5,-352 485.5,-346 491.5,-340 497.5,-340 497.5,-340 631.5,-340 631.5,-340 637.5,-340 643.5,-346 643.5,-352 643.5,-352 643.5,-426 643.5,-426 643.5,-432 637.5,-438 631.5,-438\"/>\r\n",
       "<text text-anchor=\"middle\" x=\"564.5\" y=\"-422.8\" font-family=\"Helvetica,sans-Serif\" font-size=\"14.00\">node #1</text>\r\n",
       "<text text-anchor=\"middle\" x=\"564.5\" y=\"-407.8\" font-family=\"Helvetica,sans-Serif\" font-size=\"14.00\">radius_worst &lt;= 16.83</text>\r\n",
       "<text text-anchor=\"middle\" x=\"564.5\" y=\"-392.8\" font-family=\"Helvetica,sans-Serif\" font-size=\"14.00\">gini = 0.113</text>\r\n",
       "<text text-anchor=\"middle\" x=\"564.5\" y=\"-377.8\" font-family=\"Helvetica,sans-Serif\" font-size=\"14.00\">samples = 267</text>\r\n",
       "<text text-anchor=\"middle\" x=\"564.5\" y=\"-362.8\" font-family=\"Helvetica,sans-Serif\" font-size=\"14.00\">value = [251, 16]</text>\r\n",
       "<text text-anchor=\"middle\" x=\"564.5\" y=\"-347.8\" font-family=\"Helvetica,sans-Serif\" font-size=\"14.00\">class = M</text>\r\n",
       "</g>\r\n",
       "<!-- 0&#45;&gt;1 -->\r\n",
       "<g id=\"edge1\" class=\"edge\"><title>0&#45;&gt;1</title>\r\n",
       "<path fill=\"none\" stroke=\"black\" d=\"M652.288,-473.972C642.585,-464.69 632.346,-454.896 622.42,-445.402\"/>\r\n",
       "<polygon fill=\"black\" stroke=\"black\" points=\"624.551,-442.597 614.905,-438.214 619.713,-447.655 624.551,-442.597\"/>\r\n",
       "<text text-anchor=\"middle\" x=\"615.461\" y=\"-459.508\" font-family=\"Helvetica,sans-Serif\" font-size=\"14.00\">True</text>\r\n",
       "</g>\r\n",
       "<!-- 22 -->\r\n",
       "<g id=\"node15\" class=\"node\"><title>22</title>\r\n",
       "<path fill=\"#51a9e8\" stroke=\"black\" d=\"M914.5,-438C914.5,-438 768.5,-438 768.5,-438 762.5,-438 756.5,-432 756.5,-426 756.5,-426 756.5,-352 756.5,-352 756.5,-346 762.5,-340 768.5,-340 768.5,-340 914.5,-340 914.5,-340 920.5,-340 926.5,-346 926.5,-352 926.5,-352 926.5,-426 926.5,-426 926.5,-432 920.5,-438 914.5,-438\"/>\r\n",
       "<text text-anchor=\"middle\" x=\"841.5\" y=\"-422.8\" font-family=\"Helvetica,sans-Serif\" font-size=\"14.00\">node #22</text>\r\n",
       "<text text-anchor=\"middle\" x=\"841.5\" y=\"-407.8\" font-family=\"Helvetica,sans-Serif\" font-size=\"14.00\">texture_worst &lt;= 20.405</text>\r\n",
       "<text text-anchor=\"middle\" x=\"841.5\" y=\"-392.8\" font-family=\"Helvetica,sans-Serif\" font-size=\"14.00\">gini = 0.191</text>\r\n",
       "<text text-anchor=\"middle\" x=\"841.5\" y=\"-377.8\" font-family=\"Helvetica,sans-Serif\" font-size=\"14.00\">samples = 159</text>\r\n",
       "<text text-anchor=\"middle\" x=\"841.5\" y=\"-362.8\" font-family=\"Helvetica,sans-Serif\" font-size=\"14.00\">value = [17, 142]</text>\r\n",
       "<text text-anchor=\"middle\" x=\"841.5\" y=\"-347.8\" font-family=\"Helvetica,sans-Serif\" font-size=\"14.00\">class = M</text>\r\n",
       "</g>\r\n",
       "<!-- 0&#45;&gt;22 -->\r\n",
       "<g id=\"edge14\" class=\"edge\"><title>0&#45;&gt;22</title>\r\n",
       "<path fill=\"none\" stroke=\"black\" d=\"M753.075,-473.972C762.945,-464.599 773.365,-454.704 783.454,-445.123\"/>\r\n",
       "<polygon fill=\"black\" stroke=\"black\" points=\"785.888,-447.638 790.729,-438.214 781.068,-442.562 785.888,-447.638\"/>\r\n",
       "<text text-anchor=\"middle\" x=\"790.084\" y=\"-459.506\" font-family=\"Helvetica,sans-Serif\" font-size=\"14.00\">False</text>\r\n",
       "</g>\r\n",
       "<!-- 2 -->\r\n",
       "<g id=\"node3\" class=\"node\"><title>2</title>\r\n",
       "<path fill=\"#e6843d\" stroke=\"black\" d=\"M379.5,-304C379.5,-304 263.5,-304 263.5,-304 257.5,-304 251.5,-298 251.5,-292 251.5,-292 251.5,-218 251.5,-218 251.5,-212 257.5,-206 263.5,-206 263.5,-206 379.5,-206 379.5,-206 385.5,-206 391.5,-212 391.5,-218 391.5,-218 391.5,-292 391.5,-292 391.5,-298 385.5,-304 379.5,-304\"/>\r\n",
       "<text text-anchor=\"middle\" x=\"321.5\" y=\"-288.8\" font-family=\"Helvetica,sans-Serif\" font-size=\"14.00\">node #2</text>\r\n",
       "<text text-anchor=\"middle\" x=\"321.5\" y=\"-273.8\" font-family=\"Helvetica,sans-Serif\" font-size=\"14.00\">radius_se &lt;= 0.626</text>\r\n",
       "<text text-anchor=\"middle\" x=\"321.5\" y=\"-258.8\" font-family=\"Helvetica,sans-Serif\" font-size=\"14.00\">gini = 0.039</text>\r\n",
       "<text text-anchor=\"middle\" x=\"321.5\" y=\"-243.8\" font-family=\"Helvetica,sans-Serif\" font-size=\"14.00\">samples = 249</text>\r\n",
       "<text text-anchor=\"middle\" x=\"321.5\" y=\"-228.8\" font-family=\"Helvetica,sans-Serif\" font-size=\"14.00\">value = [244, 5]</text>\r\n",
       "<text text-anchor=\"middle\" x=\"321.5\" y=\"-213.8\" font-family=\"Helvetica,sans-Serif\" font-size=\"14.00\">class = M</text>\r\n",
       "</g>\r\n",
       "<!-- 1&#45;&gt;2 -->\r\n",
       "<g id=\"edge2\" class=\"edge\"><title>1&#45;&gt;2</title>\r\n",
       "<path fill=\"none\" stroke=\"black\" d=\"M485.269,-344.961C458.142,-330.225 427.805,-313.746 400.682,-299.012\"/>\r\n",
       "<polygon fill=\"black\" stroke=\"black\" points=\"402.074,-295.786 391.616,-294.088 398.733,-301.937 402.074,-295.786\"/>\r\n",
       "</g>\r\n",
       "<!-- 17 -->\r\n",
       "<g id=\"node10\" class=\"node\"><title>17</title>\r\n",
       "<path fill=\"#b7dbf6\" stroke=\"black\" d=\"M633.5,-304C633.5,-304 495.5,-304 495.5,-304 489.5,-304 483.5,-298 483.5,-292 483.5,-292 483.5,-218 483.5,-218 483.5,-212 489.5,-206 495.5,-206 495.5,-206 633.5,-206 633.5,-206 639.5,-206 645.5,-212 645.5,-218 645.5,-218 645.5,-292 645.5,-292 645.5,-298 639.5,-304 633.5,-304\"/>\r\n",
       "<text text-anchor=\"middle\" x=\"564.5\" y=\"-288.8\" font-family=\"Helvetica,sans-Serif\" font-size=\"14.00\">node #17</text>\r\n",
       "<text text-anchor=\"middle\" x=\"564.5\" y=\"-273.8\" font-family=\"Helvetica,sans-Serif\" font-size=\"14.00\">texture_worst &lt;= 19.91</text>\r\n",
       "<text text-anchor=\"middle\" x=\"564.5\" y=\"-258.8\" font-family=\"Helvetica,sans-Serif\" font-size=\"14.00\">gini = 0.475</text>\r\n",
       "<text text-anchor=\"middle\" x=\"564.5\" y=\"-243.8\" font-family=\"Helvetica,sans-Serif\" font-size=\"14.00\">samples = 18</text>\r\n",
       "<text text-anchor=\"middle\" x=\"564.5\" y=\"-228.8\" font-family=\"Helvetica,sans-Serif\" font-size=\"14.00\">value = [7, 11]</text>\r\n",
       "<text text-anchor=\"middle\" x=\"564.5\" y=\"-213.8\" font-family=\"Helvetica,sans-Serif\" font-size=\"14.00\">class = M</text>\r\n",
       "</g>\r\n",
       "<!-- 1&#45;&gt;17 -->\r\n",
       "<g id=\"edge9\" class=\"edge\"><title>1&#45;&gt;17</title>\r\n",
       "<path fill=\"none\" stroke=\"black\" d=\"M564.5,-339.972C564.5,-331.691 564.5,-323.003 564.5,-314.483\"/>\r\n",
       "<polygon fill=\"black\" stroke=\"black\" points=\"568,-314.214 564.5,-304.214 561,-314.214 568,-314.214\"/>\r\n",
       "</g>\r\n",
       "<!-- 3 -->\r\n",
       "<g id=\"node4\" class=\"node\"><title>3</title>\r\n",
       "<path fill=\"#e5833b\" stroke=\"black\" d=\"M185,-170C185,-170 12,-170 12,-170 6,-170 -1.42109e-014,-164 -1.42109e-014,-158 -1.42109e-014,-158 -1.42109e-014,-84 -1.42109e-014,-84 -1.42109e-014,-78 6,-72 12,-72 12,-72 185,-72 185,-72 191,-72 197,-78 197,-84 197,-84 197,-158 197,-158 197,-164 191,-170 185,-170\"/>\r\n",
       "<text text-anchor=\"middle\" x=\"98.5\" y=\"-154.8\" font-family=\"Helvetica,sans-Serif\" font-size=\"14.00\">node #3</text>\r\n",
       "<text text-anchor=\"middle\" x=\"98.5\" y=\"-139.8\" font-family=\"Helvetica,sans-Serif\" font-size=\"14.00\">smoothness_worst &lt;= 0.178</text>\r\n",
       "<text text-anchor=\"middle\" x=\"98.5\" y=\"-124.8\" font-family=\"Helvetica,sans-Serif\" font-size=\"14.00\">gini = 0.024</text>\r\n",
       "<text text-anchor=\"middle\" x=\"98.5\" y=\"-109.8\" font-family=\"Helvetica,sans-Serif\" font-size=\"14.00\">samples = 246</text>\r\n",
       "<text text-anchor=\"middle\" x=\"98.5\" y=\"-94.8\" font-family=\"Helvetica,sans-Serif\" font-size=\"14.00\">value = [243, 3]</text>\r\n",
       "<text text-anchor=\"middle\" x=\"98.5\" y=\"-79.8\" font-family=\"Helvetica,sans-Serif\" font-size=\"14.00\">class = M</text>\r\n",
       "</g>\r\n",
       "<!-- 2&#45;&gt;3 -->\r\n",
       "<g id=\"edge3\" class=\"edge\"><title>2&#45;&gt;3</title>\r\n",
       "<path fill=\"none\" stroke=\"black\" d=\"M251.247,-212.416C231.363,-200.646 209.442,-187.67 188.563,-175.311\"/>\r\n",
       "<polygon fill=\"black\" stroke=\"black\" points=\"190.075,-172.139 179.687,-170.057 186.51,-178.163 190.075,-172.139\"/>\r\n",
       "</g>\r\n",
       "<!-- 14 -->\r\n",
       "<g id=\"node7\" class=\"node\"><title>14</title>\r\n",
       "<path fill=\"#9ccef2\" stroke=\"black\" d=\"M416,-170C416,-170 227,-170 227,-170 221,-170 215,-164 215,-158 215,-158 215,-84 215,-84 215,-78 221,-72 227,-72 227,-72 416,-72 416,-72 422,-72 428,-78 428,-84 428,-84 428,-158 428,-158 428,-164 422,-170 416,-170\"/>\r\n",
       "<text text-anchor=\"middle\" x=\"321.5\" y=\"-154.8\" font-family=\"Helvetica,sans-Serif\" font-size=\"14.00\">node #14</text>\r\n",
       "<text text-anchor=\"middle\" x=\"321.5\" y=\"-139.8\" font-family=\"Helvetica,sans-Serif\" font-size=\"14.00\">fractal_dimension_se &lt;= 0.004</text>\r\n",
       "<text text-anchor=\"middle\" x=\"321.5\" y=\"-124.8\" font-family=\"Helvetica,sans-Serif\" font-size=\"14.00\">gini = 0.444</text>\r\n",
       "<text text-anchor=\"middle\" x=\"321.5\" y=\"-109.8\" font-family=\"Helvetica,sans-Serif\" font-size=\"14.00\">samples = 3</text>\r\n",
       "<text text-anchor=\"middle\" x=\"321.5\" y=\"-94.8\" font-family=\"Helvetica,sans-Serif\" font-size=\"14.00\">value = [1, 2]</text>\r\n",
       "<text text-anchor=\"middle\" x=\"321.5\" y=\"-79.8\" font-family=\"Helvetica,sans-Serif\" font-size=\"14.00\">class = M</text>\r\n",
       "</g>\r\n",
       "<!-- 2&#45;&gt;14 -->\r\n",
       "<g id=\"edge6\" class=\"edge\"><title>2&#45;&gt;14</title>\r\n",
       "<path fill=\"none\" stroke=\"black\" d=\"M321.5,-205.972C321.5,-197.691 321.5,-189.003 321.5,-180.483\"/>\r\n",
       "<polygon fill=\"black\" stroke=\"black\" points=\"325,-180.214 321.5,-170.214 318,-180.214 325,-180.214\"/>\r\n",
       "</g>\r\n",
       "<!-- 4 -->\r\n",
       "<g id=\"node5\" class=\"node\"><title>4</title>\r\n",
       "<path fill=\"#c0c0c0\" stroke=\"black\" d=\"M77.5,-36C77.5,-36 47.5,-36 47.5,-36 41.5,-36 35.5,-30 35.5,-24 35.5,-24 35.5,-12 35.5,-12 35.5,-6 41.5,-0 47.5,-0 47.5,-0 77.5,-0 77.5,-0 83.5,-0 89.5,-6 89.5,-12 89.5,-12 89.5,-24 89.5,-24 89.5,-30 83.5,-36 77.5,-36\"/>\r\n",
       "<text text-anchor=\"middle\" x=\"62.5\" y=\"-14.3\" font-family=\"Helvetica,sans-Serif\" font-size=\"14.00\">(...)</text>\r\n",
       "</g>\r\n",
       "<!-- 3&#45;&gt;4 -->\r\n",
       "<g id=\"edge4\" class=\"edge\"><title>3&#45;&gt;4</title>\r\n",
       "<path fill=\"none\" stroke=\"black\" d=\"M81.3435,-71.8664C78.1347,-62.8639 74.89,-53.7609 72.0186,-45.7051\"/>\r\n",
       "<polygon fill=\"black\" stroke=\"black\" points=\"75.2664,-44.392 68.612,-36.1476 68.6727,-46.7422 75.2664,-44.392\"/>\r\n",
       "</g>\r\n",
       "<!-- 13 -->\r\n",
       "<g id=\"node6\" class=\"node\"><title>13</title>\r\n",
       "<path fill=\"#c0c0c0\" stroke=\"black\" d=\"M149.5,-36C149.5,-36 119.5,-36 119.5,-36 113.5,-36 107.5,-30 107.5,-24 107.5,-24 107.5,-12 107.5,-12 107.5,-6 113.5,-0 119.5,-0 119.5,-0 149.5,-0 149.5,-0 155.5,-0 161.5,-6 161.5,-12 161.5,-12 161.5,-24 161.5,-24 161.5,-30 155.5,-36 149.5,-36\"/>\r\n",
       "<text text-anchor=\"middle\" x=\"134.5\" y=\"-14.3\" font-family=\"Helvetica,sans-Serif\" font-size=\"14.00\">(...)</text>\r\n",
       "</g>\r\n",
       "<!-- 3&#45;&gt;13 -->\r\n",
       "<g id=\"edge5\" class=\"edge\"><title>3&#45;&gt;13</title>\r\n",
       "<path fill=\"none\" stroke=\"black\" d=\"M115.657,-71.8664C118.865,-62.8639 122.11,-53.7609 124.981,-45.7051\"/>\r\n",
       "<polygon fill=\"black\" stroke=\"black\" points=\"128.327,-46.7422 128.388,-36.1476 121.734,-44.392 128.327,-46.7422\"/>\r\n",
       "</g>\r\n",
       "<!-- 15 -->\r\n",
       "<g id=\"node8\" class=\"node\"><title>15</title>\r\n",
       "<path fill=\"#c0c0c0\" stroke=\"black\" d=\"M300.5,-36C300.5,-36 270.5,-36 270.5,-36 264.5,-36 258.5,-30 258.5,-24 258.5,-24 258.5,-12 258.5,-12 258.5,-6 264.5,-0 270.5,-0 270.5,-0 300.5,-0 300.5,-0 306.5,-0 312.5,-6 312.5,-12 312.5,-12 312.5,-24 312.5,-24 312.5,-30 306.5,-36 300.5,-36\"/>\r\n",
       "<text text-anchor=\"middle\" x=\"285.5\" y=\"-14.3\" font-family=\"Helvetica,sans-Serif\" font-size=\"14.00\">(...)</text>\r\n",
       "</g>\r\n",
       "<!-- 14&#45;&gt;15 -->\r\n",
       "<g id=\"edge7\" class=\"edge\"><title>14&#45;&gt;15</title>\r\n",
       "<path fill=\"none\" stroke=\"black\" d=\"M304.343,-71.8664C301.135,-62.8639 297.89,-53.7609 295.019,-45.7051\"/>\r\n",
       "<polygon fill=\"black\" stroke=\"black\" points=\"298.266,-44.392 291.612,-36.1476 291.673,-46.7422 298.266,-44.392\"/>\r\n",
       "</g>\r\n",
       "<!-- 16 -->\r\n",
       "<g id=\"node9\" class=\"node\"><title>16</title>\r\n",
       "<path fill=\"#c0c0c0\" stroke=\"black\" d=\"M372.5,-36C372.5,-36 342.5,-36 342.5,-36 336.5,-36 330.5,-30 330.5,-24 330.5,-24 330.5,-12 330.5,-12 330.5,-6 336.5,-0 342.5,-0 342.5,-0 372.5,-0 372.5,-0 378.5,-0 384.5,-6 384.5,-12 384.5,-12 384.5,-24 384.5,-24 384.5,-30 378.5,-36 372.5,-36\"/>\r\n",
       "<text text-anchor=\"middle\" x=\"357.5\" y=\"-14.3\" font-family=\"Helvetica,sans-Serif\" font-size=\"14.00\">(...)</text>\r\n",
       "</g>\r\n",
       "<!-- 14&#45;&gt;16 -->\r\n",
       "<g id=\"edge8\" class=\"edge\"><title>14&#45;&gt;16</title>\r\n",
       "<path fill=\"none\" stroke=\"black\" d=\"M338.657,-71.8664C341.865,-62.8639 345.11,-53.7609 347.981,-45.7051\"/>\r\n",
       "<polygon fill=\"black\" stroke=\"black\" points=\"351.327,-46.7422 351.388,-36.1476 344.734,-44.392 351.327,-46.7422\"/>\r\n",
       "</g>\r\n",
       "<!-- 18 -->\r\n",
       "<g id=\"node11\" class=\"node\"><title>18</title>\r\n",
       "<path fill=\"#e58139\" stroke=\"black\" d=\"M531,-162.5C531,-162.5 458,-162.5 458,-162.5 452,-162.5 446,-156.5 446,-150.5 446,-150.5 446,-91.5 446,-91.5 446,-85.5 452,-79.5 458,-79.5 458,-79.5 531,-79.5 531,-79.5 537,-79.5 543,-85.5 543,-91.5 543,-91.5 543,-150.5 543,-150.5 543,-156.5 537,-162.5 531,-162.5\"/>\r\n",
       "<text text-anchor=\"middle\" x=\"494.5\" y=\"-147.3\" font-family=\"Helvetica,sans-Serif\" font-size=\"14.00\">node #18</text>\r\n",
       "<text text-anchor=\"middle\" x=\"494.5\" y=\"-132.3\" font-family=\"Helvetica,sans-Serif\" font-size=\"14.00\">gini = 0.0</text>\r\n",
       "<text text-anchor=\"middle\" x=\"494.5\" y=\"-117.3\" font-family=\"Helvetica,sans-Serif\" font-size=\"14.00\">samples = 5</text>\r\n",
       "<text text-anchor=\"middle\" x=\"494.5\" y=\"-102.3\" font-family=\"Helvetica,sans-Serif\" font-size=\"14.00\">value = [5, 0]</text>\r\n",
       "<text text-anchor=\"middle\" x=\"494.5\" y=\"-87.3\" font-family=\"Helvetica,sans-Serif\" font-size=\"14.00\">class = M</text>\r\n",
       "</g>\r\n",
       "<!-- 17&#45;&gt;18 -->\r\n",
       "<g id=\"edge10\" class=\"edge\"><title>17&#45;&gt;18</title>\r\n",
       "<path fill=\"none\" stroke=\"black\" d=\"M539.03,-205.972C533.108,-194.804 526.792,-182.893 520.833,-171.656\"/>\r\n",
       "<polygon fill=\"black\" stroke=\"black\" points=\"523.922,-170.011 516.145,-162.817 517.738,-173.291 523.922,-170.011\"/>\r\n",
       "</g>\r\n",
       "<!-- 19 -->\r\n",
       "<g id=\"node12\" class=\"node\"><title>19</title>\r\n",
       "<path fill=\"#5dafea\" stroke=\"black\" d=\"M737.5,-170C737.5,-170 573.5,-170 573.5,-170 567.5,-170 561.5,-164 561.5,-158 561.5,-158 561.5,-84 561.5,-84 561.5,-78 567.5,-72 573.5,-72 573.5,-72 737.5,-72 737.5,-72 743.5,-72 749.5,-78 749.5,-84 749.5,-84 749.5,-158 749.5,-158 749.5,-164 743.5,-170 737.5,-170\"/>\r\n",
       "<text text-anchor=\"middle\" x=\"655.5\" y=\"-154.8\" font-family=\"Helvetica,sans-Serif\" font-size=\"14.00\">node #19</text>\r\n",
       "<text text-anchor=\"middle\" x=\"655.5\" y=\"-139.8\" font-family=\"Helvetica,sans-Serif\" font-size=\"14.00\">concave points_se &lt;= 0.01</text>\r\n",
       "<text text-anchor=\"middle\" x=\"655.5\" y=\"-124.8\" font-family=\"Helvetica,sans-Serif\" font-size=\"14.00\">gini = 0.26</text>\r\n",
       "<text text-anchor=\"middle\" x=\"655.5\" y=\"-109.8\" font-family=\"Helvetica,sans-Serif\" font-size=\"14.00\">samples = 13</text>\r\n",
       "<text text-anchor=\"middle\" x=\"655.5\" y=\"-94.8\" font-family=\"Helvetica,sans-Serif\" font-size=\"14.00\">value = [2, 11]</text>\r\n",
       "<text text-anchor=\"middle\" x=\"655.5\" y=\"-79.8\" font-family=\"Helvetica,sans-Serif\" font-size=\"14.00\">class = M</text>\r\n",
       "</g>\r\n",
       "<!-- 17&#45;&gt;19 -->\r\n",
       "<g id=\"edge11\" class=\"edge\"><title>17&#45;&gt;19</title>\r\n",
       "<path fill=\"none\" stroke=\"black\" d=\"M597.611,-205.972C603.758,-197.054 610.232,-187.663 616.535,-178.52\"/>\r\n",
       "<polygon fill=\"black\" stroke=\"black\" points=\"619.467,-180.434 622.262,-170.214 613.704,-176.46 619.467,-180.434\"/>\r\n",
       "</g>\r\n",
       "<!-- 20 -->\r\n",
       "<g id=\"node13\" class=\"node\"><title>20</title>\r\n",
       "<path fill=\"#c0c0c0\" stroke=\"black\" d=\"M634.5,-36C634.5,-36 604.5,-36 604.5,-36 598.5,-36 592.5,-30 592.5,-24 592.5,-24 592.5,-12 592.5,-12 592.5,-6 598.5,-0 604.5,-0 604.5,-0 634.5,-0 634.5,-0 640.5,-0 646.5,-6 646.5,-12 646.5,-12 646.5,-24 646.5,-24 646.5,-30 640.5,-36 634.5,-36\"/>\r\n",
       "<text text-anchor=\"middle\" x=\"619.5\" y=\"-14.3\" font-family=\"Helvetica,sans-Serif\" font-size=\"14.00\">(...)</text>\r\n",
       "</g>\r\n",
       "<!-- 19&#45;&gt;20 -->\r\n",
       "<g id=\"edge12\" class=\"edge\"><title>19&#45;&gt;20</title>\r\n",
       "<path fill=\"none\" stroke=\"black\" d=\"M638.343,-71.8664C635.135,-62.8639 631.89,-53.7609 629.019,-45.7051\"/>\r\n",
       "<polygon fill=\"black\" stroke=\"black\" points=\"632.266,-44.392 625.612,-36.1476 625.673,-46.7422 632.266,-44.392\"/>\r\n",
       "</g>\r\n",
       "<!-- 21 -->\r\n",
       "<g id=\"node14\" class=\"node\"><title>21</title>\r\n",
       "<path fill=\"#c0c0c0\" stroke=\"black\" d=\"M706.5,-36C706.5,-36 676.5,-36 676.5,-36 670.5,-36 664.5,-30 664.5,-24 664.5,-24 664.5,-12 664.5,-12 664.5,-6 670.5,-0 676.5,-0 676.5,-0 706.5,-0 706.5,-0 712.5,-0 718.5,-6 718.5,-12 718.5,-12 718.5,-24 718.5,-24 718.5,-30 712.5,-36 706.5,-36\"/>\r\n",
       "<text text-anchor=\"middle\" x=\"691.5\" y=\"-14.3\" font-family=\"Helvetica,sans-Serif\" font-size=\"14.00\">(...)</text>\r\n",
       "</g>\r\n",
       "<!-- 19&#45;&gt;21 -->\r\n",
       "<g id=\"edge13\" class=\"edge\"><title>19&#45;&gt;21</title>\r\n",
       "<path fill=\"none\" stroke=\"black\" d=\"M672.657,-71.8664C675.865,-62.8639 679.11,-53.7609 681.981,-45.7051\"/>\r\n",
       "<polygon fill=\"black\" stroke=\"black\" points=\"685.327,-46.7422 685.388,-36.1476 678.734,-44.392 685.327,-46.7422\"/>\r\n",
       "</g>\r\n",
       "<!-- 23 -->\r\n",
       "<g id=\"node16\" class=\"node\"><title>23</title>\r\n",
       "<path fill=\"#efb388\" stroke=\"black\" d=\"M937.5,-304C937.5,-304 745.5,-304 745.5,-304 739.5,-304 733.5,-298 733.5,-292 733.5,-292 733.5,-218 733.5,-218 733.5,-212 739.5,-206 745.5,-206 745.5,-206 937.5,-206 937.5,-206 943.5,-206 949.5,-212 949.5,-218 949.5,-218 949.5,-292 949.5,-292 949.5,-298 943.5,-304 937.5,-304\"/>\r\n",
       "<text text-anchor=\"middle\" x=\"841.5\" y=\"-288.8\" font-family=\"Helvetica,sans-Serif\" font-size=\"14.00\">node #23</text>\r\n",
       "<text text-anchor=\"middle\" x=\"841.5\" y=\"-273.8\" font-family=\"Helvetica,sans-Serif\" font-size=\"14.00\">concave points_mean &lt;= 0.091</text>\r\n",
       "<text text-anchor=\"middle\" x=\"841.5\" y=\"-258.8\" font-family=\"Helvetica,sans-Serif\" font-size=\"14.00\">gini = 0.408</text>\r\n",
       "<text text-anchor=\"middle\" x=\"841.5\" y=\"-243.8\" font-family=\"Helvetica,sans-Serif\" font-size=\"14.00\">samples = 14</text>\r\n",
       "<text text-anchor=\"middle\" x=\"841.5\" y=\"-228.8\" font-family=\"Helvetica,sans-Serif\" font-size=\"14.00\">value = [10, 4]</text>\r\n",
       "<text text-anchor=\"middle\" x=\"841.5\" y=\"-213.8\" font-family=\"Helvetica,sans-Serif\" font-size=\"14.00\">class = M</text>\r\n",
       "</g>\r\n",
       "<!-- 22&#45;&gt;23 -->\r\n",
       "<g id=\"edge15\" class=\"edge\"><title>22&#45;&gt;23</title>\r\n",
       "<path fill=\"none\" stroke=\"black\" d=\"M841.5,-339.972C841.5,-331.691 841.5,-323.003 841.5,-314.483\"/>\r\n",
       "<polygon fill=\"black\" stroke=\"black\" points=\"845,-314.214 841.5,-304.214 838,-314.214 845,-314.214\"/>\r\n",
       "</g>\r\n",
       "<!-- 26 -->\r\n",
       "<g id=\"node19\" class=\"node\"><title>26</title>\r\n",
       "<path fill=\"#43a2e6\" stroke=\"black\" d=\"M1157,-304C1157,-304 1026,-304 1026,-304 1020,-304 1014,-298 1014,-292 1014,-292 1014,-218 1014,-218 1014,-212 1020,-206 1026,-206 1026,-206 1157,-206 1157,-206 1163,-206 1169,-212 1169,-218 1169,-218 1169,-292 1169,-292 1169,-298 1163,-304 1157,-304\"/>\r\n",
       "<text text-anchor=\"middle\" x=\"1091.5\" y=\"-288.8\" font-family=\"Helvetica,sans-Serif\" font-size=\"14.00\">node #26</text>\r\n",
       "<text text-anchor=\"middle\" x=\"1091.5\" y=\"-273.8\" font-family=\"Helvetica,sans-Serif\" font-size=\"14.00\">area_worst &lt;= 718.65</text>\r\n",
       "<text text-anchor=\"middle\" x=\"1091.5\" y=\"-258.8\" font-family=\"Helvetica,sans-Serif\" font-size=\"14.00\">gini = 0.092</text>\r\n",
       "<text text-anchor=\"middle\" x=\"1091.5\" y=\"-243.8\" font-family=\"Helvetica,sans-Serif\" font-size=\"14.00\">samples = 145</text>\r\n",
       "<text text-anchor=\"middle\" x=\"1091.5\" y=\"-228.8\" font-family=\"Helvetica,sans-Serif\" font-size=\"14.00\">value = [7, 138]</text>\r\n",
       "<text text-anchor=\"middle\" x=\"1091.5\" y=\"-213.8\" font-family=\"Helvetica,sans-Serif\" font-size=\"14.00\">class = M</text>\r\n",
       "</g>\r\n",
       "<!-- 22&#45;&gt;26 -->\r\n",
       "<g id=\"edge18\" class=\"edge\"><title>22&#45;&gt;26</title>\r\n",
       "<path fill=\"none\" stroke=\"black\" d=\"M926.837,-342.942C951.907,-329.705 979.351,-315.215 1004.52,-301.924\"/>\r\n",
       "<polygon fill=\"black\" stroke=\"black\" points=\"1006.48,-304.851 1013.68,-297.086 1003.21,-298.661 1006.48,-304.851\"/>\r\n",
       "</g>\r\n",
       "<!-- 24 -->\r\n",
       "<g id=\"node17\" class=\"node\"><title>24</title>\r\n",
       "<path fill=\"#e58139\" stroke=\"black\" d=\"M861,-162.5C861,-162.5 780,-162.5 780,-162.5 774,-162.5 768,-156.5 768,-150.5 768,-150.5 768,-91.5 768,-91.5 768,-85.5 774,-79.5 780,-79.5 780,-79.5 861,-79.5 861,-79.5 867,-79.5 873,-85.5 873,-91.5 873,-91.5 873,-150.5 873,-150.5 873,-156.5 867,-162.5 861,-162.5\"/>\r\n",
       "<text text-anchor=\"middle\" x=\"820.5\" y=\"-147.3\" font-family=\"Helvetica,sans-Serif\" font-size=\"14.00\">node #24</text>\r\n",
       "<text text-anchor=\"middle\" x=\"820.5\" y=\"-132.3\" font-family=\"Helvetica,sans-Serif\" font-size=\"14.00\">gini = 0.0</text>\r\n",
       "<text text-anchor=\"middle\" x=\"820.5\" y=\"-117.3\" font-family=\"Helvetica,sans-Serif\" font-size=\"14.00\">samples = 10</text>\r\n",
       "<text text-anchor=\"middle\" x=\"820.5\" y=\"-102.3\" font-family=\"Helvetica,sans-Serif\" font-size=\"14.00\">value = [10, 0]</text>\r\n",
       "<text text-anchor=\"middle\" x=\"820.5\" y=\"-87.3\" font-family=\"Helvetica,sans-Serif\" font-size=\"14.00\">class = M</text>\r\n",
       "</g>\r\n",
       "<!-- 23&#45;&gt;24 -->\r\n",
       "<g id=\"edge16\" class=\"edge\"><title>23&#45;&gt;24</title>\r\n",
       "<path fill=\"none\" stroke=\"black\" d=\"M833.859,-205.972C832.153,-195.246 830.337,-183.835 828.613,-172.994\"/>\r\n",
       "<polygon fill=\"black\" stroke=\"black\" points=\"832.021,-172.142 826.994,-162.817 825.108,-173.242 832.021,-172.142\"/>\r\n",
       "</g>\r\n",
       "<!-- 25 -->\r\n",
       "<g id=\"node18\" class=\"node\"><title>25</title>\r\n",
       "<path fill=\"#399de5\" stroke=\"black\" d=\"M976,-162.5C976,-162.5 903,-162.5 903,-162.5 897,-162.5 891,-156.5 891,-150.5 891,-150.5 891,-91.5 891,-91.5 891,-85.5 897,-79.5 903,-79.5 903,-79.5 976,-79.5 976,-79.5 982,-79.5 988,-85.5 988,-91.5 988,-91.5 988,-150.5 988,-150.5 988,-156.5 982,-162.5 976,-162.5\"/>\r\n",
       "<text text-anchor=\"middle\" x=\"939.5\" y=\"-147.3\" font-family=\"Helvetica,sans-Serif\" font-size=\"14.00\">node #25</text>\r\n",
       "<text text-anchor=\"middle\" x=\"939.5\" y=\"-132.3\" font-family=\"Helvetica,sans-Serif\" font-size=\"14.00\">gini = 0.0</text>\r\n",
       "<text text-anchor=\"middle\" x=\"939.5\" y=\"-117.3\" font-family=\"Helvetica,sans-Serif\" font-size=\"14.00\">samples = 4</text>\r\n",
       "<text text-anchor=\"middle\" x=\"939.5\" y=\"-102.3\" font-family=\"Helvetica,sans-Serif\" font-size=\"14.00\">value = [0, 4]</text>\r\n",
       "<text text-anchor=\"middle\" x=\"939.5\" y=\"-87.3\" font-family=\"Helvetica,sans-Serif\" font-size=\"14.00\">class = M</text>\r\n",
       "</g>\r\n",
       "<!-- 23&#45;&gt;25 -->\r\n",
       "<g id=\"edge17\" class=\"edge\"><title>23&#45;&gt;25</title>\r\n",
       "<path fill=\"none\" stroke=\"black\" d=\"M877.157,-205.972C885.613,-194.583 894.642,-182.421 903.129,-170.99\"/>\r\n",
       "<polygon fill=\"black\" stroke=\"black\" points=\"906.046,-172.932 909.197,-162.817 900.426,-168.759 906.046,-172.932\"/>\r\n",
       "</g>\r\n",
       "<!-- 27 -->\r\n",
       "<g id=\"node20\" class=\"node\"><title>27</title>\r\n",
       "<path fill=\"#fbede3\" stroke=\"black\" d=\"M1164.5,-170C1164.5,-170 1018.5,-170 1018.5,-170 1012.5,-170 1006.5,-164 1006.5,-158 1006.5,-158 1006.5,-84 1006.5,-84 1006.5,-78 1012.5,-72 1018.5,-72 1018.5,-72 1164.5,-72 1164.5,-72 1170.5,-72 1176.5,-78 1176.5,-84 1176.5,-84 1176.5,-158 1176.5,-158 1176.5,-164 1170.5,-170 1164.5,-170\"/>\r\n",
       "<text text-anchor=\"middle\" x=\"1091.5\" y=\"-154.8\" font-family=\"Helvetica,sans-Serif\" font-size=\"14.00\">node #27</text>\r\n",
       "<text text-anchor=\"middle\" x=\"1091.5\" y=\"-139.8\" font-family=\"Helvetica,sans-Serif\" font-size=\"14.00\">texture_worst &lt;= 25.925</text>\r\n",
       "<text text-anchor=\"middle\" x=\"1091.5\" y=\"-124.8\" font-family=\"Helvetica,sans-Serif\" font-size=\"14.00\">gini = 0.497</text>\r\n",
       "<text text-anchor=\"middle\" x=\"1091.5\" y=\"-109.8\" font-family=\"Helvetica,sans-Serif\" font-size=\"14.00\">samples = 13</text>\r\n",
       "<text text-anchor=\"middle\" x=\"1091.5\" y=\"-94.8\" font-family=\"Helvetica,sans-Serif\" font-size=\"14.00\">value = [7, 6]</text>\r\n",
       "<text text-anchor=\"middle\" x=\"1091.5\" y=\"-79.8\" font-family=\"Helvetica,sans-Serif\" font-size=\"14.00\">class = M</text>\r\n",
       "</g>\r\n",
       "<!-- 26&#45;&gt;27 -->\r\n",
       "<g id=\"edge19\" class=\"edge\"><title>26&#45;&gt;27</title>\r\n",
       "<path fill=\"none\" stroke=\"black\" d=\"M1091.5,-205.972C1091.5,-197.691 1091.5,-189.003 1091.5,-180.483\"/>\r\n",
       "<polygon fill=\"black\" stroke=\"black\" points=\"1095,-180.214 1091.5,-170.214 1088,-180.214 1095,-180.214\"/>\r\n",
       "</g>\r\n",
       "<!-- 30 -->\r\n",
       "<g id=\"node23\" class=\"node\"><title>30</title>\r\n",
       "<path fill=\"#399de5\" stroke=\"black\" d=\"M1296,-162.5C1296,-162.5 1207,-162.5 1207,-162.5 1201,-162.5 1195,-156.5 1195,-150.5 1195,-150.5 1195,-91.5 1195,-91.5 1195,-85.5 1201,-79.5 1207,-79.5 1207,-79.5 1296,-79.5 1296,-79.5 1302,-79.5 1308,-85.5 1308,-91.5 1308,-91.5 1308,-150.5 1308,-150.5 1308,-156.5 1302,-162.5 1296,-162.5\"/>\r\n",
       "<text text-anchor=\"middle\" x=\"1251.5\" y=\"-147.3\" font-family=\"Helvetica,sans-Serif\" font-size=\"14.00\">node #30</text>\r\n",
       "<text text-anchor=\"middle\" x=\"1251.5\" y=\"-132.3\" font-family=\"Helvetica,sans-Serif\" font-size=\"14.00\">gini = 0.0</text>\r\n",
       "<text text-anchor=\"middle\" x=\"1251.5\" y=\"-117.3\" font-family=\"Helvetica,sans-Serif\" font-size=\"14.00\">samples = 132</text>\r\n",
       "<text text-anchor=\"middle\" x=\"1251.5\" y=\"-102.3\" font-family=\"Helvetica,sans-Serif\" font-size=\"14.00\">value = [0, 132]</text>\r\n",
       "<text text-anchor=\"middle\" x=\"1251.5\" y=\"-87.3\" font-family=\"Helvetica,sans-Serif\" font-size=\"14.00\">class = M</text>\r\n",
       "</g>\r\n",
       "<!-- 26&#45;&gt;30 -->\r\n",
       "<g id=\"edge22\" class=\"edge\"><title>26&#45;&gt;30</title>\r\n",
       "<path fill=\"none\" stroke=\"black\" d=\"M1149.72,-205.972C1164.27,-193.968 1179.86,-181.105 1194.36,-169.144\"/>\r\n",
       "<polygon fill=\"black\" stroke=\"black\" points=\"1196.8,-171.667 1202.28,-162.603 1192.34,-166.267 1196.8,-171.667\"/>\r\n",
       "</g>\r\n",
       "<!-- 28 -->\r\n",
       "<g id=\"node21\" class=\"node\"><title>28</title>\r\n",
       "<path fill=\"#c0c0c0\" stroke=\"black\" d=\"M1070.5,-36C1070.5,-36 1040.5,-36 1040.5,-36 1034.5,-36 1028.5,-30 1028.5,-24 1028.5,-24 1028.5,-12 1028.5,-12 1028.5,-6 1034.5,-0 1040.5,-0 1040.5,-0 1070.5,-0 1070.5,-0 1076.5,-0 1082.5,-6 1082.5,-12 1082.5,-12 1082.5,-24 1082.5,-24 1082.5,-30 1076.5,-36 1070.5,-36\"/>\r\n",
       "<text text-anchor=\"middle\" x=\"1055.5\" y=\"-14.3\" font-family=\"Helvetica,sans-Serif\" font-size=\"14.00\">(...)</text>\r\n",
       "</g>\r\n",
       "<!-- 27&#45;&gt;28 -->\r\n",
       "<g id=\"edge20\" class=\"edge\"><title>27&#45;&gt;28</title>\r\n",
       "<path fill=\"none\" stroke=\"black\" d=\"M1074.34,-71.8664C1071.13,-62.8639 1067.89,-53.7609 1065.02,-45.7051\"/>\r\n",
       "<polygon fill=\"black\" stroke=\"black\" points=\"1068.27,-44.392 1061.61,-36.1476 1061.67,-46.7422 1068.27,-44.392\"/>\r\n",
       "</g>\r\n",
       "<!-- 29 -->\r\n",
       "<g id=\"node22\" class=\"node\"><title>29</title>\r\n",
       "<path fill=\"#c0c0c0\" stroke=\"black\" d=\"M1142.5,-36C1142.5,-36 1112.5,-36 1112.5,-36 1106.5,-36 1100.5,-30 1100.5,-24 1100.5,-24 1100.5,-12 1100.5,-12 1100.5,-6 1106.5,-0 1112.5,-0 1112.5,-0 1142.5,-0 1142.5,-0 1148.5,-0 1154.5,-6 1154.5,-12 1154.5,-12 1154.5,-24 1154.5,-24 1154.5,-30 1148.5,-36 1142.5,-36\"/>\r\n",
       "<text text-anchor=\"middle\" x=\"1127.5\" y=\"-14.3\" font-family=\"Helvetica,sans-Serif\" font-size=\"14.00\">(...)</text>\r\n",
       "</g>\r\n",
       "<!-- 27&#45;&gt;29 -->\r\n",
       "<g id=\"edge21\" class=\"edge\"><title>27&#45;&gt;29</title>\r\n",
       "<path fill=\"none\" stroke=\"black\" d=\"M1108.66,-71.8664C1111.87,-62.8639 1115.11,-53.7609 1117.98,-45.7051\"/>\r\n",
       "<polygon fill=\"black\" stroke=\"black\" points=\"1121.33,-46.7422 1121.39,-36.1476 1114.73,-44.392 1121.33,-46.7422\"/>\r\n",
       "</g>\r\n",
       "</g>\r\n",
       "</svg>\r\n"
      ],
      "text/plain": [
       "<graphviz.files.Source at 0x20211cab240>"
      ]
     },
     "execution_count": 81,
     "metadata": {},
     "output_type": "execute_result"
    }
   ],
   "source": [
    "dot_data = tree.export_graphviz(\n",
    "         arvore2,\n",
    "         feature_names=X2.columns,\n",
    "         class_names=y2,\n",
    "         max_depth=3, \n",
    "         filled=True, \n",
    "         rounded=True,\n",
    "         node_ids=True,\n",
    "         label='all',\n",
    "        )  \n",
    "graph = graphviz.Source(dot_data)  \n",
    "graph"
   ]
  },
  {
   "cell_type": "markdown",
   "metadata": {},
   "source": [
    "<h1><center>COMPARANDO OS DOIS MODELOS</center></h1>"
   ]
  },
  {
   "cell_type": "markdown",
   "metadata": {},
   "source": [
    "Podemos observar que mesmo com o aumento da acurácia do modelo (após usarmos no modelo apenas as features mais importantes do modelo anterior), houve uma piora das **métricas de avaliação**. Na precisão do modelo para a classe **M**, houve uma queda de 93% para 89%, e queda no recall da classe **B** e no f1-score de ambas as classes.\n",
    "           \n",
    "           \n",
    "| Classe  |  precisião M1||recall M1  || F1-score  ||  support ||precisão M2|| recall M2||f1-score M2||support||||\n",
    "|---|----------------------||:-------------||----------||---------||---------||---------||---------||---------||---------||\n",
    "| B |0.97||0.96 ||0.96||89||0.97||0.93||0.95||89||\n",
    "| M |0.93||0.94||0.94||54||0.89||0.94||0.92||54||||\n",
    "  \n",
    "\n"
   ]
  },
  {
   "cell_type": "markdown",
   "metadata": {},
   "source": [
    "Também podemos ver que no novo modelo as fetures texture_mean e symmetry_mean deixaram de ser importantes para o novo modelo.\n",
    "\n",
    "\n",
    "|          Feature     || Nível de importância no modelo 1              ||     Nível de importância no modelo 2     ||\n",
    "|----------------------||:-------------||----------||\n",
    "|texture_mean          ||     0.026011 || 0.000000 ||\n",
    "|concave points_mean   ||     0.724681 || 0.724681 ||\n",
    "|symmetry_mean         ||     0.006707 || 0.000000 ||\n",
    "|radius_se             ||     0.012772 || 0.012772 ||\n",
    "|smoothness_se         ||     0.001555 || 0.001555 ||\n",
    "|concave points_se     ||     0.017025 || 0.017025 ||\n",
    "|fractal_dimension_se  ||     0.008384 || 0.006707 ||\n",
    "|radius_worst          ||     0.058993 || 0.067376 ||\n",
    "|texture_worst         ||     0.099496 || 0.125507 ||\n",
    "|area_worst            ||     0.034520 || 0.034520 ||\n",
    "|smoothness_worst      ||     0.009857 || 0.009857 || "
   ]
  }
 ],
 "metadata": {
  "kernelspec": {
   "display_name": "Python 3",
   "language": "python",
   "name": "python3"
  },
  "language_info": {
   "codemirror_mode": {
    "name": "ipython",
    "version": 3
   },
   "file_extension": ".py",
   "mimetype": "text/x-python",
   "name": "python",
   "nbconvert_exporter": "python",
   "pygments_lexer": "ipython3",
   "version": "3.6.8"
  }
 },
 "nbformat": 4,
 "nbformat_minor": 2
}
