{
  "nbformat": 4,
  "nbformat_minor": 0,
  "metadata": {
    "colab": {
      "name": "Análise de regressão com MLR.ipynb",
      "provenance": [],
      "toc_visible": true
    },
    "kernelspec": {
      "name": "python3",
      "display_name": "Python 3"
    }
  },
  "cells": [
    {
      "cell_type": "markdown",
      "metadata": {
        "id": "nxCxZVlz8aec"
      },
      "source": [
        "# Análise de regressão do peso de espécies de peixes\r\n",
        "\r\n",
        "O objetivo desse projeto é aplicar a biblioteca *MLR* para gerar uma análise do peso de espécies de peixes pescados. O objetivo da análise de regressão é entender como certa(s) variável(is) (independentes) explicam o comportamento de uma outra variável (dependente) por meio de parâmetros gerados pelo modelo e esses parâmetros mostram a direção e qual o poder de explicação de determinada variável. Aqui irei, primeiramente, utilizar um modelo de regressão linear simples (univariado) onde usarei apenas uma variável para o modelo, depois usarei um regressão linear multivarida (com todas as variáveis). Em ambos os casos o objetivo é um só: definir uma reta para os dados que possa dar o melhor ajuste entre as variáveis.\r\n",
        "\r\n",
        "Para realizar a análise passarei por algumas etapas, que serão:\r\n",
        "\r\n",
        "1) Analisar a correlação entre as variáveis;\r\n",
        "\r\n",
        "2) Gerar o modelo;\r\n",
        "\r\n",
        "3) Avaliar o modelo e seus resíduos.\r\n",
        "\r\n",
        "## Importando a biblioteca *MLR*"
      ]
    },
    {
      "cell_type": "code",
      "metadata": {
        "colab": {
          "base_uri": "https://localhost:8080/"
        },
        "id": "IXFgYm_YY9HK",
        "outputId": "d46b047a-fca9-40a9-db34-7a31087c3368"
      },
      "source": [
        "pip install mlr"
      ],
      "execution_count": 1,
      "outputs": [
        {
          "output_type": "stream",
          "text": [
            "Collecting mlr\n",
            "  Downloading https://files.pythonhosted.org/packages/64/aa/5877ade58c2d0b531e848ceae9d4bfa677b9df91932b7d3ef14e127ffa9e/mlr-0.1.0-py3-none-any.whl\n",
            "Requirement already satisfied: seaborn in /usr/local/lib/python3.6/dist-packages (from mlr) (0.11.1)\n",
            "Requirement already satisfied: statsmodels in /usr/local/lib/python3.6/dist-packages (from mlr) (0.10.2)\n",
            "Requirement already satisfied: pandas in /usr/local/lib/python3.6/dist-packages (from mlr) (1.1.5)\n",
            "Requirement already satisfied: matplotlib in /usr/local/lib/python3.6/dist-packages (from mlr) (3.2.2)\n",
            "Requirement already satisfied: numpy in /usr/local/lib/python3.6/dist-packages (from mlr) (1.19.5)\n",
            "Requirement already satisfied: scipy>=1.0 in /usr/local/lib/python3.6/dist-packages (from seaborn->mlr) (1.4.1)\n",
            "Requirement already satisfied: patsy>=0.4.0 in /usr/local/lib/python3.6/dist-packages (from statsmodels->mlr) (0.5.1)\n",
            "Requirement already satisfied: pytz>=2017.2 in /usr/local/lib/python3.6/dist-packages (from pandas->mlr) (2018.9)\n",
            "Requirement already satisfied: python-dateutil>=2.7.3 in /usr/local/lib/python3.6/dist-packages (from pandas->mlr) (2.8.1)\n",
            "Requirement already satisfied: cycler>=0.10 in /usr/local/lib/python3.6/dist-packages (from matplotlib->mlr) (0.10.0)\n",
            "Requirement already satisfied: kiwisolver>=1.0.1 in /usr/local/lib/python3.6/dist-packages (from matplotlib->mlr) (1.3.1)\n",
            "Requirement already satisfied: pyparsing!=2.0.4,!=2.1.2,!=2.1.6,>=2.0.1 in /usr/local/lib/python3.6/dist-packages (from matplotlib->mlr) (2.4.7)\n",
            "Requirement already satisfied: six in /usr/local/lib/python3.6/dist-packages (from patsy>=0.4.0->statsmodels->mlr) (1.15.0)\n",
            "Installing collected packages: mlr\n",
            "Successfully installed mlr-0.1.0\n"
          ],
          "name": "stdout"
        }
      ]
    },
    {
      "cell_type": "markdown",
      "metadata": {
        "id": "8gHK6O3JA41m"
      },
      "source": [
        "## Importando as bibliotecas"
      ]
    },
    {
      "cell_type": "code",
      "metadata": {
        "colab": {
          "base_uri": "https://localhost:8080/"
        },
        "id": "JHHcdBwr8YH4",
        "outputId": "421b3118-c604-48b8-afe8-5d8b102715bf"
      },
      "source": [
        "import pandas as pd\r\n",
        "import numpy as np\r\n",
        "import matplotlib.pyplot as plt\r\n",
        "import seaborn as sns\r\n",
        "from mlr.MLR import MyLinearRegression as mlr\r\n"
      ],
      "execution_count": 2,
      "outputs": [
        {
          "output_type": "stream",
          "text": [
            "/usr/local/lib/python3.6/dist-packages/statsmodels/tools/_testing.py:19: FutureWarning: pandas.util.testing is deprecated. Use the functions in the public API at pandas.testing instead.\n",
            "  import pandas.util.testing as tm\n"
          ],
          "name": "stderr"
        }
      ]
    },
    {
      "cell_type": "markdown",
      "metadata": {
        "id": "sNuWPL42Avhm"
      },
      "source": [
        "## Importando a base de dados"
      ]
    },
    {
      "cell_type": "code",
      "metadata": {
        "id": "wWpNRdNuY_Ly"
      },
      "source": [
        "peixe = pd.read_csv('Fish.csv')"
      ],
      "execution_count": 3,
      "outputs": []
    },
    {
      "cell_type": "markdown",
      "metadata": {
        "id": "vhGBQ_BvDweB"
      },
      "source": [
        "Primeiras linhas da base de dados."
      ]
    },
    {
      "cell_type": "code",
      "metadata": {
        "id": "avseEEduZC8K",
        "colab": {
          "base_uri": "https://localhost:8080/",
          "height": 202
        },
        "outputId": "ea3a6dba-e290-4916-98b9-2220e10d82f9"
      },
      "source": [
        "peixe.head()"
      ],
      "execution_count": 4,
      "outputs": [
        {
          "output_type": "execute_result",
          "data": {
            "text/html": [
              "<div>\n",
              "<style scoped>\n",
              "    .dataframe tbody tr th:only-of-type {\n",
              "        vertical-align: middle;\n",
              "    }\n",
              "\n",
              "    .dataframe tbody tr th {\n",
              "        vertical-align: top;\n",
              "    }\n",
              "\n",
              "    .dataframe thead th {\n",
              "        text-align: right;\n",
              "    }\n",
              "</style>\n",
              "<table border=\"1\" class=\"dataframe\">\n",
              "  <thead>\n",
              "    <tr style=\"text-align: right;\">\n",
              "      <th></th>\n",
              "      <th>Species</th>\n",
              "      <th>Weight</th>\n",
              "      <th>Length1</th>\n",
              "      <th>Length2</th>\n",
              "      <th>Length3</th>\n",
              "      <th>Height</th>\n",
              "      <th>Width</th>\n",
              "    </tr>\n",
              "  </thead>\n",
              "  <tbody>\n",
              "    <tr>\n",
              "      <th>0</th>\n",
              "      <td>Bream</td>\n",
              "      <td>242.0</td>\n",
              "      <td>23.2</td>\n",
              "      <td>25.4</td>\n",
              "      <td>30.0</td>\n",
              "      <td>11.5200</td>\n",
              "      <td>4.0200</td>\n",
              "    </tr>\n",
              "    <tr>\n",
              "      <th>1</th>\n",
              "      <td>Bream</td>\n",
              "      <td>290.0</td>\n",
              "      <td>24.0</td>\n",
              "      <td>26.3</td>\n",
              "      <td>31.2</td>\n",
              "      <td>12.4800</td>\n",
              "      <td>4.3056</td>\n",
              "    </tr>\n",
              "    <tr>\n",
              "      <th>2</th>\n",
              "      <td>Bream</td>\n",
              "      <td>340.0</td>\n",
              "      <td>23.9</td>\n",
              "      <td>26.5</td>\n",
              "      <td>31.1</td>\n",
              "      <td>12.3778</td>\n",
              "      <td>4.6961</td>\n",
              "    </tr>\n",
              "    <tr>\n",
              "      <th>3</th>\n",
              "      <td>Bream</td>\n",
              "      <td>363.0</td>\n",
              "      <td>26.3</td>\n",
              "      <td>29.0</td>\n",
              "      <td>33.5</td>\n",
              "      <td>12.7300</td>\n",
              "      <td>4.4555</td>\n",
              "    </tr>\n",
              "    <tr>\n",
              "      <th>4</th>\n",
              "      <td>Bream</td>\n",
              "      <td>430.0</td>\n",
              "      <td>26.5</td>\n",
              "      <td>29.0</td>\n",
              "      <td>34.0</td>\n",
              "      <td>12.4440</td>\n",
              "      <td>5.1340</td>\n",
              "    </tr>\n",
              "  </tbody>\n",
              "</table>\n",
              "</div>"
            ],
            "text/plain": [
              "  Species  Weight  Length1  Length2  Length3   Height   Width\n",
              "0   Bream   242.0     23.2     25.4     30.0  11.5200  4.0200\n",
              "1   Bream   290.0     24.0     26.3     31.2  12.4800  4.3056\n",
              "2   Bream   340.0     23.9     26.5     31.1  12.3778  4.6961\n",
              "3   Bream   363.0     26.3     29.0     33.5  12.7300  4.4555\n",
              "4   Bream   430.0     26.5     29.0     34.0  12.4440  5.1340"
            ]
          },
          "metadata": {
            "tags": []
          },
          "execution_count": 4
        }
      ]
    },
    {
      "cell_type": "markdown",
      "metadata": {
        "id": "3okCmQRnDzV_"
      },
      "source": [
        "últimas linhas da base de dados."
      ]
    },
    {
      "cell_type": "code",
      "metadata": {
        "colab": {
          "base_uri": "https://localhost:8080/",
          "height": 202
        },
        "id": "LXY9c1i3Dznw",
        "outputId": "b12fbda6-89eb-472c-f4c5-ed270209e955"
      },
      "source": [
        "peixe.tail()"
      ],
      "execution_count": 5,
      "outputs": [
        {
          "output_type": "execute_result",
          "data": {
            "text/html": [
              "<div>\n",
              "<style scoped>\n",
              "    .dataframe tbody tr th:only-of-type {\n",
              "        vertical-align: middle;\n",
              "    }\n",
              "\n",
              "    .dataframe tbody tr th {\n",
              "        vertical-align: top;\n",
              "    }\n",
              "\n",
              "    .dataframe thead th {\n",
              "        text-align: right;\n",
              "    }\n",
              "</style>\n",
              "<table border=\"1\" class=\"dataframe\">\n",
              "  <thead>\n",
              "    <tr style=\"text-align: right;\">\n",
              "      <th></th>\n",
              "      <th>Species</th>\n",
              "      <th>Weight</th>\n",
              "      <th>Length1</th>\n",
              "      <th>Length2</th>\n",
              "      <th>Length3</th>\n",
              "      <th>Height</th>\n",
              "      <th>Width</th>\n",
              "    </tr>\n",
              "  </thead>\n",
              "  <tbody>\n",
              "    <tr>\n",
              "      <th>154</th>\n",
              "      <td>Smelt</td>\n",
              "      <td>12.2</td>\n",
              "      <td>11.5</td>\n",
              "      <td>12.2</td>\n",
              "      <td>13.4</td>\n",
              "      <td>2.0904</td>\n",
              "      <td>1.3936</td>\n",
              "    </tr>\n",
              "    <tr>\n",
              "      <th>155</th>\n",
              "      <td>Smelt</td>\n",
              "      <td>13.4</td>\n",
              "      <td>11.7</td>\n",
              "      <td>12.4</td>\n",
              "      <td>13.5</td>\n",
              "      <td>2.4300</td>\n",
              "      <td>1.2690</td>\n",
              "    </tr>\n",
              "    <tr>\n",
              "      <th>156</th>\n",
              "      <td>Smelt</td>\n",
              "      <td>12.2</td>\n",
              "      <td>12.1</td>\n",
              "      <td>13.0</td>\n",
              "      <td>13.8</td>\n",
              "      <td>2.2770</td>\n",
              "      <td>1.2558</td>\n",
              "    </tr>\n",
              "    <tr>\n",
              "      <th>157</th>\n",
              "      <td>Smelt</td>\n",
              "      <td>19.7</td>\n",
              "      <td>13.2</td>\n",
              "      <td>14.3</td>\n",
              "      <td>15.2</td>\n",
              "      <td>2.8728</td>\n",
              "      <td>2.0672</td>\n",
              "    </tr>\n",
              "    <tr>\n",
              "      <th>158</th>\n",
              "      <td>Smelt</td>\n",
              "      <td>19.9</td>\n",
              "      <td>13.8</td>\n",
              "      <td>15.0</td>\n",
              "      <td>16.2</td>\n",
              "      <td>2.9322</td>\n",
              "      <td>1.8792</td>\n",
              "    </tr>\n",
              "  </tbody>\n",
              "</table>\n",
              "</div>"
            ],
            "text/plain": [
              "    Species  Weight  Length1  Length2  Length3  Height   Width\n",
              "154   Smelt    12.2     11.5     12.2     13.4  2.0904  1.3936\n",
              "155   Smelt    13.4     11.7     12.4     13.5  2.4300  1.2690\n",
              "156   Smelt    12.2     12.1     13.0     13.8  2.2770  1.2558\n",
              "157   Smelt    19.7     13.2     14.3     15.2  2.8728  2.0672\n",
              "158   Smelt    19.9     13.8     15.0     16.2  2.9322  1.8792"
            ]
          },
          "metadata": {
            "tags": []
          },
          "execution_count": 5
        }
      ]
    },
    {
      "cell_type": "markdown",
      "metadata": {
        "id": "aBebQS3PBKT0"
      },
      "source": [
        "## Analisando a base de dados\r\n",
        "\r\n",
        "Dimensão da base de dados."
      ]
    },
    {
      "cell_type": "code",
      "metadata": {
        "colab": {
          "base_uri": "https://localhost:8080/"
        },
        "id": "ssRVkgM1BNHi",
        "outputId": "951be674-6b2a-4f3a-cdf4-4f6c529c993b"
      },
      "source": [
        "peixe.shape"
      ],
      "execution_count": 6,
      "outputs": [
        {
          "output_type": "execute_result",
          "data": {
            "text/plain": [
              "(159, 7)"
            ]
          },
          "metadata": {
            "tags": []
          },
          "execution_count": 6
        }
      ]
    },
    {
      "cell_type": "markdown",
      "metadata": {
        "id": "pzzBBfInBXJa"
      },
      "source": [
        "Colunas da base de dados:\r\n",
        "\r\n",
        "1) *Species* : Nome da espécie de peixe;\r\n",
        "\r\n",
        "2) *Weight* : Peso do peixe em Gramas;\r\n",
        "\r\n",
        "3) *Length1* : comprimento vertical em centímetros;\r\n",
        " \r\n",
        "4) *Length2* : comprimento diagonal em centímetros;\r\n",
        "\r\n",
        "5) *Length3* : comprimento da cruz em centímetros;\r\n",
        "\r\n",
        "6) *Height* : altura em centímetros;\r\n",
        "\r\n",
        "7) *Width* : largura diagonal em centímetros."
      ]
    },
    {
      "cell_type": "code",
      "metadata": {
        "colab": {
          "base_uri": "https://localhost:8080/"
        },
        "id": "R0vP86tGBNJa",
        "outputId": "b00d6b04-1306-4a53-a370-e24c3d627760"
      },
      "source": [
        "peixe.columns"
      ],
      "execution_count": 7,
      "outputs": [
        {
          "output_type": "execute_result",
          "data": {
            "text/plain": [
              "Index(['Species', 'Weight', 'Length1', 'Length2', 'Length3', 'Height',\n",
              "       'Width'],\n",
              "      dtype='object')"
            ]
          },
          "metadata": {
            "tags": []
          },
          "execution_count": 7
        }
      ]
    },
    {
      "cell_type": "markdown",
      "metadata": {
        "id": "BCCMUmuGBwy-"
      },
      "source": [
        "Informações sobre a base de dados: Uma das colunas é do tipo *objeto* e todas as outras são do tipo *float*."
      ]
    },
    {
      "cell_type": "code",
      "metadata": {
        "colab": {
          "base_uri": "https://localhost:8080/"
        },
        "id": "qdieC7ayBNLX",
        "outputId": "e3cbc27e-2b48-4ef3-d240-dd2f064dba05"
      },
      "source": [
        "peixe.info()"
      ],
      "execution_count": 8,
      "outputs": [
        {
          "output_type": "stream",
          "text": [
            "<class 'pandas.core.frame.DataFrame'>\n",
            "RangeIndex: 159 entries, 0 to 158\n",
            "Data columns (total 7 columns):\n",
            " #   Column   Non-Null Count  Dtype  \n",
            "---  ------   --------------  -----  \n",
            " 0   Species  159 non-null    object \n",
            " 1   Weight   159 non-null    float64\n",
            " 2   Length1  159 non-null    float64\n",
            " 3   Length2  159 non-null    float64\n",
            " 4   Length3  159 non-null    float64\n",
            " 5   Height   159 non-null    float64\n",
            " 6   Width    159 non-null    float64\n",
            "dtypes: float64(6), object(1)\n",
            "memory usage: 8.8+ KB\n"
          ],
          "name": "stdout"
        }
      ]
    },
    {
      "cell_type": "markdown",
      "metadata": {
        "id": "bQvcmpE3BthR"
      },
      "source": [
        "Não temos valores faltantes na base de dados."
      ]
    },
    {
      "cell_type": "code",
      "metadata": {
        "colab": {
          "base_uri": "https://localhost:8080/"
        },
        "id": "avPRMIlWBNMu",
        "outputId": "ba3adcfd-b07d-4e40-c993-e915a397e0d0"
      },
      "source": [
        "peixe.isna().sum()"
      ],
      "execution_count": 9,
      "outputs": [
        {
          "output_type": "execute_result",
          "data": {
            "text/plain": [
              "Species    0\n",
              "Weight     0\n",
              "Length1    0\n",
              "Length2    0\n",
              "Length3    0\n",
              "Height     0\n",
              "Width      0\n",
              "dtype: int64"
            ]
          },
          "metadata": {
            "tags": []
          },
          "execution_count": 9
        }
      ]
    },
    {
      "cell_type": "markdown",
      "metadata": {
        "id": "bcqkj3DQBcav"
      },
      "source": [
        "Na correlação entre as variáveis podemos ver que as variáveis *Length1*,*Length2* e *Length3* que tratam do comprimento vertical, diagonal e de cruz, respectivamente, do peixe são altamente correlacionadas com o peso dos peixes. Além disso vemos que essas variáveis são altamente correlaciondas entre si e por isso podemos ter alguns problemas no modelo de regressão."
      ]
    },
    {
      "cell_type": "code",
      "metadata": {
        "colab": {
          "base_uri": "https://localhost:8080/",
          "height": 233
        },
        "id": "gSeitW5U9Fpr",
        "outputId": "0b9e3eb1-89fe-4401-ca1e-930359881ae4"
      },
      "source": [
        "peixe.corr()"
      ],
      "execution_count": 10,
      "outputs": [
        {
          "output_type": "execute_result",
          "data": {
            "text/html": [
              "<div>\n",
              "<style scoped>\n",
              "    .dataframe tbody tr th:only-of-type {\n",
              "        vertical-align: middle;\n",
              "    }\n",
              "\n",
              "    .dataframe tbody tr th {\n",
              "        vertical-align: top;\n",
              "    }\n",
              "\n",
              "    .dataframe thead th {\n",
              "        text-align: right;\n",
              "    }\n",
              "</style>\n",
              "<table border=\"1\" class=\"dataframe\">\n",
              "  <thead>\n",
              "    <tr style=\"text-align: right;\">\n",
              "      <th></th>\n",
              "      <th>Weight</th>\n",
              "      <th>Length1</th>\n",
              "      <th>Length2</th>\n",
              "      <th>Length3</th>\n",
              "      <th>Height</th>\n",
              "      <th>Width</th>\n",
              "    </tr>\n",
              "  </thead>\n",
              "  <tbody>\n",
              "    <tr>\n",
              "      <th>Weight</th>\n",
              "      <td>1.000000</td>\n",
              "      <td>0.915712</td>\n",
              "      <td>0.918618</td>\n",
              "      <td>0.923044</td>\n",
              "      <td>0.724345</td>\n",
              "      <td>0.886507</td>\n",
              "    </tr>\n",
              "    <tr>\n",
              "      <th>Length1</th>\n",
              "      <td>0.915712</td>\n",
              "      <td>1.000000</td>\n",
              "      <td>0.999517</td>\n",
              "      <td>0.992031</td>\n",
              "      <td>0.625378</td>\n",
              "      <td>0.867050</td>\n",
              "    </tr>\n",
              "    <tr>\n",
              "      <th>Length2</th>\n",
              "      <td>0.918618</td>\n",
              "      <td>0.999517</td>\n",
              "      <td>1.000000</td>\n",
              "      <td>0.994103</td>\n",
              "      <td>0.640441</td>\n",
              "      <td>0.873547</td>\n",
              "    </tr>\n",
              "    <tr>\n",
              "      <th>Length3</th>\n",
              "      <td>0.923044</td>\n",
              "      <td>0.992031</td>\n",
              "      <td>0.994103</td>\n",
              "      <td>1.000000</td>\n",
              "      <td>0.703409</td>\n",
              "      <td>0.878520</td>\n",
              "    </tr>\n",
              "    <tr>\n",
              "      <th>Height</th>\n",
              "      <td>0.724345</td>\n",
              "      <td>0.625378</td>\n",
              "      <td>0.640441</td>\n",
              "      <td>0.703409</td>\n",
              "      <td>1.000000</td>\n",
              "      <td>0.792881</td>\n",
              "    </tr>\n",
              "    <tr>\n",
              "      <th>Width</th>\n",
              "      <td>0.886507</td>\n",
              "      <td>0.867050</td>\n",
              "      <td>0.873547</td>\n",
              "      <td>0.878520</td>\n",
              "      <td>0.792881</td>\n",
              "      <td>1.000000</td>\n",
              "    </tr>\n",
              "  </tbody>\n",
              "</table>\n",
              "</div>"
            ],
            "text/plain": [
              "           Weight   Length1   Length2   Length3    Height     Width\n",
              "Weight   1.000000  0.915712  0.918618  0.923044  0.724345  0.886507\n",
              "Length1  0.915712  1.000000  0.999517  0.992031  0.625378  0.867050\n",
              "Length2  0.918618  0.999517  1.000000  0.994103  0.640441  0.873547\n",
              "Length3  0.923044  0.992031  0.994103  1.000000  0.703409  0.878520\n",
              "Height   0.724345  0.625378  0.640441  0.703409  1.000000  0.792881\n",
              "Width    0.886507  0.867050  0.873547  0.878520  0.792881  1.000000"
            ]
          },
          "metadata": {
            "tags": []
          },
          "execution_count": 10
        }
      ]
    },
    {
      "cell_type": "markdown",
      "metadata": {
        "id": "29Off5H9EvF0"
      },
      "source": [
        "## Análise exploratória dos dados\r\n",
        "\r\n",
        "A maior parte dos peixes são da espécie *Perch*, *Bream* e *Roach*."
      ]
    },
    {
      "cell_type": "code",
      "metadata": {
        "colab": {
          "base_uri": "https://localhost:8080/",
          "height": 418
        },
        "id": "90ga4B1sEvRs",
        "outputId": "d794eb57-1be0-4a18-e1f9-6e9770879011"
      },
      "source": [
        "plt.figure(figsize=(10,5))\r\n",
        "sns.countplot(peixe['Species'], color='red')\r\n",
        "plt.xlabel(\"Espécies de peixes\",size=15)\r\n",
        "plt.title(\"Número de peixes por espécies\",size=15)\r\n",
        "plt.ylabel(\"\")\r\n",
        "plt.xticks(size=15);"
      ],
      "execution_count": 11,
      "outputs": [
        {
          "output_type": "stream",
          "text": [
            "/usr/local/lib/python3.6/dist-packages/seaborn/_decorators.py:43: FutureWarning: Pass the following variable as a keyword arg: x. From version 0.12, the only valid positional argument will be `data`, and passing other arguments without an explicit keyword will result in an error or misinterpretation.\n",
            "  FutureWarning\n"
          ],
          "name": "stderr"
        },
        {
          "output_type": "display_data",
          "data": {
            "image/png": "[encoded data removed]",
            "text/plain": [
              "<Figure size 720x360 with 1 Axes>"
            ]
          },
          "metadata": {
            "tags": [],
            "needs_background": "light"
          }
        }
      ]
    },
    {
      "cell_type": "markdown",
      "metadata": {
        "id": "rm5UGOOiGTyw"
      },
      "source": [
        "As espécies de peixe com maior peso médio são o *Pike*, *Whitefish* e *Bream*."
      ]
    },
    {
      "cell_type": "code",
      "metadata": {
        "colab": {
          "base_uri": "https://localhost:8080/",
          "height": 364
        },
        "id": "nSnqwfqwEyRi",
        "outputId": "516b5ee6-ffc7-4a23-83d8-0a78ae64fe4c"
      },
      "source": [
        "plt.figure(figsize=(10,5))\r\n",
        "sns.barplot(x=peixe['Species'],y=peixe['Weight'], color='green')\r\n",
        "plt.xlabel(\"Espécies de peixe\",size=15)\r\n",
        "plt.title(\"Peso médio dos peixes por espécie\",size=15)\r\n",
        "plt.ylabel(\"\")\r\n",
        "plt.xticks(size=15);"
      ],
      "execution_count": 12,
      "outputs": [
        {
          "output_type": "display_data",
          "data": {
            "image/png": "[encoded data removed]",
            "text/plain": [
              "<Figure size 720x360 with 1 Axes>"
            ]
          },
          "metadata": {
            "tags": [],
            "needs_background": "light"
          }
        }
      ]
    },
    {
      "cell_type": "markdown",
      "metadata": {
        "id": "X2R5iv4aHO6l"
      },
      "source": [
        "Agora irei analisar a direção da variável *Weight* em relação com as outras varipaveis.\r\n",
        "\r\n",
        "Vemos que o peso possui uma relação quase linear com o comprimento vertival dos peixes. Destacamos que as espécies de peixes parecem estar em regiões específicas do gráfico."
      ]
    },
    {
      "cell_type": "code",
      "metadata": {
        "colab": {
          "base_uri": "https://localhost:8080/",
          "height": 358
        },
        "id": "YpuThu8nEyTy",
        "outputId": "0c5d6662-6eb0-461c-8559-dd99d31768e2"
      },
      "source": [
        "plt.figure(figsize=(10,5))\r\n",
        "sns.scatterplot(x='Weight',y='Length1',data=peixe, hue='Species')\r\n",
        "plt.title('Gráfico de dispersão do peso e comprimento vertical',size=15)\r\n",
        "plt.xlabel(\"Peso dos peixes\",size=15)\r\n",
        "plt.ylabel('comprimento vertical ',size=15)\r\n",
        "plt.show()"
      ],
      "execution_count": 13,
      "outputs": [
        {
          "output_type": "display_data",
          "data": {
            "image/png": "[encoded data removed]",
            "text/plain": [
              "<Figure size 720x360 with 1 Axes>"
            ]
          },
          "metadata": {
            "tags": [],
            "needs_background": "light"
          }
        }
      ]
    },
    {
      "cell_type": "markdown",
      "metadata": {
        "id": "E0v22EueISK1"
      },
      "source": [
        "Assim como no comprimento vertical, o comprimento diagonal também possui praticamente idêntico."
      ]
    },
    {
      "cell_type": "code",
      "metadata": {
        "colab": {
          "base_uri": "https://localhost:8080/",
          "height": 358
        },
        "id": "vg4hUshHISsT",
        "outputId": "18098a3c-76d2-48d2-c260-e2cd630d2934"
      },
      "source": [
        "plt.figure(figsize=(10,5))\r\n",
        "sns.scatterplot(x='Weight',y='Length2',data=peixe, hue='Species')\r\n",
        "plt.title('Gráfico de dispersão do peso e comprimento diagonal',size=15)\r\n",
        "plt.xlabel(\"Peso dos peixes\",size=15)\r\n",
        "plt.ylabel('comprimento diagonal ',size=15)\r\n",
        "plt.show()"
      ],
      "execution_count": 14,
      "outputs": [
        {
          "output_type": "display_data",
          "data": {
            "image/png": "[encoded data removed]",
            "text/plain": [
              "<Figure size 720x360 with 1 Axes>"
            ]
          },
          "metadata": {
            "tags": [],
            "needs_background": "light"
          }
        }
      ]
    },
    {
      "cell_type": "markdown",
      "metadata": {
        "id": "gMwQ8NFSJHeO"
      },
      "source": [
        "Comportamento semelhante ao das variáveis anteriores."
      ]
    },
    {
      "cell_type": "code",
      "metadata": {
        "colab": {
          "base_uri": "https://localhost:8080/",
          "height": 358
        },
        "id": "L3pIbrRvJHqn",
        "outputId": "dda8cb6a-0ed3-4334-9bf6-7e9c0ad26984"
      },
      "source": [
        "plt.figure(figsize=(10,5))\r\n",
        "sns.scatterplot(x='Weight',y='Length3',data=peixe, hue='Species')\r\n",
        "plt.title('Gráfico de dispersão do peso e comprimento cruzado',size=15)\r\n",
        "plt.xlabel(\"Peso dos peixes\",size=15)\r\n",
        "plt.ylabel('comprimento cruzado ',size=15)\r\n",
        "plt.show()"
      ],
      "execution_count": 15,
      "outputs": [
        {
          "output_type": "display_data",
          "data": {
            "image/png": "[encoded data removed]",
            "text/plain": [
              "<Figure size 720x360 with 1 Axes>"
            ]
          },
          "metadata": {
            "tags": [],
            "needs_background": "light"
          }
        }
      ]
    },
    {
      "cell_type": "markdown",
      "metadata": {
        "id": "OEQ1f9k6JT5i"
      },
      "source": [
        "Já aqui, na variável altura o comportamento parece ser diferente para cada umas das espécies de peixe."
      ]
    },
    {
      "cell_type": "code",
      "metadata": {
        "colab": {
          "base_uri": "https://localhost:8080/",
          "height": 358
        },
        "id": "UcTfn1muJUEz",
        "outputId": "badb3474-1844-4856-a903-2e182f47d4d9"
      },
      "source": [
        "plt.figure(figsize=(10,5))\r\n",
        "sns.scatterplot(x='Weight',y='Height',data=peixe, hue='Species')\r\n",
        "plt.title('Gráfico de dispersão do peso e altura',size=15)\r\n",
        "plt.xlabel(\"Peso dos peixes\",size=15)\r\n",
        "plt.ylabel('Altura',size=15)\r\n",
        "plt.show()"
      ],
      "execution_count": 16,
      "outputs": [
        {
          "output_type": "display_data",
          "data": {
            "image/png": "[encoded data removed]",
            "text/plain": [
              "<Figure size 720x360 with 1 Axes>"
            ]
          },
          "metadata": {
            "tags": [],
            "needs_background": "light"
          }
        }
      ]
    },
    {
      "cell_type": "markdown",
      "metadata": {
        "id": "okhMtGL9JvUg"
      },
      "source": [
        "Também, nesse gráfico de dispersão a variável tem um comportamento semelhante as anteriores, ou seja, quase que linear com o peso dos peixes."
      ]
    },
    {
      "cell_type": "code",
      "metadata": {
        "colab": {
          "base_uri": "https://localhost:8080/",
          "height": 358
        },
        "id": "MwyGyDc3Jvgl",
        "outputId": "6181d141-9d1b-4b7a-f861-6b252da55be8"
      },
      "source": [
        "plt.figure(figsize=(10,5))\r\n",
        "sns.scatterplot(x='Weight',y='Width',data=peixe, hue='Species')\r\n",
        "plt.title('Gráfico de dispersão do peso e Largura',size=15)\r\n",
        "plt.xlabel(\"Peso dos peixes\",size=15)\r\n",
        "plt.ylabel('Largura',size=15)\r\n",
        "plt.show()"
      ],
      "execution_count": 17,
      "outputs": [
        {
          "output_type": "display_data",
          "data": {
            "image/png": "[encoded data removed]",
            "text/plain": [
              "<Figure size 720x360 with 1 Axes>"
            ]
          },
          "metadata": {
            "tags": [],
            "needs_background": "light"
          }
        }
      ]
    },
    {
      "cell_type": "markdown",
      "metadata": {
        "id": "p0EnLrlREeYf"
      },
      "source": [
        "## Breve transformação dos dados\r\n",
        "\r\n",
        "A coluna *Species* é do tipo objeto, então para a modelagem ou não usamos essa variável ou podemos tranformá-la em uma variável *dummy*, que é uma variável com valores 0 ou 1, onde 0 zero representa a ausência e o 1 a presença do valor em cada coluna."
      ]
    },
    {
      "cell_type": "code",
      "metadata": {
        "id": "z40sV2ffEepB"
      },
      "source": [
        "peixe = pd.get_dummies(peixe, columns=['Species'],prefix=['Species'])"
      ],
      "execution_count": 18,
      "outputs": []
    },
    {
      "cell_type": "markdown",
      "metadata": {
        "id": "ggyWvVVYM9dx"
      },
      "source": [
        "Visualizando novamente a base de dados pode-se notar a presença de sete novas colunas que, agora sim, podem ser usadas no modelo de regressão."
      ]
    },
    {
      "cell_type": "code",
      "metadata": {
        "colab": {
          "base_uri": "https://localhost:8080/",
          "height": 416
        },
        "id": "NSRlKLgpNAlt",
        "outputId": "518759ae-49f3-4fe4-ffcd-d417b020e427"
      },
      "source": [
        "peixe"
      ],
      "execution_count": 19,
      "outputs": [
        {
          "output_type": "execute_result",
          "data": {
            "text/html": [
              "<div>\n",
              "<style scoped>\n",
              "    .dataframe tbody tr th:only-of-type {\n",
              "        vertical-align: middle;\n",
              "    }\n",
              "\n",
              "    .dataframe tbody tr th {\n",
              "        vertical-align: top;\n",
              "    }\n",
              "\n",
              "    .dataframe thead th {\n",
              "        text-align: right;\n",
              "    }\n",
              "</style>\n",
              "<table border=\"1\" class=\"dataframe\">\n",
              "  <thead>\n",
              "    <tr style=\"text-align: right;\">\n",
              "      <th></th>\n",
              "      <th>Weight</th>\n",
              "      <th>Length1</th>\n",
              "      <th>Length2</th>\n",
              "      <th>Length3</th>\n",
              "      <th>Height</th>\n",
              "      <th>Width</th>\n",
              "      <th>Species_Bream</th>\n",
              "      <th>Species_Parkki</th>\n",
              "      <th>Species_Perch</th>\n",
              "      <th>Species_Pike</th>\n",
              "      <th>Species_Roach</th>\n",
              "      <th>Species_Smelt</th>\n",
              "      <th>Species_Whitefish</th>\n",
              "    </tr>\n",
              "  </thead>\n",
              "  <tbody>\n",
              "    <tr>\n",
              "      <th>0</th>\n",
              "      <td>242.0</td>\n",
              "      <td>23.2</td>\n",
              "      <td>25.4</td>\n",
              "      <td>30.0</td>\n",
              "      <td>11.5200</td>\n",
              "      <td>4.0200</td>\n",
              "      <td>1</td>\n",
              "      <td>0</td>\n",
              "      <td>0</td>\n",
              "      <td>0</td>\n",
              "      <td>0</td>\n",
              "      <td>0</td>\n",
              "      <td>0</td>\n",
              "    </tr>\n",
              "    <tr>\n",
              "      <th>1</th>\n",
              "      <td>290.0</td>\n",
              "      <td>24.0</td>\n",
              "      <td>26.3</td>\n",
              "      <td>31.2</td>\n",
              "      <td>12.4800</td>\n",
              "      <td>4.3056</td>\n",
              "      <td>1</td>\n",
              "      <td>0</td>\n",
              "      <td>0</td>\n",
              "      <td>0</td>\n",
              "      <td>0</td>\n",
              "      <td>0</td>\n",
              "      <td>0</td>\n",
              "    </tr>\n",
              "    <tr>\n",
              "      <th>2</th>\n",
              "      <td>340.0</td>\n",
              "      <td>23.9</td>\n",
              "      <td>26.5</td>\n",
              "      <td>31.1</td>\n",
              "      <td>12.3778</td>\n",
              "      <td>4.6961</td>\n",
              "      <td>1</td>\n",
              "      <td>0</td>\n",
              "      <td>0</td>\n",
              "      <td>0</td>\n",
              "      <td>0</td>\n",
              "      <td>0</td>\n",
              "      <td>0</td>\n",
              "    </tr>\n",
              "    <tr>\n",
              "      <th>3</th>\n",
              "      <td>363.0</td>\n",
              "      <td>26.3</td>\n",
              "      <td>29.0</td>\n",
              "      <td>33.5</td>\n",
              "      <td>12.7300</td>\n",
              "      <td>4.4555</td>\n",
              "      <td>1</td>\n",
              "      <td>0</td>\n",
              "      <td>0</td>\n",
              "      <td>0</td>\n",
              "      <td>0</td>\n",
              "      <td>0</td>\n",
              "      <td>0</td>\n",
              "    </tr>\n",
              "    <tr>\n",
              "      <th>4</th>\n",
              "      <td>430.0</td>\n",
              "      <td>26.5</td>\n",
              "      <td>29.0</td>\n",
              "      <td>34.0</td>\n",
              "      <td>12.4440</td>\n",
              "      <td>5.1340</td>\n",
              "      <td>1</td>\n",
              "      <td>0</td>\n",
              "      <td>0</td>\n",
              "      <td>0</td>\n",
              "      <td>0</td>\n",
              "      <td>0</td>\n",
              "      <td>0</td>\n",
              "    </tr>\n",
              "    <tr>\n",
              "      <th>...</th>\n",
              "      <td>...</td>\n",
              "      <td>...</td>\n",
              "      <td>...</td>\n",
              "      <td>...</td>\n",
              "      <td>...</td>\n",
              "      <td>...</td>\n",
              "      <td>...</td>\n",
              "      <td>...</td>\n",
              "      <td>...</td>\n",
              "      <td>...</td>\n",
              "      <td>...</td>\n",
              "      <td>...</td>\n",
              "      <td>...</td>\n",
              "    </tr>\n",
              "    <tr>\n",
              "      <th>154</th>\n",
              "      <td>12.2</td>\n",
              "      <td>11.5</td>\n",
              "      <td>12.2</td>\n",
              "      <td>13.4</td>\n",
              "      <td>2.0904</td>\n",
              "      <td>1.3936</td>\n",
              "      <td>0</td>\n",
              "      <td>0</td>\n",
              "      <td>0</td>\n",
              "      <td>0</td>\n",
              "      <td>0</td>\n",
              "      <td>1</td>\n",
              "      <td>0</td>\n",
              "    </tr>\n",
              "    <tr>\n",
              "      <th>155</th>\n",
              "      <td>13.4</td>\n",
              "      <td>11.7</td>\n",
              "      <td>12.4</td>\n",
              "      <td>13.5</td>\n",
              "      <td>2.4300</td>\n",
              "      <td>1.2690</td>\n",
              "      <td>0</td>\n",
              "      <td>0</td>\n",
              "      <td>0</td>\n",
              "      <td>0</td>\n",
              "      <td>0</td>\n",
              "      <td>1</td>\n",
              "      <td>0</td>\n",
              "    </tr>\n",
              "    <tr>\n",
              "      <th>156</th>\n",
              "      <td>12.2</td>\n",
              "      <td>12.1</td>\n",
              "      <td>13.0</td>\n",
              "      <td>13.8</td>\n",
              "      <td>2.2770</td>\n",
              "      <td>1.2558</td>\n",
              "      <td>0</td>\n",
              "      <td>0</td>\n",
              "      <td>0</td>\n",
              "      <td>0</td>\n",
              "      <td>0</td>\n",
              "      <td>1</td>\n",
              "      <td>0</td>\n",
              "    </tr>\n",
              "    <tr>\n",
              "      <th>157</th>\n",
              "      <td>19.7</td>\n",
              "      <td>13.2</td>\n",
              "      <td>14.3</td>\n",
              "      <td>15.2</td>\n",
              "      <td>2.8728</td>\n",
              "      <td>2.0672</td>\n",
              "      <td>0</td>\n",
              "      <td>0</td>\n",
              "      <td>0</td>\n",
              "      <td>0</td>\n",
              "      <td>0</td>\n",
              "      <td>1</td>\n",
              "      <td>0</td>\n",
              "    </tr>\n",
              "    <tr>\n",
              "      <th>158</th>\n",
              "      <td>19.9</td>\n",
              "      <td>13.8</td>\n",
              "      <td>15.0</td>\n",
              "      <td>16.2</td>\n",
              "      <td>2.9322</td>\n",
              "      <td>1.8792</td>\n",
              "      <td>0</td>\n",
              "      <td>0</td>\n",
              "      <td>0</td>\n",
              "      <td>0</td>\n",
              "      <td>0</td>\n",
              "      <td>1</td>\n",
              "      <td>0</td>\n",
              "    </tr>\n",
              "  </tbody>\n",
              "</table>\n",
              "<p>159 rows × 13 columns</p>\n",
              "</div>"
            ],
            "text/plain": [
              "     Weight  Length1  Length2  ...  Species_Roach  Species_Smelt  Species_Whitefish\n",
              "0     242.0     23.2     25.4  ...              0              0                  0\n",
              "1     290.0     24.0     26.3  ...              0              0                  0\n",
              "2     340.0     23.9     26.5  ...              0              0                  0\n",
              "3     363.0     26.3     29.0  ...              0              0                  0\n",
              "4     430.0     26.5     29.0  ...              0              0                  0\n",
              "..      ...      ...      ...  ...            ...            ...                ...\n",
              "154    12.2     11.5     12.2  ...              0              1                  0\n",
              "155    13.4     11.7     12.4  ...              0              1                  0\n",
              "156    12.2     12.1     13.0  ...              0              1                  0\n",
              "157    19.7     13.2     14.3  ...              0              1                  0\n",
              "158    19.9     13.8     15.0  ...              0              1                  0\n",
              "\n",
              "[159 rows x 13 columns]"
            ]
          },
          "metadata": {
            "tags": []
          },
          "execution_count": 19
        }
      ]
    },
    {
      "cell_type": "markdown",
      "metadata": {
        "id": "LmlKYZaxNW_Q"
      },
      "source": [
        "Podemos até gerar novamente a correlação entre as variáveis."
      ]
    },
    {
      "cell_type": "code",
      "metadata": {
        "colab": {
          "base_uri": "https://localhost:8080/"
        },
        "id": "4zKy3aJZNXLc",
        "outputId": "4a268ebb-7cb4-46ad-81ab-0dfa5d5330af"
      },
      "source": [
        "peixe.corr()['Weight']"
      ],
      "execution_count": 20,
      "outputs": [
        {
          "output_type": "execute_result",
          "data": {
            "text/plain": [
              "Weight               1.000000\n",
              "Length1              0.915712\n",
              "Length2              0.918618\n",
              "Length3              0.923044\n",
              "Height               0.724345\n",
              "Width                0.886507\n",
              "Species_Bream        0.326795\n",
              "Species_Parkki      -0.186034\n",
              "Species_Perch       -0.033240\n",
              "Species_Pike         0.310641\n",
              "Species_Roach       -0.261784\n",
              "Species_Smelt       -0.337109\n",
              "Species_Whitefish    0.073625\n",
              "Name: Weight, dtype: float64"
            ]
          },
          "metadata": {
            "tags": []
          },
          "execution_count": 20
        }
      ]
    },
    {
      "cell_type": "markdown",
      "metadata": {
        "id": "4IwRdigHERRm"
      },
      "source": [
        "## Separando as variáveis\r\n",
        "\r\n",
        "Irei separar as variáveis em variáveis independente e dependentes."
      ]
    },
    {
      "cell_type": "code",
      "metadata": {
        "id": "cyryF7GHEQj7"
      },
      "source": [
        "y = peixe['Weight']\r\n",
        "X = pd.DataFrame(peixe['Length2'])"
      ],
      "execution_count": 155,
      "outputs": []
    },
    {
      "cell_type": "markdown",
      "metadata": {
        "id": "-uOiikvxN5tF"
      },
      "source": [
        "Visualizando."
      ]
    },
    {
      "cell_type": "code",
      "metadata": {
        "colab": {
          "base_uri": "https://localhost:8080/",
          "height": 624
        },
        "id": "tgZBNLrXN54-",
        "outputId": "986125f5-a1e1-4679-bb98-bdac59177ae2"
      },
      "source": [
        "display(y)\r\n",
        "display(X)"
      ],
      "execution_count": 29,
      "outputs": [
        {
          "output_type": "display_data",
          "data": {
            "text/plain": [
              "0      242.0\n",
              "1      290.0\n",
              "2      340.0\n",
              "3      363.0\n",
              "4      430.0\n",
              "       ...  \n",
              "154     12.2\n",
              "155     13.4\n",
              "156     12.2\n",
              "157     19.7\n",
              "158     19.9\n",
              "Name: Weight, Length: 159, dtype: float64"
            ]
          },
          "metadata": {
            "tags": []
          }
        },
        {
          "output_type": "display_data",
          "data": {
            "text/html": [
              "<div>\n",
              "<style scoped>\n",
              "    .dataframe tbody tr th:only-of-type {\n",
              "        vertical-align: middle;\n",
              "    }\n",
              "\n",
              "    .dataframe tbody tr th {\n",
              "        vertical-align: top;\n",
              "    }\n",
              "\n",
              "    .dataframe thead th {\n",
              "        text-align: right;\n",
              "    }\n",
              "</style>\n",
              "<table border=\"1\" class=\"dataframe\">\n",
              "  <thead>\n",
              "    <tr style=\"text-align: right;\">\n",
              "      <th></th>\n",
              "      <th>Length2</th>\n",
              "    </tr>\n",
              "  </thead>\n",
              "  <tbody>\n",
              "    <tr>\n",
              "      <th>0</th>\n",
              "      <td>25.4</td>\n",
              "    </tr>\n",
              "    <tr>\n",
              "      <th>1</th>\n",
              "      <td>26.3</td>\n",
              "    </tr>\n",
              "    <tr>\n",
              "      <th>2</th>\n",
              "      <td>26.5</td>\n",
              "    </tr>\n",
              "    <tr>\n",
              "      <th>3</th>\n",
              "      <td>29.0</td>\n",
              "    </tr>\n",
              "    <tr>\n",
              "      <th>4</th>\n",
              "      <td>29.0</td>\n",
              "    </tr>\n",
              "    <tr>\n",
              "      <th>...</th>\n",
              "      <td>...</td>\n",
              "    </tr>\n",
              "    <tr>\n",
              "      <th>154</th>\n",
              "      <td>12.2</td>\n",
              "    </tr>\n",
              "    <tr>\n",
              "      <th>155</th>\n",
              "      <td>12.4</td>\n",
              "    </tr>\n",
              "    <tr>\n",
              "      <th>156</th>\n",
              "      <td>13.0</td>\n",
              "    </tr>\n",
              "    <tr>\n",
              "      <th>157</th>\n",
              "      <td>14.3</td>\n",
              "    </tr>\n",
              "    <tr>\n",
              "      <th>158</th>\n",
              "      <td>15.0</td>\n",
              "    </tr>\n",
              "  </tbody>\n",
              "</table>\n",
              "<p>159 rows × 1 columns</p>\n",
              "</div>"
            ],
            "text/plain": [
              "     Length2\n",
              "0       25.4\n",
              "1       26.3\n",
              "2       26.5\n",
              "3       29.0\n",
              "4       29.0\n",
              "..       ...\n",
              "154     12.2\n",
              "155     12.4\n",
              "156     13.0\n",
              "157     14.3\n",
              "158     15.0\n",
              "\n",
              "[159 rows x 1 columns]"
            ]
          },
          "metadata": {
            "tags": []
          }
        }
      ]
    },
    {
      "cell_type": "markdown",
      "metadata": {
        "id": "310xn3vPENVr"
      },
      "source": [
        "## Criando o modelo\r\n",
        "\r\n",
        "Como dito no início irei primeiro gerar um modelo univariado e nesse modelo irei usar a variável *Lenght2*, que é o comprimento da diagonal do peixe em centímetros.\r\n",
        "\r\n",
        "Instanciando o modelo de regressão linear."
      ]
    },
    {
      "cell_type": "code",
      "metadata": {
        "id": "9TpeE7Kd9Lk1"
      },
      "source": [
        "model = mlr()"
      ],
      "execution_count": 156,
      "outputs": []
    },
    {
      "cell_type": "markdown",
      "metadata": {
        "id": "aRY_48-GDt00"
      },
      "source": [
        "Inserindo os dados no modelo."
      ]
    },
    {
      "cell_type": "code",
      "metadata": {
        "id": "RYCCTw0LD7ah"
      },
      "source": [
        "model.ingest_data(X,y)"
      ],
      "execution_count": 157,
      "outputs": []
    },
    {
      "cell_type": "markdown",
      "metadata": {
        "id": "92KO3kg-DwH7"
      },
      "source": [
        "Treinando o modelo."
      ]
    },
    {
      "cell_type": "code",
      "metadata": {
        "id": "tTtQJSqZD7cf"
      },
      "source": [
        "model.fit()"
      ],
      "execution_count": 158,
      "outputs": []
    },
    {
      "cell_type": "markdown",
      "metadata": {
        "id": "I1X7TizMK3qt"
      },
      "source": [
        "### Análise dos parâmetros do modelo\r\n",
        "\r\n",
        "Vemos abaixo o intercepto (que seria o ponto de partida do modelo) e parâmetro da variável *Lenght2* (comprimento diagonal do peixe). A interpretação dada aos parâmetros de uma regressão linear é que a variação de uma unidade de uma das variáveis aumenta o valor médio do peso do peixe (ou diminui em caso de sinal negativo dos parâmetros)."
      ]
    },
    {
      "cell_type": "code",
      "metadata": {
        "colab": {
          "base_uri": "https://localhost:8080/"
        },
        "id": "P_5loIOKK6Y4",
        "outputId": "63fc163e-56b9-4cc4-a38d-0ced27ceaca3"
      },
      "source": [
        "print('Intercepto do modelo :',model.intercept_)\r\n",
        "print('Parâmetro da variável Lenght2 :',model.coef_[0])"
      ],
      "execution_count": 159,
      "outputs": [
        {
          "output_type": "stream",
          "text": [
            "Intercepto do modelo : -473.64900740680565\n",
            "Parâmetro da variável Lenght2 : 30.68637085891901\n"
          ],
          "name": "stdout"
        }
      ]
    },
    {
      "cell_type": "markdown",
      "metadata": {
        "id": "F945BONgMheQ"
      },
      "source": [
        "Abaixo podemos ver o intervalo de confiança de cada parâmetro do modelo."
      ]
    },
    {
      "cell_type": "code",
      "metadata": {
        "id": "lZl_qSYBD7in",
        "colab": {
          "base_uri": "https://localhost:8080/",
          "height": 110
        },
        "outputId": "44c9503b-b8d6-4bdb-a33a-e6eab52c1893"
      },
      "source": [
        "model.conf_int()"
      ],
      "execution_count": 160,
      "outputs": [
        {
          "output_type": "execute_result",
          "data": {
            "text/html": [
              "<div>\n",
              "<style scoped>\n",
              "    .dataframe tbody tr th:only-of-type {\n",
              "        vertical-align: middle;\n",
              "    }\n",
              "\n",
              "    .dataframe tbody tr th {\n",
              "        vertical-align: top;\n",
              "    }\n",
              "\n",
              "    .dataframe thead th {\n",
              "        text-align: right;\n",
              "    }\n",
              "</style>\n",
              "<table border=\"1\" class=\"dataframe\">\n",
              "  <thead>\n",
              "    <tr style=\"text-align: right;\">\n",
              "      <th></th>\n",
              "      <th>0</th>\n",
              "      <th>1</th>\n",
              "    </tr>\n",
              "  </thead>\n",
              "  <tbody>\n",
              "    <tr>\n",
              "      <th>const</th>\n",
              "      <td>-536.816426</td>\n",
              "      <td>-410.481589</td>\n",
              "    </tr>\n",
              "    <tr>\n",
              "      <th>Length2</th>\n",
              "      <td>28.605578</td>\n",
              "      <td>32.767163</td>\n",
              "    </tr>\n",
              "  </tbody>\n",
              "</table>\n",
              "</div>"
            ],
            "text/plain": [
              "                  0           1\n",
              "const   -536.816426 -410.481589\n",
              "Length2   28.605578   32.767163"
            ]
          },
          "metadata": {
            "tags": []
          },
          "execution_count": 160
        }
      ]
    },
    {
      "cell_type": "markdown",
      "metadata": {
        "id": "-NIjOX0wRVIe"
      },
      "source": [
        "**Estatística t**\r\n",
        "\r\n",
        "Esse resultado faz parte do teste de hipótese do parâmetro. Nesse teste de hipótese testamos se o parâmetro é estatisticamente igual a um determinado valor, ou seja,\r\n",
        "\r\n",
        "$H_0$: $\\beta_{j}=\\beta_{j}^{0}$\r\n",
        "\r\n",
        "$H_1$: $\\beta_{j}\\ne \\beta_{j}^{0}$\r\n",
        "\r\n",
        "Geralmente testamos se o parâmetro é estatisticamente nulo, ou seja, $\\beta_{j} = 0$, nesse caso:\r\n",
        "\r\n",
        "$H_0$: $\\beta_{j}=0$\r\n",
        "\r\n",
        "$H_1$: $\\beta_{j}\\ne 0$\r\n",
        "\r\n",
        "O ideal para esse teste é que rejeitemos a hipótese nula. A regra de rejeição de $H_{0}$ é $t > t_{T-K;1 -\\frac{\\alpha}{2}}$ e calculamos t da seguinte forma:\r\n",
        "\r\n",
        "$t = \\frac{b_{j} - \\beta_{j}^{0}}{ep(\\beta_{j})}$\r\n",
        "\r\n",
        "Como $\\beta_{j}^{0} = 0$, para o intercepto, temos:\r\n",
        "\r\n",
        "$ t= \\frac{b_{j}}{ep(b_{j})} = \\frac{-473.64900740680565}{31.98044003750429} = -14.810584433839582$\r\n",
        "\r\n",
        "Para o parâmetro de *Lenght2*:\r\n",
        "\r\n",
        "$ t= \\frac{b_{j}}{ep(b_{j})} = \\frac{30.68637085891901}{1.0534649555717872} = 29.128990667053838$\r\n",
        "\r\n",
        "\r\n",
        "Para o nosso exemplo e conforme a tabela t-student encontrada [aqui](https://edisciplinas.usp.br/pluginfile.php/1786946/mod_resource/content/1/Tabelat-student.pdf) os nossos limites da região de aceitação são -2.009 e +2.009 (mais de 50 graus de liberdade e nível de significância de 0,025%, por ser um teste bilateral) e para o teste **z** = -1,96 ou +1,96. Como o resultado excede esses limites da região de aceitação da hipótese nula, rejeitamos $H_{0}$.\r\n",
        "\r\n",
        "Abaixo os resultados extrapolam os valores de -2.009 e +2.009, então rejeitamos $H_0$ e os parâmetros são estatisticamente significativos."
      ]
    },
    {
      "cell_type": "code",
      "metadata": {
        "colab": {
          "base_uri": "https://localhost:8080/"
        },
        "id": "gCsaoNNmOU-1",
        "outputId": "17ab77b4-9d8c-48de-8ff7-bcb03fd1e9fd"
      },
      "source": [
        "print('t-valor da constante ou intercepto :',model.tvalues()[0])\r\n",
        "print('t-valor do parâmetro de Lenght2 :',model.tvalues()[1])"
      ],
      "execution_count": 57,
      "outputs": [
        {
          "output_type": "stream",
          "text": [
            "t-valor da constante ou intercepto : -14.810584433839582\n",
            "t-valor do parâmetro de Lenght2 : 29.128990667053838\n"
          ],
          "name": "stdout"
        }
      ]
    },
    {
      "cell_type": "markdown",
      "metadata": {
        "id": "U09BEkXKRosO"
      },
      "source": [
        "Erros-padros dos parâmetros que são usados para gerar o **t-teste**."
      ]
    },
    {
      "cell_type": "code",
      "metadata": {
        "colab": {
          "base_uri": "https://localhost:8080/"
        },
        "id": "KOaGLEmvOVCl",
        "outputId": "e0f76cb1-3f5a-4296-c8cc-7ddfeca7e938"
      },
      "source": [
        "print('Erro padrão da constante ou intercepto :',model.std_err()[0])\r\n",
        "print('Erro padrão do parâmetro de Lenght2 :',model.std_err()[1])"
      ],
      "execution_count": 56,
      "outputs": [
        {
          "output_type": "stream",
          "text": [
            "Erro padrão da constante ou intercepto : 31.98044003750429\n",
            "Erro padrão do parâmetro de Lenght2 : 1.0534649555717872\n"
          ],
          "name": "stdout"
        }
      ]
    },
    {
      "cell_type": "markdown",
      "metadata": {
        "id": "NDq3DTxkO529"
      },
      "source": [
        "O *p-value* ou *p*-valor é uma outra forma de ver a significância dos parâmetros: se esse valor for menor que 5%, rejeitamos a hipótese que os parâmetros são estatisticamente insignificantes ou igual a zero. No nosso caso esse valores estão muito abaixo desse valor de 5%, então eles são significantes."
      ]
    },
    {
      "cell_type": "code",
      "metadata": {
        "colab": {
          "base_uri": "https://localhost:8080/"
        },
        "id": "4ltd6-DfOU9K",
        "outputId": "08730534-8a52-4a06-9871-295641428ad6"
      },
      "source": [
        "print('P-valor da constante ou intercepto :',model.pvalues()[0])\r\n",
        "print('P-valor do parâmetro de Lenght2 :',model.pvalues()[1])"
      ],
      "execution_count": 52,
      "outputs": [
        {
          "output_type": "stream",
          "text": [
            "P-valor da constante ou intercepto : 1.2955035596622344e-31\n",
            "P-valor do parâmetro de Lenght2 : 3.3951132290327732e-65\n"
          ],
          "name": "stdout"
        }
      ]
    },
    {
      "cell_type": "markdown",
      "metadata": {
        "id": "Lspk1nZcUPGR"
      },
      "source": [
        "Matriz de correlação do modelo."
      ]
    },
    {
      "cell_type": "code",
      "metadata": {
        "colab": {
          "base_uri": "https://localhost:8080/"
        },
        "id": "8CNenyXqUKBL",
        "outputId": "50cbf721-a4f3-4e38-9c79-f2f84f2c3fd7"
      },
      "source": [
        "model.corrcoef()"
      ],
      "execution_count": 58,
      "outputs": [
        {
          "output_type": "execute_result",
          "data": {
            "text/plain": [
              "1.0"
            ]
          },
          "metadata": {
            "tags": []
          },
          "execution_count": 58
        }
      ]
    },
    {
      "cell_type": "markdown",
      "metadata": {
        "id": "4BoAtO6vUcTD"
      },
      "source": [
        "Matriz de covariância do modelo.\r\n"
      ]
    },
    {
      "cell_type": "code",
      "metadata": {
        "colab": {
          "base_uri": "https://localhost:8080/"
        },
        "id": "FBSXOhNzUKDS",
        "outputId": "cfc2cf9f-d232-4c12-f8d3-97da514f0ae3"
      },
      "source": [
        "model.covar()"
      ],
      "execution_count": 59,
      "outputs": [
        {
          "output_type": "execute_result",
          "data": {
            "text/plain": [
              "array(114.83968792)"
            ]
          },
          "metadata": {
            "tags": []
          },
          "execution_count": 59
        }
      ]
    },
    {
      "cell_type": "markdown",
      "metadata": {
        "id": "KoP8_Q40Dzzl"
      },
      "source": [
        "### Métricas do modelo\r\n",
        "\r\n",
        "1) **SSE** (que é a soma dos quadrados do erro): O erro é a diferença entre o valor observado e o valor previsto, seria a variação que o modelo não consegue explicar;\r\n",
        "\r\n",
        "2) **SST** (soma do quadrado totais): É a soma das diferenças entre o valor previsto e a média da variável dependente.\r\n",
        "\r\n",
        "3)**MSE** (Erro quadrado médio): Métrica de erro mais usada.\r\n",
        "\r\n",
        "\r\n",
        "\r\n",
        "4) $R^2$ (*R* quadrado ou **coeficiente de determinação**): É o quanto a variável independente consegue explicar a variação da variável dependente, esse resultado é encontrado com a seguinte fórmula: $R^2 = 1 - \\frac{SSE}{SST}$\r\n",
        "\r\n",
        "Ainda sobre o R²:\r\n",
        "\r\n",
        "**a)** O R² é um métrica que varia de 0 a 1, se o modelo tiver intercepto.\r\n",
        "\r\n",
        "**b)** A princípio, quanto maior o R² melhor é o modelo de regressão, ou seja, maior a capacidade de explicação do modelo. \r\n",
        "\r\n",
        "**c)** O $R^2$ é não descrescente quanto ao número de regressores, ou seja, se adicionarmos mais variáveis ao modelo o R² nunca diminuirá.\r\n",
        "\r\n",
        "**d)** O $R^2$ é o ceficiente de correlação linear entre y e y predito.\r\n",
        "\r\n",
        "**e)** Como $R^2$ mede a proporção da variação da resposta em torno de sua média amostral que pode ser explicada\r\n",
        "usando o modelo de regressão ao invés do modelo simples.\r\n",
        "\r\n",
        "**f)** Caso o modelo de regressão de não tenha intercepto, então não é possível garantir que o $R^2$ varie entre 0 e 1. Nesse caso, usa-se o $R^2$ não centrado.\r\n",
        "\r\n",
        "\r\n",
        "5) **$R^2$ ajustado** (*R* quadrado ajustado): é uma outra métrica que iferente do $R^2$, o $R^2$ ajustado não sofre a limitação de nunca decair. Caso seja inserido um modelo de regressão uma variável que não seja importante o $R^2$ ajustado irá diminuir. Uma característica do $R^2$ ajustado é que ele pode ser negativo e por isso ele não pode ser interpretado como uma proporção. No nosso exemplo o $R^2$ ajustado caiu um pouco, porém nada significante em comparação com o $R^2$.\r\n",
        "\r\n",
        "A fórmula do $R^2$ ajustado é dada por: $1 - \\frac{n-1}{(n-1)k}(1 - R^2)$, onde $k$ é o número de parâmetros.\r\n",
        "\r\n",
        "6) **AIC e BIC**: Mais acima nós afirmamos que o $R^2$ ajustado serve para compararmos diferentes modelos, porém existem estatísticas melhores para fazermos essa comparação. Entres elas são: **AIC (Akaike information criterion)** e **BIC (Bayesian information criterion)**. Ambos são critérios de informação e possuem uma fundamentação estatística e matemática mais rigorosa do que o $R^2$ ajustado.\r\n",
        "\r\n",
        "Abaixo geramos as métricas do modelo.\r\n"
      ]
    },
    {
      "cell_type": "code",
      "metadata": {
        "colab": {
          "base_uri": "https://localhost:8080/"
        },
        "id": "MBnd99IwD7eY",
        "outputId": "9155a58a-595f-49be-bad5-ffaa033819df"
      },
      "source": [
        "model.print_metrics()"
      ],
      "execution_count": 28,
      "outputs": [
        {
          "output_type": "stream",
          "text": [
            "sse:     3161469.0097\n",
            "sst:     20247459.0691\n",
            "mse:     19883.4529\n",
            "r^2:     0.8439\n",
            "adj_r^2: 0.8429\n",
            "AIC:     2028.9477\n",
            "BIC:     2035.0855\n"
          ],
          "name": "stdout"
        }
      ]
    },
    {
      "cell_type": "markdown",
      "metadata": {
        "id": "ARbV0eJGKP71"
      },
      "source": [
        "O *F-statistic* é uma estatística do teste seguinte teste de hipótese:\r\n",
        "\r\n",
        "$H_0$: $\\beta_1=\\beta_2 =\\beta_3 = \\beta_4= ... =\\beta_k =0$ (não há relação de regressão (linear) entre a resposta e os regressores)\r\n",
        "\r\n",
        "$H_1$: não $H_0$ (Pelo menos uma das inclinações é diferente de zero)\r\n",
        "\r\n",
        "O que esse teste de hipótese teste é se os coeficientes são conjuntamente nulos e para esse teste deve-se **rejeitar** a hipótese nula e para rejeitar a hipótese nula precisamos que o valor da estatística gerado no modelo esteja fora da região de aceitação de $H_0$. Esse teste é conhecido como o **teste F**.\r\n",
        "\r\n",
        "A regra de rejeição é que $F > F_{K-1;T-K;1-\\alpha}$\r\n",
        "\r\n",
        "Abaixo o teste apresentou um resultado muito baixo (a 5% de nível de significância), com isso podemos concluir rejeitando $H_0$ e os parâmetros/coeficientes são conjuntamente significativos."
      ]
    },
    {
      "cell_type": "code",
      "metadata": {
        "colab": {
          "base_uri": "https://localhost:8080/"
        },
        "id": "aPEQd46iD7gu",
        "outputId": "a8a59ca6-bec3-4fef-ae17-df6c6fdae54c"
      },
      "source": [
        "print('Estatística do teste F :',model.ftest()[0])\r\n",
        "print('p-valor do teste F :', model.ftest()[1])"
      ],
      "execution_count": 44,
      "outputs": [
        {
          "output_type": "stream",
          "text": [
            "Estatística do teste F : 848.4980972813104\n",
            "p-valor do teste F : 3.3951132290325792e-65\n"
          ],
          "name": "stdout"
        }
      ]
    },
    {
      "cell_type": "markdown",
      "metadata": {
        "id": "wRvJu2PyFKfY"
      },
      "source": [
        "### Análise dos resíduos\r\n",
        "\r\n",
        "Nos resíduos do modelo podemos notar que há um comportamento não linear, pois o ideal é que os dados estejam em torno da linha que está no valor 0, ou seja, um ruído branco; os erros devem se comportar distribuídos normalmente com média zero e variância constante. Isso significa que há alguma(s) variável(is) que falta(m) no modelo."
      ]
    },
    {
      "cell_type": "code",
      "metadata": {
        "colab": {
          "base_uri": "https://localhost:8080/",
          "height": 296
        },
        "id": "oMpyJLNxFKqf",
        "outputId": "9f993d98-107b-4e6c-9658-5be3f36e7120"
      },
      "source": [
        "model.fitted_vs_residual()"
      ],
      "execution_count": 61,
      "outputs": [
        {
          "output_type": "display_data",
          "data": {
            "image/png": "[encoded data removed]",
            "text/plain": [
              "<Figure size 432x288 with 1 Axes>"
            ]
          },
          "metadata": {
            "tags": [],
            "needs_background": "light"
          }
        }
      ]
    },
    {
      "cell_type": "markdown",
      "metadata": {
        "id": "T_TVaLaUWWAj"
      },
      "source": [
        "A distribuição dos resíduos não se assemelha a uma distribuição normal, pode-se ver isso pelo histograma que não há um formato de *sino* na distribuição, que configura uam distribuição normal."
      ]
    },
    {
      "cell_type": "code",
      "metadata": {
        "id": "buuiEfb3D7kN",
        "colab": {
          "base_uri": "https://localhost:8080/",
          "height": 294
        },
        "outputId": "eca0eaa3-ea43-491b-ee36-7ed4f6b4c76f"
      },
      "source": [
        "model.histogram_resid()"
      ],
      "execution_count": 62,
      "outputs": [
        {
          "output_type": "display_data",
          "data": {
            "image/png": "[encoded data removed]",
            "text/plain": [
              "<Figure size 432x288 with 1 Axes>"
            ]
          },
          "metadata": {
            "tags": [],
            "needs_background": "light"
          }
        }
      ]
    },
    {
      "cell_type": "markdown",
      "metadata": {
        "id": "GL3XPWPhWcpg"
      },
      "source": [
        "E o gráfico *QQpolt*, onde todos os *quantis* dos resíduos devem estar em cima da linha vermelha, porém isso não ocorre."
      ]
    },
    {
      "cell_type": "code",
      "metadata": {
        "id": "6bGPySy2D7mr",
        "colab": {
          "base_uri": "https://localhost:8080/",
          "height": 294
        },
        "outputId": "1574f0e4-cff4-42a0-a023-8efc4a20614e"
      },
      "source": [
        "model.qqplot_resid()"
      ],
      "execution_count": 63,
      "outputs": [
        {
          "output_type": "display_data",
          "data": {
            "image/png": "[encoded data removed]",
            "text/plain": [
              "<Figure size 432x288 with 1 Axes>"
            ]
          },
          "metadata": {
            "tags": [],
            "needs_background": "light"
          }
        }
      ]
    },
    {
      "cell_type": "markdown",
      "metadata": {
        "id": "vLkuQHZoYnFR"
      },
      "source": [
        "Dado a análise dos resíduos esse modelo não é um modelo ideal, por isso irei construir um novo modelo\r\n",
        "\r\n",
        "## Criando o modelo 2\r\n",
        "\r\n",
        "Agora criarei um modelo multivariado e as variáveis explicativas serão *Length2*, *Height* e *Width*."
      ]
    },
    {
      "cell_type": "code",
      "metadata": {
        "id": "2GQtCnNGYbeG"
      },
      "source": [
        "y2 = peixe['Weight']\r\n",
        "X2 = peixe[['Length2','Height','Width']]"
      ],
      "execution_count": 65,
      "outputs": []
    },
    {
      "cell_type": "markdown",
      "metadata": {
        "id": "qHAGbDoJaC-l"
      },
      "source": [
        "Instanciando, inserindo e treinando o modelo"
      ]
    },
    {
      "cell_type": "code",
      "metadata": {
        "id": "XzRIOrwUD7or"
      },
      "source": [
        "model2 = mlr()\r\n",
        "model2.ingest_data(X2,y2)\r\n",
        "model2.fit()"
      ],
      "execution_count": 67,
      "outputs": []
    },
    {
      "cell_type": "markdown",
      "metadata": {
        "id": "yAAaApmpf0ho"
      },
      "source": [
        "### Análise dos parâmetros do modelo 2\r\n",
        "\r\n",
        "Parâmetros do modelo."
      ]
    },
    {
      "cell_type": "code",
      "metadata": {
        "id": "VqAHbW0hD7qV",
        "colab": {
          "base_uri": "https://localhost:8080/"
        },
        "outputId": "b3751fd1-eba9-458c-c9f8-b2caa4c2677a"
      },
      "source": [
        "print('Intercepto do modelo :',model2.intercept_)\r\n",
        "print('Parâmetro da variável Lenght2 :',model2.coef_[0])\r\n",
        "print('Parâmetro da variável Height :',model2.coef_[1])\r\n",
        "print('Parâmetro da variável Width :',model2.coef_[2])"
      ],
      "execution_count": 68,
      "outputs": [
        {
          "output_type": "stream",
          "text": [
            "Intercepto do modelo : -517.3058304969841\n",
            "Parâmetro da variável Lenght2 : 21.4217664438438\n",
            "Parâmetro da variável Height : 12.350217608704611\n",
            "Parâmetro da variável Widht : 44.39709702045229\n"
          ],
          "name": "stdout"
        }
      ]
    },
    {
      "cell_type": "markdown",
      "metadata": {
        "id": "EgC9GHA0f7W4"
      },
      "source": [
        "Intervalo de confiança dos parâmetros."
      ]
    },
    {
      "cell_type": "code",
      "metadata": {
        "id": "RHKVDMYsD7uF",
        "colab": {
          "base_uri": "https://localhost:8080/",
          "height": 172
        },
        "outputId": "2290bdd8-b29f-40be-fa51-d057f82f108e"
      },
      "source": [
        "model2.conf_int()"
      ],
      "execution_count": 69,
      "outputs": [
        {
          "output_type": "execute_result",
          "data": {
            "text/html": [
              "<div>\n",
              "<style scoped>\n",
              "    .dataframe tbody tr th:only-of-type {\n",
              "        vertical-align: middle;\n",
              "    }\n",
              "\n",
              "    .dataframe tbody tr th {\n",
              "        vertical-align: top;\n",
              "    }\n",
              "\n",
              "    .dataframe thead th {\n",
              "        text-align: right;\n",
              "    }\n",
              "</style>\n",
              "<table border=\"1\" class=\"dataframe\">\n",
              "  <thead>\n",
              "    <tr style=\"text-align: right;\">\n",
              "      <th></th>\n",
              "      <th>0</th>\n",
              "      <th>1</th>\n",
              "    </tr>\n",
              "  </thead>\n",
              "  <tbody>\n",
              "    <tr>\n",
              "      <th>const</th>\n",
              "      <td>-574.099098</td>\n",
              "      <td>-460.512563</td>\n",
              "    </tr>\n",
              "    <tr>\n",
              "      <th>Length2</th>\n",
              "      <td>17.614613</td>\n",
              "      <td>25.228920</td>\n",
              "    </tr>\n",
              "    <tr>\n",
              "      <th>Height</th>\n",
              "      <td>4.747220</td>\n",
              "      <td>19.953215</td>\n",
              "    </tr>\n",
              "    <tr>\n",
              "      <th>Width</th>\n",
              "      <td>13.895744</td>\n",
              "      <td>74.898450</td>\n",
              "    </tr>\n",
              "  </tbody>\n",
              "</table>\n",
              "</div>"
            ],
            "text/plain": [
              "                  0           1\n",
              "const   -574.099098 -460.512563\n",
              "Length2   17.614613   25.228920\n",
              "Height     4.747220   19.953215\n",
              "Width     13.895744   74.898450"
            ]
          },
          "metadata": {
            "tags": []
          },
          "execution_count": 69
        }
      ]
    },
    {
      "cell_type": "markdown",
      "metadata": {
        "id": "6FWI__k0gCNW"
      },
      "source": [
        "Estatísticas **t** de cada parâmetro do modelo. Pela tabela de *t-student* com 155 graus de liberdade e nível de significância de 5%, os valores das estatísticas *t* extrapolam os limites (-2.009 e +2.009) e assim rejeitamos a hipótese nula que os parâmetros são estatisticamente insignificantes."
      ]
    },
    {
      "cell_type": "code",
      "metadata": {
        "colab": {
          "base_uri": "https://localhost:8080/"
        },
        "id": "lR4DuoBuaOKN",
        "outputId": "1af70d14-e750-4d02-f1bb-fc44df1b842c"
      },
      "source": [
        "print('t-valor da constante ou intercepto :',model.tvalues()[0])\r\n",
        "print('t-valor do parâmetro de Lenght2 :',model.tvalues()[1])\r\n",
        "print('t-valor do parâmetro de Height :',model.tvalues()[2])\r\n",
        "print('t-valor do parâmetro de Width :',model.tvalues()[3])"
      ],
      "execution_count": 70,
      "outputs": [
        {
          "output_type": "stream",
          "text": [
            "t-valor da constante ou intercepto : -17.992964969307884\n",
            "t-valor do parâmetro de Lenght2 : 11.114940550230495\n",
            "t-valor do parâmetro de Height : 3.208795068756836\n",
            "t-valor do parâmetro de Width : 2.87532993690459\n"
          ],
          "name": "stdout"
        }
      ]
    },
    {
      "cell_type": "markdown",
      "metadata": {
        "id": "3rixMy9xgQ8Q"
      },
      "source": [
        "Erros-padrão dos parâmetros do modelo."
      ]
    },
    {
      "cell_type": "code",
      "metadata": {
        "colab": {
          "base_uri": "https://localhost:8080/"
        },
        "id": "c1SAHB3GaOMZ",
        "outputId": "3568933c-11ad-4278-a3dc-ed3300419338"
      },
      "source": [
        "print('Erro padrão da constante ou intercepto :',model.std_err()[0])\r\n",
        "print('Erro padrão do parâmetro de Lenght2 :',model.std_err()[1])\r\n",
        "print('Erro padrão do parâmetro de Height :',model.std_err()[2])\r\n",
        "print('Erro padrão do parâmetro de Width :',model.std_err()[3])"
      ],
      "execution_count": 71,
      "outputs": [
        {
          "output_type": "stream",
          "text": [
            "Erro padrão da constante ou intercepto : 28.750449488418905\n",
            "Erro padrão do parâmetro de Lenght2 : 1.92729473873787\n",
            "Erro padrão do parâmetro de Height : 3.848864556342556\n",
            "Erro padrão do parâmetro de Width : 15.440696544288711\n"
          ],
          "name": "stdout"
        }
      ]
    },
    {
      "cell_type": "markdown",
      "metadata": {
        "id": "POmsMzfXgFcM"
      },
      "source": [
        "Os *p-valores* dos parâmetros do modelo ficaram abaixo de 5%, então todos são estatisticamente significantes (ou diferente de zero)."
      ]
    },
    {
      "cell_type": "code",
      "metadata": {
        "colab": {
          "base_uri": "https://localhost:8080/"
        },
        "id": "2seXjQf8aOOS",
        "outputId": "af495bee-27b8-414c-8691-b57d6ca38fb1"
      },
      "source": [
        "print('P-valor da constante ou intercepto :',model.pvalues()[0])\r\n",
        "print('P-valor do parâmetro de Lenght2 :',model.pvalues()[1])\r\n",
        "print('P-valor do parâmetro de Height :',model.pvalues()[2])\r\n",
        "print('P-valor do parâmetro de Width :',model.pvalues()[3])"
      ],
      "execution_count": 72,
      "outputs": [
        {
          "output_type": "stream",
          "text": [
            "P-valor da constante ou intercepto : 8.554818061919706e-40\n",
            "P-valor do parâmetro de Lenght2 : 1.781955790439655e-21\n",
            "P-valor do parâmetro de Height : 0.0016200018172241616\n",
            "P-valor do parâmetro de Width : 0.004604075887145552\n"
          ],
          "name": "stdout"
        }
      ]
    },
    {
      "cell_type": "markdown",
      "metadata": {
        "id": "Ts7SWn8MhDIg"
      },
      "source": [
        "Matriz de correlação."
      ]
    },
    {
      "cell_type": "code",
      "metadata": {
        "colab": {
          "base_uri": "https://localhost:8080/"
        },
        "id": "BtD9SiANaOQv",
        "outputId": "c3a070e8-0646-487a-bb18-6c4fc06ce6ea"
      },
      "source": [
        "model2.corrcoef()"
      ],
      "execution_count": 73,
      "outputs": [
        {
          "output_type": "execute_result",
          "data": {
            "text/plain": [
              "array([[1.        , 0.6404408 , 0.87354668],\n",
              "       [0.6404408 , 1.        , 0.79288102],\n",
              "       [0.87354668, 0.79288102, 1.        ]])"
            ]
          },
          "metadata": {
            "tags": []
          },
          "execution_count": 73
        }
      ]
    },
    {
      "cell_type": "markdown",
      "metadata": {
        "id": "eq-59BHohHWR"
      },
      "source": [
        "Matriz de covariância."
      ]
    },
    {
      "cell_type": "code",
      "metadata": {
        "colab": {
          "base_uri": "https://localhost:8080/"
        },
        "id": "AunpjusHaOT-",
        "outputId": "407081ad-70a2-451b-b009-076b90a20d51"
      },
      "source": [
        "model2.covar()"
      ],
      "execution_count": 74,
      "outputs": [
        {
          "output_type": "execute_result",
          "data": {
            "text/plain": [
              "array([[114.83968792,  29.41698763,  15.78116877],\n",
              "       [ 29.41698763,  18.37157576,   5.72912464],\n",
              "       [ 15.78116877,   5.72912464,   2.84193469]])"
            ]
          },
          "metadata": {
            "tags": []
          },
          "execution_count": 74
        }
      ]
    },
    {
      "cell_type": "markdown",
      "metadata": {
        "id": "N-fwTPWWhKsM"
      },
      "source": [
        "### Métricas do modelo\r\n",
        "\r\n",
        "Em relação ao modelo anterior:\r\n",
        "\r\n",
        "\r\n",
        "1) O **SSE** caiu, mostrando que houve um aumento no poder explicativo de modelo, dado que o valor de **SST** se manteve. Podemos ver isso também no aumento do $R^2$ (subiu de 0.8439 para 0.8815) e do $R^2$ ajustado (que subiu de 0.8429 para 0.8793).\r\n",
        "\r\n",
        "2) A métrica de erro *MSE* caiu;\r\n",
        "\r\n",
        "3) A métricas **AIC** e **BIC** também caíram, mostram que esse modelo é melhor que o anterior."
      ]
    },
    {
      "cell_type": "code",
      "metadata": {
        "colab": {
          "base_uri": "https://localhost:8080/"
        },
        "id": "XWNkNGSMaOV6",
        "outputId": "2807fdd9-6ce5-4fdb-946f-4dd6ff244abc"
      },
      "source": [
        "model2.print_metrics()"
      ],
      "execution_count": 75,
      "outputs": [
        {
          "output_type": "stream",
          "text": [
            "sse:     2398389.8969\n",
            "sst:     20247459.0691\n",
            "mse:     15084.2132\n",
            "r^2:     0.8815\n",
            "adj_r^2: 0.8793\n",
            "AIC:     1989.0257\n",
            "BIC:     2001.3013\n"
          ],
          "name": "stdout"
        }
      ]
    },
    {
      "cell_type": "markdown",
      "metadata": {
        "id": "IDeeBs8eioV8"
      },
      "source": [
        "O *p-valor* da estatística do teste *F* mostrou-se muito abaixo de 5%, que mostra que os parâmetros conjuntamente significativos."
      ]
    },
    {
      "cell_type": "code",
      "metadata": {
        "colab": {
          "base_uri": "https://localhost:8080/"
        },
        "id": "Hj0rrjh0aOYE",
        "outputId": "1440c764-3551-488b-e362-d0f8a58cd4d3"
      },
      "source": [
        "print('Estatística do teste F :',model.ftest()[0])\r\n",
        "print('p-valor do teste F :', model.ftest()[1])"
      ],
      "execution_count": 77,
      "outputs": [
        {
          "output_type": "stream",
          "text": [
            "Estatística do teste F : 384.50875248805426\n",
            "p-valor do teste F : 1.4868236310594435e-71\n"
          ],
          "name": "stdout"
        }
      ]
    },
    {
      "cell_type": "markdown",
      "metadata": {
        "id": "blDMO1W6i-qA"
      },
      "source": [
        "### Análise dos resíduos\r\n",
        "\r\n",
        "Assim como o modelo anterior, os erros apresentam um comportamento diferente do ideal (com uma distribuição normal)."
      ]
    },
    {
      "cell_type": "code",
      "metadata": {
        "colab": {
          "base_uri": "https://localhost:8080/",
          "height": 296
        },
        "id": "tt0ov_OXbTY7",
        "outputId": "766cef6f-d7e1-41b9-ec25-5a5b1863f129"
      },
      "source": [
        "model2.fitted_vs_residual()"
      ],
      "execution_count": 78,
      "outputs": [
        {
          "output_type": "display_data",
          "data": {
            "image/png": "[encoded data removed]",
            "text/plain": [
              "<Figure size 432x288 with 1 Axes>"
            ]
          },
          "metadata": {
            "tags": [],
            "needs_background": "light"
          }
        }
      ]
    },
    {
      "cell_type": "markdown",
      "metadata": {
        "id": "PXoBEdu-jQV6"
      },
      "source": [
        "O histograma dos resíduos não aparenta ser de forma de *sino*, mas possui um formato melhor do que o histograma do modelo anterior."
      ]
    },
    {
      "cell_type": "code",
      "metadata": {
        "colab": {
          "base_uri": "https://localhost:8080/",
          "height": 294
        },
        "id": "eD47cemEbcOW",
        "outputId": "a17e2196-87c2-4399-9b08-2d2805e02ddc"
      },
      "source": [
        "model2.histogram_resid()"
      ],
      "execution_count": 79,
      "outputs": [
        {
          "output_type": "display_data",
          "data": {
            "image/png": "[encoded data removed]",
            "text/plain": [
              "<Figure size 432x288 with 1 Axes>"
            ]
          },
          "metadata": {
            "tags": [],
            "needs_background": "light"
          }
        }
      ]
    },
    {
      "cell_type": "markdown",
      "metadata": {
        "id": "ntaAYGC1jdm9"
      },
      "source": [
        "Por fim, no *QQplot* os quantis dos resíduos estão mais alinhados com a reta vermelho do que o modelo anterior."
      ]
    },
    {
      "cell_type": "code",
      "metadata": {
        "colab": {
          "base_uri": "https://localhost:8080/",
          "height": 294
        },
        "id": "yigpMKIgbcQf",
        "outputId": "87e61c67-b095-4193-bf6c-28ed0e2b4df1"
      },
      "source": [
        "model2.qqplot_resid()"
      ],
      "execution_count": 80,
      "outputs": [
        {
          "output_type": "display_data",
          "data": {
            "image/png": "[encoded data removed]",
            "text/plain": [
              "<Figure size 432x288 with 1 Axes>"
            ]
          },
          "metadata": {
            "tags": [],
            "needs_background": "light"
          }
        }
      ]
    },
    {
      "cell_type": "markdown",
      "metadata": {
        "id": "FgihauN7btvO"
      },
      "source": [
        "Como esse modelo ainda não trouxe um resultado satisfatório, gerarei outro modelo.\r\n",
        "\r\n",
        "## Criando o modelo 3\r\n",
        "\r\n",
        "Aqui irei inserir algumas variáveis *dummies* no modelo para averiguar se há alguma melhora no mesmo."
      ]
    },
    {
      "cell_type": "code",
      "metadata": {
        "id": "UeL-i6HDbcUN"
      },
      "source": [
        "y3 = peixe['Weight']\r\n",
        "X3 = peixe[['Length1', 'Length2', 'Species_Parkki', 'Species_Pike', 'Species_Smelt']]"
      ],
      "execution_count": 279,
      "outputs": []
    },
    {
      "cell_type": "markdown",
      "metadata": {
        "id": "iIc_ZXcXft4o"
      },
      "source": [
        "Instanciando, inserindo dados e treinando o modelo."
      ]
    },
    {
      "cell_type": "code",
      "metadata": {
        "id": "NElan4PdbsRI"
      },
      "source": [
        "model3 = mlr()\r\n",
        "model3.ingest_data(X3,y3)\r\n",
        "model3.fit()"
      ],
      "execution_count": 281,
      "outputs": []
    },
    {
      "cell_type": "markdown",
      "metadata": {
        "id": "n9-mc_Dmk7-1"
      },
      "source": [
        "### Análise dos parâmetros do modelo 3\r\n",
        "\r\n",
        "Parâmetro de cada variável."
      ]
    },
    {
      "cell_type": "code",
      "metadata": {
        "colab": {
          "base_uri": "https://localhost:8080/"
        },
        "id": "_9CcCwoBkG2e",
        "outputId": "fea56377-7238-4379-a3bf-47a4f79e96b9"
      },
      "source": [
        "print('Intercepto do modelo :',model3.intercept_)\r\n",
        "print('Parâmetro da variável Lenght1 :',model3.coef_[0])\r\n",
        "print('Parâmetro da variável Lenght2 :',model3.coef_[1])\r\n",
        "print('Parâmetro da variável Species_Parkki :',model3.coef_[2])\r\n",
        "print('Parâmetro da variável Species_Pike :',model3.coef_[3])\r\n",
        "print('Parâmetro da variável Species_Smelt :',model3.coef_[4])"
      ],
      "execution_count": 291,
      "outputs": [
        {
          "output_type": "stream",
          "text": [
            "Intercepto do modelo : -770.904781424374\n",
            "Parâmetro da variável Lenght1 : -76.21285602584442\n",
            "Parâmetro da variável Lenght2 : 111.73068800072406\n",
            "Parâmetro da variável Species_Parkki : 79.77026931165607\n",
            "Parâmetro da variável Species_Pike : -354.9107848050803\n",
            "Parâmetro da variável Species_Smelt : 308.03294444937256\n"
          ],
          "name": "stdout"
        }
      ]
    },
    {
      "cell_type": "markdown",
      "metadata": {
        "id": "eibSl4sdlEUU"
      },
      "source": [
        "Intervalo de Confiança dos parâmetros."
      ]
    },
    {
      "cell_type": "code",
      "metadata": {
        "colab": {
          "base_uri": "https://localhost:8080/",
          "height": 233
        },
        "id": "CHq0GZ0ckG4s",
        "outputId": "3c69ba12-e432-455e-e8d7-ecbf8cd1bef1"
      },
      "source": [
        "model3.conf_int()"
      ],
      "execution_count": 292,
      "outputs": [
        {
          "output_type": "execute_result",
          "data": {
            "text/html": [
              "<div>\n",
              "<style scoped>\n",
              "    .dataframe tbody tr th:only-of-type {\n",
              "        vertical-align: middle;\n",
              "    }\n",
              "\n",
              "    .dataframe tbody tr th {\n",
              "        vertical-align: top;\n",
              "    }\n",
              "\n",
              "    .dataframe thead th {\n",
              "        text-align: right;\n",
              "    }\n",
              "</style>\n",
              "<table border=\"1\" class=\"dataframe\">\n",
              "  <thead>\n",
              "    <tr style=\"text-align: right;\">\n",
              "      <th></th>\n",
              "      <th>0</th>\n",
              "      <th>1</th>\n",
              "    </tr>\n",
              "  </thead>\n",
              "  <tbody>\n",
              "    <tr>\n",
              "      <th>const</th>\n",
              "      <td>-832.875902</td>\n",
              "      <td>-708.933661</td>\n",
              "    </tr>\n",
              "    <tr>\n",
              "      <th>Length1</th>\n",
              "      <td>-132.922320</td>\n",
              "      <td>-19.503392</td>\n",
              "    </tr>\n",
              "    <tr>\n",
              "      <th>Length2</th>\n",
              "      <td>58.813131</td>\n",
              "      <td>164.648245</td>\n",
              "    </tr>\n",
              "    <tr>\n",
              "      <th>Species_Parkki</th>\n",
              "      <td>19.547042</td>\n",
              "      <td>139.993497</td>\n",
              "    </tr>\n",
              "    <tr>\n",
              "      <th>Species_Pike</th>\n",
              "      <td>-417.213209</td>\n",
              "      <td>-292.608361</td>\n",
              "    </tr>\n",
              "    <tr>\n",
              "      <th>Species_Smelt</th>\n",
              "      <td>240.858799</td>\n",
              "      <td>375.207090</td>\n",
              "    </tr>\n",
              "  </tbody>\n",
              "</table>\n",
              "</div>"
            ],
            "text/plain": [
              "                         0           1\n",
              "const          -832.875902 -708.933661\n",
              "Length1        -132.922320  -19.503392\n",
              "Length2          58.813131  164.648245\n",
              "Species_Parkki   19.547042  139.993497\n",
              "Species_Pike   -417.213209 -292.608361\n",
              "Species_Smelt   240.858799  375.207090"
            ]
          },
          "metadata": {
            "tags": []
          },
          "execution_count": 292
        }
      ]
    },
    {
      "cell_type": "markdown",
      "metadata": {
        "id": "RQ4bLyY7mVX2"
      },
      "source": [
        "Todos os valores do teste **t** apresentaram valores que extrapolam os limites de -2.009 e +2.009 para o teste de hipótese de significância dos parâmetros e conclui-se que todos os parâmetros são estatisticamente significantes."
      ]
    },
    {
      "cell_type": "code",
      "metadata": {
        "colab": {
          "base_uri": "https://localhost:8080/"
        },
        "id": "9pgUTn9DkG7m",
        "outputId": "21bb375b-7491-454d-9507-0a0b80409e50"
      },
      "source": [
        "print('t-valor da constante ou intercepto :',model3.tvalues()[0])\r\n",
        "print('t-valor do parâmetro de Lenght1 :',model3.tvalues()[1])\r\n",
        "print('t-valor do parâmetro de Lenght2 :',model3.tvalues()[2])\r\n",
        "print('t-valor do parâmetro de Species_Parkki :',model3.tvalues()[3])\r\n",
        "print('t-valor do parâmetro de Species_Pike :',model3.tvalues()[4])\r\n",
        "print('t-valor do parâmetro de Species_Smelt :',model3.tvalues()[5])"
      ],
      "execution_count": 295,
      "outputs": [
        {
          "output_type": "stream",
          "text": [
            "t-valor da constante ou intercepto : -24.57583493229806\n",
            "t-valor do parâmetro de Lenght1 : -2.6550309173133106\n",
            "t-valor do parâmetro de Lenght2 : 4.171282214887865\n",
            "t-valor do parâmetro de Species_Parkki : 2.616820410330047\n",
            "t-valor do parâmetro de Species_Pike : -11.254109568426964\n",
            "t-valor do parâmetro de Species_Smelt : 9.059242957573215\n"
          ],
          "name": "stdout"
        }
      ]
    },
    {
      "cell_type": "markdown",
      "metadata": {
        "id": "kOOsJ6lBnFcK"
      },
      "source": [
        "Erros-padrão dos parâmetros."
      ]
    },
    {
      "cell_type": "code",
      "metadata": {
        "colab": {
          "base_uri": "https://localhost:8080/"
        },
        "id": "WfF3bhiHkG9w",
        "outputId": "9ca8443a-b10e-4cd0-b938-d3ef6dcb02f9"
      },
      "source": [
        "print('Erro padrão da constante ou intercepto :',model3.std_err()[0])\r\n",
        "print('Erro padrão do parâmetro de Lenght1 :',model3.std_err()[1])\r\n",
        "print('Erro padrão do parâmetro de Lenght2 :',model3.std_err()[2])\r\n",
        "print('Erro padrão do parâmetro de Species_Parkki :',model3.std_err()[3])\r\n",
        "print('Erro padrão do parâmetro de Species_Pike :',model3.std_err()[4])\r\n",
        "print('Erro padrão do parâmetro de Species_Smelt :',model3.std_err()[5])"
      ],
      "execution_count": 297,
      "outputs": [
        {
          "output_type": "stream",
          "text": [
            "Erro padrão da constante ou intercepto : 31.36840654846312\n",
            "Erro padrão do parâmetro de Lenght1 : 28.705072897253093\n",
            "Erro padrão do parâmetro de Lenght2 : 26.785693761508657\n",
            "Erro padrão do parâmetro de Species_Parkki : 30.48366215608914\n",
            "Erro padrão do parâmetro de Species_Pike : 31.53610533531049\n",
            "Erro padrão do parâmetro de Species_Smelt : 34.00206241205933\n"
          ],
          "name": "stdout"
        }
      ]
    },
    {
      "cell_type": "markdown",
      "metadata": {
        "id": "6mMOMNDhnXn6"
      },
      "source": [
        "Todos os *p-valores* estão abaixo de 5%, ratificando a significância dos parâmetros."
      ]
    },
    {
      "cell_type": "code",
      "metadata": {
        "colab": {
          "base_uri": "https://localhost:8080/"
        },
        "id": "aDdyPyjlkHAn",
        "outputId": "10745bb7-54a5-4ff5-f2c6-a49ae94ca164"
      },
      "source": [
        "print('P-valor da constante ou intercepto :',model3.pvalues()[0])\r\n",
        "print('P-valor do parâmetro de Lenght1 :',model3.pvalues()[1])\r\n",
        "print('P-valor do parâmetro de Lenght2 :',model3.pvalues()[2])\r\n",
        "print('P-valor do parâmetro de Species_Parkki :',model3.pvalues()[3])\r\n",
        "print('P-valor do parâmetro de Species_Pike :',model3.pvalues()[4])\r\n",
        "print('P-valor do parâmetro de Species_Smelt :',model3.pvalues()[5])"
      ],
      "execution_count": 299,
      "outputs": [
        {
          "output_type": "stream",
          "text": [
            "P-valor da constante ou intercepto : 5.451458100122571e-55\n",
            "P-valor do parâmetro de Lenght1 : 0.008769284532355709\n",
            "P-valor do parâmetro de Lenght2 : 5.058418254153982e-05\n",
            "P-valor do parâmetro de Species_Parkki : 0.009765629857826526\n",
            "P-valor do parâmetro de Species_Pike : 8.706253982769625e-22\n",
            "P-valor do parâmetro de Species_Smelt : 5.816193839201904e-16\n"
          ],
          "name": "stdout"
        }
      ]
    },
    {
      "cell_type": "markdown",
      "metadata": {
        "id": "Z5FgzEvYnpn4"
      },
      "source": [
        "Matriz de correlação."
      ]
    },
    {
      "cell_type": "code",
      "metadata": {
        "colab": {
          "base_uri": "https://localhost:8080/"
        },
        "id": "uRVU2mcnkHM3",
        "outputId": "ecc7e75a-26f9-4e99-b5bb-e0326ab11c04"
      },
      "source": [
        "model3.corrcoef()"
      ],
      "execution_count": 300,
      "outputs": [
        {
          "output_type": "execute_result",
          "data": {
            "text/plain": [
              "array([[ 1.        ,  0.99951727, -0.20573206,  0.56351399, -0.46741972],\n",
              "       [ 0.99951727,  1.        , -0.20595745,  0.55277968, -0.47977519],\n",
              "       [-0.20573206, -0.20595745,  1.        , -0.09432912, -0.08471211],\n",
              "       [ 0.56351399,  0.55277968, -0.09432912,  1.        , -0.10751283],\n",
              "       [-0.46741972, -0.47977519, -0.08471211, -0.10751283,  1.        ]])"
            ]
          },
          "metadata": {
            "tags": []
          },
          "execution_count": 300
        }
      ]
    },
    {
      "cell_type": "markdown",
      "metadata": {
        "id": "shpFeZ_Qnt6W"
      },
      "source": [
        "Matriz de covariância."
      ]
    },
    {
      "cell_type": "code",
      "metadata": {
        "colab": {
          "base_uri": "https://localhost:8080/"
        },
        "id": "YgwpzYYPkHOv",
        "outputId": "21ae8bc4-07e8-4d03-8f9f-16ac94fe0613"
      },
      "source": [
        "model3.covar()"
      ],
      "execution_count": 301,
      "outputs": [
        {
          "output_type": "execute_result",
          "data": {
            "text/plain": [
              "array([[ 9.99288369e+01,  1.07073431e+02, -5.23537139e-01,\n",
              "         1.74619059e+00, -1.32823024e+00],\n",
              "       [ 1.07073431e+02,  1.14839688e+02, -5.61854152e-01,\n",
              "         1.83628294e+00, -1.46151978e+00],\n",
              "       [-5.23537139e-01, -5.61854152e-01,  6.48037577e-02,\n",
              "        -7.44367487e-03, -6.13008518e-03],\n",
              "       [ 1.74619059e+00,  1.83628294e+00, -7.44367487e-03,\n",
              "         9.60910756e-02, -9.47376801e-03],\n",
              "       [-1.32823024e+00, -1.46151978e+00, -6.13008518e-03,\n",
              "        -9.47376801e-03,  8.08056683e-02]])"
            ]
          },
          "metadata": {
            "tags": []
          },
          "execution_count": 301
        }
      ]
    },
    {
      "cell_type": "markdown",
      "metadata": {
        "id": "CFx0UN5-kCZc"
      },
      "source": [
        "### Métricas do modelo\r\n",
        "\r\n",
        "Em comparação ao modelo anterior houve melhorias, como:\r\n",
        "\r\n",
        "1) Com a inserção das *dummies* houve uma queda em mais da metade do **SSE**, mostrando que o poder explicativo de modelo subiu bastante; e isso pode ser visto no $R^2$ que subiu de 0.8815 para 0.9352 e do $R^2$ ajustado que subiu de 0.8793 para 0.9331;\r\n",
        "\r\n",
        "2) A métrica *MSE* caiu quase pela metade, mostrand que o modelo está mais preciso;\r\n",
        "\r\n",
        "3) Por fim, as métricas **AIC** e **BIC** caíram, mostrando que o atual modelo é melhor que o primeiro e segundo modelo."
      ]
    },
    {
      "cell_type": "code",
      "metadata": {
        "colab": {
          "base_uri": "https://localhost:8080/"
        },
        "id": "j0f8tiptdNRw",
        "outputId": "60882e83-aa87-4b8c-de0b-80c5f2e2abf6"
      },
      "source": [
        "model3.print_metrics()"
      ],
      "execution_count": 282,
      "outputs": [
        {
          "output_type": "stream",
          "text": [
            "sse:     1311722.3033\n",
            "sst:     20247459.0691\n",
            "mse:     8249.8258\n",
            "r^2:     0.9352\n",
            "adj_r^2: 0.9331\n",
            "AIC:     1897.0761\n",
            "BIC:     1915.4895\n"
          ],
          "name": "stdout"
        }
      ]
    },
    {
      "cell_type": "markdown",
      "metadata": {
        "id": "75mUKZajon_l"
      },
      "source": [
        "### Análise dos resíduos do modelo 3\r\n",
        "\r\n",
        "No gráfico abaixo podemos ver que os resíduos estão mais acima da linha 0, mostrando que estão um pouco mais comportados, porém ainda não estão na forma ideal."
      ]
    },
    {
      "cell_type": "code",
      "metadata": {
        "colab": {
          "base_uri": "https://localhost:8080/",
          "height": 296
        },
        "id": "hYXH30Y-bsUa",
        "outputId": "6dbab35b-97e3-4707-89ab-2243e3280b4e"
      },
      "source": [
        "model3.fitted_vs_residual()"
      ],
      "execution_count": 283,
      "outputs": [
        {
          "output_type": "display_data",
          "data": {
            "image/png": "[encoded data removed]",
            "text/plain": [
              "<Figure size 432x288 with 1 Axes>"
            ]
          },
          "metadata": {
            "tags": [],
            "needs_background": "light"
          }
        }
      ]
    },
    {
      "cell_type": "markdown",
      "metadata": {
        "id": "1JWP9KG9pDkl"
      },
      "source": [
        "O histograma aparenta ter um formato de *sino*, porém não aparenta ser muito simétrico."
      ]
    },
    {
      "cell_type": "code",
      "metadata": {
        "colab": {
          "base_uri": "https://localhost:8080/",
          "height": 294
        },
        "id": "7I0LO_iecIcV",
        "outputId": "a0d4d255-3b2c-41d7-9ac0-3a9076e5070c"
      },
      "source": [
        "model3.histogram_resid()"
      ],
      "execution_count": 284,
      "outputs": [
        {
          "output_type": "display_data",
          "data": {
            "image/png": "[encoded data removed]",
            "text/plain": [
              "<Figure size 432x288 with 1 Axes>"
            ]
          },
          "metadata": {
            "tags": [],
            "needs_background": "light"
          }
        }
      ]
    },
    {
      "cell_type": "markdown",
      "metadata": {
        "id": "5oYMVqWbpYHx"
      },
      "source": [
        "Em relação aos modelos anteriores, no *QQplot* os quantis estão mais alinhados na reta vermelha."
      ]
    },
    {
      "cell_type": "code",
      "metadata": {
        "colab": {
          "base_uri": "https://localhost:8080/",
          "height": 294
        },
        "id": "K80RlK1cbsW_",
        "outputId": "9b3d43d8-c8ef-4c9f-a452-8a63b7161caa"
      },
      "source": [
        "model3.qqplot_resid()"
      ],
      "execution_count": 285,
      "outputs": [
        {
          "output_type": "display_data",
          "data": {
            "image/png": "[encoded data removed]",
            "text/plain": [
              "<Figure size 432x288 with 1 Axes>"
            ]
          },
          "metadata": {
            "tags": [],
            "needs_background": "light"
          }
        }
      ]
    },
    {
      "cell_type": "markdown",
      "metadata": {
        "id": "zNVEvCBvpk7a"
      },
      "source": [
        "## Conclusão\r\n",
        "\r\n",
        "Esse projeto teve com finalidade a aplicação desse biblioteca para análise de regressão. Achei uma biblioteca interessante, pois gera as principais ferramentas de análise de regressão linear (testes estatísticos e gráficos de resíduos). Futuramente irei procurar e aplicar outras bibliotecas que possuam a mesma funcionalidade explorar suas ferramentas de análise."
      ]
    }
  ]
}